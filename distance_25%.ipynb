{
 "cells": [
  {
   "cell_type": "code",
   "execution_count": 1,
   "id": "f08e7208-530e-43b4-b8ee-0f97f915b9a0",
   "metadata": {},
   "outputs": [],
   "source": [
    "#############################\n",
    "import numpy as np\n",
    "\n",
    "def set_centroids(data, class_var):\n",
    "    \"\"\"\n",
    "    Function to set the centroids for each class\n",
    "    \"\"\"\n",
    "    unique_classes = np.unique(class_var)\n",
    "    centroids = np.zeros((len(unique_classes), data.shape[1]))\n",
    "    for i, c in enumerate(unique_classes):\n",
    "        class_data = data[class_var == c, :]\n",
    "        centroids[i, :] = np.mean(class_data, axis=0)\n",
    "    return centroids\n",
    "\n",
    "def evaluate_distance(data, centroids):\n",
    "    \"\"\"\n",
    "    Function to evaluate the Euclidean distance between each data point and centroids\n",
    "    \"\"\"\n",
    "    distances = np.zeros((len(data), centroids.shape[0]))\n",
    "    for i in range(centroids.shape[0]):\n",
    "        diff = data - centroids[i]\n",
    "        distances[:, i] = np.sqrt(np.sum(diff**2, axis=1))\n",
    "    return distances\n",
    "\n",
    "def identify_25_percent(distances):\n",
    "    \"\"\"\n",
    "    Function to identify the 25% nearest data points for each class\n",
    "    \"\"\"\n",
    "    nearest_indices = np.argsort(distances, axis=0)[:int(0.25*len(distances))]\n",
    "    return nearest_indices\n",
    "\n"
   ]
  },
  {
   "cell_type": "code",
   "execution_count": 3,
   "id": "d5cbd6c7-f2e4-410a-b8da-c377ad720b75",
   "metadata": {},
   "outputs": [
    {
     "name": "stdout",
     "output_type": "stream",
     "text": [
      "[[3. 4.]\n",
      " [4. 5.]]\n",
      "[[2.82842712 4.24264069]\n",
      " [1.41421356 2.82842712]\n",
      " [0.         1.41421356]\n",
      " [1.41421356 0.        ]\n",
      " [2.82842712 1.41421356]\n",
      " [4.24264069 2.82842712]]\n",
      "[[2 3]]\n"
     ]
    }
   ],
   "source": [
    "# Input data\n",
    "data = np.array([[1, 2], [2, 3], [3, 4], [4, 5], [5, 6], [6, 7]])\n",
    "\n",
    "# Input class variable\n",
    "class_var = np.array([0, 0, 1, 1, 1, 0])\n",
    "\n",
    "# Set the centroids for each class\n",
    "centroids = set_centroids(data, class_var)\n",
    "print(centroids)\n",
    "# Evaluate the distances between each data point and centroids\n",
    "distances = evaluate_distance(data, centroids)\n",
    "print(distances)\n",
    "# Identify the 25% nearest data points for each class\n",
    "nearest_indices = identify_25_percent(distances)\n",
    "print(nearest_indices)"
   ]
  },
  {
   "cell_type": "code",
   "execution_count": null,
   "id": "6e51ad34-fe36-41f7-99df-bb7ab674fb3e",
   "metadata": {},
   "outputs": [],
   "source": []
  }
 ],
 "metadata": {
  "kernelspec": {
   "display_name": "Python 3 (ipykernel)",
   "language": "python",
   "name": "python3"
  },
  "language_info": {
   "codemirror_mode": {
    "name": "ipython",
    "version": 3
   },
   "file_extension": ".py",
   "mimetype": "text/x-python",
   "name": "python",
   "nbconvert_exporter": "python",
   "pygments_lexer": "ipython3",
   "version": "3.9.7"
  }
 },
 "nbformat": 4,
 "nbformat_minor": 5
}
