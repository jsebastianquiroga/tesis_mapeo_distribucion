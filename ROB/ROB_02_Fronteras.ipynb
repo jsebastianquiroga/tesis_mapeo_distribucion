{
 "cells": [
  {
   "cell_type": "code",
   "execution_count": 2,
   "id": "a6f2faf0-5b02-4409-bfae-6f4b283efcd0",
   "metadata": {},
   "outputs": [
    {
     "name": "stdout",
     "output_type": "stream",
     "text": [
      "Collecting plotly\n",
      "  Downloading plotly-5.13.0-py2.py3-none-any.whl (15.2 MB)\n",
      "\u001b[2K     \u001b[90m━━━━━━━━━━━━━━━━━━━━━━━━━━━━━━━━━━━━━━━━\u001b[0m \u001b[32m15.2/15.2 MB\u001b[0m \u001b[31m6.7 MB/s\u001b[0m eta \u001b[36m0:00:00\u001b[0m00:01\u001b[0m00:01\u001b[0m\n",
      "\u001b[?25hCollecting tenacity>=6.2.0\n",
      "  Downloading tenacity-8.2.0-py3-none-any.whl (24 kB)\n",
      "Installing collected packages: tenacity, plotly\n",
      "Successfully installed plotly-5.13.0 tenacity-8.2.0\n"
     ]
    }
   ],
   "source": [
    "!pip install plotly"
   ]
  },
  {
   "cell_type": "code",
   "execution_count": 3,
   "id": "cd99b4ee-54d0-40b4-8b85-e772ba6e6286",
   "metadata": {},
   "outputs": [
    {
     "name": "stdout",
     "output_type": "stream",
     "text": []
    },
    {
     "name": "stdout",
     "output_type": "stream",
     "text": [
      "Building jupyterlab assets (production, minimized)\n"
     ]
    }
   ],
   "source": [
    "!jupyter labextension install jupyterlab-plotly"
   ]
  },
  {
   "cell_type": "code",
   "execution_count": 4,
   "id": "6e20d8ad-a094-4593-b932-7bed871aed8c",
   "metadata": {},
   "outputs": [
    {
     "name": "stdout",
     "output_type": "stream",
     "text": [
      "JupyterLab v3.2.9\n",
      "/opt/conda/share/jupyter/labextensions\n",
      "        jupyter-matplotlib v0.10.5 \u001b[32menabled\u001b[0m \u001b[32mOK\u001b[0m\n",
      "        jupyterlab-plotly v5.13.0 \u001b[32menabled\u001b[0m \u001b[32mOK\u001b[0m\n",
      "        @jupyter-widgets/jupyterlab-manager v3.0.1 \u001b[32menabled\u001b[0m \u001b[32mOK\u001b[0m (python, jupyterlab_widgets)\n",
      "\n",
      "Other labextensions (built into JupyterLab)\n",
      "   app dir: /opt/conda/share/jupyter/lab\n",
      "\n"
     ]
    }
   ],
   "source": [
    "!jupyter labextension list"
   ]
  },
  {
   "cell_type": "code",
   "execution_count": 1,
   "id": "e5ad9b74-9864-47ac-9b98-c20e27a3fbe1",
   "metadata": {},
   "outputs": [],
   "source": [
    "import numpy as np\n",
    "import scipy.stats as stats\n",
    "from itertools import combinations\n",
    "\n",
    "import pandas as pd\n",
    "from sklearn.datasets import make_blobs\n",
    "\n",
    "\n",
    "import matplotlib.pyplot as plt # Para crear gráficos con matplotlib\n",
    "import plotly as py\n",
    "import plotly.io as pio\n",
    "import plotly.graph_objects as go"
   ]
  },
  {
   "cell_type": "code",
   "execution_count": 2,
   "id": "99721bf9-6e7c-4833-a285-84242f236f58",
   "metadata": {},
   "outputs": [],
   "source": [
    "pio.renderers.default = 'iframe'"
   ]
  },
  {
   "cell_type": "code",
   "execution_count": 13,
   "id": "1f64ffe8-87bd-44dc-9d0e-f0a43fefe95f",
   "metadata": {},
   "outputs": [],
   "source": [
    "# Simulación de datos\n",
    "# ==============================================================================\n",
    "X, y = make_blobs(\n",
    "        n_samples    = 600, \n",
    "        n_features   = 2, \n",
    "        centers      = 3, \n",
    "        cluster_std  = 1, \n",
    "        shuffle      = True, \n",
    "        random_state = 0\n",
    "       )"
   ]
  },
  {
   "cell_type": "code",
   "execution_count": 14,
   "id": "fb72ff78-9c88-496b-bbed-e31542db2111",
   "metadata": {},
   "outputs": [
    {
     "data": {
      "text/html": [
       "<iframe\n",
       "    scrolling=\"no\"\n",
       "    width=\"620px\"\n",
       "    height=\"620\"\n",
       "    src=\"iframe_figures/figure_14.html\"\n",
       "    frameborder=\"0\"\n",
       "    allowfullscreen\n",
       "></iframe>\n"
      ]
     },
     "metadata": {},
     "output_type": "display_data"
    }
   ],
   "source": [
    "fig = go.Figure(data=[go.Scatter(x=X[:, 0], y=X[:, 1],\n",
    "                                   mode='markers', \n",
    "                                   marker=dict(\n",
    "                                    size=6,\n",
    "                                    color=y,                # set color to an array/list of desired values\n",
    "                                    colorscale='picnic',   # choose a colorscale\n",
    "                                    opacity=0.7)\n",
    "                                  )])\n",
    "\n",
    "fig.update_layout(\n",
    "    autosize=False,\n",
    "    width=600,\n",
    "    height=600,\n",
    "    margin=dict(l=0, r=0, b=0, t=10))\n",
    "    \n",
    "fig.show()"
   ]
  },
  {
   "cell_type": "code",
   "execution_count": 15,
   "id": "0f7da2f3-cc55-4e5f-b3f5-578b3e8cdc6a",
   "metadata": {},
   "outputs": [],
   "source": [
    "class Frontera:\n",
    "    \n",
    "    def __init__(self, X, y, percentil):\n",
    "        self.X = X\n",
    "        self.y = y\n",
    "        self.percentil = percentil\n",
    "        self.dic_categorias = {}\n",
    "        self.dic_min_dst = {}\n",
    "        \n",
    "    def distance(self,var1,var2):\n",
    "        x0 = self.dic_categorias.get(var1)\n",
    "        x1 = self.dic_categorias.get(var2)\n",
    "        M_distance = np.reshape(np.diag(np.dot(x0,x0.T)),(-1,1))-2*np.dot(x0,x1.T) + np.dot( np.ones((x0.shape[0],1)), np.reshape(np.diag( np.dot(x1,x1.T)).T,(1,-1)) )\n",
    "        return M_distance\n",
    "       \n",
    "    def get_frontier(self):\n",
    "\n",
    "        for i in np.unique(self.y): \n",
    "            dic_categorias_aux ={'X_'+str(i):self.X[self.y==i]}\n",
    "            self.dic_categorias.update(dic_categorias_aux)\n",
    "\n",
    "\n",
    "        categorias_list = [key for key in self.dic_categorias]\n",
    "        comb_categories = combinations(categorias_list, 2)\n",
    "        \n",
    "        for categories in list(comb_categories):\n",
    "            \n",
    "            dist = self.distance(categories[0], categories[1])\n",
    "\n",
    "            # row\n",
    "            row = np.mean(dist, axis=1)\n",
    "            select_indices_row = np.where( row < np.percentile(row, self.percentil))[0]\n",
    "            min_dst_row = self.dic_categorias.get(categories[0])[select_indices_row]\n",
    "            dic_min_dst_aux ={categories[0]+'_with_'+categories[1]:min_dst_row} \n",
    "            self.dic_min_dst.update(dic_min_dst_aux)\n",
    "\n",
    "            #Column\n",
    "            column = np.mean(dist, axis=0)\n",
    "            select_indices_column = np.where( column < np.percentile(column, self.percentil))[0]\n",
    "            min_dst_column = self.dic_categorias.get(categories[1])[select_indices_column]\n",
    "            dic_min_dst_aux ={categories[1]+'_with_'+categories[0]:min_dst_column} \n",
    "            self.dic_min_dst.update(dic_min_dst_aux)\n",
    "            \n",
    "        self.color_list = [0] * len(self.dic_categorias.keys())\n",
    "        for i in range( len(self.dic_categorias.keys()) ):\n",
    "            self.color_list[i] = np.random.randint(0, 1000)\n",
    "            \n",
    "        #return self.dic_min_dst\n",
    "    \n",
    "            \n",
    "    def plot_muestra_2D(self, col_1, col_2,include_layout=True):\n",
    "        \n",
    "        \n",
    "        door = True\n",
    "        next_color = 0\n",
    "        \n",
    "        \n",
    "        for key, value in self.dic_categorias.items(): \n",
    "\n",
    "            if door:\n",
    "                fig = go.Figure(data=[go.Scatter(x=value[:, col_1], y=value[:, col_2],\n",
    "                                                 mode='markers', \n",
    "                                                 name= key,\n",
    "                                                 marker=dict(\n",
    "                                                     size=6,\n",
    "                                                     #color=self.color_list[next_color],                # set color to an array/list of desired values\n",
    "                                                     colorscale='picnic',   # choose a colorscale\n",
    "                                                     opacity=0.7)\n",
    "                                                )])\n",
    "                door = False\n",
    "                next_color += 1\n",
    "                \n",
    "            else:\n",
    "                \n",
    "                fig.add_trace(go.Scatter(x=value[:,col_1], y=value[:,col_2],\n",
    "                                     mode='markers', \n",
    "                                     name= key,\n",
    "                                     marker=dict(\n",
    "                                         size=6,\n",
    "                                         #color=self.color_list[next_color],                # set color to an array/list of desired values\n",
    "                                         colorscale='picnic',   # choose a colorscale\n",
    "                                         opacity=0.7)\n",
    "                                    ))\n",
    "                next_color += 1\n",
    "              \n",
    "        if include_layout:\n",
    "            \n",
    "            fig.update_layout(\n",
    "                autosize=False,\n",
    "                width=600,\n",
    "                height=600,\n",
    "                margin=dict(l=0, r=0, b=0, t=10))\n",
    "\n",
    "            fig.show()\n",
    "            \n",
    "\n",
    "    def plot_frontera_2D(self, col_1, col_2):    \n",
    "        \n",
    "       \n",
    "        #self.plot_muestra_2D(col_1, col_2, include_layout=False)\n",
    "        \n",
    "        door = True\n",
    "        next_color = 0\n",
    "        \n",
    "        \n",
    "        for key, value in self.dic_categorias.items(): \n",
    "\n",
    "            if door:\n",
    "                fig = go.Figure(data=[go.Scatter(x=value[:, col_1], y=value[:, col_2],\n",
    "                                                 mode='markers', \n",
    "                                                 name= key,\n",
    "                                                 marker=dict(\n",
    "                                                     size=6,\n",
    "                                                     #color=self.color_list[next_color],                # set color to an array/list of desired values\n",
    "                                                     colorscale='picnic',   # choose a colorscale\n",
    "                                                     opacity=0.7)\n",
    "                                                )])\n",
    "                door = False\n",
    "                next_color += 1\n",
    "                \n",
    "            else:\n",
    "                \n",
    "                fig.add_trace(go.Scatter(x=value[:,col_1], y=value[:,col_2],\n",
    "                                     mode='markers', \n",
    "                                     name= key,\n",
    "                                     marker=dict(\n",
    "                                         size=6,\n",
    "                                         #color=self.color_list[next_color],                # set color to an array/list of desired values\n",
    "                                         colorscale='picnic',   # choose a colorscale\n",
    "                                         opacity=0.7)\n",
    "                                    ))\n",
    "                next_color += 1\n",
    "        \n",
    "        for key, value_dst in self.dic_min_dst.items(): \n",
    "\n",
    "            fig.add_trace(go.Scatter(x=value_dst[:,col_1], y=value_dst[:,col_2],\n",
    "                                     mode='markers', \n",
    "                                     name= key,\n",
    "                                     marker=dict(\n",
    "                                         symbol=220,\n",
    "                                         size=14,\n",
    "                                         color=np.random.randint(100),                # set color to an array/list of desired values\n",
    "                                         #colorscale='Viridis',   # choose a colorscale\n",
    "                                         opacity=1)\n",
    "                                    ))\n",
    "\n",
    "        fig.update_layout(\n",
    "            autosize=True,\n",
    "            width=800,\n",
    "            height=600,\n",
    "            margin=dict(l=10, r=10, b=10, t=20))\n",
    "\n",
    "        fig.show()\n",
    "     "
   ]
  },
  {
   "cell_type": "code",
   "execution_count": 16,
   "id": "15e15713-2c20-49a4-8e53-eb5fea1467e2",
   "metadata": {},
   "outputs": [],
   "source": [
    "frontera = Frontera(X,y,5)"
   ]
  },
  {
   "cell_type": "code",
   "execution_count": 39,
   "id": "564a7461-49b7-4df9-a9a8-c626fcd92a8c",
   "metadata": {},
   "outputs": [
    {
     "name": "stdout",
     "output_type": "stream",
     "text": [
      "CPU times: user 22.6 ms, sys: 36.4 ms, total: 58.9 ms\n",
      "Wall time: 6.03 ms\n"
     ]
    }
   ],
   "source": [
    "%%time\n",
    "frontera.get_frontier()"
   ]
  },
  {
   "cell_type": "code",
   "execution_count": 18,
   "id": "73c256da-0e97-4809-8dea-766aa18e6636",
   "metadata": {},
   "outputs": [],
   "source": [
    "#frontera.dic_min_dst"
   ]
  },
  {
   "cell_type": "code",
   "execution_count": 19,
   "id": "2d4cea31-57a7-4df8-b32a-6d70f5fb8def",
   "metadata": {},
   "outputs": [
    {
     "data": {
      "text/html": [
       "<iframe\n",
       "    scrolling=\"no\"\n",
       "    width=\"620px\"\n",
       "    height=\"620\"\n",
       "    src=\"iframe_figures/figure_19.html\"\n",
       "    frameborder=\"0\"\n",
       "    allowfullscreen\n",
       "></iframe>\n"
      ]
     },
     "metadata": {},
     "output_type": "display_data"
    }
   ],
   "source": [
    "frontera.plot_muestra_2D(0,1)"
   ]
  },
  {
   "cell_type": "code",
   "execution_count": 20,
   "id": "ce6c2caf-2a06-4e8f-a529-b336f5c58cb8",
   "metadata": {},
   "outputs": [
    {
     "data": {
      "text/html": [
       "<iframe\n",
       "    scrolling=\"no\"\n",
       "    width=\"820px\"\n",
       "    height=\"620\"\n",
       "    src=\"iframe_figures/figure_20.html\"\n",
       "    frameborder=\"0\"\n",
       "    allowfullscreen\n",
       "></iframe>\n"
      ]
     },
     "metadata": {},
     "output_type": "display_data"
    }
   ],
   "source": [
    "frontera.plot_frontera_2D(0,1)"
   ]
  },
  {
   "cell_type": "code",
   "execution_count": 284,
   "id": "384eb5c0-162c-4c2e-a40a-369e221dd91a",
   "metadata": {},
   "outputs": [],
   "source": [
    "#dic_categorias.get('X_0')"
   ]
  },
  {
   "cell_type": "code",
   "execution_count": 138,
   "id": "89d577b5-ffec-4338-afed-17015a2e72a4",
   "metadata": {},
   "outputs": [
    {
     "data": {
      "text/plain": [
       "['X_0', 'X_1', 'X_']"
      ]
     },
     "execution_count": 138,
     "metadata": {},
     "output_type": "execute_result"
    }
   ],
   "source": [
    "categorias_list = [key for key in dic_categorias]\n",
    "categorias_list.append('X_')\n",
    "categorias_list"
   ]
  },
  {
   "cell_type": "code",
   "execution_count": 139,
   "id": "4d90a896-5184-4b9c-97ff-ad20ddea55b7",
   "metadata": {},
   "outputs": [
    {
     "data": {
      "text/plain": [
       "[['X_0', 'X_1'], ['X_0', 'X_'], ['X_1', 'X_']]"
      ]
     },
     "execution_count": 139,
     "metadata": {},
     "output_type": "execute_result"
    }
   ],
   "source": [
    "combinaciones(categorias_list, 2)"
   ]
  },
  {
   "cell_type": "code",
   "execution_count": 81,
   "id": "c4798343-ba07-436a-b884-061e87ab2bcf",
   "metadata": {},
   "outputs": [],
   "source": [
    "dic_categorias ={}\n",
    "\n",
    "for i in np.unique(y): \n",
    "    dic_categorias_aux ={'X_'+str(i):X[y==i]} \n",
    "    dic_categorias.update(dic_categorias_aux)"
   ]
  },
  {
   "cell_type": "code",
   "execution_count": 82,
   "id": "c4f74ada-022b-46c5-aa1b-836f7b4c2d13",
   "metadata": {},
   "outputs": [],
   "source": [
    "x0 = dic_categorias.get('X_0')"
   ]
  },
  {
   "cell_type": "code",
   "execution_count": 83,
   "id": "c5fd5876-d5be-41a6-abe8-f8af821b7d0a",
   "metadata": {},
   "outputs": [],
   "source": [
    "x1 = dic_categorias.get('X_1')"
   ]
  },
  {
   "cell_type": "code",
   "execution_count": 84,
   "id": "c95be2dc-0c46-4489-a006-9e94786a843b",
   "metadata": {},
   "outputs": [],
   "source": [
    "dis = np.reshape(np.diag(np.dot(x0,x0.T)),(-1,1))-2*np.dot(x0,x1.T) + np.dot( np.ones((x0.shape[0],1)), np.reshape(np.diag( np.dot(x1,x1.T)).T,(1,-1)) )"
   ]
  },
  {
   "cell_type": "code",
   "execution_count": 94,
   "id": "2adf33da-9520-4d8c-b627-01d36b80a0c3",
   "metadata": {},
   "outputs": [],
   "source": [
    "# row\n",
    "row = np.mean(dis, axis=1)\n",
    "\n",
    "select_indices_1 = np.where( row < np.percentile(row, 10))[0]\n",
    "min_dst_x0 = dic_categorias.get('X_0')[select_indices_1]"
   ]
  },
  {
   "cell_type": "code",
   "execution_count": 93,
   "id": "96faea77-4cb6-4a78-a0f5-6941d244dbde",
   "metadata": {},
   "outputs": [],
   "source": [
    "#Columna\n",
    "column = np.mean(dis, axis=0)\n",
    "\n",
    "select_indices_0 = np.where( column < np.percentile(column, 10))[0]\n",
    "min_dst_x1 = dic_categorias.get('X_1')[select_indices_0]"
   ]
  },
  {
   "cell_type": "code",
   "execution_count": 95,
   "id": "b414f3fd-01ec-4767-8b36-0789d8615a39",
   "metadata": {},
   "outputs": [
    {
     "data": {
      "text/html": [
       "<iframe\n",
       "    scrolling=\"no\"\n",
       "    width=\"920px\"\n",
       "    height=\"720\"\n",
       "    src=\"iframe_figures/figure_95.html\"\n",
       "    frameborder=\"0\"\n",
       "    allowfullscreen\n",
       "></iframe>\n"
      ]
     },
     "metadata": {},
     "output_type": "display_data"
    }
   ],
   "source": [
    "fig = go.Figure(data=[go.Scatter(x=X[:, 0], y=X[:, 1],\n",
    "                                 mode='markers',\n",
    "                                 name='',\n",
    "                                 marker=dict(\n",
    "                                     size=6,\n",
    "                                     color=y,                # set color to an array/list of desired values\n",
    "                                     colorscale='picnic',   # choose a colorscale\n",
    "                                     opacity=0.7)\n",
    "                                )])\n",
    "\n",
    "fig.add_trace(go.Scatter(x=min_dst_x0[:,0], y=min_dst_x0[:,1],\n",
    "                         mode='markers', \n",
    "                         name=\"X1 Limit\",\n",
    "                         marker=dict(\n",
    "                             symbol=12,\n",
    "                             size=14,\n",
    "                             color='orange',                # set color to an array/list of desired values\n",
    "                             #colorscale='Viridis',   # choose a colorscale\n",
    "                             opacity=1)\n",
    "                        ))\n",
    "\n",
    "fig.add_trace(go.Scatter(x=min_dst_x1[:,0], y=min_dst_x1[:,1],\n",
    "                         mode='markers', \n",
    "                         name=\"X2 Limit\",\n",
    "                         marker=dict(\n",
    "                             symbol=10,\n",
    "                             size=14,\n",
    "                             color='green',                # set color to an array/list of desired values\n",
    "                             #colorscale='Viridis',   # choose a colorscale\n",
    "                             opacity=1)\n",
    "                        ))\n",
    "fig.update_layout(\n",
    "    autosize=True,\n",
    "    width=900,\n",
    "    height=700,\n",
    "    margin=dict(l=10, r=10, b=10, t=20))\n",
    "    \n",
    "fig.show()"
   ]
  },
  {
   "cell_type": "code",
   "execution_count": 96,
   "id": "a42abd7a-fd01-4859-b0a1-e3fe13675504",
   "metadata": {},
   "outputs": [],
   "source": []
  },
  {
   "cell_type": "code",
   "execution_count": 97,
   "id": "59dd51f1-f3af-48d7-9678-be8147caa5a0",
   "metadata": {},
   "outputs": [],
   "source": []
  },
  {
   "cell_type": "code",
   "execution_count": null,
   "id": "50384e1b-96a1-4680-acf8-32c49c13feaa",
   "metadata": {},
   "outputs": [],
   "source": []
  },
  {
   "cell_type": "markdown",
   "id": "c5f04d5b-9c2d-4710-88d9-19d02186e9b7",
   "metadata": {},
   "source": [
    "## With Pandas"
   ]
  },
  {
   "cell_type": "code",
   "execution_count": 35,
   "id": "181fb86c-09ad-44c6-bedf-760ce25d35f0",
   "metadata": {},
   "outputs": [],
   "source": [
    "df = pd.DataFrame(dict(x1=X[:,0], x2=X[:,1], label=y))"
   ]
  },
  {
   "cell_type": "code",
   "execution_count": 36,
   "id": "260c028c-4427-405e-9b30-37ae0f30c5bb",
   "metadata": {},
   "outputs": [],
   "source": [
    "df_label_0 = df[df.label == 0]\n",
    "df_label_1 = df[df.label == 1]"
   ]
  },
  {
   "cell_type": "code",
   "execution_count": 37,
   "id": "aa8e4a56-0ba8-4a2d-968c-6f584112e5c5",
   "metadata": {},
   "outputs": [],
   "source": [
    "#dist = numpy.linalg.norm(a-b)\n",
    "data = {'label_0_x1': [], 'label_0_x2': [], 'label_1_x1': [], 'label_1_x2': [], 'distance':[]}  \n",
    "df_distances = pd.DataFrame(data)  "
   ]
  },
  {
   "cell_type": "code",
   "execution_count": 38,
   "id": "3e566ac3-d5ef-4b4f-bd8c-979c7d93dc9d",
   "metadata": {},
   "outputs": [
    {
     "name": "stdout",
     "output_type": "stream",
     "text": [
      "CPU times: user 51.4 s, sys: 24.4 ms, total: 51.4 s\n",
      "Wall time: 51.4 s\n"
     ]
    }
   ],
   "source": [
    "%%time\n",
    "\n",
    "index = 0\n",
    "for index_0, row_label_0 in df_label_0.iterrows():\n",
    "    for index_1, row_label_1 in df_label_1.iterrows():\n",
    "        a = row_label_0[:2]\n",
    "        b = row_label_1[:2]\n",
    "        distance = np.linalg.norm(a-b)\n",
    "        df_distances.loc[index] = [row_label_0['x1'], row_label_0['x2'], \n",
    "                                   row_label_1['x1'], row_label_1['x2'],\n",
    "                                   distance]\n",
    "        index += 1\n",
    "\n"
   ]
  },
  {
   "cell_type": "code",
   "execution_count": 25,
   "id": "ac9fd517-ffb4-4b70-8a3f-2448dd5aebd5",
   "metadata": {},
   "outputs": [
    {
     "data": {
      "text/html": [
       "<div>\n",
       "<style scoped>\n",
       "    .dataframe tbody tr th:only-of-type {\n",
       "        vertical-align: middle;\n",
       "    }\n",
       "\n",
       "    .dataframe tbody tr th {\n",
       "        vertical-align: top;\n",
       "    }\n",
       "\n",
       "    .dataframe thead th {\n",
       "        text-align: right;\n",
       "    }\n",
       "</style>\n",
       "<table border=\"1\" class=\"dataframe\">\n",
       "  <thead>\n",
       "    <tr style=\"text-align: right;\">\n",
       "      <th></th>\n",
       "      <th>label_0_x1</th>\n",
       "      <th>label_0_x2</th>\n",
       "      <th>label_1_x1</th>\n",
       "      <th>label_1_x2</th>\n",
       "      <th>distance</th>\n",
       "    </tr>\n",
       "  </thead>\n",
       "  <tbody>\n",
       "    <tr>\n",
       "      <th>0</th>\n",
       "      <td>-0.316587</td>\n",
       "      <td>4.570838</td>\n",
       "      <td>2.810663</td>\n",
       "      <td>1.765071</td>\n",
       "      <td>4.201431</td>\n",
       "    </tr>\n",
       "    <tr>\n",
       "      <th>1</th>\n",
       "      <td>-0.316587</td>\n",
       "      <td>4.570838</td>\n",
       "      <td>1.925161</td>\n",
       "      <td>0.991617</td>\n",
       "      <td>4.223299</td>\n",
       "    </tr>\n",
       "    <tr>\n",
       "      <th>2</th>\n",
       "      <td>-0.316587</td>\n",
       "      <td>4.570838</td>\n",
       "      <td>2.855832</td>\n",
       "      <td>0.975924</td>\n",
       "      <td>4.794544</td>\n",
       "    </tr>\n",
       "    <tr>\n",
       "      <th>3</th>\n",
       "      <td>-0.316587</td>\n",
       "      <td>4.570838</td>\n",
       "      <td>2.280876</td>\n",
       "      <td>1.347376</td>\n",
       "      <td>4.139749</td>\n",
       "    </tr>\n",
       "    <tr>\n",
       "      <th>4</th>\n",
       "      <td>-0.316587</td>\n",
       "      <td>4.570838</td>\n",
       "      <td>2.619276</td>\n",
       "      <td>-0.386889</td>\n",
       "      <td>5.761801</td>\n",
       "    </tr>\n",
       "    <tr>\n",
       "      <th>...</th>\n",
       "      <td>...</td>\n",
       "      <td>...</td>\n",
       "      <td>...</td>\n",
       "      <td>...</td>\n",
       "      <td>...</td>\n",
       "    </tr>\n",
       "    <tr>\n",
       "      <th>39995</th>\n",
       "      <td>1.908118</td>\n",
       "      <td>4.643752</td>\n",
       "      <td>0.453431</td>\n",
       "      <td>0.010483</td>\n",
       "      <td>4.856264</td>\n",
       "    </tr>\n",
       "    <tr>\n",
       "      <th>39996</th>\n",
       "      <td>1.908118</td>\n",
       "      <td>4.643752</td>\n",
       "      <td>2.129854</td>\n",
       "      <td>-0.179435</td>\n",
       "      <td>4.828282</td>\n",
       "    </tr>\n",
       "    <tr>\n",
       "      <th>39997</th>\n",
       "      <td>1.908118</td>\n",
       "      <td>4.643752</td>\n",
       "      <td>2.984773</td>\n",
       "      <td>1.479888</td>\n",
       "      <td>3.342038</td>\n",
       "    </tr>\n",
       "    <tr>\n",
       "      <th>39998</th>\n",
       "      <td>1.908118</td>\n",
       "      <td>4.643752</td>\n",
       "      <td>2.775251</td>\n",
       "      <td>-0.205243</td>\n",
       "      <td>4.925918</td>\n",
       "    </tr>\n",
       "    <tr>\n",
       "      <th>39999</th>\n",
       "      <td>1.908118</td>\n",
       "      <td>4.643752</td>\n",
       "      <td>2.407048</td>\n",
       "      <td>1.276899</td>\n",
       "      <td>3.403620</td>\n",
       "    </tr>\n",
       "  </tbody>\n",
       "</table>\n",
       "<p>40000 rows × 5 columns</p>\n",
       "</div>"
      ],
      "text/plain": [
       "       label_0_x1  label_0_x2  label_1_x1  label_1_x2  distance\n",
       "0       -0.316587    4.570838    2.810663    1.765071  4.201431\n",
       "1       -0.316587    4.570838    1.925161    0.991617  4.223299\n",
       "2       -0.316587    4.570838    2.855832    0.975924  4.794544\n",
       "3       -0.316587    4.570838    2.280876    1.347376  4.139749\n",
       "4       -0.316587    4.570838    2.619276   -0.386889  5.761801\n",
       "...           ...         ...         ...         ...       ...\n",
       "39995    1.908118    4.643752    0.453431    0.010483  4.856264\n",
       "39996    1.908118    4.643752    2.129854   -0.179435  4.828282\n",
       "39997    1.908118    4.643752    2.984773    1.479888  3.342038\n",
       "39998    1.908118    4.643752    2.775251   -0.205243  4.925918\n",
       "39999    1.908118    4.643752    2.407048    1.276899  3.403620\n",
       "\n",
       "[40000 rows x 5 columns]"
      ]
     },
     "execution_count": 25,
     "metadata": {},
     "output_type": "execute_result"
    }
   ],
   "source": [
    "df_distances"
   ]
  },
  {
   "cell_type": "code",
   "execution_count": 79,
   "id": "b2f08849-9a92-4479-b140-5565ebfe3bb1",
   "metadata": {},
   "outputs": [],
   "source": []
  },
  {
   "cell_type": "code",
   "execution_count": 144,
   "id": "43c8cce0-7ca6-43e4-83ac-fe47a117ac2d",
   "metadata": {},
   "outputs": [],
   "source": [
    "min_dst_label_0 = df_distances[['label_0_x1','label_0_x2','distance']].groupby(by=['label_0_x1','label_0_x2'], dropna=False). \\\n",
    "\tmean().sort_values(by='distance',ascending=True).head(15).reset_index()"
   ]
  },
  {
   "cell_type": "code",
   "execution_count": 145,
   "id": "f5442c3a-624d-44ed-b814-8b06a54a8b55",
   "metadata": {},
   "outputs": [],
   "source": [
    "min_dst_label_1 = df_distances[['label_1_x1','label_1_x2','distance']].groupby(by=['label_1_x1','label_1_x2'], dropna=False). \\\n",
    "\tmean().sort_values(by='distance',ascending=True).head(15).reset_index()"
   ]
  },
  {
   "cell_type": "code",
   "execution_count": 194,
   "id": "4997570b-5e7b-4200-99fa-91594603405b",
   "metadata": {},
   "outputs": [
    {
     "data": {
      "text/html": [
       "<iframe\n",
       "    scrolling=\"no\"\n",
       "    width=\"1020px\"\n",
       "    height=\"820\"\n",
       "    src=\"iframe_figures/figure_194.html\"\n",
       "    frameborder=\"0\"\n",
       "    allowfullscreen\n",
       "></iframe>\n"
      ]
     },
     "metadata": {},
     "output_type": "display_data"
    }
   ],
   "source": [
    "fig = go.Figure(data=[go.Scatter(x=X[:, 0], y=X[:, 1],\n",
    "                                 mode='markers',\n",
    "                                 name='',\n",
    "                                 marker=dict(\n",
    "                                     size=6,\n",
    "                                     color=y,                # set color to an array/list of desired values\n",
    "                                     colorscale='picnic',   # choose a colorscale\n",
    "                                     opacity=0.7)\n",
    "                                )])\n",
    "\n",
    "fig.add_trace(go.Scatter(x=min_dst_label_0.label_0_x1, y=min_dst_label_0.label_0_x2,\n",
    "                         mode='markers', \n",
    "                         name=\"X1 Limit\",\n",
    "                         marker=dict(\n",
    "                             symbol=12,\n",
    "                             size=14,\n",
    "                             color='orange',                # set color to an array/list of desired values\n",
    "                             #colorscale='Viridis',   # choose a colorscale\n",
    "                             opacity=1)\n",
    "                        ))\n",
    "\n",
    "fig.add_trace(go.Scatter(x=min_dst_label_1.label_1_x1, y=min_dst_label_1.label_1_x2,\n",
    "                         mode='markers', \n",
    "                         name=\"X2 Limit\",\n",
    "                         marker=dict(\n",
    "                             symbol=10,\n",
    "                             size=14,\n",
    "                             color='green',                # set color to an array/list of desired values\n",
    "                             #colorscale='Viridis',   # choose a colorscale\n",
    "                             opacity=1)\n",
    "                        ))\n",
    "fig.update_layout(\n",
    "    autosize=True,\n",
    "    width=1000,\n",
    "    height=800,\n",
    "    margin=dict(l=10, r=10, b=10, t=20))\n",
    "    \n",
    "fig.show()"
   ]
  },
  {
   "cell_type": "markdown",
   "id": "eb32fb0c-b6d5-41dd-9937-40505e609b69",
   "metadata": {},
   "source": [
    "### 1. Buscar forma matricial\n",
    "### 2. Función: hasta la selección de puntos limites\n",
    "### 3. Probar otras formas ej: Espiral suiza con solapamiento - 2D\n",
    "### 4. Mas dimenciones visualizando con UMAP"
   ]
  },
  {
   "cell_type": "code",
   "execution_count": null,
   "id": "897a1255-6a3a-4a3a-b2df-65b57a378afd",
   "metadata": {},
   "outputs": [],
   "source": []
  },
  {
   "cell_type": "code",
   "execution_count": null,
   "id": "6c99d931-289f-483f-89cf-752382a92514",
   "metadata": {},
   "outputs": [],
   "source": []
  }
 ],
 "metadata": {
  "kernelspec": {
   "display_name": "Python 3 (ipykernel)",
   "language": "python",
   "name": "python3"
  },
  "language_info": {
   "codemirror_mode": {
    "name": "ipython",
    "version": 3
   },
   "file_extension": ".py",
   "mimetype": "text/x-python",
   "name": "python",
   "nbconvert_exporter": "python",
   "pygments_lexer": "ipython3",
   "version": "3.9.7"
  }
 },
 "nbformat": 4,
 "nbformat_minor": 5
}
