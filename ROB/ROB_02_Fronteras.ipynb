{
 "cells": [
  {
   "cell_type": "code",
   "execution_count": 1,
   "id": "a6f2faf0-5b02-4409-bfae-6f4b283efcd0",
   "metadata": {},
   "outputs": [
    {
     "name": "stdout",
     "output_type": "stream",
     "text": [
      "Requirement already satisfied: plotly in /opt/conda/lib/python3.9/site-packages (5.13.0)\n",
      "Requirement already satisfied: tenacity>=6.2.0 in /opt/conda/lib/python3.9/site-packages (from plotly) (8.2.1)\n",
      "Requirement already satisfied: umap-learn in /opt/conda/lib/python3.9/site-packages (0.5.3)\n",
      "Requirement already satisfied: tqdm in /opt/conda/lib/python3.9/site-packages (from umap-learn) (4.64.1)\n",
      "Requirement already satisfied: scikit-learn>=0.22 in /opt/conda/lib/python3.9/site-packages (from umap-learn) (1.1.2)\n",
      "Requirement already satisfied: scipy>=1.0 in /opt/conda/lib/python3.9/site-packages (from umap-learn) (1.9.1)\n",
      "Requirement already satisfied: pynndescent>=0.5 in /opt/conda/lib/python3.9/site-packages (from umap-learn) (0.5.8)\n",
      "Requirement already satisfied: numpy>=1.17 in /opt/conda/lib/python3.9/site-packages (from umap-learn) (1.19.5)\n",
      "Requirement already satisfied: numba>=0.49 in /opt/conda/lib/python3.9/site-packages (from umap-learn) (0.55.2)\n",
      "Requirement already satisfied: setuptools in /opt/conda/lib/python3.9/site-packages (from numba>=0.49->umap-learn) (59.8.0)\n",
      "Requirement already satisfied: llvmlite<0.39,>=0.38.0rc1 in /opt/conda/lib/python3.9/site-packages (from numba>=0.49->umap-learn) (0.38.1)\n",
      "Requirement already satisfied: joblib>=0.11 in /opt/conda/lib/python3.9/site-packages (from pynndescent>=0.5->umap-learn) (1.2.0)\n",
      "Requirement already satisfied: threadpoolctl>=2.0.0 in /opt/conda/lib/python3.9/site-packages (from scikit-learn>=0.22->umap-learn) (3.1.0)\n"
     ]
    }
   ],
   "source": [
    "!pip install plotly\n",
    "!pip install umap-learn"
   ]
  },
  {
   "cell_type": "code",
   "execution_count": 2,
   "id": "cd99b4ee-54d0-40b4-8b85-e772ba6e6286",
   "metadata": {},
   "outputs": [
    {
     "name": "stdout",
     "output_type": "stream",
     "text": []
    },
    {
     "name": "stdout",
     "output_type": "stream",
     "text": [
      "Building jupyterlab assets (production, minimized)\n"
     ]
    }
   ],
   "source": [
    "!jupyter labextension install jupyterlab-plotly"
   ]
  },
  {
   "cell_type": "code",
   "execution_count": 3,
   "id": "6e20d8ad-a094-4593-b932-7bed871aed8c",
   "metadata": {},
   "outputs": [
    {
     "name": "stdout",
     "output_type": "stream",
     "text": [
      "JupyterLab v3.4.8\n",
      "/opt/conda/share/jupyter/labextensions\n",
      "        jupyterlab_pygments v0.2.2 \u001b[32menabled\u001b[0m \u001b[32mOK\u001b[0m (python, jupyterlab_pygments)\n",
      "        jupyterlab-plotly v5.13.0 \u001b[32menabled\u001b[0m \u001b[32mOK\u001b[0m\n",
      "        jupyter-matplotlib v0.11.2 \u001b[32menabled\u001b[0m \u001b[32mOK\u001b[0m\n",
      "        @jupyter-widgets/jupyterlab-manager v5.0.3 \u001b[32menabled\u001b[0m \u001b[32mOK\u001b[0m (python, jupyterlab_widgets)\n",
      "\n",
      "Other labextensions (built into JupyterLab)\n",
      "   app dir: /opt/conda/share/jupyter/lab\n",
      "\n"
     ]
    }
   ],
   "source": [
    "!jupyter labextension list"
   ]
  },
  {
   "cell_type": "code",
   "execution_count": 1,
   "id": "e5ad9b74-9864-47ac-9b98-c20e27a3fbe1",
   "metadata": {},
   "outputs": [],
   "source": [
    "import numpy as np\n",
    "import scipy.stats as stats\n",
    "from itertools import combinations\n",
    "\n",
    "import umap\n",
    "\n",
    "import pandas as pd\n",
    "from sklearn.datasets import make_blobs\n",
    "\n",
    "\n",
    "import matplotlib.pyplot as plt # Para crear gráficos con matplotlib\n",
    "import plotly as py\n",
    "import plotly.io as pio\n",
    "import plotly.graph_objects as go"
   ]
  },
  {
   "cell_type": "code",
   "execution_count": 2,
   "id": "99721bf9-6e7c-4833-a285-84242f236f58",
   "metadata": {},
   "outputs": [],
   "source": [
    "pio.renderers.default = 'iframe'"
   ]
  },
  {
   "cell_type": "code",
   "execution_count": 14,
   "id": "1f64ffe8-87bd-44dc-9d0e-f0a43fefe95f",
   "metadata": {},
   "outputs": [],
   "source": [
    "# Simulación de datos\n",
    "# ==============================================================================\n",
    "X, y = make_blobs(\n",
    "        n_samples    = 600, \n",
    "        n_features   = 2, \n",
    "        centers      = 3, \n",
    "        cluster_std  = 1, \n",
    "        shuffle      = True, \n",
    "        random_state = 0\n",
    "       )"
   ]
  },
  {
   "cell_type": "code",
   "execution_count": null,
   "id": "bdc59bfc-06ae-41cd-8d6e-5196bb4a80a9",
   "metadata": {},
   "outputs": [],
   "source": []
  },
  {
   "cell_type": "code",
   "execution_count": 15,
   "id": "fb72ff78-9c88-496b-bbed-e31542db2111",
   "metadata": {},
   "outputs": [
    {
     "data": {
      "text/html": [
       "<iframe\n",
       "    scrolling=\"no\"\n",
       "    width=\"620px\"\n",
       "    height=\"620\"\n",
       "    src=\"iframe_figures/figure_15.html\"\n",
       "    frameborder=\"0\"\n",
       "    allowfullscreen\n",
       "></iframe>\n"
      ]
     },
     "metadata": {},
     "output_type": "display_data"
    }
   ],
   "source": [
    "fig = go.Figure(data=[go.Scatter(x=X[:, 0], y=X[:, 1],\n",
    "                                   mode='markers', \n",
    "                                   marker=dict(\n",
    "                                    size=6,\n",
    "                                    color=y,                # set color to an array/list of desired values\n",
    "                                    colorscale='picnic',   # choose a colorscale\n",
    "                                    opacity=0.7)\n",
    "                                  )])\n",
    "\n",
    "fig.update_layout(\n",
    "    autosize=False,\n",
    "    width=600,\n",
    "    height=600,\n",
    "    margin=dict(l=0, r=0, b=0, t=10))\n",
    "    \n",
    "fig.show()"
   ]
  },
  {
   "cell_type": "code",
   "execution_count": 16,
   "id": "0f7da2f3-cc55-4e5f-b3f5-578b3e8cdc6a",
   "metadata": {},
   "outputs": [],
   "source": [
    "class Frontera:\n",
    "    \n",
    "    def __init__(self, X, y, percentil_min, percentil_max):\n",
    "        self.X = X\n",
    "        self.y = y\n",
    "        self.percentil_min = percentil_min\n",
    "        self.percentil_max = percentil_max\n",
    "        self.dic_categorias = {}\n",
    "        self.dic_min_dst = {}\n",
    "        \n",
    "        self.dic_categorias_UMAP = {}\n",
    "        self.dic_min_dst_UMAP = {}\n",
    "        \n",
    "        self.Frontier_Point = {}\n",
    "        \n",
    "    def distance(self,x0,x1):\n",
    "        \n",
    "        # X=(200,3) ; Y=(150,3)\n",
    "        # diag(X*X')              <> (200,3) * (3,200) > diag(200,200) > (200,1)            X^2   (X-Y)^2\n",
    "        # 2*X*Y'                  <>(200,3) * (3,150) > (200,150)                          -2XY\n",
    "        # ones(N,1)*(diag(Y*Y'))' <> (200,1) * (150,1)' > (200,1) * (1,150) >(200,150)      Y^2\n",
    "        # M_distance = diag(X*X')-2*X*Y'+ones(N,1)*(diag(Y*Y'))'  %%MATLAB\n",
    "        M_distance = np.reshape( \n",
    "            np.diag(np.dot(x0,x0.T)),(-1,1)) - 2*np.dot(x0,x1.T) + np.dot( np.ones((x0.shape[0],1)), np.reshape(np.diag( np.dot(x1,x1.T)).T,(1,-1)) )\n",
    "        return M_distance\n",
    "       \n",
    "    def get_frontier(self):\n",
    "\n",
    "        for i in np.unique(self.y): \n",
    "            dic_categorias_aux ={'X_'+str(i):self.X[self.y==i]}\n",
    "            self.dic_categorias.update(dic_categorias_aux)\n",
    "\n",
    "        categorias_list =  [key for key in self.dic_categorias]\n",
    "        comb_categories = combinations(categorias_list, 2)\n",
    "        \n",
    "        for categories in list(comb_categories):\n",
    "            \n",
    "            dist = self.distance(self.dic_categorias.get(categories[0]), self.dic_categorias.get(categories[1]))\n",
    "\n",
    "            # row\n",
    "            row = np.mean(dist, axis=1)\n",
    "            select_indices_row = np.where( \n",
    "                (row > np.percentile(row, self.percentil_min)) & (row < np.percentile(row, self.percentil_max)) )[0]\n",
    "            min_dst_row = self.dic_categorias.get(categories[0])[select_indices_row]\n",
    "            dic_min_dst_aux ={categories[0]+'_with_'+categories[1]:min_dst_row} \n",
    "            self.dic_min_dst.update(dic_min_dst_aux)\n",
    "\n",
    "            #Column\n",
    "            column = np.mean(dist, axis=0)\n",
    "            select_indices_column = np.where( \n",
    "                (column > np.percentile(column, self.percentil_min)) & (column < np.percentile(column, self.percentil_max)) )[0]\n",
    "            min_dst_column = self.dic_categorias.get(categories[1])[select_indices_column]\n",
    "            dic_min_dst_aux ={categories[1]+'_with_'+categories[0]:min_dst_column} \n",
    "            self.dic_min_dst.update(dic_min_dst_aux)\n",
    "\n",
    "        \n",
    "\n",
    "        list_all_frontier = [key for key in self.dic_min_dst]\n",
    "        list_A_with_B = [nombre for indice, nombre in enumerate(list_all_frontier) if indice%2==0]\n",
    "        list_B_with_A = [nombre for indice, nombre in enumerate(list_all_frontier) if indice%2==1]\n",
    "        \n",
    "        \n",
    "\n",
    "        for A_with_B, B_with_A in zip(list_A_with_B, list_B_with_A): #obtenemos los valores en cada iteración\n",
    "                        \n",
    "            dic_min_dst_copy = self.dic_min_dst.copy()\n",
    "            Front_Point = {}\n",
    "            points_matriz = np.zeros(shape=(3, 2))\n",
    "            \n",
    "            for i in range(0,2):\n",
    "                #print(dic_min_dst_copy)\n",
    "                \n",
    "                dist = self.distance(dic_min_dst_copy.get(A_with_B), dic_min_dst_copy.get(B_with_A))\n",
    "                #print(dist)\n",
    "\n",
    "                #ROW\n",
    "                min_dist_A_with_B = np.where( dist==np.min(dist) )[0]\n",
    "                min_A_with_B = dic_min_dst_copy.get(A_with_B)[min_dist_A_with_B]\n",
    "                #print(dist==np.min(dist),min_A_with_B)\n",
    "                dic_min_dst_copy.update({ A_with_B: np.delete(dic_min_dst_copy.get(A_with_B), min_dist_A_with_B, axis=0)})\n",
    "\n",
    "                #COLUMN\n",
    "                min_dist_B_with_A = np.where( dist==np.min(dist) )[1]\n",
    "                min_B_with_A = dic_min_dst_copy.get(B_with_A)[min_dist_B_with_A]\n",
    "                #print(dist==np.min(dist),min_B_with_A)\n",
    "\n",
    "                dic_min_dst_copy.update({ B_with_A: np.delete(dic_min_dst_copy.get(B_with_A), min_dist_B_with_A, axis=0)})\n",
    "                \n",
    "                point_value = (np.mean(min_A_with_B+min_B_with_A,axis=0))/2\n",
    "                points_matriz[i] = point_value\n",
    "                \n",
    "                #print('__________________________________________________________________')\n",
    "\n",
    "            \n",
    "            Front_Point ={'Frontier:(' + B_with_A.split('_')[-1] + ',' + A_with_B.split('_')[-1] + ')' : points_matriz}    \n",
    "            self.Frontier_Point.update(Front_Point)\n",
    "            \n",
    "        self.color_list = [0] * len(self.dic_categorias.keys())\n",
    "        for i in range( len(self.dic_categorias.keys()) ):\n",
    "            self.color_list[i] = np.random.randint(0, 1000)\n",
    "            \n",
    "        #return self.dic_min_dst\n",
    "    \n",
    "            \n",
    "    def plot_muestra_2D(self, col_1, col_2,include_layout=True):\n",
    "        \n",
    "        \n",
    "        door = True\n",
    "        next_color = 0\n",
    "        \n",
    "        \n",
    "        for key, value in self.dic_categorias.items(): \n",
    "\n",
    "            if door:\n",
    "                fig = go.Figure(data=[go.Scatter(x=value[:, col_1], y=value[:, col_2],\n",
    "                                                 mode='markers', \n",
    "                                                 name= key,\n",
    "                                                 marker=dict(\n",
    "                                                     size=6,\n",
    "                                                     #color=self.color_list[next_color],                # set color to an array/list of desired values\n",
    "                                                     colorscale='picnic',   # choose a colorscale\n",
    "                                                     opacity=0.7)\n",
    "                                                )])\n",
    "                door = False\n",
    "                next_color += 1\n",
    "                \n",
    "            else:\n",
    "                \n",
    "                fig.add_trace(go.Scatter(x=value[:,col_1], y=value[:,col_2],\n",
    "                                     mode='markers', \n",
    "                                     name= key,\n",
    "                                     marker=dict(\n",
    "                                         size=6,\n",
    "                                         #color=self.color_list[next_color],                # set color to an array/list of desired values\n",
    "                                         colorscale='picnic',   # choose a colorscale\n",
    "                                         opacity=0.7)\n",
    "                                    ))\n",
    "                next_color += 1\n",
    "              \n",
    "        if include_layout:\n",
    "            \n",
    "            fig.update_layout(\n",
    "                autosize=False,\n",
    "                width=600,\n",
    "                height=600,\n",
    "                margin=dict(l=0, r=0, b=0, t=10))\n",
    "\n",
    "            fig.show()\n",
    "            \n",
    "\n",
    "    def plot_frontera_2D(self, col_1, col_2):    \n",
    "        \n",
    "       \n",
    "        #self.plot_muestra_2D(col_1, col_2, include_layout=False)\n",
    "        \n",
    "        door = True\n",
    "        next_color = 0\n",
    "        \n",
    "        \n",
    "        for key, value in self.dic_categorias.items(): \n",
    "\n",
    "            if door:\n",
    "                fig = go.Figure(data=[go.Scatter(x=value[:, col_1], y=value[:, col_2],\n",
    "                                                 mode='markers', \n",
    "                                                 name= key,\n",
    "                                                 marker=dict(\n",
    "                                                     size=6,\n",
    "                                                     #color=self.color_list[next_color],                # set color to an array/list of desired values\n",
    "                                                     colorscale='picnic',   # choose a colorscale\n",
    "                                                     opacity=0.7)\n",
    "                                                )])\n",
    "                door = False\n",
    "                next_color += 1\n",
    "                \n",
    "            else:\n",
    "                \n",
    "                fig.add_trace(go.Scatter(x=value[:,col_1], y=value[:,col_2],\n",
    "                                     mode='markers', \n",
    "                                     name= key,\n",
    "                                     marker=dict(\n",
    "                                         size=6,\n",
    "                                         #color=self.color_list[next_color],                # set color to an array/list of desired values\n",
    "                                         colorscale='picnic',   # choose a colorscale\n",
    "                                         opacity=0.7)\n",
    "                                    ))\n",
    "                next_color += 1\n",
    "        \n",
    "        for key, value_dst in self.dic_min_dst.items(): \n",
    "\n",
    "            fig.add_trace(go.Scatter(x=value_dst[:,col_1], y=value_dst[:,col_2],\n",
    "                                     mode='markers', \n",
    "                                     name= key,\n",
    "                                     marker=dict(\n",
    "                                         symbol=220,\n",
    "                                         size=14,\n",
    "                                         color=np.random.randint(100),                # set color to an array/list of desired values\n",
    "                                         #colorscale='Viridis',   # choose a colorscale\n",
    "                                         opacity=1)\n",
    "                                    ))\n",
    "            \n",
    "        for key, value_dst in self.Frontier_Point.items(): \n",
    "\n",
    "            fig.add_trace(go.Scatter(x=value_dst[:,col_1], y=value_dst[:,col_2],\n",
    "                                     mode='markers', \n",
    "                                     name= key,\n",
    "                                     marker=dict(\n",
    "                                         symbol=300,\n",
    "                                         size=50,\n",
    "                                         color=np.random.randint(100),                # set color to an array/list of desired values\n",
    "                                         #colorscale='Viridis',   # choose a colorscale\n",
    "                                         opacity=1)\n",
    "                                    ))\n",
    "\n",
    "        fig.update_layout(\n",
    "            autosize=True,\n",
    "            width=800,\n",
    "            height=600,\n",
    "            margin=dict(l=10, r=10, b=10, t=20))\n",
    "\n",
    "        fig.show()\n",
    "        \n",
    "    def plot_UMAP(self):    \n",
    "        \n",
    "        trans = umap.UMAP(random_state=42).fit(self.X)\n",
    "\n",
    "        for key, value in self.dic_categorias.items():\n",
    "            value_UMAP = trans.transform(value)\n",
    "            dic_categorias_aux ={key:value_UMAP}\n",
    "            self.dic_categorias_UMAP.update(dic_categorias_aux)\n",
    "\n",
    "        for key, value in self.dic_min_dst.items():\n",
    "            value_UMAP = trans.transform(value)\n",
    "            dic_min_dst_aux ={key:value_UMAP}\n",
    "            self.dic_min_dst_UMAP.update(dic_min_dst_aux)\n",
    "        \n",
    "        door = True\n",
    "        next_color = 0\n",
    "        \n",
    "        \n",
    "        for key, value in self.dic_categorias_UMAP.items(): \n",
    "\n",
    "            if door:\n",
    "                fig = go.Figure(data=[go.Scatter(x=value[:,0], y=value[:,1],\n",
    "                                                 mode='markers', \n",
    "                                                 name= key,\n",
    "                                                 marker=dict(\n",
    "                                                     size=6,\n",
    "                                                     #color=self.color_list[next_color],                # set color to an array/list of desired values\n",
    "                                                     colorscale='picnic',   # choose a colorscale\n",
    "                                                     opacity=0.7)\n",
    "                                                )])\n",
    "                door = False\n",
    "                next_color += 1\n",
    "                \n",
    "            else:\n",
    "                \n",
    "                fig.add_trace(go.Scatter(x=value[:,0], y=value[:,1],\n",
    "                                     mode='markers', \n",
    "                                     name= key,\n",
    "                                     marker=dict(\n",
    "                                         size=6,\n",
    "                                         #color=self.color_list[next_color],                # set color to an array/list of desired values\n",
    "                                         colorscale='picnic',   # choose a colorscale\n",
    "                                         opacity=0.7)\n",
    "                                    ))\n",
    "                next_color += 1\n",
    "        \n",
    "        for key, value_dst in self.dic_min_dst_UMAP.items(): \n",
    "\n",
    "            fig.add_trace(go.Scatter(x=value_dst[:,0], y=value_dst[:,1],\n",
    "                                     mode='markers', \n",
    "                                     name= key,\n",
    "                                     marker=dict(\n",
    "                                         symbol=220,\n",
    "                                         size=14,\n",
    "                                         color=np.random.randint(100),                # set color to an array/list of desired values\n",
    "                                         #colorscale='Viridis',   # choose a colorscale\n",
    "                                         opacity=1)\n",
    "                                    ))\n",
    "\n",
    "        fig.update_layout(\n",
    "            autosize=True,\n",
    "            width=800,\n",
    "            height=600,\n",
    "            margin=dict(l=10, r=10, b=10, t=20))\n",
    "\n",
    "        fig.show()\n",
    "        \n",
    "        \n",
    "        \n",
    "     "
   ]
  },
  {
   "cell_type": "code",
   "execution_count": 11,
   "id": "15e15713-2c20-49a4-8e53-eb5fea1467e2",
   "metadata": {},
   "outputs": [],
   "source": [
    "frontera = Frontera(X,y,2,10)"
   ]
  },
  {
   "cell_type": "code",
   "execution_count": 12,
   "id": "564a7461-49b7-4df9-a9a8-c626fcd92a8c",
   "metadata": {},
   "outputs": [
    {
     "name": "stdout",
     "output_type": "stream",
     "text": [
      "CPU times: user 3.48 ms, sys: 984 µs, total: 4.47 ms\n",
      "Wall time: 3.39 ms\n"
     ]
    }
   ],
   "source": [
    "%%time\n",
    "frontera.get_frontier()"
   ]
  },
  {
   "cell_type": "code",
   "execution_count": 20,
   "id": "2d4cea31-57a7-4df8-b32a-6d70f5fb8def",
   "metadata": {},
   "outputs": [
    {
     "data": {
      "text/html": [
       "<iframe\n",
       "    scrolling=\"no\"\n",
       "    width=\"620px\"\n",
       "    height=\"620\"\n",
       "    src=\"iframe_figures/figure_20.html\"\n",
       "    frameborder=\"0\"\n",
       "    allowfullscreen\n",
       "></iframe>\n"
      ]
     },
     "metadata": {},
     "output_type": "display_data"
    }
   ],
   "source": [
    "frontera.plot_muestra_2D(0,1)"
   ]
  },
  {
   "cell_type": "code",
   "execution_count": 21,
   "id": "fd6e18b8-2cc9-4314-ab47-a221a29c68b5",
   "metadata": {},
   "outputs": [
    {
     "data": {
      "text/html": [
       "<iframe\n",
       "    scrolling=\"no\"\n",
       "    width=\"820px\"\n",
       "    height=\"620\"\n",
       "    src=\"iframe_figures/figure_21.html\"\n",
       "    frameborder=\"0\"\n",
       "    allowfullscreen\n",
       "></iframe>\n"
      ]
     },
     "metadata": {},
     "output_type": "display_data"
    }
   ],
   "source": [
    "# graph tsne\n",
    "frontera.plot_UMAP()"
   ]
  },
  {
   "cell_type": "code",
   "execution_count": 22,
   "id": "ce6c2caf-2a06-4e8f-a529-b336f5c58cb8",
   "metadata": {},
   "outputs": [
    {
     "data": {
      "text/html": [
       "<iframe\n",
       "    scrolling=\"no\"\n",
       "    width=\"820px\"\n",
       "    height=\"620\"\n",
       "    src=\"iframe_figures/figure_22.html\"\n",
       "    frameborder=\"0\"\n",
       "    allowfullscreen\n",
       "></iframe>\n"
      ]
     },
     "metadata": {},
     "output_type": "display_data"
    }
   ],
   "source": [
    "frontera.plot_frontera_2D(0,1)"
   ]
  },
  {
   "cell_type": "code",
   "execution_count": null,
   "id": "2c094d14-f656-4407-b6f2-6d9f3e9d18c7",
   "metadata": {},
   "outputs": [],
   "source": []
  },
  {
   "cell_type": "code",
   "execution_count": null,
   "id": "7dbc4d17-1a3f-40a2-86f4-1aac7dbdc3d5",
   "metadata": {},
   "outputs": [],
   "source": []
  },
  {
   "cell_type": "code",
   "execution_count": null,
   "id": "2e848bb6-b9ed-4c15-baaf-be445c64aea5",
   "metadata": {},
   "outputs": [],
   "source": []
  },
  {
   "cell_type": "code",
   "execution_count": null,
   "id": "671c59ab-f724-472a-8069-bc9235e63a0e",
   "metadata": {},
   "outputs": [],
   "source": []
  },
  {
   "cell_type": "code",
   "execution_count": null,
   "id": "da63563c-05aa-47af-9adf-7aca9b620fb5",
   "metadata": {},
   "outputs": [],
   "source": []
  },
  {
   "cell_type": "code",
   "execution_count": 230,
   "id": "79d1a007-ff02-42f6-b029-d5b453b1e0c7",
   "metadata": {},
   "outputs": [
    {
     "data": {
      "text/plain": [
       "{'Frontier:(0,1)': array([[1.67965135, 2.9108661 ],\n",
       "        [0.45915817, 2.03250875],\n",
       "        [1.24757045, 2.60953324]]),\n",
       " 'Frontier:(0,2)': array([[-0.74550706,  4.49314904],\n",
       "        [-0.24479135,  3.49139245],\n",
       "        [-0.29855852,  2.9258399 ]]),\n",
       " 'Frontier:(1,2)': array([[-0.09482055,  1.53552849],\n",
       "        [-0.18455952,  1.15409225],\n",
       "        [ 0.18571869,  2.10326155]])}"
      ]
     },
     "execution_count": 230,
     "metadata": {},
     "output_type": "execute_result"
    }
   ],
   "source": [
    "frontera.Frontier_Point"
   ]
  },
  {
   "cell_type": "code",
   "execution_count": 231,
   "id": "34c7201a-bf54-4328-a6de-5812f5d97fc4",
   "metadata": {},
   "outputs": [],
   "source": [
    "def distance(x0,x1):\n",
    "\n",
    "    # X=(200,3) ; Y=(150,3)\n",
    "    # diag(X*X')              <> (200,3) * (3,200) > diag(200,200) > (200,1)            X^2   (X-Y)^2\n",
    "    # 2*X*Y'                  <>(200,3) * (3,150) > (200,150)                          -2XY\n",
    "    # ones(N,1)*(diag(Y*Y'))' <> (200,1) * (150,1)' > (200,1) * (1,150) >(200,150)      Y^2\n",
    "    # M_distance = diag(X*X')-2*X*Y'+ones(N,1)*(diag(Y*Y'))'  %%MATLAB\n",
    "    M_distance = np.reshape( \n",
    "        np.diag(np.dot(x0,x0.T)),(-1,1)) - 2*np.dot(x0,x1.T) + np.dot( np.ones((x0.shape[0],1)), np.reshape(np.diag( np.dot(x1,x1.T)).T,(1,-1)) )\n",
    "    return M_distance"
   ]
  },
  {
   "cell_type": "code",
   "execution_count": 88,
   "id": "73c256da-0e97-4809-8dea-766aa18e6636",
   "metadata": {},
   "outputs": [],
   "source": [
    "for categories in list(comb_categories):\n",
    "\n",
    "    dist = self.distance(self.dic_categorias.get(categories[0]), self.dic_categorias.get(categories[1]))\n",
    "\n",
    "    # row\n",
    "    row = np.mean(dist, axis=1)\n",
    "    select_indices_row = np.where( \n",
    "        (row > np.percentile(row, self.percentil_min)) & (row < np.percentile(row, self.percentil_max)) )[0]\n",
    "    min_dst_row = self.dic_categorias.get(categories[0])[select_indices_row]\n",
    "    dic_min_dst_aux ={categories[0]+'_with_'+categories[1]:min_dst_row} \n",
    "    self.dic_min_dst.update(dic_min_dst_aux)\n",
    "\n",
    "    #Column\n",
    "    column = np.mean(dist, axis=0)\n",
    "    select_indices_column = np.where( \n",
    "        (column > np.percentile(column, self.percentil_min)) & (column < np.percentile(column, self.percentil_max)) )[0]\n",
    "    min_dst_column = self.dic_categorias.get(categories[1])[select_indices_column]\n",
    "    dic_min_dst_aux ={categories[1]+'_with_'+categories[0]:min_dst_column} \n",
    "    self.dic_min_dst.update(dic_min_dst_aux)"
   ]
  },
  {
   "cell_type": "code",
   "execution_count": 147,
   "id": "d46d419b-26ec-427c-9e58-c8ebc1b7a78a",
   "metadata": {},
   "outputs": [
    {
     "data": {
      "text/plain": [
       "(16, 2)"
      ]
     },
     "execution_count": 147,
     "metadata": {},
     "output_type": "execute_result"
    }
   ],
   "source": [
    "frontera.dic_min_dst.get(A_with_B).shape"
   ]
  },
  {
   "cell_type": "code",
   "execution_count": 156,
   "id": "a9a680a2-13d5-40ae-bd3b-4e765b7f4289",
   "metadata": {},
   "outputs": [
    {
     "name": "stdout",
     "output_type": "stream",
     "text": [
      "(15, 2)\n",
      "(15, 2)\n",
      "(15, 2)\n",
      "{'Frontier:(0,1)': array([2.2549212 , 2.99383436]), 'Frontier:(0,2)': array([0.25356862, 2.85411382]), 'Frontier:(1,2)': array([-0.40268602,  0.89427824])}\n"
     ]
    }
   ],
   "source": [
    "Frontier_Point = {}\n",
    "\n",
    "list_all_frontier = [key for key in frontera.dic_min_dst]\n",
    "list_A_with_B = [nombre for indice, nombre in enumerate(list_all_frontier) if indice%2==0]\n",
    "list_B_with_A = [nombre for indice, nombre in enumerate(list_all_frontier) if indice%2==1]\n",
    "\n",
    "for A_with_B, B_with_A in zip(list_A_with_B, list_B_with_A): #obtenemos los valores en cada iteración\n",
    "    dist = distance(frontera.dic_min_dst.get(A_with_B), frontera.dic_min_dst.get(B_with_A))\n",
    "    \n",
    "    #ROW\n",
    "    min_dist_A_with_B = np.where( dist==np.min(dist) )[0]\n",
    "    min_A_with_B = frontera.dic_min_dst.get(A_with_B)[min_dist_A_with_B]\n",
    "    dd = np.delete(frontera.dic_min_dst.get(A_with_B), min_dist_A_with_B, axis=0)\n",
    "    print(dd.shape)\n",
    "    #COLUMN\n",
    "    min_dist_B_with_A = np.where( dist==np.min(dist) )[1]\n",
    "    min_B_with_A = frontera.dic_min_dst.get(B_with_A)[min_dist_B_with_A]\n",
    "    \n",
    "    Point = (np.mean(min_A_with_B+min_B_with_A,axis=0))/2\n",
    "    Front_Point ={'Frontier:(' + B_with_A.split('_')[-1] + ',' + A_with_B.split('_')[-1] + ')' : Point} \n",
    "    Frontier_Point.update(Front_Point)\n",
    "    \n",
    "    \n",
    "    \n",
    "print(Frontier_Point)\n"
   ]
  },
  {
   "cell_type": "code",
   "execution_count": 132,
   "id": "83fa4a37-d59e-4948-a178-e296af8ba847",
   "metadata": {},
   "outputs": [
    {
     "data": {
      "text/plain": [
       "'X_1_with_X_0'"
      ]
     },
     "execution_count": 132,
     "metadata": {},
     "output_type": "execute_result"
    }
   ],
   "source": [
    "list_B[0]"
   ]
  },
  {
   "cell_type": "code",
   "execution_count": 139,
   "id": "11048f18-026d-4889-8668-56ab191fc0f0",
   "metadata": {},
   "outputs": [
    {
     "data": {
      "text/plain": [
       "'0'"
      ]
     },
     "execution_count": 139,
     "metadata": {},
     "output_type": "execute_result"
    }
   ],
   "source": [
    "list_B[0].split('_')[-1]"
   ]
  },
  {
   "cell_type": "code",
   "execution_count": 45,
   "id": "c2506336-15ee-4eb2-8570-9349f3a9c04a",
   "metadata": {},
   "outputs": [
    {
     "name": "stdout",
     "output_type": "stream",
     "text": [
      "X_0_with_X_1\n",
      "X_1_with_X_0\n",
      "X_0_with_X_2\n",
      "X_2_with_X_0\n",
      "X_1_with_X_2\n",
      "X_2_with_X_1\n"
     ]
    }
   ],
   "source": [
    "for key, value_dst in frontera.dic_min_dst.items():\n",
    "    print(key)\n",
    "    "
   ]
  },
  {
   "cell_type": "code",
   "execution_count": null,
   "id": "e012c9fb-281b-4ae6-99fd-550ae4b5378d",
   "metadata": {},
   "outputs": [],
   "source": []
  },
  {
   "cell_type": "code",
   "execution_count": null,
   "id": "8f93822e-916f-476e-bd7e-b6cf26fdc16e",
   "metadata": {},
   "outputs": [],
   "source": []
  },
  {
   "cell_type": "code",
   "execution_count": null,
   "id": "aa2bdab0-4c83-4f97-9a2a-1faaf516923a",
   "metadata": {},
   "outputs": [],
   "source": []
  },
  {
   "cell_type": "code",
   "execution_count": null,
   "id": "9cad46d8-5100-449f-b6cd-928682a5cea1",
   "metadata": {},
   "outputs": [],
   "source": []
  },
  {
   "cell_type": "code",
   "execution_count": null,
   "id": "6478c146-55fa-4bd6-aa24-c591d9b81880",
   "metadata": {},
   "outputs": [],
   "source": []
  },
  {
   "cell_type": "code",
   "execution_count": null,
   "id": "049c8ee2-2254-4358-8ff0-de7abe26aff8",
   "metadata": {},
   "outputs": [],
   "source": []
  },
  {
   "cell_type": "code",
   "execution_count": null,
   "id": "259c892b-cc04-4ae5-840b-66000eda9506",
   "metadata": {},
   "outputs": [],
   "source": []
  },
  {
   "cell_type": "code",
   "execution_count": null,
   "id": "c62c1242-a43c-456f-881b-9deb63885332",
   "metadata": {},
   "outputs": [],
   "source": []
  },
  {
   "cell_type": "code",
   "execution_count": null,
   "id": "bc7d87d4-fb70-463a-9e2e-828d19cb2dda",
   "metadata": {},
   "outputs": [],
   "source": []
  },
  {
   "cell_type": "code",
   "execution_count": null,
   "id": "c1a3cd61-94ea-4a2d-b652-1d019a655189",
   "metadata": {},
   "outputs": [],
   "source": []
  },
  {
   "cell_type": "code",
   "execution_count": null,
   "id": "7480ee14-0d2f-485b-897c-600740987189",
   "metadata": {},
   "outputs": [],
   "source": []
  },
  {
   "cell_type": "code",
   "execution_count": 36,
   "id": "384eb5c0-162c-4c2e-a40a-369e221dd91a",
   "metadata": {},
   "outputs": [],
   "source": [
    "#dic_categorias.get('X_0')"
   ]
  },
  {
   "cell_type": "code",
   "execution_count": 37,
   "id": "89d577b5-ffec-4338-afed-17015a2e72a4",
   "metadata": {},
   "outputs": [
    {
     "ename": "NameError",
     "evalue": "name 'dic_categorias' is not defined",
     "output_type": "error",
     "traceback": [
      "\u001b[0;31m---------------------------------------------------------------------------\u001b[0m",
      "\u001b[0;31mNameError\u001b[0m                                 Traceback (most recent call last)",
      "Input \u001b[0;32mIn [37]\u001b[0m, in \u001b[0;36m<module>\u001b[0;34m\u001b[0m\n\u001b[0;32m----> 1\u001b[0m categorias_list \u001b[38;5;241m=\u001b[39m [key \u001b[38;5;28;01mfor\u001b[39;00m key \u001b[38;5;129;01min\u001b[39;00m \u001b[43mdic_categorias\u001b[49m]\n\u001b[1;32m      2\u001b[0m categorias_list\u001b[38;5;241m.\u001b[39mappend(\u001b[38;5;124m'\u001b[39m\u001b[38;5;124mX_\u001b[39m\u001b[38;5;124m'\u001b[39m)\n\u001b[1;32m      3\u001b[0m categorias_list\n",
      "\u001b[0;31mNameError\u001b[0m: name 'dic_categorias' is not defined"
     ]
    }
   ],
   "source": [
    "categorias_list = [key for key in dic_categorias]\n",
    "categorias_list.append('X_')\n",
    "categorias_list"
   ]
  },
  {
   "cell_type": "code",
   "execution_count": 139,
   "id": "4d90a896-5184-4b9c-97ff-ad20ddea55b7",
   "metadata": {},
   "outputs": [
    {
     "data": {
      "text/plain": [
       "[['X_0', 'X_1'], ['X_0', 'X_'], ['X_1', 'X_']]"
      ]
     },
     "execution_count": 139,
     "metadata": {},
     "output_type": "execute_result"
    }
   ],
   "source": [
    "combinaciones(categorias_list, 2)"
   ]
  },
  {
   "cell_type": "code",
   "execution_count": 81,
   "id": "c4798343-ba07-436a-b884-061e87ab2bcf",
   "metadata": {},
   "outputs": [],
   "source": [
    "dic_categorias ={}\n",
    "\n",
    "for i in np.unique(y): \n",
    "    dic_categorias_aux ={'X_'+str(i):X[y==i]} \n",
    "    dic_categorias.update(dic_categorias_aux)"
   ]
  },
  {
   "cell_type": "code",
   "execution_count": 82,
   "id": "c4f74ada-022b-46c5-aa1b-836f7b4c2d13",
   "metadata": {},
   "outputs": [],
   "source": [
    "x0 = dic_categorias.get('X_0')"
   ]
  },
  {
   "cell_type": "code",
   "execution_count": 83,
   "id": "c5fd5876-d5be-41a6-abe8-f8af821b7d0a",
   "metadata": {},
   "outputs": [],
   "source": [
    "x1 = dic_categorias.get('X_1')"
   ]
  },
  {
   "cell_type": "code",
   "execution_count": 84,
   "id": "c95be2dc-0c46-4489-a006-9e94786a843b",
   "metadata": {},
   "outputs": [],
   "source": [
    "dis = np.reshape(np.diag(np.dot(x0,x0.T)),(-1,1))-2*np.dot(x0,x1.T) + np.dot( np.ones((x0.shape[0],1)), np.reshape(np.diag( np.dot(x1,x1.T)).T,(1,-1)) )"
   ]
  },
  {
   "cell_type": "code",
   "execution_count": 94,
   "id": "2adf33da-9520-4d8c-b627-01d36b80a0c3",
   "metadata": {},
   "outputs": [],
   "source": [
    "# row\n",
    "row = np.mean(dis, axis=1)\n",
    "\n",
    "select_indices_1 = np.where( row < np.percentile(row, 10))[0]\n",
    "min_dst_x0 = dic_categorias.get('X_0')[select_indices_1]"
   ]
  },
  {
   "cell_type": "code",
   "execution_count": 93,
   "id": "96faea77-4cb6-4a78-a0f5-6941d244dbde",
   "metadata": {},
   "outputs": [],
   "source": [
    "#Columna\n",
    "column = np.mean(dis, axis=0)\n",
    "\n",
    "select_indices_0 = np.where( column < np.percentile(column, 10))[0]\n",
    "min_dst_x1 = dic_categorias.get('X_1')[select_indices_0]"
   ]
  },
  {
   "cell_type": "code",
   "execution_count": 95,
   "id": "b414f3fd-01ec-4767-8b36-0789d8615a39",
   "metadata": {},
   "outputs": [
    {
     "data": {
      "text/html": [
       "<iframe\n",
       "    scrolling=\"no\"\n",
       "    width=\"920px\"\n",
       "    height=\"720\"\n",
       "    src=\"iframe_figures/figure_95.html\"\n",
       "    frameborder=\"0\"\n",
       "    allowfullscreen\n",
       "></iframe>\n"
      ]
     },
     "metadata": {},
     "output_type": "display_data"
    }
   ],
   "source": [
    "fig = go.Figure(data=[go.Scatter(x=X[:, 0], y=X[:, 1],\n",
    "                                 mode='markers',\n",
    "                                 name='',\n",
    "                                 marker=dict(\n",
    "                                     size=6,\n",
    "                                     color=y,                # set color to an array/list of desired values\n",
    "                                     colorscale='picnic',   # choose a colorscale\n",
    "                                     opacity=0.7)\n",
    "                                )])\n",
    "\n",
    "fig.add_trace(go.Scatter(x=min_dst_x0[:,0], y=min_dst_x0[:,1],\n",
    "                         mode='markers', \n",
    "                         name=\"X1 Limit\",\n",
    "                         marker=dict(\n",
    "                             symbol=12,\n",
    "                             size=14,\n",
    "                             color='orange',                # set color to an array/list of desired values\n",
    "                             #colorscale='Viridis',   # choose a colorscale\n",
    "                             opacity=1)\n",
    "                        ))\n",
    "\n",
    "fig.add_trace(go.Scatter(x=min_dst_x1[:,0], y=min_dst_x1[:,1],\n",
    "                         mode='markers', \n",
    "                         name=\"X2 Limit\",\n",
    "                         marker=dict(\n",
    "                             symbol=10,\n",
    "                             size=14,\n",
    "                             color='green',                # set color to an array/list of desired values\n",
    "                             #colorscale='Viridis',   # choose a colorscale\n",
    "                             opacity=1)\n",
    "                        ))\n",
    "fig.update_layout(\n",
    "    autosize=True,\n",
    "    width=900,\n",
    "    height=700,\n",
    "    margin=dict(l=10, r=10, b=10, t=20))\n",
    "    \n",
    "fig.show()"
   ]
  },
  {
   "cell_type": "code",
   "execution_count": 96,
   "id": "a42abd7a-fd01-4859-b0a1-e3fe13675504",
   "metadata": {},
   "outputs": [],
   "source": []
  },
  {
   "cell_type": "code",
   "execution_count": 97,
   "id": "59dd51f1-f3af-48d7-9678-be8147caa5a0",
   "metadata": {},
   "outputs": [],
   "source": []
  },
  {
   "cell_type": "code",
   "execution_count": null,
   "id": "50384e1b-96a1-4680-acf8-32c49c13feaa",
   "metadata": {},
   "outputs": [],
   "source": []
  },
  {
   "cell_type": "markdown",
   "id": "c5f04d5b-9c2d-4710-88d9-19d02186e9b7",
   "metadata": {},
   "source": [
    "## With Pandas"
   ]
  },
  {
   "cell_type": "code",
   "execution_count": 35,
   "id": "181fb86c-09ad-44c6-bedf-760ce25d35f0",
   "metadata": {},
   "outputs": [],
   "source": [
    "df = pd.DataFrame(dict(x1=X[:,0], x2=X[:,1], label=y))"
   ]
  },
  {
   "cell_type": "code",
   "execution_count": 36,
   "id": "260c028c-4427-405e-9b30-37ae0f30c5bb",
   "metadata": {},
   "outputs": [],
   "source": [
    "df_label_0 = df[df.label == 0]\n",
    "df_label_1 = df[df.label == 1]"
   ]
  },
  {
   "cell_type": "code",
   "execution_count": 37,
   "id": "aa8e4a56-0ba8-4a2d-968c-6f584112e5c5",
   "metadata": {},
   "outputs": [],
   "source": [
    "#dist = numpy.linalg.norm(a-b)\n",
    "data = {'label_0_x1': [], 'label_0_x2': [], 'label_1_x1': [], 'label_1_x2': [], 'distance':[]}  \n",
    "df_distances = pd.DataFrame(data)  "
   ]
  },
  {
   "cell_type": "code",
   "execution_count": 38,
   "id": "3e566ac3-d5ef-4b4f-bd8c-979c7d93dc9d",
   "metadata": {},
   "outputs": [
    {
     "name": "stdout",
     "output_type": "stream",
     "text": [
      "CPU times: user 51.4 s, sys: 24.4 ms, total: 51.4 s\n",
      "Wall time: 51.4 s\n"
     ]
    }
   ],
   "source": [
    "%%time\n",
    "\n",
    "index = 0\n",
    "for index_0, row_label_0 in df_label_0.iterrows():\n",
    "    for index_1, row_label_1 in df_label_1.iterrows():\n",
    "        a = row_label_0[:2]\n",
    "        b = row_label_1[:2]\n",
    "        distance = np.linalg.norm(a-b)\n",
    "        df_distances.loc[index] = [row_label_0['x1'], row_label_0['x2'], \n",
    "                                   row_label_1['x1'], row_label_1['x2'],\n",
    "                                   distance]\n",
    "        index += 1\n",
    "\n"
   ]
  },
  {
   "cell_type": "code",
   "execution_count": 25,
   "id": "ac9fd517-ffb4-4b70-8a3f-2448dd5aebd5",
   "metadata": {},
   "outputs": [
    {
     "data": {
      "text/html": [
       "<div>\n",
       "<style scoped>\n",
       "    .dataframe tbody tr th:only-of-type {\n",
       "        vertical-align: middle;\n",
       "    }\n",
       "\n",
       "    .dataframe tbody tr th {\n",
       "        vertical-align: top;\n",
       "    }\n",
       "\n",
       "    .dataframe thead th {\n",
       "        text-align: right;\n",
       "    }\n",
       "</style>\n",
       "<table border=\"1\" class=\"dataframe\">\n",
       "  <thead>\n",
       "    <tr style=\"text-align: right;\">\n",
       "      <th></th>\n",
       "      <th>label_0_x1</th>\n",
       "      <th>label_0_x2</th>\n",
       "      <th>label_1_x1</th>\n",
       "      <th>label_1_x2</th>\n",
       "      <th>distance</th>\n",
       "    </tr>\n",
       "  </thead>\n",
       "  <tbody>\n",
       "    <tr>\n",
       "      <th>0</th>\n",
       "      <td>-0.316587</td>\n",
       "      <td>4.570838</td>\n",
       "      <td>2.810663</td>\n",
       "      <td>1.765071</td>\n",
       "      <td>4.201431</td>\n",
       "    </tr>\n",
       "    <tr>\n",
       "      <th>1</th>\n",
       "      <td>-0.316587</td>\n",
       "      <td>4.570838</td>\n",
       "      <td>1.925161</td>\n",
       "      <td>0.991617</td>\n",
       "      <td>4.223299</td>\n",
       "    </tr>\n",
       "    <tr>\n",
       "      <th>2</th>\n",
       "      <td>-0.316587</td>\n",
       "      <td>4.570838</td>\n",
       "      <td>2.855832</td>\n",
       "      <td>0.975924</td>\n",
       "      <td>4.794544</td>\n",
       "    </tr>\n",
       "    <tr>\n",
       "      <th>3</th>\n",
       "      <td>-0.316587</td>\n",
       "      <td>4.570838</td>\n",
       "      <td>2.280876</td>\n",
       "      <td>1.347376</td>\n",
       "      <td>4.139749</td>\n",
       "    </tr>\n",
       "    <tr>\n",
       "      <th>4</th>\n",
       "      <td>-0.316587</td>\n",
       "      <td>4.570838</td>\n",
       "      <td>2.619276</td>\n",
       "      <td>-0.386889</td>\n",
       "      <td>5.761801</td>\n",
       "    </tr>\n",
       "    <tr>\n",
       "      <th>...</th>\n",
       "      <td>...</td>\n",
       "      <td>...</td>\n",
       "      <td>...</td>\n",
       "      <td>...</td>\n",
       "      <td>...</td>\n",
       "    </tr>\n",
       "    <tr>\n",
       "      <th>39995</th>\n",
       "      <td>1.908118</td>\n",
       "      <td>4.643752</td>\n",
       "      <td>0.453431</td>\n",
       "      <td>0.010483</td>\n",
       "      <td>4.856264</td>\n",
       "    </tr>\n",
       "    <tr>\n",
       "      <th>39996</th>\n",
       "      <td>1.908118</td>\n",
       "      <td>4.643752</td>\n",
       "      <td>2.129854</td>\n",
       "      <td>-0.179435</td>\n",
       "      <td>4.828282</td>\n",
       "    </tr>\n",
       "    <tr>\n",
       "      <th>39997</th>\n",
       "      <td>1.908118</td>\n",
       "      <td>4.643752</td>\n",
       "      <td>2.984773</td>\n",
       "      <td>1.479888</td>\n",
       "      <td>3.342038</td>\n",
       "    </tr>\n",
       "    <tr>\n",
       "      <th>39998</th>\n",
       "      <td>1.908118</td>\n",
       "      <td>4.643752</td>\n",
       "      <td>2.775251</td>\n",
       "      <td>-0.205243</td>\n",
       "      <td>4.925918</td>\n",
       "    </tr>\n",
       "    <tr>\n",
       "      <th>39999</th>\n",
       "      <td>1.908118</td>\n",
       "      <td>4.643752</td>\n",
       "      <td>2.407048</td>\n",
       "      <td>1.276899</td>\n",
       "      <td>3.403620</td>\n",
       "    </tr>\n",
       "  </tbody>\n",
       "</table>\n",
       "<p>40000 rows × 5 columns</p>\n",
       "</div>"
      ],
      "text/plain": [
       "       label_0_x1  label_0_x2  label_1_x1  label_1_x2  distance\n",
       "0       -0.316587    4.570838    2.810663    1.765071  4.201431\n",
       "1       -0.316587    4.570838    1.925161    0.991617  4.223299\n",
       "2       -0.316587    4.570838    2.855832    0.975924  4.794544\n",
       "3       -0.316587    4.570838    2.280876    1.347376  4.139749\n",
       "4       -0.316587    4.570838    2.619276   -0.386889  5.761801\n",
       "...           ...         ...         ...         ...       ...\n",
       "39995    1.908118    4.643752    0.453431    0.010483  4.856264\n",
       "39996    1.908118    4.643752    2.129854   -0.179435  4.828282\n",
       "39997    1.908118    4.643752    2.984773    1.479888  3.342038\n",
       "39998    1.908118    4.643752    2.775251   -0.205243  4.925918\n",
       "39999    1.908118    4.643752    2.407048    1.276899  3.403620\n",
       "\n",
       "[40000 rows x 5 columns]"
      ]
     },
     "execution_count": 25,
     "metadata": {},
     "output_type": "execute_result"
    }
   ],
   "source": [
    "df_distances"
   ]
  },
  {
   "cell_type": "code",
   "execution_count": 79,
   "id": "b2f08849-9a92-4479-b140-5565ebfe3bb1",
   "metadata": {},
   "outputs": [],
   "source": []
  },
  {
   "cell_type": "code",
   "execution_count": 144,
   "id": "43c8cce0-7ca6-43e4-83ac-fe47a117ac2d",
   "metadata": {},
   "outputs": [],
   "source": [
    "min_dst_label_0 = df_distances[['label_0_x1','label_0_x2','distance']].groupby(by=['label_0_x1','label_0_x2'], dropna=False). \\\n",
    "\tmean().sort_values(by='distance',ascending=True).head(15).reset_index()"
   ]
  },
  {
   "cell_type": "code",
   "execution_count": 145,
   "id": "f5442c3a-624d-44ed-b814-8b06a54a8b55",
   "metadata": {},
   "outputs": [],
   "source": [
    "min_dst_label_1 = df_distances[['label_1_x1','label_1_x2','distance']].groupby(by=['label_1_x1','label_1_x2'], dropna=False). \\\n",
    "\tmean().sort_values(by='distance',ascending=True).head(15).reset_index()"
   ]
  },
  {
   "cell_type": "code",
   "execution_count": 194,
   "id": "4997570b-5e7b-4200-99fa-91594603405b",
   "metadata": {},
   "outputs": [
    {
     "data": {
      "text/html": [
       "<iframe\n",
       "    scrolling=\"no\"\n",
       "    width=\"1020px\"\n",
       "    height=\"820\"\n",
       "    src=\"iframe_figures/figure_194.html\"\n",
       "    frameborder=\"0\"\n",
       "    allowfullscreen\n",
       "></iframe>\n"
      ]
     },
     "metadata": {},
     "output_type": "display_data"
    }
   ],
   "source": [
    "fig = go.Figure(data=[go.Scatter(x=X[:, 0], y=X[:, 1],\n",
    "                                 mode='markers',\n",
    "                                 name='',\n",
    "                                 marker=dict(\n",
    "                                     size=6,\n",
    "                                     color=y,                # set color to an array/list of desired values\n",
    "                                     colorscale='picnic',   # choose a colorscale\n",
    "                                     opacity=0.7)\n",
    "                                )])\n",
    "\n",
    "fig.add_trace(go.Scatter(x=min_dst_label_0.label_0_x1, y=min_dst_label_0.label_0_x2,\n",
    "                         mode='markers', \n",
    "                         name=\"X1 Limit\",\n",
    "                         marker=dict(\n",
    "                             symbol=12,\n",
    "                             size=14,\n",
    "                             color='orange',                # set color to an array/list of desired values\n",
    "                             #colorscale='Viridis',   # choose a colorscale\n",
    "                             opacity=1)\n",
    "                        ))\n",
    "\n",
    "fig.add_trace(go.Scatter(x=min_dst_label_1.label_1_x1, y=min_dst_label_1.label_1_x2,\n",
    "                         mode='markers', \n",
    "                         name=\"X2 Limit\",\n",
    "                         marker=dict(\n",
    "                             symbol=10,\n",
    "                             size=14,\n",
    "                             color='green',                # set color to an array/list of desired values\n",
    "                             #colorscale='Viridis',   # choose a colorscale\n",
    "                             opacity=1)\n",
    "                        ))\n",
    "fig.update_layout(\n",
    "    autosize=True,\n",
    "    width=1000,\n",
    "    height=800,\n",
    "    margin=dict(l=10, r=10, b=10, t=20))\n",
    "    \n",
    "fig.show()"
   ]
  },
  {
   "cell_type": "markdown",
   "id": "eb32fb0c-b6d5-41dd-9937-40505e609b69",
   "metadata": {},
   "source": [
    "### 1. Buscar forma matricial\n",
    "### 2. Función: hasta la selección de puntos limites\n",
    "### 3. Probar otras formas ej: Espiral suiza con solapamiento - 2D\n",
    "### 4. Mas dimenciones visualizando con UMAP"
   ]
  },
  {
   "cell_type": "code",
   "execution_count": null,
   "id": "897a1255-6a3a-4a3a-b2df-65b57a378afd",
   "metadata": {},
   "outputs": [],
   "source": []
  },
  {
   "cell_type": "code",
   "execution_count": null,
   "id": "6c99d931-289f-483f-89cf-752382a92514",
   "metadata": {},
   "outputs": [],
   "source": []
  }
 ],
 "metadata": {
  "kernelspec": {
   "display_name": "Python 3 (ipykernel)",
   "language": "python",
   "name": "python3"
  },
  "language_info": {
   "codemirror_mode": {
    "name": "ipython",
    "version": 3
   },
   "file_extension": ".py",
   "mimetype": "text/x-python",
   "name": "python",
   "nbconvert_exporter": "python",
   "pygments_lexer": "ipython3",
   "version": "3.9.13"
  }
 },
 "nbformat": 4,
 "nbformat_minor": 5
}
