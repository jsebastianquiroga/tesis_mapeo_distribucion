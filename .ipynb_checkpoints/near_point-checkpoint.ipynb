{
 "cells": [
  {
   "cell_type": "code",
   "execution_count": 82,
   "metadata": {},
   "outputs": [],
   "source": [
    "import numpy as np\n",
    "import matplotlib.pyplot as plt\n",
    "import pandas as pd\n",
    "\n",
    "#EUCLIDEA\n",
    "\n",
    "class ClassCentroidIdentifier:\n",
    "    def __init__(self):\n",
    "        self.centroids = None\n",
    "        self.nearest_indices = None\n",
    "    \n",
    "    def set_centroids(self, data, class_var):\n",
    "        \"\"\"\n",
    "        Function to set the centroids for each class.\n",
    "        The centroid of a class is calculated as the mean of the data points belonging to that class.\n",
    "        \n",
    "        Parameters:\n",
    "        data (np.array): A 2D array of shape (n, m) where n is the number of data points and m is the number of features.\n",
    "        class_var (np.array): A 1D array of length n, representing the class label for each data point.\n",
    "        \n",
    "        Returns:\n",
    "        np.array: A 2D array of shape (k, m) where k is the number of unique classes and m is the number of features.\n",
    "        \"\"\"\n",
    "        unique_classes = np.unique(class_var)\n",
    "        self.centroids = np.zeros((len(unique_classes), data.shape[1]))\n",
    "        for i, c in enumerate(unique_classes):\n",
    "            class_data = data[class_var == c]\n",
    "            self.centroids[i, :] = np.median(class_data, axis=0)\n",
    "        return self.centroids\n",
    "\n",
    "    def distances_sqr_euclidean(self, X1, X2):\n",
    "        \"\"\"\n",
    "        Function to set the centroids for each class.\n",
    "        The centroid of a class is calculated as the mean of the data points belonging to that class.\n",
    "        \n",
    "        Parameters:\n",
    "        X1 (np.array): A 2D array of shape (n, m) where n is the number of data points and m is the number of features.\n",
    "        X2 (np.array): A 2D array of shape (n, m) where n is the number of data points and m is the number of features.\n",
    "        \n",
    "        Returns:\n",
    "        np.array: A 1D array of length n, representing the distances between X1 and X2.\n",
    "        \"\"\"\n",
    "        distances = np.reshape(np.diag((np.dot(X1, X1.T)) - (2 * (np.dot(X1, X2.T))) + (np.ones((X2.shape[1], 1)) * (np.diag(np.dot(X2, X2.T)).T))),(1,-1))\n",
    "        return distances\n",
    "    \n",
    "    def get_furthest_points(self, data, class_var):\n",
    "        \"\"\"\n",
    "        Function to get the furthest data point in the 90th percentile for each class.\n",
    "        \n",
    "        Parameters:\n",
    "        data (np.array): A 2D array of shape (n, m) where n is the number of data points and m is the number of features.\n",
    "        class_var (np.array): A 1D array of length n, representing the class label for each data point.\n",
    "        \n",
    "        Returns:\n",
    "        np.array: A 2D array of shape (k, m) where k is the number of unique classes and m is the number of features.\n",
    "        \"\"\"\n",
    "        unique_classes = np.unique(class_var)\n",
    "        furthest_points = np.zeros((len(unique_classes), data.shape[1]))\n",
    "        for i, c in enumerate(unique_classes):\n",
    "            class_data = data[class_var == c]\n",
    "            # class_data = np.expand_dims(class_data, axis=1)\n",
    "            centroid = np.expand_dims(self.centroids[i, :], axis=0)\n",
    "            distances = abs(self.distances_sqr_euclidean(centroid,class_data))#np.linalg.norm(class_data - centroid, axis=-1).flatten()\n",
    "            furthest_point_index = int(np.percentile(np.argsort(distances), 90))\n",
    "            furthest_points[i, :] = class_data[furthest_point_index, :].flatten()\n",
    "        return furthest_points\n",
    "\n",
    "    def assign_nearby_points(self, data, class_var):\n",
    "        \"\"\"\n",
    "        Function to assign the nearest points to each centroid.\n",
    "        Points are considered nearest if they are closer to the centroid than the furthest point in the 90th percentile\n",
    "        for the same class.\n",
    "        \n",
    "        Parameters:\n",
    "        data (np.array): A 2D array of shape (n, m) where n is the number of data points and m is the number of features.\n",
    "        class_var (np.array): A 1D array of length n, representing the class label for each data point.\n",
    "        \n",
    "        Returns:\n",
    "        np.array: A 1D array of length n, representing the class label for each data point after re-assignment.\n",
    "        np.array: A 1D array of length n, representing the data points that were not re-assigned to any class.\n",
    "        \"\"\"\n",
    "        # Get the furthest points for each class\n",
    "        furthest_points = self.get_furthest_points(data, class_var)\n",
    "        # Initialize arrays to store the re-assigned class labels and unassigned data points\n",
    "        re_assigned_class = np.zeros_like(class_var)\n",
    "        unassigned_points = []\n",
    " \n",
    "\n",
    "        # Loop through the data points\n",
    "        for i, d in enumerate(data):\n",
    "            # Initialize a flag to check if the current data point has been re-assigned to a class\n",
    "            re_assigned = False\n",
    "            # Loop through the classes\n",
    "            for j, c in enumerate(self.centroids):\n",
    "                # Check if the current data point does not belong to the class\n",
    "                if class_var[i] != j:\n",
    "                    # Calculate the Euclidean distance between the data point and the centroid of the current class\n",
    "                    c = np.expand_dims(c, axis=0)\n",
    "                    distance = self.distances_sqr_euclidean(c,d)#abs(np.linalg.norm(c - d)) #expandir dimenciones Centroide, y sacar funcion de robin\n",
    "                    # Calculate the Euclidean distance between the furthest point and the centroid of the current class\n",
    "                    furthest_distance = abs(self.distances_sqr_euclidean(c,furthest_points[j]))#abs(np.linalg.norm(c - furthest_points[j]))\n",
    "                    #distance = distance.append(distance)\n",
    "                    # Check if the distance between the data point and the centroid is less than the distance between the furthest point and the centroid\n",
    "                    if distance < furthest_distance:\n",
    "                        # Assign the data point to the class\n",
    "                        re_assigned_class[i] = re_assigned_class[i]+j\n",
    "                        re_assigned = True\n",
    "                        break\n",
    "            # If the data point was not re-assigned to a class, add it to the list of unassigned points\n",
    "            if not re_assigned:\n",
    "                unassigned_points.append(i)\n",
    "        return re_assigned_class, np.array(unassigned_points)\n"
   ]
  },
  {
   "cell_type": "code",
   "execution_count": 95,
   "metadata": {},
   "outputs": [],
   "source": [
    "import numpy as np\n",
    "import matplotlib.pyplot as plt\n",
    "import pandas as pd\n",
    "\n",
    "#EUCLIDEA\n",
    "\n",
    "class ClassCentroidIdentifier:\n",
    "    def __init__(self):\n",
    "        self.centroids = None\n",
    "        self.nearest_indices = None\n",
    "    \n",
    "    def set_centroids(self, data, class_var):\n",
    "        \"\"\"\n",
    "        Function to set the centroids for each class.\n",
    "        The centroid of a class is calculated as the mean of the data points belonging to that class.\n",
    "        \n",
    "        Parameters:\n",
    "        data (np.array): A 2D array of shape (n, m) where n is the number of data points and m is the number of features.\n",
    "        class_var (np.array): A 1D array of length n, representing the class label for each data point.\n",
    "        \n",
    "        Returns:\n",
    "        np.array: A 2D array of shape (k, m) where k is the number of unique classes and m is the number of features.\n",
    "        \"\"\"\n",
    "        unique_classes = np.unique(class_var)\n",
    "        self.centroids = np.zeros((len(unique_classes), data.shape[1]))\n",
    "        for i, c in enumerate(unique_classes):\n",
    "            class_data = data[class_var == c]\n",
    "            self.centroids[i, :] = np.median(class_data, axis=0)\n",
    "        return self.centroids\n",
    "\n",
    "    def distances_sqr_euclidean(self, X1, X2):\n",
    "        \"\"\"\n",
    "        Function to set the centroids for each class.\n",
    "        The centroid of a class is calculated as the mean of the data points belonging to that class.\n",
    "        \n",
    "        Parameters:\n",
    "        X1 (np.array): A 2D array of shape (n, m) where n is the number of data points and m is the number of features.\n",
    "        X2 (np.array): A 2D array of shape (n, m) where n is the number of data points and m is the number of features.\n",
    "        \n",
    "        Returns:\n",
    "        np.array: A 1D array of length n, representing the distances between X1 and X2.\n",
    "        \"\"\"\n",
    "        distances = np.reshape(np.diag((np.dot(X1, X1.T)) - (2 * (np.dot(X1, X2.T))) + (np.ones((X2.shape[1], 1)) * (np.diag(np.dot(X2, X2.T)).T))),(1,-1))\n",
    "        return distances\n",
    "    \n",
    "    def get_furthest_points(self, data, class_var):\n",
    "        \"\"\"\n",
    "        Function to get the furthest data point in the 90th percentile for each class.\n",
    "        \n",
    "        Parameters:\n",
    "        data (np.array): A 2D array of shape (n, m) where n is the number of data points and m is the number of features.\n",
    "        class_var (np.array): A 1D array of length n, representing the class label for each data point.\n",
    "        \n",
    "        Returns:\n",
    "        np.array: A 2D array of shape (k, m) where k is the number of unique classes and m is the number of features.\n",
    "        \"\"\"\n",
    "        unique_classes = np.unique(class_var)\n",
    "        furthest_points = np.zeros((len(unique_classes), data.shape[1]))\n",
    "        for i, c in enumerate(unique_classes):\n",
    "            class_data = data[class_var == c]\n",
    "            # class_data = np.expand_dims(class_data, axis=1)\n",
    "            centroid = np.expand_dims(self.centroids[i, :], axis=0)\n",
    "            distances = abs(self.distances_sqr_euclidean(centroid,class_data))#np.linalg.norm(class_data - centroid, axis=-1).flatten()\n",
    "            furthest_point_index = int(np.percentile(np.argsort(distances), 90))\n",
    "            furthest_points[i, :] = class_data[furthest_point_index, :].flatten()\n",
    "        return furthest_points\n",
    "\n",
    "    def assign_nearby_points(self, data, class_var):\n",
    "        \"\"\"\n",
    "        Function to assign the nearest points to each centroid.\n",
    "        Points are considered nearest if they are closer to the centroid than the furthest point in the 90th percentile\n",
    "        for the same class.\n",
    "        \n",
    "        Parameters:\n",
    "        data (np.array): A 2D array of shape (n, m) where n is the number of data points and m is the number of features.\n",
    "        class_var (np.array): A 1D array of length n, representing the class label for each data point.\n",
    "        \n",
    "        Returns:\n",
    "        np.array: A 1D array of length n, representing the class label for each data point after re-assignment.\n",
    "        np.array: A 1D array of length n, representing the data points that were not re-assigned to any class.\n",
    "        \"\"\"\n",
    "        # Get the furthest points for each class\n",
    "        furthest_points = self.get_furthest_points(data, class_var)\n",
    "        # Initialize arrays to store the re-assigned class labels and unassigned data points\n",
    "        re_assigned_class = np.zeros_like(class_var)\n",
    "        unassigned_points = []\n",
    "\n",
    "        # Loop through the data points\n",
    "        for i, d in enumerate(data):\n",
    "            re_assigned = False\n",
    "            for j, c in enumerate(self.centroids):\n",
    "                # Get data points for the current class\n",
    "                class_data = data[class_var == c]\n",
    "                # Calculate the distances between the current data point and the centroid for the current class\n",
    "                c = np.expand_dims(c, axis=0)\n",
    "                distances = self.distances_sqr_euclidean(class_data, c)#np.linalg.norm(class_data - c, axis=-1).flatten()\n",
    "                furthest_distance =  self.distances_sqr_euclidean(furthest_points[j],c)\n",
    "                if np.min(distances) < furthest_distance:\n",
    "                    # Assign the data point to the class\n",
    "                    re_assigned_class[i] = c\n",
    "                    re_assigned = True\n",
    "                    break\n",
    "            # If the data point was not re-assigned to a class, add it to the list of unassigned points\n",
    "            if not re_assigned:\n",
    "                unassigned_points.append(i)\n",
    "        return re_assigned_class, np.array(unassigned_points)\n"
   ]
  },
  {
   "cell_type": "code",
   "execution_count": null,
   "metadata": {},
   "outputs": [],
   "source": [
    "import numpy as np\n",
    "import matplotlib.pyplot as plt\n",
    "import pandas as pd\n",
    "\n",
    "#Mahalanobis\n",
    "\n",
    "class ClassCentroidIdentifier:\n",
    "    def __init__(self):\n",
    "        self.centroids = None\n",
    "        self.nearest_indices = None\n",
    "    \n",
    "    def set_centroids(self, data, class_var):\n",
    "        \"\"\"\n",
    "        Function to set the centroids for each class.\n",
    "        The centroid of a class is calculated as the mean of the data points belonging to that class.\n",
    "        \n",
    "        Parameters:\n",
    "        data (np.array): A 2D array of shape (n, m) where n is the number of data points and m is the number of features.\n",
    "        class_var (np.array): A 1D array of length n, representing the class label for each data point.\n",
    "        \n",
    "        Returns:\n",
    "        np.array: A 2D array of shape (k, m) where k is the number of unique classes and m is the number of features.\n",
    "        \"\"\"\n",
    "        unique_classes = np.unique(class_var)\n",
    "        self.centroids = np.zeros((len(unique_classes), data.shape[1]))\n",
    "        for i, c in enumerate(unique_classes):\n",
    "            class_data = data[class_var == c]\n",
    "            self.centroids[i, :] = np.median(class_data, axis=0)\n",
    "        return self.centroids\n",
    "    \n",
    "    def get_furthest_points(self, data, class_var):\n",
    "        \"\"\"\n",
    "        Function to get the furthest data point in the 90th percentile for each class.\n",
    "        \n",
    "        Parameters:\n",
    "        data (np.array): A 2D array of shape (n, m) where n is the number of data points and m is the number of features.\n",
    "        class_var (np.array): A 1D array of length n, representing the class label for each data point.\n",
    "        \n",
    "        Returns:\n",
    "        np.array: A 2D array of shape (k, m) where k is the number of unique classes and m is the number of features.\n",
    "        \"\"\"\n",
    "        unique_classes = np.unique(class_var)\n",
    "        furthest_points = np.zeros((len(unique_classes), data.shape[1]))\n",
    "        for i, c in enumerate(unique_classes):\n",
    "            class_data = data[class_var == c]\n",
    "            class_data = np.expand_dims(class_data, axis=1)\n",
    "            centroid = np.expand_dims(self.centroids[i, :], axis=0)\n",
    "            distances = np.linalg.norm(class_data - centroid, axis=-1).flatten()\n",
    "            furthest_point_index = int(np.percentile(np.argsort(distances), 90))\n",
    "            furthest_points[i, :] = class_data[furthest_point_index, :].flatten()\n",
    "        return furthest_points\n",
    "\n",
    "    def assign_nearby_points(self, data, class_var):\n",
    "        \"\"\"\n",
    "        Function to assign the nearest points to each centroid.\n",
    "        Points are considered nearest if they are closer to the centroid than the furthest point in the 90th percentile\n",
    "        for the same class.\n",
    "        \n",
    "        Parameters:\n",
    "        data (np.array): A 2D array of shape (n, m) where n is the number of data points and m is the number of features.\n",
    "        class_var (np.array): A 1D array of length n, representing the class label for each data point.\n",
    "        \n",
    "        Returns:\n",
    "        np.array: A 1D array of length n, representing the class label for each data point after re-assignment.\n",
    "        np.array: A 1D array of length n, representing the data points that were not re-assigned to any class.\n",
    "        \"\"\"\n",
    "        # Get the furthest points for each class\n",
    "        furthest_points = self.get_furthest_points(data, class_var)\n",
    "        # Initialize arrays to store the re-assigned class labels and unassigned data points\n",
    "        re_assigned_class = np.zeros_like(class_var)\n",
    "        unassigned_points = []\n",
    " \n",
    "\n",
    "        # Loop through the data points\n",
    "        for i, d in enumerate(data):\n",
    "            # Initialize a flag to check if the current data point has been re-assigned to a class\n",
    "            re_assigned = False\n",
    "            # Loop through the classes\n",
    "            for j, c in enumerate(self.centroids):\n",
    "                # Check if the current data point does not belong to the class\n",
    "                if class_var[i] != j:\n",
    "                    # Calculate the Euclidean distance between the data point and the centroid of the current class\n",
    "                    distance = abs(np.linalg.norm(c - d)) #expandir dimenciones Centroide, y sacar funcion de robin\n",
    "                    # Calculate the Euclidean distance between the furthest point and the centroid of the current class\n",
    "                    furthest_distance = abs(np.linalg.norm(c - furthest_points[j]))\n",
    "                    #distance = distance.append(distance)\n",
    "                    # Check if the distance between the data point and the centroid is less than the distance between the furthest point and the centroid\n",
    "                    if distance < furthest_distance:\n",
    "                        # Assign the data point to the class\n",
    "                        re_assigned_class[i] = re_assigned_class[i]+j\n",
    "                        re_assigned = True\n",
    "                        break\n",
    "            # If the data point was not re-assigned to a class, add it to the list of unassigned points\n",
    "            if not re_assigned:\n",
    "                unassigned_points.append(i)\n",
    "        return re_assigned_class, np.array(unassigned_points)\n"
   ]
  },
  {
   "cell_type": "code",
   "execution_count": null,
   "metadata": {},
   "outputs": [],
   "source": [
    "import numpy as np\n",
    "import matplotlib.pyplot as plt\n",
    "import pandas as pd\n",
    "\n",
    "#COSINE\n",
    "\n",
    "class ClassCentroidIdentifier:\n",
    "    def __init__(self):\n",
    "        self.centroids = None\n",
    "        self.nearest_indices = None\n",
    "    \n",
    "    def set_centroids(self, data, class_var):\n",
    "        \"\"\"\n",
    "        Function to set the centroids for each class.\n",
    "        The centroid of a class is calculated as the mean of the data points belonging to that class.\n",
    "        \n",
    "        Parameters:\n",
    "        data (np.array): A 2D array of shape (n, m) where n is the number of data points and m is the number of features.\n",
    "        class_var (np.array): A 1D array of length n, representing the class label for each data point.\n",
    "        \n",
    "        Returns:\n",
    "        np.array: A 2D array of shape (k, m) where k is the number of unique classes and m is the number of features.\n",
    "        \"\"\"\n",
    "        unique_classes = np.unique(class_var)\n",
    "        self.centroids = np.zeros((len(unique_classes), data.shape[1]))\n",
    "        for i, c in enumerate(unique_classes):\n",
    "            class_data = data[class_var == c]\n",
    "            self.centroids[i, :] = np.mean(class_data, axis=0)\n",
    "        return self.centroids\n",
    "\n",
    "\n",
    "    \n",
    "    def get_furthest_points(self, data, class_var):\n",
    "        \"\"\"\n",
    "        Function to get the furthest data point in the 90th percentile for each class.\n",
    "        \n",
    "        Parameters:\n",
    "        data (np.array): A 2D array of shape (n, m) where n is the number of data points and m is the number of features.\n",
    "        class_var (np.array): A 1D array of length n, representing the class label for each data point.\n",
    "        \n",
    "        Returns:\n",
    "        np.array: A 2D array of shape (k, m) where k is the number of unique classes and m is the number of features.\n",
    "        \"\"\"\n",
    "        unique_classes = np.unique(class_var)\n",
    "        furthest_points = np.zeros((len(unique_classes), data.shape[1]))\n",
    "        for i, c in enumerate(unique_classes):\n",
    "            class_data = data[class_var == c]\n",
    "            class_data = np.expand_dims(class_data, axis=1) #X\n",
    "            centroid = np.expand_dims(self.centroids[i, :], axis=0) #Y \n",
    "            distances = abs(np.linalg.norm(class_data - centroid, axis=-1).flatten()) \n",
    "            furthest_point_index = int(np.percentile(np.argsort(distances), 90))\n",
    "            furthest_points[i, :] = class_data[furthest_point_index, :].flatten()\n",
    "        return furthest_points\n",
    "\n",
    "    def assign_nearby_points(self, data, class_var):\n",
    "        \"\"\"\n",
    "        Function to assign the nearest points to each centroid.\n",
    "        Points are considered nearest if they are closer to the centroid than the furthest point in the 90th percentile\n",
    "        for the same class.\n",
    "        \n",
    "        Parameters:\n",
    "        data (np.array): A 2D array of shape (n, m) where n is the number of data points and m is the number of features.\n",
    "        class_var (np.array): A 1D array of length n, representing the class label for each data point.\n",
    "        \n",
    "        Returns:\n",
    "        np.array: A 1D array of length n, representing the class label for each data point after re-assignment.\n",
    "        np.array: A 1D array of length n, representing the data points that were not re-assigned to any class.\n",
    "        \"\"\"\n",
    "        # Get the furthest points for each class\n",
    "        furthest_points = self.get_furthest_points(data, class_var)\n",
    "        # Initialize arrays to store the re-assigned class labels and unassigned data points\n",
    "        re_assigned_class = np.zeros_like(class_var)\n",
    "        unassigned_points = []\n",
    "        \n",
    "        # Loop through the data points\n",
    "        for i, d in enumerate(data):\n",
    "            # Initialize a flag to check if the current data point has been re-assigned to a class\n",
    "            re_assigned = False\n",
    "            # Loop through the classes\n",
    "            for j, c in enumerate(self.centroids):\n",
    "                # Check if the current data point belongs to the class\n",
    "                if class_var[i] != j:\n",
    "                    #re_assigned_class[i] = class_var[i]\n",
    "                    # Calculate the Euclidean distance between the data point and the centroid of the current class\n",
    "                    distance = abs(np.dot(d, c) / (np.linalg.norm(d) * np.linalg.norm(c))) #\n",
    "                    # Calculate the cosine distance between the furthest point and the centroid of the current class\n",
    "                    furthest_distance = abs(np.dot(furthest_points[j], c) / (np.linalg.norm(furthest_points[j]) * np.linalg.norm(c)))\n",
    "                    # If the distance from the data point to the centroid is less than the distance from the furthest point\n",
    "                    # to the centroid, assign the class label of the current class to the data point\n",
    "                    if distance < furthest_distance: \n",
    "                        re_assigned_class[i] = re_assigned_class[i]+(j)\n",
    "                        re_assigned = True\n",
    "                        break\n",
    "            # If the data point was not re-assigned to any class, add it to the list of unassigned points\n",
    "            if not re_assigned:\n",
    "                unassigned_points.append(d)\n",
    "        return re_assigned_class, np.array(unassigned_points) "
   ]
  },
  {
   "cell_type": "code",
   "execution_count": null,
   "metadata": {},
   "outputs": [],
   "source": [
    "# agregar en el codigo de robin, tres distancias."
   ]
  },
  {
   "cell_type": "code",
   "execution_count": 5,
   "metadata": {},
   "outputs": [],
   "source": [
    "import numpy as np\n",
    "import pandas as pd\n",
    "import time"
   ]
  },
  {
   "cell_type": "code",
   "execution_count": 96,
   "metadata": {},
   "outputs": [
    {
     "name": "stderr",
     "output_type": "stream",
     "text": [
      "C:\\Users\\L57759\\AppData\\Local\\Temp\\ipykernel_6040\\1523140363.py:93: DeprecationWarning:\n",
      "\n",
      "elementwise comparison failed; this will raise an error in the future.\n",
      "\n"
     ]
    },
    {
     "ename": "ValueError",
     "evalue": "shapes (0,150,4) and (4,150,0) not aligned: 4 (dim 2) != 150 (dim 1)",
     "output_type": "error",
     "traceback": [
      "\u001b[1;31m---------------------------------------------------------------------------\u001b[0m",
      "\u001b[1;31mValueError\u001b[0m                                Traceback (most recent call last)",
      "\u001b[1;32mc:\\Users\\L57759\\OneDrive - Kimberly-Clark\\Desktop\\JUAN QUIROGA\\MASTER\\TESIS\\near_point.ipynb Cell 7\u001b[0m in \u001b[0;36m<cell line: 19>\u001b[1;34m()\u001b[0m\n\u001b[0;32m     <a href='vscode-notebook-cell:/c%3A/Users/L57759/OneDrive%20-%20Kimberly-Clark/Desktop/JUAN%20QUIROGA/MASTER/TESIS/near_point.ipynb#W4sZmlsZQ%3D%3D?line=16'>17</a>\u001b[0m c \u001b[39m=\u001b[39m cci\u001b[39m.\u001b[39mget_furthest_points(data, class_var)\n\u001b[0;32m     <a href='vscode-notebook-cell:/c%3A/Users/L57759/OneDrive%20-%20Kimberly-Clark/Desktop/JUAN%20QUIROGA/MASTER/TESIS/near_point.ipynb#W4sZmlsZQ%3D%3D?line=17'>18</a>\u001b[0m \u001b[39m# Assign nearby points to each centroid\u001b[39;00m\n\u001b[1;32m---> <a href='vscode-notebook-cell:/c%3A/Users/L57759/OneDrive%20-%20Kimberly-Clark/Desktop/JUAN%20QUIROGA/MASTER/TESIS/near_point.ipynb#W4sZmlsZQ%3D%3D?line=18'>19</a>\u001b[0m re_assigned_class, unassigned_points \u001b[39m=\u001b[39m cci\u001b[39m.\u001b[39;49massign_nearby_points(data, class_var)\n\u001b[0;32m     <a href='vscode-notebook-cell:/c%3A/Users/L57759/OneDrive%20-%20Kimberly-Clark/Desktop/JUAN%20QUIROGA/MASTER/TESIS/near_point.ipynb#W4sZmlsZQ%3D%3D?line=19'>20</a>\u001b[0m c \u001b[39m=\u001b[39m cci\u001b[39m.\u001b[39mget_furthest_points(data, class_var)\n\u001b[0;32m     <a href='vscode-notebook-cell:/c%3A/Users/L57759/OneDrive%20-%20Kimberly-Clark/Desktop/JUAN%20QUIROGA/MASTER/TESIS/near_point.ipynb#W4sZmlsZQ%3D%3D?line=20'>21</a>\u001b[0m toc \u001b[39m=\u001b[39m time\u001b[39m.\u001b[39mtime()\n",
      "\u001b[1;32mc:\\Users\\L57759\\OneDrive - Kimberly-Clark\\Desktop\\JUAN QUIROGA\\MASTER\\TESIS\\near_point.ipynb Cell 7\u001b[0m in \u001b[0;36mClassCentroidIdentifier.assign_nearby_points\u001b[1;34m(self, data, class_var)\u001b[0m\n\u001b[0;32m     <a href='vscode-notebook-cell:/c%3A/Users/L57759/OneDrive%20-%20Kimberly-Clark/Desktop/JUAN%20QUIROGA/MASTER/TESIS/near_point.ipynb#W4sZmlsZQ%3D%3D?line=93'>94</a>\u001b[0m \u001b[39m# Calculate the distances between the current data point and the centroid for the current class\u001b[39;00m\n\u001b[0;32m     <a href='vscode-notebook-cell:/c%3A/Users/L57759/OneDrive%20-%20Kimberly-Clark/Desktop/JUAN%20QUIROGA/MASTER/TESIS/near_point.ipynb#W4sZmlsZQ%3D%3D?line=94'>95</a>\u001b[0m c \u001b[39m=\u001b[39m np\u001b[39m.\u001b[39mexpand_dims(c, axis\u001b[39m=\u001b[39m\u001b[39m0\u001b[39m)\n\u001b[1;32m---> <a href='vscode-notebook-cell:/c%3A/Users/L57759/OneDrive%20-%20Kimberly-Clark/Desktop/JUAN%20QUIROGA/MASTER/TESIS/near_point.ipynb#W4sZmlsZQ%3D%3D?line=95'>96</a>\u001b[0m distances \u001b[39m=\u001b[39m \u001b[39mself\u001b[39;49m\u001b[39m.\u001b[39;49mdistances_sqr_euclidean(class_data, c)\u001b[39m#np.linalg.norm(class_data - c, axis=-1).flatten()\u001b[39;00m\n\u001b[0;32m     <a href='vscode-notebook-cell:/c%3A/Users/L57759/OneDrive%20-%20Kimberly-Clark/Desktop/JUAN%20QUIROGA/MASTER/TESIS/near_point.ipynb#W4sZmlsZQ%3D%3D?line=96'>97</a>\u001b[0m furthest_distance \u001b[39m=\u001b[39m  \u001b[39mself\u001b[39m\u001b[39m.\u001b[39mdistances_sqr_euclidean(furthest_points[j],c)\n\u001b[0;32m     <a href='vscode-notebook-cell:/c%3A/Users/L57759/OneDrive%20-%20Kimberly-Clark/Desktop/JUAN%20QUIROGA/MASTER/TESIS/near_point.ipynb#W4sZmlsZQ%3D%3D?line=97'>98</a>\u001b[0m \u001b[39mif\u001b[39;00m np\u001b[39m.\u001b[39mmin(distances) \u001b[39m<\u001b[39m furthest_distance:\n\u001b[0;32m     <a href='vscode-notebook-cell:/c%3A/Users/L57759/OneDrive%20-%20Kimberly-Clark/Desktop/JUAN%20QUIROGA/MASTER/TESIS/near_point.ipynb#W4sZmlsZQ%3D%3D?line=98'>99</a>\u001b[0m     \u001b[39m# Assign the data point to the class\u001b[39;00m\n",
      "\u001b[1;32mc:\\Users\\L57759\\OneDrive - Kimberly-Clark\\Desktop\\JUAN QUIROGA\\MASTER\\TESIS\\near_point.ipynb Cell 7\u001b[0m in \u001b[0;36mClassCentroidIdentifier.distances_sqr_euclidean\u001b[1;34m(self, X1, X2)\u001b[0m\n\u001b[0;32m     <a href='vscode-notebook-cell:/c%3A/Users/L57759/OneDrive%20-%20Kimberly-Clark/Desktop/JUAN%20QUIROGA/MASTER/TESIS/near_point.ipynb#W4sZmlsZQ%3D%3D?line=30'>31</a>\u001b[0m \u001b[39mdef\u001b[39;00m \u001b[39mdistances_sqr_euclidean\u001b[39m(\u001b[39mself\u001b[39m, X1, X2):\n\u001b[0;32m     <a href='vscode-notebook-cell:/c%3A/Users/L57759/OneDrive%20-%20Kimberly-Clark/Desktop/JUAN%20QUIROGA/MASTER/TESIS/near_point.ipynb#W4sZmlsZQ%3D%3D?line=31'>32</a>\u001b[0m     \u001b[39m\"\"\"\u001b[39;00m\n\u001b[0;32m     <a href='vscode-notebook-cell:/c%3A/Users/L57759/OneDrive%20-%20Kimberly-Clark/Desktop/JUAN%20QUIROGA/MASTER/TESIS/near_point.ipynb#W4sZmlsZQ%3D%3D?line=32'>33</a>\u001b[0m \u001b[39m    Function to set the centroids for each class.\u001b[39;00m\n\u001b[0;32m     <a href='vscode-notebook-cell:/c%3A/Users/L57759/OneDrive%20-%20Kimberly-Clark/Desktop/JUAN%20QUIROGA/MASTER/TESIS/near_point.ipynb#W4sZmlsZQ%3D%3D?line=33'>34</a>\u001b[0m \u001b[39m    The centroid of a class is calculated as the mean of the data points belonging to that class.\u001b[39;00m\n\u001b[1;32m   (...)\u001b[0m\n\u001b[0;32m     <a href='vscode-notebook-cell:/c%3A/Users/L57759/OneDrive%20-%20Kimberly-Clark/Desktop/JUAN%20QUIROGA/MASTER/TESIS/near_point.ipynb#W4sZmlsZQ%3D%3D?line=40'>41</a>\u001b[0m \u001b[39m    np.array: A 1D array of length n, representing the distances between X1 and X2.\u001b[39;00m\n\u001b[0;32m     <a href='vscode-notebook-cell:/c%3A/Users/L57759/OneDrive%20-%20Kimberly-Clark/Desktop/JUAN%20QUIROGA/MASTER/TESIS/near_point.ipynb#W4sZmlsZQ%3D%3D?line=41'>42</a>\u001b[0m \u001b[39m    \"\"\"\u001b[39;00m\n\u001b[1;32m---> <a href='vscode-notebook-cell:/c%3A/Users/L57759/OneDrive%20-%20Kimberly-Clark/Desktop/JUAN%20QUIROGA/MASTER/TESIS/near_point.ipynb#W4sZmlsZQ%3D%3D?line=42'>43</a>\u001b[0m     distances \u001b[39m=\u001b[39m np\u001b[39m.\u001b[39mreshape(np\u001b[39m.\u001b[39mdiag((np\u001b[39m.\u001b[39;49mdot(X1, X1\u001b[39m.\u001b[39;49mT)) \u001b[39m-\u001b[39m (\u001b[39m2\u001b[39m \u001b[39m*\u001b[39m (np\u001b[39m.\u001b[39mdot(X1, X2\u001b[39m.\u001b[39mT))) \u001b[39m+\u001b[39m (np\u001b[39m.\u001b[39mones((X2\u001b[39m.\u001b[39mshape[\u001b[39m1\u001b[39m], \u001b[39m1\u001b[39m)) \u001b[39m*\u001b[39m (np\u001b[39m.\u001b[39mdiag(np\u001b[39m.\u001b[39mdot(X2, X2\u001b[39m.\u001b[39mT))\u001b[39m.\u001b[39mT))),(\u001b[39m1\u001b[39m,\u001b[39m-\u001b[39m\u001b[39m1\u001b[39m))\n\u001b[0;32m     <a href='vscode-notebook-cell:/c%3A/Users/L57759/OneDrive%20-%20Kimberly-Clark/Desktop/JUAN%20QUIROGA/MASTER/TESIS/near_point.ipynb#W4sZmlsZQ%3D%3D?line=43'>44</a>\u001b[0m     \u001b[39mreturn\u001b[39;00m distances\n",
      "File \u001b[1;32m<__array_function__ internals>:200\u001b[0m, in \u001b[0;36mdot\u001b[1;34m(*args, **kwargs)\u001b[0m\n",
      "\u001b[1;31mValueError\u001b[0m: shapes (0,150,4) and (4,150,0) not aligned: 4 (dim 2) != 150 (dim 1)"
     ]
    }
   ],
   "source": [
    "import numpy as np\n",
    "import pandas as pd\n",
    "\n",
    "# Load the iris dataset\n",
    "df = pd.read_csv(\"https://archive.ics.uci.edu/ml/machine-learning-databases/iris/iris.data\", header=None)\n",
    "\n",
    "# Get the data and class labels\n",
    "data = df.iloc[:, :-1].values\n",
    "class_var = df.iloc[:, -1].values\n",
    "\n",
    "tic = time.time()\n",
    "# Create an instance of the ClassCentroi class\n",
    "cci = ClassCentroidIdentifier()\n",
    "\n",
    "# Set the centroids for each class\n",
    "centroids = cci.set_centroids(data, class_var)\n",
    "c = cci.get_furthest_points(data, class_var)\n",
    "# Assign nearby points to each centroid\n",
    "re_assigned_class, unassigned_points = cci.assign_nearby_points(data, class_var)\n",
    "c = cci.get_furthest_points(data, class_var)\n",
    "toc = time.time()\n",
    "# Print the number of unassigned points\n",
    "print(f\"Number of unassigned points: {len(unassigned_points)}\")\n",
    "print(f\"Number of re_assigned_class points: {len(re_assigned_class)}\")\n",
    "print(centroids)\n",
    "print(c)\n",
    "print(\"Vectorized version:\" + str(1000*(toc-tic))+\"ms\")"
   ]
  },
  {
   "attachments": {},
   "cell_type": "markdown",
   "metadata": {},
   "source": [
    "kdc "
   ]
  },
  {
   "cell_type": "code",
   "execution_count": null,
   "metadata": {},
   "outputs": [],
   "source": [
    "df_test = pd.DataFrame(data)\n",
    "df_test['y'] = np.where((df.iloc[:, -1].values)=='Iris-setosa',0,np.where((df.iloc[:, -1].values)=='Iris-versicolor',1,2))\n",
    "df_test['near'] = re_assigned_class\n",
    "# df_test['distance'] = distance\n",
    "df_test['val'] = df_test['y']==df_test['near']\n",
    "df_test[df_test.val!=True]"
   ]
  },
  {
   "cell_type": "code",
   "execution_count": null,
   "metadata": {},
   "outputs": [],
   "source": [
    "df_test['near'].unique()"
   ]
  },
  {
   "attachments": {},
   "cell_type": "markdown",
   "metadata": {},
   "source": [
    "# 1"
   ]
  },
  {
   "cell_type": "code",
   "execution_count": null,
   "metadata": {},
   "outputs": [],
   "source": [
    "pip install umap"
   ]
  },
  {
   "cell_type": "code",
   "execution_count": 7,
   "metadata": {},
   "outputs": [],
   "source": [
    "import numpy as np\n",
    "import scipy.stats as stats\n",
    "from itertools import combinations\n",
    "\n",
    "import umap\n",
    "\n",
    "import pandas as pd\n",
    "from sklearn.datasets import make_blobs\n",
    "\n",
    "\n",
    "import matplotlib.pyplot as plt # Para crear gráficos con matplotlib\n",
    "import plotly as py\n",
    "import plotly.io as pio\n",
    "import plotly.graph_objects as go"
   ]
  },
  {
   "cell_type": "code",
   "execution_count": 46,
   "metadata": {},
   "outputs": [
    {
     "name": "stdout",
     "output_type": "stream",
     "text": [
      "   feature_1  feature_2  target\n",
      "0   3.704757   1.880559       1\n",
      "1  -0.355409   1.332593       0\n",
      "2   0.454402   4.538311       0\n",
      "3  -0.366930   4.884141       0\n",
      "4   3.745221  -0.722234       1\n"
     ]
    }
   ],
   "source": [
    "# Simulación de datos\n",
    "# ==============================================================================\n",
    "X, y = make_blobs(n_samples = 150,n_features = 2, centers = 3, cluster_std = 1.5, shuffle = True, random_state = 0)\n",
    "\n",
    "df = pd.DataFrame(X, columns=['feature_1', 'feature_2'])\n",
    "df['target'] = y\n",
    "print(df.head())\n",
    "\n"
   ]
  },
  {
   "cell_type": "code",
   "execution_count": 51,
   "metadata": {},
   "outputs": [
    {
     "data": {
      "application/vnd.plotly.v1+json": {
       "config": {
        "plotlyServerURL": "https://plot.ly"
       },
       "data": [
        {
         "marker": {
          "color": [
           1,
           0,
           0,
           0,
           1,
           0,
           0,
           1,
           2,
           0,
           1,
           2,
           2,
           0,
           0,
           2,
           2,
           1,
           2,
           1,
           0,
           1,
           0,
           0,
           2,
           1,
           1,
           0,
           2,
           1,
           2,
           2,
           2,
           2,
           0,
           1,
           1,
           1,
           0,
           0,
           2,
           2,
           0,
           1,
           1,
           1,
           2,
           0,
           2,
           0,
           1,
           0,
           0,
           1,
           1,
           2,
           0,
           1,
           2,
           0,
           2,
           2,
           2,
           2,
           0,
           2,
           0,
           1,
           0,
           0,
           0,
           1,
           1,
           0,
           1,
           0,
           0,
           2,
           2,
           0,
           1,
           1,
           0,
           0,
           1,
           1,
           1,
           2,
           2,
           1,
           1,
           0,
           1,
           0,
           1,
           0,
           2,
           2,
           1,
           1,
           1,
           1,
           2,
           1,
           1,
           0,
           2,
           0,
           0,
           0,
           2,
           0,
           1,
           2,
           0,
           2,
           0,
           0,
           2,
           2,
           0,
           1,
           0,
           0,
           1,
           1,
           2,
           1,
           2,
           2,
           2,
           2,
           1,
           2,
           2,
           2,
           0,
           2,
           1,
           2,
           0,
           0,
           1,
           1,
           2,
           2,
           2,
           2,
           1,
           1
          ],
          "colorscale": [
           [
            0,
            "rgb(0,0,255)"
           ],
           [
            0.1,
            "rgb(51,153,255)"
           ],
           [
            0.2,
            "rgb(102,204,255)"
           ],
           [
            0.3,
            "rgb(153,204,255)"
           ],
           [
            0.4,
            "rgb(204,204,255)"
           ],
           [
            0.5,
            "rgb(255,255,255)"
           ],
           [
            0.6,
            "rgb(255,204,255)"
           ],
           [
            0.7,
            "rgb(255,153,255)"
           ],
           [
            0.8,
            "rgb(255,102,204)"
           ],
           [
            0.9,
            "rgb(255,102,102)"
           ],
           [
            1,
            "rgb(255,0,0)"
           ]
          ],
          "opacity": 0.7,
          "size": 6
         },
         "mode": "markers",
         "type": "scatter",
         "x": [
          3.704756915263548,
          -0.3554085428986742,
          0.4544018545572661,
          -0.3669297632440185,
          3.7452214045926384,
          2.8217060996380763,
          3.2754389000841813,
          3.015464810579266,
          -3.310192899897949,
          3.208648369239895,
          5.300121445353913,
          1.9289710333040073,
          -2.483059551550249,
          0.2117918059190148,
          -1.469027441902572,
          -2.9435733970992812,
          -1.380316561649622,
          1.5014947645192125,
          -1.7262248796023387,
          1.9963432940916346,
          -0.032420593117431507,
          3.2129533482533787,
          1.4458716310228472,
          1.192335435287812,
          -0.7453066985427675,
          2.840182512230508,
          2.9763865769519984,
          1.6747637381421847,
          -4.572930714894147,
          0.33406454281622433,
          -1.7308285642393866,
          -2.4228781166699496,
          -0.3474120700584411,
          -2.2222979751910468,
          -0.9029229615283942,
          0.945923026845908,
          4.856605962072733,
          1.1014984038645566,
          0.02478693802504961,
          1.510819674308098,
          -0.92833449476171,
          -1.9904234667925889,
          -0.9294574191821052,
          1.524276654552652,
          2.3052777644916715,
          3.340513439286915,
          -0.48959588661662545,
          4.380902014527907,
          -0.5273293901740339,
          2.4014027048348794,
          1.4025371938504216,
          -0.6298588537193188,
          1.2886825456617856,
          1.4348390502932569,
          3.063709656951531,
          -1.292144206273842,
          0.21006237219318558,
          4.939680561153455,
          -0.49217676641972274,
          2.0699059218128006,
          -3.9013116092245284,
          1.406964449154136,
          -1.993233270769613,
          -1.5524346340140662,
          1.2424092919271243,
          1.8620594128143728,
          1.166638217601925,
          0.7634289938508241,
          -2.853214645204623,
          -1.5831352073910239,
          2.685371105361446,
          0.21711424318762607,
          3.4761454730935,
          -0.7834150291247448,
          0.5039032587561809,
          0.5089412803554361,
          2.744439435285971,
          -2.74695040202821,
          -1.097388479883486,
          0.9339967360385127,
          1.0437685304468138,
          0.8501530251721163,
          -0.5965593690541438,
          1.6420649276646335,
          2.502624782741962,
          5.629984683728791,
          3.4365557571041063,
          -2.341196227246982,
          -3.0947840624423373,
          2.993114697973659,
          2.619905818166322,
          1.044907854498664,
          -0.18161886762553037,
          0.3715046580867256,
          1.0134157318358297,
          3.8009961241308767,
          -2.9608215139610707,
          -3.2611776609547745,
          0.0814064056655961,
          1.9529051134459312,
          0.9003934097649033,
          3.479398731821519,
          -3.48669429082488,
          1.9075887347947296,
          0.3986925122902021,
          1.2086912170918696,
          -2.126077557116218,
          3.217388688282904,
          0.8214418008561583,
          -0.7714546826285398,
          -0.887515917054754,
          0.39527985243456665,
          1.3719687661568631,
          -0.741067477470597,
          0.9920201096277258,
          -4.4313237219916655,
          1.076045912121247,
          2.2729243768357534,
          -0.7862913471981228,
          -2.4213750708976676,
          -0.3299256452263277,
          3.837312209961331,
          -0.3846774680283682,
          -1.4445766927904322,
          1.3082188453944206,
          1.6532624650058074,
          -1.5633931998203088,
          0.9381352883602181,
          -3.8380995348888427,
          -1.3139742682407358,
          -1.107017114657048,
          -0.16163565108301747,
          0.11598215684770508,
          -1.70415008091476,
          -1.6927149990706143,
          0.7148228035151476,
          -0.24344934452018596,
          -2.5055168868024356,
          0.6860341832666401,
          -2.4690353526842737,
          2.117826666266985,
          1.5797825403128185,
          1.0898399171835422,
          2.9201537463552896,
          0.20159333395277468,
          -3.6629953766957026,
          -2.564978784898492,
          -2.6153000809172817,
          2.6492775904253456,
          0.5549445003485309
         ],
         "y": [
          1.8805592560218336,
          1.3325926251124995,
          4.53831078110436,
          4.884141074237283,
          -0.722233602607198,
          6.107357100625007,
          6.507825482298817,
          -1.5277704065283149,
          2.1576577298850914,
          7.147621091494265,
          2.902455584092525,
          1.327858527250802,
          2.3219745398399265,
          3.6466758750316104,
          4.997960710737051,
          2.3028077215293,
          3.792312780963063,
          0.5385948935740472,
          2.4711959422305303,
          -0.8544765866738593,
          3.764457585137578,
          2.1329198908835343,
          3.022643718495803,
          6.485197587892852,
          2.0542003066135237,
          0.6403441631045647,
          2.2809736672877268,
          1.9994217980325546,
          6.014621553372102,
          0.2409335928212858,
          4.623219305237166,
          2.560999666729112,
          2.218253616229208,
          3.640104471993316,
          5.470022861196255,
          3.2121855530480405,
          2.2567306473510147,
          1.9123136023576865,
          3.7596755784676827,
          5.363647079736312,
          -1.2410068733068522,
          0.40387655183815774,
          5.757882389685407,
          -1.1647632801890913,
          1.8502108152760965,
          -0.0788747300122834,
          3.960005976817132,
          2.1222388155502427,
          2.226802580250293,
          4.076751515001843,
          3.67155925265695,
          5.885464917845095,
          5.76874588217396,
          -0.2235185572231999,
          1.5088564142996024,
          3.2661538156335364,
          2.532839051264772,
          3.1184358470895734,
          4.870651605680621,
          4.497261693584506,
          3.8334513299939306,
          3.5030222453650124,
          3.063982510736298,
          3.4866098646657457,
          3.701115923135997,
          2.8544965338421586,
          4.9067713726154425,
          3.7627610895864874,
          5.284215220608931,
          7.229950420296074,
          2.451548596917911,
          2.1642081245402576,
          0.6651485203016856,
          7.219219105922329,
          1.9200554373603773,
          4.388035340793008,
          4.033900073729864,
          0.7182457696293518,
          3.831148013046299,
          4.946285133244016,
          0.9454094973494636,
          -0.13666100668736392,
          2.173760421679927,
          4.80429881850979,
          2.8872425049684822,
          2.3143828904235577,
          1.3757551393524685,
          3.541957330725261,
          4.734600195857174,
          -1.5054228234721845,
          -0.7514375259383548,
          4.023011552409639,
          1.5567512118347422,
          6.137454933022031,
          0.6732118494464308,
          2.2821487357347205,
          2.3989095977840433,
          4.0896794138981125,
          0.20528675271587338,
          3.4676777424119867,
          1.7065374468756627,
          1.0289905220157232,
          5.405078280760405,
          -0.09755376960522422,
          0.9759112788293984,
          4.8710311068516505,
          3.472966093104401,
          3.9960499317996887,
          4.919685080355949,
          5.65502705787967,
          3.9332443138784914,
          3.8503332015853866,
          0.9238823984755219,
          3.050515391900115,
          6.982593068307143,
          3.2010501565238654,
          4.757495174058062,
          3.190539796838727,
          2.743726352781573,
          2.8390313169288035,
          3.435512830301767,
          1.3730775778252113,
          4.381705421142598,
          3.984676907127437,
          3.7919617406634156,
          2.10134825363253,
          1.8108358975245897,
          -0.3419941480505848,
          3.0127752526336202,
          2.43888963561548,
          2.7706566768686858,
          3.3937095841200757,
          1.2982399639617113,
          1.8976149553378472,
          4.448141328906822,
          -0.18709527618717603,
          1.714363423950875,
          2.3314521985517214,
          2.5731880920817165,
          2.1963415836419413,
          4.486299852187632,
          3.2765721910379204,
          -2.4374410683987033,
          0.5852155265709446,
          4.537310149388354,
          2.177902436289832,
          5.222447842701819,
          0.8428363282405398,
          -0.7419286031578218,
          -1.4194929852284806
         ]
        }
       ],
       "layout": {
        "autosize": false,
        "height": 600,
        "margin": {
         "b": 0,
         "l": 0,
         "r": 0,
         "t": 10
        },
        "template": {
         "data": {
          "bar": [
           {
            "error_x": {
             "color": "#2a3f5f"
            },
            "error_y": {
             "color": "#2a3f5f"
            },
            "marker": {
             "line": {
              "color": "#E5ECF6",
              "width": 0.5
             },
             "pattern": {
              "fillmode": "overlay",
              "size": 10,
              "solidity": 0.2
             }
            },
            "type": "bar"
           }
          ],
          "barpolar": [
           {
            "marker": {
             "line": {
              "color": "#E5ECF6",
              "width": 0.5
             },
             "pattern": {
              "fillmode": "overlay",
              "size": 10,
              "solidity": 0.2
             }
            },
            "type": "barpolar"
           }
          ],
          "carpet": [
           {
            "aaxis": {
             "endlinecolor": "#2a3f5f",
             "gridcolor": "white",
             "linecolor": "white",
             "minorgridcolor": "white",
             "startlinecolor": "#2a3f5f"
            },
            "baxis": {
             "endlinecolor": "#2a3f5f",
             "gridcolor": "white",
             "linecolor": "white",
             "minorgridcolor": "white",
             "startlinecolor": "#2a3f5f"
            },
            "type": "carpet"
           }
          ],
          "choropleth": [
           {
            "colorbar": {
             "outlinewidth": 0,
             "ticks": ""
            },
            "type": "choropleth"
           }
          ],
          "contour": [
           {
            "colorbar": {
             "outlinewidth": 0,
             "ticks": ""
            },
            "colorscale": [
             [
              0,
              "#0d0887"
             ],
             [
              0.1111111111111111,
              "#46039f"
             ],
             [
              0.2222222222222222,
              "#7201a8"
             ],
             [
              0.3333333333333333,
              "#9c179e"
             ],
             [
              0.4444444444444444,
              "#bd3786"
             ],
             [
              0.5555555555555556,
              "#d8576b"
             ],
             [
              0.6666666666666666,
              "#ed7953"
             ],
             [
              0.7777777777777778,
              "#fb9f3a"
             ],
             [
              0.8888888888888888,
              "#fdca26"
             ],
             [
              1,
              "#f0f921"
             ]
            ],
            "type": "contour"
           }
          ],
          "contourcarpet": [
           {
            "colorbar": {
             "outlinewidth": 0,
             "ticks": ""
            },
            "type": "contourcarpet"
           }
          ],
          "heatmap": [
           {
            "colorbar": {
             "outlinewidth": 0,
             "ticks": ""
            },
            "colorscale": [
             [
              0,
              "#0d0887"
             ],
             [
              0.1111111111111111,
              "#46039f"
             ],
             [
              0.2222222222222222,
              "#7201a8"
             ],
             [
              0.3333333333333333,
              "#9c179e"
             ],
             [
              0.4444444444444444,
              "#bd3786"
             ],
             [
              0.5555555555555556,
              "#d8576b"
             ],
             [
              0.6666666666666666,
              "#ed7953"
             ],
             [
              0.7777777777777778,
              "#fb9f3a"
             ],
             [
              0.8888888888888888,
              "#fdca26"
             ],
             [
              1,
              "#f0f921"
             ]
            ],
            "type": "heatmap"
           }
          ],
          "heatmapgl": [
           {
            "colorbar": {
             "outlinewidth": 0,
             "ticks": ""
            },
            "colorscale": [
             [
              0,
              "#0d0887"
             ],
             [
              0.1111111111111111,
              "#46039f"
             ],
             [
              0.2222222222222222,
              "#7201a8"
             ],
             [
              0.3333333333333333,
              "#9c179e"
             ],
             [
              0.4444444444444444,
              "#bd3786"
             ],
             [
              0.5555555555555556,
              "#d8576b"
             ],
             [
              0.6666666666666666,
              "#ed7953"
             ],
             [
              0.7777777777777778,
              "#fb9f3a"
             ],
             [
              0.8888888888888888,
              "#fdca26"
             ],
             [
              1,
              "#f0f921"
             ]
            ],
            "type": "heatmapgl"
           }
          ],
          "histogram": [
           {
            "marker": {
             "pattern": {
              "fillmode": "overlay",
              "size": 10,
              "solidity": 0.2
             }
            },
            "type": "histogram"
           }
          ],
          "histogram2d": [
           {
            "colorbar": {
             "outlinewidth": 0,
             "ticks": ""
            },
            "colorscale": [
             [
              0,
              "#0d0887"
             ],
             [
              0.1111111111111111,
              "#46039f"
             ],
             [
              0.2222222222222222,
              "#7201a8"
             ],
             [
              0.3333333333333333,
              "#9c179e"
             ],
             [
              0.4444444444444444,
              "#bd3786"
             ],
             [
              0.5555555555555556,
              "#d8576b"
             ],
             [
              0.6666666666666666,
              "#ed7953"
             ],
             [
              0.7777777777777778,
              "#fb9f3a"
             ],
             [
              0.8888888888888888,
              "#fdca26"
             ],
             [
              1,
              "#f0f921"
             ]
            ],
            "type": "histogram2d"
           }
          ],
          "histogram2dcontour": [
           {
            "colorbar": {
             "outlinewidth": 0,
             "ticks": ""
            },
            "colorscale": [
             [
              0,
              "#0d0887"
             ],
             [
              0.1111111111111111,
              "#46039f"
             ],
             [
              0.2222222222222222,
              "#7201a8"
             ],
             [
              0.3333333333333333,
              "#9c179e"
             ],
             [
              0.4444444444444444,
              "#bd3786"
             ],
             [
              0.5555555555555556,
              "#d8576b"
             ],
             [
              0.6666666666666666,
              "#ed7953"
             ],
             [
              0.7777777777777778,
              "#fb9f3a"
             ],
             [
              0.8888888888888888,
              "#fdca26"
             ],
             [
              1,
              "#f0f921"
             ]
            ],
            "type": "histogram2dcontour"
           }
          ],
          "mesh3d": [
           {
            "colorbar": {
             "outlinewidth": 0,
             "ticks": ""
            },
            "type": "mesh3d"
           }
          ],
          "parcoords": [
           {
            "line": {
             "colorbar": {
              "outlinewidth": 0,
              "ticks": ""
             }
            },
            "type": "parcoords"
           }
          ],
          "pie": [
           {
            "automargin": true,
            "type": "pie"
           }
          ],
          "scatter": [
           {
            "fillpattern": {
             "fillmode": "overlay",
             "size": 10,
             "solidity": 0.2
            },
            "type": "scatter"
           }
          ],
          "scatter3d": [
           {
            "line": {
             "colorbar": {
              "outlinewidth": 0,
              "ticks": ""
             }
            },
            "marker": {
             "colorbar": {
              "outlinewidth": 0,
              "ticks": ""
             }
            },
            "type": "scatter3d"
           }
          ],
          "scattercarpet": [
           {
            "marker": {
             "colorbar": {
              "outlinewidth": 0,
              "ticks": ""
             }
            },
            "type": "scattercarpet"
           }
          ],
          "scattergeo": [
           {
            "marker": {
             "colorbar": {
              "outlinewidth": 0,
              "ticks": ""
             }
            },
            "type": "scattergeo"
           }
          ],
          "scattergl": [
           {
            "marker": {
             "colorbar": {
              "outlinewidth": 0,
              "ticks": ""
             }
            },
            "type": "scattergl"
           }
          ],
          "scattermapbox": [
           {
            "marker": {
             "colorbar": {
              "outlinewidth": 0,
              "ticks": ""
             }
            },
            "type": "scattermapbox"
           }
          ],
          "scatterpolar": [
           {
            "marker": {
             "colorbar": {
              "outlinewidth": 0,
              "ticks": ""
             }
            },
            "type": "scatterpolar"
           }
          ],
          "scatterpolargl": [
           {
            "marker": {
             "colorbar": {
              "outlinewidth": 0,
              "ticks": ""
             }
            },
            "type": "scatterpolargl"
           }
          ],
          "scatterternary": [
           {
            "marker": {
             "colorbar": {
              "outlinewidth": 0,
              "ticks": ""
             }
            },
            "type": "scatterternary"
           }
          ],
          "surface": [
           {
            "colorbar": {
             "outlinewidth": 0,
             "ticks": ""
            },
            "colorscale": [
             [
              0,
              "#0d0887"
             ],
             [
              0.1111111111111111,
              "#46039f"
             ],
             [
              0.2222222222222222,
              "#7201a8"
             ],
             [
              0.3333333333333333,
              "#9c179e"
             ],
             [
              0.4444444444444444,
              "#bd3786"
             ],
             [
              0.5555555555555556,
              "#d8576b"
             ],
             [
              0.6666666666666666,
              "#ed7953"
             ],
             [
              0.7777777777777778,
              "#fb9f3a"
             ],
             [
              0.8888888888888888,
              "#fdca26"
             ],
             [
              1,
              "#f0f921"
             ]
            ],
            "type": "surface"
           }
          ],
          "table": [
           {
            "cells": {
             "fill": {
              "color": "#EBF0F8"
             },
             "line": {
              "color": "white"
             }
            },
            "header": {
             "fill": {
              "color": "#C8D4E3"
             },
             "line": {
              "color": "white"
             }
            },
            "type": "table"
           }
          ]
         },
         "layout": {
          "annotationdefaults": {
           "arrowcolor": "#2a3f5f",
           "arrowhead": 0,
           "arrowwidth": 1
          },
          "autotypenumbers": "strict",
          "coloraxis": {
           "colorbar": {
            "outlinewidth": 0,
            "ticks": ""
           }
          },
          "colorscale": {
           "diverging": [
            [
             0,
             "#8e0152"
            ],
            [
             0.1,
             "#c51b7d"
            ],
            [
             0.2,
             "#de77ae"
            ],
            [
             0.3,
             "#f1b6da"
            ],
            [
             0.4,
             "#fde0ef"
            ],
            [
             0.5,
             "#f7f7f7"
            ],
            [
             0.6,
             "#e6f5d0"
            ],
            [
             0.7,
             "#b8e186"
            ],
            [
             0.8,
             "#7fbc41"
            ],
            [
             0.9,
             "#4d9221"
            ],
            [
             1,
             "#276419"
            ]
           ],
           "sequential": [
            [
             0,
             "#0d0887"
            ],
            [
             0.1111111111111111,
             "#46039f"
            ],
            [
             0.2222222222222222,
             "#7201a8"
            ],
            [
             0.3333333333333333,
             "#9c179e"
            ],
            [
             0.4444444444444444,
             "#bd3786"
            ],
            [
             0.5555555555555556,
             "#d8576b"
            ],
            [
             0.6666666666666666,
             "#ed7953"
            ],
            [
             0.7777777777777778,
             "#fb9f3a"
            ],
            [
             0.8888888888888888,
             "#fdca26"
            ],
            [
             1,
             "#f0f921"
            ]
           ],
           "sequentialminus": [
            [
             0,
             "#0d0887"
            ],
            [
             0.1111111111111111,
             "#46039f"
            ],
            [
             0.2222222222222222,
             "#7201a8"
            ],
            [
             0.3333333333333333,
             "#9c179e"
            ],
            [
             0.4444444444444444,
             "#bd3786"
            ],
            [
             0.5555555555555556,
             "#d8576b"
            ],
            [
             0.6666666666666666,
             "#ed7953"
            ],
            [
             0.7777777777777778,
             "#fb9f3a"
            ],
            [
             0.8888888888888888,
             "#fdca26"
            ],
            [
             1,
             "#f0f921"
            ]
           ]
          },
          "colorway": [
           "#636efa",
           "#EF553B",
           "#00cc96",
           "#ab63fa",
           "#FFA15A",
           "#19d3f3",
           "#FF6692",
           "#B6E880",
           "#FF97FF",
           "#FECB52"
          ],
          "font": {
           "color": "#2a3f5f"
          },
          "geo": {
           "bgcolor": "white",
           "lakecolor": "white",
           "landcolor": "#E5ECF6",
           "showlakes": true,
           "showland": true,
           "subunitcolor": "white"
          },
          "hoverlabel": {
           "align": "left"
          },
          "hovermode": "closest",
          "mapbox": {
           "style": "light"
          },
          "paper_bgcolor": "white",
          "plot_bgcolor": "#E5ECF6",
          "polar": {
           "angularaxis": {
            "gridcolor": "white",
            "linecolor": "white",
            "ticks": ""
           },
           "bgcolor": "#E5ECF6",
           "radialaxis": {
            "gridcolor": "white",
            "linecolor": "white",
            "ticks": ""
           }
          },
          "scene": {
           "xaxis": {
            "backgroundcolor": "#E5ECF6",
            "gridcolor": "white",
            "gridwidth": 2,
            "linecolor": "white",
            "showbackground": true,
            "ticks": "",
            "zerolinecolor": "white"
           },
           "yaxis": {
            "backgroundcolor": "#E5ECF6",
            "gridcolor": "white",
            "gridwidth": 2,
            "linecolor": "white",
            "showbackground": true,
            "ticks": "",
            "zerolinecolor": "white"
           },
           "zaxis": {
            "backgroundcolor": "#E5ECF6",
            "gridcolor": "white",
            "gridwidth": 2,
            "linecolor": "white",
            "showbackground": true,
            "ticks": "",
            "zerolinecolor": "white"
           }
          },
          "shapedefaults": {
           "line": {
            "color": "#2a3f5f"
           }
          },
          "ternary": {
           "aaxis": {
            "gridcolor": "white",
            "linecolor": "white",
            "ticks": ""
           },
           "baxis": {
            "gridcolor": "white",
            "linecolor": "white",
            "ticks": ""
           },
           "bgcolor": "#E5ECF6",
           "caxis": {
            "gridcolor": "white",
            "linecolor": "white",
            "ticks": ""
           }
          },
          "title": {
           "x": 0.05
          },
          "xaxis": {
           "automargin": true,
           "gridcolor": "white",
           "linecolor": "white",
           "ticks": "",
           "title": {
            "standoff": 15
           },
           "zerolinecolor": "white",
           "zerolinewidth": 2
          },
          "yaxis": {
           "automargin": true,
           "gridcolor": "white",
           "linecolor": "white",
           "ticks": "",
           "title": {
            "standoff": 15
           },
           "zerolinecolor": "white",
           "zerolinewidth": 2
          }
         }
        },
        "width": 600
       }
      }
     },
     "metadata": {},
     "output_type": "display_data"
    }
   ],
   "source": [
    "fig = go.Figure(data=[go.Scatter(x=df['feature_1'],  # specify the data for the x-axis                                 \n",
    "                        y=df['feature_2'],  # specify the data for the y-axis                                 \n",
    "                        mode='markers',  # set the mode to 'markers' to display individual markers for each data point                                 \n",
    "                        marker=dict(size=6,  # specify the size of the markers                                             \n",
    "                        color=df['target'],  # specify the data for the marker color                                             \n",
    "                        colorscale='picnic',  # choose a colorscale for the marker color                                             \n",
    "                        opacity=0.7)  # specify the opacity of the markers                                \n",
    "                        )])\n",
    "\n",
    "\n",
    "fig.update_layout(autosize=False,  # set autosize to False to manually set the dimensions                  \n",
    "width=600,  # set the width of the plot                  \n",
    "height=600,  # set the height of the plot                  \n",
    "margin=dict(l=0, r=0, b=0, t=10))  # set the margins of the plot# Show the figure\n",
    "fig.show()"
   ]
  },
  {
   "cell_type": "code",
   "execution_count": 52,
   "metadata": {},
   "outputs": [
    {
     "name": "stdout",
     "output_type": "stream",
     "text": [
      "[0 1 2]\n",
      "[[ 0.96300842  4.49178077]\n",
      " [ 1.7804256   1.16361524]\n",
      " [-1.72852672  2.93363589]]\n"
     ]
    }
   ],
   "source": [
    "unique_classes = np.unique(y)\n",
    "print(unique_classes)\n",
    "centroids = np.zeros((len(unique_classes), X.shape[1]))\n",
    "for i, c in enumerate(unique_classes):\n",
    "    class_data = X[y == c]\n",
    "    centroids[i, :] = np.median(class_data, axis=0)\n",
    "print(centroids)\n"
   ]
  },
  {
   "cell_type": "code",
   "execution_count": 53,
   "metadata": {},
   "outputs": [
    {
     "name": "stdout",
     "output_type": "stream",
     "text": [
      "0\n"
     ]
    },
    {
     "data": {
      "text/plain": [
       "array([3.70475692, 1.88055926])"
      ]
     },
     "execution_count": 53,
     "metadata": {},
     "output_type": "execute_result"
    }
   ],
   "source": [
    "class_data = X[y == 1]\n",
    "centroid  = np.expand_dims(centroids[1], axis=0)\n",
    "distance = np.diag((np.dot(centroid, centroid.T)) - 2 * (np.dot(centroid, class_data.T)) + (np.ones((class_data.shape[1], 1)) * (np.diag(np.dot(class_data, class_data.T)).T)))\n",
    "# print(distance)\n",
    "furthest_point_index = int(np.percentile(np.argsort(distance), 90))\n",
    "print(furthest_point_index)\n",
    "furthest_points= class_data[furthest_point_index, :].flatten()\n",
    "furthest_points #clase 0"
   ]
  },
  {
   "cell_type": "code",
   "execution_count": 54,
   "metadata": {},
   "outputs": [
    {
     "data": {
      "text/plain": [
       "array([[3.70475692, 1.88055926]])"
      ]
     },
     "execution_count": 54,
     "metadata": {},
     "output_type": "execute_result"
    }
   ],
   "source": [
    "furthest_points  = np.expand_dims(furthest_points, axis=0)\n",
    "furthest_points"
   ]
  },
  {
   "cell_type": "code",
   "execution_count": 55,
   "metadata": {},
   "outputs": [
    {
     "data": {
      "text/plain": [
       "array([0, 0, 0, 0, 0, 0, 0, 1, 0, 0, 0, 0, 0, 0, 0, 1, 0, 0, 1, 0, 0, 0,\n",
       "       0, 0, 0, 0, 0, 0, 0, 0, 0, 0, 0, 0, 0, 0, 0, 0, 0, 0, 0, 0, 0, 0,\n",
       "       0, 1, 0, 0, 0, 1, 0, 0, 0, 0, 0, 0, 0, 0, 0, 0, 0, 0, 0, 0, 0, 0,\n",
       "       0, 0, 0, 0, 0, 0, 0, 0, 0, 0, 0, 0, 0, 0, 0, 0, 0, 0, 0, 0, 0, 0,\n",
       "       0, 0, 1, 0, 0, 0, 0, 0, 0, 0, 0, 0])"
      ]
     },
     "execution_count": 55,
     "metadata": {},
     "output_type": "execute_result"
    }
   ],
   "source": [
    "re_assigned_class = np.zeros_like(y)\n",
    "unassigned_points = []\n",
    "no_class_data = X[y != 1]\n",
    "distance_no = np.diag((np.dot(centroid, centroid.T)) - 2 * (np.dot(centroid, no_class_data.T)) + (np.ones((no_class_data.shape[0], 1)) * (np.diag(np.dot(no_class_data, no_class_data.T)).T)))\n",
    "distance_further = np.diag((np.dot(centroid, centroid.T)) - 2 * (np.dot(centroid, furthest_points.T)) + (np.ones((furthest_points.shape[0], 1)) * (np.diag(np.dot(furthest_points, furthest_points.T)).T)))\n",
    "re_assigned_class = np.where(distance_no<distance_further,1,0)\n",
    "re_assigned_class"
   ]
  },
  {
   "cell_type": "code",
   "execution_count": null,
   "metadata": {},
   "outputs": [],
   "source": [
    "distance_further"
   ]
  },
  {
   "cell_type": "code",
   "execution_count": null,
   "metadata": {},
   "outputs": [],
   "source": [
    "distance_no"
   ]
  }
 ],
 "metadata": {
  "kernelspec": {
   "display_name": "Python 3",
   "language": "python",
   "name": "python3"
  },
  "language_info": {
   "codemirror_mode": {
    "name": "ipython",
    "version": 3
   },
   "file_extension": ".py",
   "mimetype": "text/x-python",
   "name": "python",
   "nbconvert_exporter": "python",
   "pygments_lexer": "ipython3",
   "version": "3.10.5"
  },
  "orig_nbformat": 4,
  "vscode": {
   "interpreter": {
    "hash": "41ecfe6ac93790b41de7f38920a464fb3177ab25e69a8f94909ae42589cfabde"
   }
  }
 },
 "nbformat": 4,
 "nbformat_minor": 2
}
