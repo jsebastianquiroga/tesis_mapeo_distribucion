{
 "cells": [
  {
   "cell_type": "code",
   "execution_count": 25,
   "id": "f08e7208-530e-43b4-b8ee-0f97f915b9a0",
   "metadata": {},
   "outputs": [],
   "source": [
    "#############################\n",
    "import numpy as np\n",
    "\n",
    "def set_centroids(data, class_var):\n",
    "    \"\"\"\n",
    "    Function to set the centroids for each class\n",
    "    \"\"\"\n",
    "    unique_classes = np.unique(class_var)\n",
    "    centroids = np.zeros((len(unique_classes), data.shape[1]))\n",
    "    for i, c in enumerate(unique_classes):\n",
    "        class_data = data[class_var == c]\n",
    "        centroids[i, :] = np.mean(class_data, axis=0)\n",
    "    return centroids\n",
    "\n",
    "def evaluate_distance(data, centroids):\n",
    "    \"\"\"\n",
    "    Function to evaluate the Euclidean distance between each data point and centroids\n",
    "    \"\"\"\n",
    "    distances = np.zeros((len(data), centroids.shape[0]))\n",
    "    for i in range(centroids.shape[0]):\n",
    "        diff = data - centroids[i]\n",
    "        distances[:, i] = np.sqrt(np.sum(diff**2, axis=1))\n",
    "    return distances\n",
    "\n",
    "####\n",
    "def compute_sse(self, X, labels, centroids):\n",
    "    distance = np.zeros(X.shape[0])\n",
    "    for k in range(self.n_clusters):\n",
    "        distance[labels == k] = norm(X[labels == k] - centroids[k], axis=1)\n",
    "    return np.sum(np.square(distance))\n",
    "\n",
    "def identify_25_percent(distances):\n",
    "    \"\"\"\n",
    "    Function to identify the 25% nearest data points for each class\n",
    "    \"\"\"\n",
    "    nearest_indices = np.argsort(distances, axis=0)[:int(0.25*len(distances))]\n",
    "    return nearest_indices\n",
    "\n"
   ]
  },
  {
   "cell_type": "code",
   "execution_count": 11,
   "id": "d5cbd6c7-f2e4-410a-b8da-c377ad720b75",
   "metadata": {},
   "outputs": [
    {
     "name": "stdout",
     "output_type": "stream",
     "text": [
      "[[3. 4.]\n",
      " [4. 5.]]\n"
     ]
    }
   ],
   "source": [
    "# Input data\n",
    "data = np.array([[1, 2], [2, 3], [3, 4], [4, 5], [5, 6], [6, 7]])\n",
    "\n",
    "# Input class variable\n",
    "class_var = np.array([0, 0, 1, 1, 1, 0])\n",
    "\n",
    "# Set the centroids for each class\n",
    "centroids = set_centroids(data, class_var)\n",
    "print(centroids)\n",
    "# Evaluate the distances between each data point and centroids\n",
    "distances = evaluate_distance(data, centroids)\n",
    "print(distances)\n",
    "# Identify the 25% nearest data points for each class\n",
    "nearest_indices = identify_25_percent(distances)\n",
    "print(nearest_indices)"
   ]
  },
  {
   "cell_type": "code",
   "execution_count": 8,
   "id": "6e51ad34-fe36-41f7-99df-bb7ab674fb3e",
   "metadata": {},
   "outputs": [
    {
     "data": {
      "text/html": [
       "<div>\n",
       "<style scoped>\n",
       "    .dataframe tbody tr th:only-of-type {\n",
       "        vertical-align: middle;\n",
       "    }\n",
       "\n",
       "    .dataframe tbody tr th {\n",
       "        vertical-align: top;\n",
       "    }\n",
       "\n",
       "    .dataframe thead th {\n",
       "        text-align: right;\n",
       "    }\n",
       "</style>\n",
       "<table border=\"1\" class=\"dataframe\">\n",
       "  <thead>\n",
       "    <tr style=\"text-align: right;\">\n",
       "      <th></th>\n",
       "      <th>sepal length (cm)</th>\n",
       "      <th>sepal width (cm)</th>\n",
       "      <th>petal length (cm)</th>\n",
       "      <th>petal width (cm)</th>\n",
       "      <th>target</th>\n",
       "    </tr>\n",
       "  </thead>\n",
       "  <tbody>\n",
       "    <tr>\n",
       "      <th>0</th>\n",
       "      <td>5.1</td>\n",
       "      <td>3.5</td>\n",
       "      <td>1.4</td>\n",
       "      <td>0.2</td>\n",
       "      <td>0.0</td>\n",
       "    </tr>\n",
       "    <tr>\n",
       "      <th>1</th>\n",
       "      <td>4.9</td>\n",
       "      <td>3.0</td>\n",
       "      <td>1.4</td>\n",
       "      <td>0.2</td>\n",
       "      <td>0.0</td>\n",
       "    </tr>\n",
       "    <tr>\n",
       "      <th>2</th>\n",
       "      <td>4.7</td>\n",
       "      <td>3.2</td>\n",
       "      <td>1.3</td>\n",
       "      <td>0.2</td>\n",
       "      <td>0.0</td>\n",
       "    </tr>\n",
       "    <tr>\n",
       "      <th>3</th>\n",
       "      <td>4.6</td>\n",
       "      <td>3.1</td>\n",
       "      <td>1.5</td>\n",
       "      <td>0.2</td>\n",
       "      <td>0.0</td>\n",
       "    </tr>\n",
       "    <tr>\n",
       "      <th>4</th>\n",
       "      <td>5.0</td>\n",
       "      <td>3.6</td>\n",
       "      <td>1.4</td>\n",
       "      <td>0.2</td>\n",
       "      <td>0.0</td>\n",
       "    </tr>\n",
       "  </tbody>\n",
       "</table>\n",
       "</div>"
      ],
      "text/plain": [
       "   sepal length (cm)  sepal width (cm)  petal length (cm)  petal width (cm)  \\\n",
       "0                5.1               3.5                1.4               0.2   \n",
       "1                4.9               3.0                1.4               0.2   \n",
       "2                4.7               3.2                1.3               0.2   \n",
       "3                4.6               3.1                1.5               0.2   \n",
       "4                5.0               3.6                1.4               0.2   \n",
       "\n",
       "   target  \n",
       "0     0.0  \n",
       "1     0.0  \n",
       "2     0.0  \n",
       "3     0.0  \n",
       "4     0.0  "
      ]
     },
     "execution_count": 8,
     "metadata": {},
     "output_type": "execute_result"
    }
   ],
   "source": [
    "import pandas as pd\n",
    "from sklearn.datasets import fetch_california_housing\n",
    "from sklearn.datasets import load_iris\n",
    "iris = load_iris()\n",
    "df_iris = pd.DataFrame(data= np.c_[iris['data'], iris['target']],\n",
    "                     columns= iris['feature_names'] + ['target'])\n",
    "df_iris.head(5)"
   ]
  },
  {
   "cell_type": "code",
   "execution_count": 39,
   "id": "368c2483-5839-4bf0-b3fc-cef008fd6c94",
   "metadata": {},
   "outputs": [
    {
     "name": "stdout",
     "output_type": "stream",
     "text": [
      "[[5.006 3.428 1.462 0.246 0.   ]\n",
      " [5.936 2.77  4.26  1.326 1.   ]\n",
      " [6.588 2.974 5.552 2.026 2.   ]]\n",
      "////////\n",
      "[[  7  96 112]\n",
      " [ 39  99 116]\n",
      " [  0  61 128]\n",
      " [ 17  97 132]\n",
      " [ 49  71 104]\n",
      " [ 40  78 137]\n",
      " [  4  55 147]\n",
      " [ 26  94 103]\n",
      " [ 28  95 139]\n",
      " [ 27  92 124]\n",
      " [ 11  67 140]\n",
      " [ 37  82 111]\n",
      " [ 21  88 145]\n",
      " [ 34  91 115]\n",
      " [ 35  74 120]\n",
      " [  9  73 110]\n",
      " [ 23  63 143]\n",
      " [ 43  66 108]\n",
      " [ 19  90 144]\n",
      " [ 48  89 102]\n",
      " [ 29  69 141]\n",
      " [ 46  87 136]\n",
      " [ 30  84 148]\n",
      " [  6  54 133]\n",
      " [  2  53 100]\n",
      " [ 31  68 129]\n",
      " [  1  51 146]\n",
      " [ 25  62 123]\n",
      " [ 20  75 125]\n",
      " [ 47  85 127]\n",
      " [ 45  64 149]\n",
      " [ 10  58 134]\n",
      " [ 24  80 126]\n",
      " [ 12  72 142]\n",
      " [  3  59 101]\n",
      " [ 36  56 138]\n",
      " [ 44  70 114]]\n"
     ]
    }
   ],
   "source": [
    "# Set the centroids for each class\n",
    "centroids = set_centroids(df_iris, df_iris.target)\n",
    "print(centroids)\n",
    "print('////////')\n",
    "# Evaluate the distances between each data point and centroids\n",
    "distances = evaluate_distance(df_iris, centroids)\n",
    "#print(distances)\n",
    "# Identify the 25% nearest data points for each class\n",
    "nearest_indices = identify_25_percent(distances)\n",
    "print(nearest_indices)"
   ]
  },
  {
   "cell_type": "code",
   "execution_count": 14,
   "id": "ee8ea6d2-71da-48e2-a161-74f0112cd190",
   "metadata": {},
   "outputs": [],
   "source": [
    "def set_centroids(data, class_var):\n",
    "    \"\"\"\n",
    "    Function to set the centroids for each class\n",
    "    \"\"\"\n",
    "    unique_classes = np.unique(class_var)\n",
    "    centroids = np.zeros((len(unique_classes), data.shape[1]))\n",
    "    for i, c in enumerate(unique_classes):\n",
    "        class_data = data[class_var == c, :]\n",
    "        centroids[i, :] = np.mean(class_data, axis=0)\n",
    "    return centroids"
   ]
  },
  {
   "cell_type": "code",
   "execution_count": 22,
   "id": "5fcb00ce-7022-4b4b-b18a-e9e2217e3e73",
   "metadata": {},
   "outputs": [
    {
     "ename": "TypeError",
     "evalue": "'(0       True\n1       True\n2       True\n3       True\n4       True\n       ...  \n145    False\n146    False\n147    False\n148    False\n149    False\nName: target, Length: 150, dtype: bool, slice(None, None, None))' is an invalid key",
     "output_type": "error",
     "traceback": [
      "\u001b[0;31m---------------------------------------------------------------------------\u001b[0m",
      "\u001b[0;31mTypeError\u001b[0m                                 Traceback (most recent call last)",
      "\u001b[0;32m/var/folders/r7/7m2nc6kj3_d9d6c29k5_7k6c0000gn/T/ipykernel_28072/1992074642.py\u001b[0m in \u001b[0;36m<module>\u001b[0;34m\u001b[0m\n\u001b[0;32m----> 1\u001b[0;31m \u001b[0mdf_iris\u001b[0m\u001b[0;34m[\u001b[0m\u001b[0mdf_iris\u001b[0m\u001b[0;34m.\u001b[0m\u001b[0mtarget\u001b[0m \u001b[0;34m==\u001b[0m \u001b[0mc\u001b[0m\u001b[0;34m,\u001b[0m \u001b[0;34m:\u001b[0m\u001b[0;34m]\u001b[0m\u001b[0;34m\u001b[0m\u001b[0;34m\u001b[0m\u001b[0m\n\u001b[0m",
      "\u001b[0;32m~/opt/anaconda3/lib/python3.9/site-packages/pandas/core/frame.py\u001b[0m in \u001b[0;36m__getitem__\u001b[0;34m(self, key)\u001b[0m\n\u001b[1;32m   3456\u001b[0m             \u001b[0;32mif\u001b[0m \u001b[0mself\u001b[0m\u001b[0;34m.\u001b[0m\u001b[0mcolumns\u001b[0m\u001b[0;34m.\u001b[0m\u001b[0mnlevels\u001b[0m \u001b[0;34m>\u001b[0m \u001b[0;36m1\u001b[0m\u001b[0;34m:\u001b[0m\u001b[0;34m\u001b[0m\u001b[0;34m\u001b[0m\u001b[0m\n\u001b[1;32m   3457\u001b[0m                 \u001b[0;32mreturn\u001b[0m \u001b[0mself\u001b[0m\u001b[0;34m.\u001b[0m\u001b[0m_getitem_multilevel\u001b[0m\u001b[0;34m(\u001b[0m\u001b[0mkey\u001b[0m\u001b[0;34m)\u001b[0m\u001b[0;34m\u001b[0m\u001b[0;34m\u001b[0m\u001b[0m\n\u001b[0;32m-> 3458\u001b[0;31m             \u001b[0mindexer\u001b[0m \u001b[0;34m=\u001b[0m \u001b[0mself\u001b[0m\u001b[0;34m.\u001b[0m\u001b[0mcolumns\u001b[0m\u001b[0;34m.\u001b[0m\u001b[0mget_loc\u001b[0m\u001b[0;34m(\u001b[0m\u001b[0mkey\u001b[0m\u001b[0;34m)\u001b[0m\u001b[0;34m\u001b[0m\u001b[0;34m\u001b[0m\u001b[0m\n\u001b[0m\u001b[1;32m   3459\u001b[0m             \u001b[0;32mif\u001b[0m \u001b[0mis_integer\u001b[0m\u001b[0;34m(\u001b[0m\u001b[0mindexer\u001b[0m\u001b[0;34m)\u001b[0m\u001b[0;34m:\u001b[0m\u001b[0;34m\u001b[0m\u001b[0;34m\u001b[0m\u001b[0m\n\u001b[1;32m   3460\u001b[0m                 \u001b[0mindexer\u001b[0m \u001b[0;34m=\u001b[0m \u001b[0;34m[\u001b[0m\u001b[0mindexer\u001b[0m\u001b[0;34m]\u001b[0m\u001b[0;34m\u001b[0m\u001b[0;34m\u001b[0m\u001b[0m\n",
      "\u001b[0;32m~/opt/anaconda3/lib/python3.9/site-packages/pandas/core/indexes/base.py\u001b[0m in \u001b[0;36mget_loc\u001b[0;34m(self, key, method, tolerance)\u001b[0m\n\u001b[1;32m   3359\u001b[0m             \u001b[0mcasted_key\u001b[0m \u001b[0;34m=\u001b[0m \u001b[0mself\u001b[0m\u001b[0;34m.\u001b[0m\u001b[0m_maybe_cast_indexer\u001b[0m\u001b[0;34m(\u001b[0m\u001b[0mkey\u001b[0m\u001b[0;34m)\u001b[0m\u001b[0;34m\u001b[0m\u001b[0;34m\u001b[0m\u001b[0m\n\u001b[1;32m   3360\u001b[0m             \u001b[0;32mtry\u001b[0m\u001b[0;34m:\u001b[0m\u001b[0;34m\u001b[0m\u001b[0;34m\u001b[0m\u001b[0m\n\u001b[0;32m-> 3361\u001b[0;31m                 \u001b[0;32mreturn\u001b[0m \u001b[0mself\u001b[0m\u001b[0;34m.\u001b[0m\u001b[0m_engine\u001b[0m\u001b[0;34m.\u001b[0m\u001b[0mget_loc\u001b[0m\u001b[0;34m(\u001b[0m\u001b[0mcasted_key\u001b[0m\u001b[0;34m)\u001b[0m\u001b[0;34m\u001b[0m\u001b[0;34m\u001b[0m\u001b[0m\n\u001b[0m\u001b[1;32m   3362\u001b[0m             \u001b[0;32mexcept\u001b[0m \u001b[0mKeyError\u001b[0m \u001b[0;32mas\u001b[0m \u001b[0merr\u001b[0m\u001b[0;34m:\u001b[0m\u001b[0;34m\u001b[0m\u001b[0;34m\u001b[0m\u001b[0m\n\u001b[1;32m   3363\u001b[0m                 \u001b[0;32mraise\u001b[0m \u001b[0mKeyError\u001b[0m\u001b[0;34m(\u001b[0m\u001b[0mkey\u001b[0m\u001b[0;34m)\u001b[0m \u001b[0;32mfrom\u001b[0m \u001b[0merr\u001b[0m\u001b[0;34m\u001b[0m\u001b[0;34m\u001b[0m\u001b[0m\n",
      "\u001b[0;32m~/opt/anaconda3/lib/python3.9/site-packages/pandas/_libs/index.pyx\u001b[0m in \u001b[0;36mpandas._libs.index.IndexEngine.get_loc\u001b[0;34m()\u001b[0m\n",
      "\u001b[0;32m~/opt/anaconda3/lib/python3.9/site-packages/pandas/_libs/index.pyx\u001b[0m in \u001b[0;36mpandas._libs.index.IndexEngine.get_loc\u001b[0;34m()\u001b[0m\n",
      "\u001b[0;31mTypeError\u001b[0m: '(0       True\n1       True\n2       True\n3       True\n4       True\n       ...  \n145    False\n146    False\n147    False\n148    False\n149    False\nName: target, Length: 150, dtype: bool, slice(None, None, None))' is an invalid key"
     ]
    }
   ],
   "source": [
    "df_iris[df_iris.target == c, :]"
   ]
  },
  {
   "cell_type": "code",
   "execution_count": 24,
   "id": "36d122cd-3d0d-48e7-a10f-f2b4168b3cf7",
   "metadata": {},
   "outputs": [
    {
     "data": {
      "text/plain": [
       "array([[5.006, 3.428, 1.462, 0.246, 0.   ],\n",
       "       [5.936, 2.77 , 4.26 , 1.326, 1.   ],\n",
       "       [6.588, 2.974, 5.552, 2.026, 2.   ]])"
      ]
     },
     "execution_count": 24,
     "metadata": {},
     "output_type": "execute_result"
    }
   ],
   "source": [
    "unique_classes = np.unique(y)\n",
    "centroids = np.zeros((len(unique_classes), df_iris.shape[1]))\n",
    "centroids\n",
    "for i, c in enumerate(unique_classes):\n",
    "    class_data = df_iris[df_iris.target == c]\n",
    "    centroids[i, :] = np.mean(class_data, axis=0)\n",
    "centroids"
   ]
  },
  {
   "cell_type": "code",
   "execution_count": null,
   "id": "0fd39efa-b203-465b-ad79-c037862166c6",
   "metadata": {},
   "outputs": [],
   "source": [
    "    unique_classes = np.unique(y)\n",
    "    centroids = np.zeros((len(unique_classes), data.shape[1]))\n",
    "    for i, c in enumerate(unique_classes):\n",
    "        class_data = df_iris[y == c, :]\n",
    "        centroids[i, :] = np.mean(class_data, axis=0)\n",
    "    return centroids"
   ]
  }
 ],
 "metadata": {
  "kernelspec": {
   "display_name": "Python 3 (ipykernel)",
   "language": "python",
   "name": "python3"
  },
  "language_info": {
   "codemirror_mode": {
    "name": "ipython",
    "version": 3
   },
   "file_extension": ".py",
   "mimetype": "text/x-python",
   "name": "python",
   "nbconvert_exporter": "python",
   "pygments_lexer": "ipython3",
   "version": "3.9.7"
  }
 },
 "nbformat": 4,
 "nbformat_minor": 5
}
