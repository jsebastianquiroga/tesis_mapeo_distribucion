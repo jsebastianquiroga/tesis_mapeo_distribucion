{
 "cells": [
  {
   "cell_type": "code",
   "execution_count": null,
   "metadata": {
    "colab": {
     "base_uri": "https://localhost:8080/"
    },
    "id": "Q4_hON_zi4US",
    "outputId": "86aece09-7d9e-4611-cca0-f7b31298a282"
   },
   "outputs": [],
   "source": [
    "!git clone https://github.com/jsebastianquiroga/tesis_mapeo_distribucion.git"
   ]
  },
  {
   "cell_type": "code",
   "execution_count": 1,
   "metadata": {
    "id": "bf-0FXiikWl-",
    "tags": []
   },
   "outputs": [],
   "source": [
    "import os"
   ]
  },
  {
   "cell_type": "code",
   "execution_count": 2,
   "metadata": {
    "colab": {
     "base_uri": "https://localhost:8080/",
     "height": 478
    },
    "id": "rSVdw_2Bi2gq",
    "outputId": "e67b2a07-4fb7-4be9-ca0e-27ade6fde266",
    "tags": []
   },
   "outputs": [
    {
     "name": "stderr",
     "output_type": "stream",
     "text": [
      "2023-04-25 04:54:00.794345: I tensorflow/core/platform/cpu_feature_guard.cc:193] This TensorFlow binary is optimized with oneAPI Deep Neural Network Library (oneDNN) to use the following CPU instructions in performance-critical operations:  SSE4.1 SSE4.2 AVX AVX2 FMA\n",
      "To enable them in other operations, rebuild TensorFlow with the appropriate compiler flags.\n"
     ]
    }
   ],
   "source": [
    "%run frontera_v3.ipynb"
   ]
  },
  {
   "cell_type": "code",
   "execution_count": 3,
   "metadata": {
    "id": "nwJl_6v2i2gq",
    "tags": []
   },
   "outputs": [],
   "source": [
    "\n",
    "import scipy.stats as stats\n",
    "\n",
    "import pandas as pd\n",
    "from sklearn.datasets import make_blobs\n",
    "\n",
    "import plotly.graph_objects as go\n",
    "\n",
    "import matplotlib.pyplot as plt # Para crear gráficos con matplotlib\n",
    "import plotly as py\n",
    "import plotly.io as pio\n",
    "pio.renderers.default = 'iframe'"
   ]
  },
  {
   "cell_type": "code",
   "execution_count": 30,
   "metadata": {
    "id": "7Ebxfi4ni2gr",
    "tags": []
   },
   "outputs": [],
   "source": [
    "# Simulación de datos\n",
    "# ==============================================================================\n",
    "X, y = make_blobs(\n",
    "        n_samples    = 600, \n",
    "        n_features   = 2, \n",
    "        centers      = 3, \n",
    "        cluster_std  = 1, \n",
    "        shuffle      = True, \n",
    "        random_state = 0\n",
    "       )"
   ]
  },
  {
   "cell_type": "code",
   "execution_count": 31,
   "metadata": {
    "tags": []
   },
   "outputs": [
    {
     "data": {
      "text/plain": [
       "(600, 2)"
      ]
     },
     "execution_count": 31,
     "metadata": {},
     "output_type": "execute_result"
    }
   ],
   "source": [
    "X.shape"
   ]
  },
  {
   "cell_type": "code",
   "execution_count": 32,
   "metadata": {
    "tags": []
   },
   "outputs": [
    {
     "data": {
      "text/plain": [
       "(600,)"
      ]
     },
     "execution_count": 32,
     "metadata": {},
     "output_type": "execute_result"
    }
   ],
   "source": [
    "y.shape"
   ]
  },
  {
   "cell_type": "code",
   "execution_count": 97,
   "metadata": {
    "tags": []
   },
   "outputs": [
    {
     "data": {
      "text/plain": [
       "array([[-0.31658683,  4.5708382 ],\n",
       "       [ 1.64265316,  3.84306754],\n",
       "       [ 0.8433895 ,  4.00599645],\n",
       "       ...,\n",
       "       [ 2.40704763,  1.27689919],\n",
       "       [-2.15246105,  3.91001909],\n",
       "       [ 1.90811845,  4.64375231]])"
      ]
     },
     "execution_count": 97,
     "metadata": {},
     "output_type": "execute_result"
    }
   ],
   "source": [
    "X"
   ]
  },
  {
   "cell_type": "code",
   "execution_count": 34,
   "metadata": {
    "tags": []
   },
   "outputs": [
    {
     "data": {
      "text/plain": [
       "array([0, 0, 0, 1, 1, 0, 2, 2, 1, 2, 1, 2, 2, 2, 1, 0, 0, 0, 1, 1, 2, 1,\n",
       "       0, 0, 2, 0, 0, 1, 2, 0, 0, 2, 0, 2, 2, 0, 0, 1, 1, 1, 2, 0, 0, 0,\n",
       "       1, 0, 0, 0, 0, 0, 0, 1, 2, 1, 1, 2, 0, 0, 1, 1, 0, 0, 0, 2, 0, 0,\n",
       "       2, 0, 1, 1, 0, 2, 1, 0, 1, 2, 1, 2, 0, 1, 1, 0, 1, 1, 1, 0, 2, 0,\n",
       "       1, 1, 0, 2, 2, 0, 2, 2, 1, 0, 1, 2, 2, 0, 2, 1, 2, 0, 0, 0, 0, 2,\n",
       "       0, 0, 2, 1, 2, 0, 0, 1, 1, 0, 1, 0, 1, 2, 1, 2, 1, 2, 2, 1, 0, 0,\n",
       "       2, 1, 0, 2, 1, 2, 1, 2, 1, 2, 1, 1, 2, 0, 0, 2, 2, 1, 0, 2, 0, 0,\n",
       "       1, 0, 2, 1, 0, 2, 1, 1, 1, 2, 2, 1, 1, 0, 1, 0, 1, 0, 2, 2, 0, 0,\n",
       "       2, 0, 0, 1, 1, 0, 2, 1, 2, 1, 0, 0, 0, 2, 0, 2, 0, 0, 1, 2, 0, 2,\n",
       "       0, 1, 2, 1, 1, 1, 2, 1, 2, 1, 0, 1, 1, 0, 2, 0, 0, 2, 1, 0, 1, 2,\n",
       "       0, 1, 1, 2, 1, 1, 1, 1, 0, 0, 1, 1, 0, 2, 0, 1, 2, 0, 1, 2, 1, 1,\n",
       "       2, 0, 1, 1, 2, 1, 1, 0, 1, 0, 2, 0, 2, 1, 0, 2, 0, 2, 1, 1, 1, 2,\n",
       "       2, 1, 2, 1, 0, 1, 2, 1, 1, 1, 2, 1, 2, 1, 2, 2, 2, 2, 0, 0, 0, 1,\n",
       "       0, 2, 2, 0, 0, 1, 2, 1, 0, 2, 2, 2, 1, 2, 0, 1, 0, 2, 1, 2, 2, 2,\n",
       "       2, 2, 2, 1, 0, 2, 2, 1, 0, 2, 2, 1, 2, 0, 0, 1, 1, 0, 1, 2, 2, 1,\n",
       "       0, 0, 1, 0, 0, 2, 1, 2, 2, 2, 2, 0, 0, 1, 2, 0, 0, 1, 2, 2, 1, 1,\n",
       "       1, 2, 1, 0, 2, 2, 2, 2, 2, 1, 1, 0, 1, 0, 2, 1, 1, 2, 0, 1, 1, 2,\n",
       "       2, 1, 2, 2, 2, 0, 2, 1, 2, 2, 2, 1, 1, 1, 1, 0, 1, 1, 0, 0, 0, 1,\n",
       "       2, 0, 2, 2, 2, 2, 1, 2, 0, 1, 0, 1, 2, 0, 2, 2, 2, 1, 0, 2, 2, 1,\n",
       "       1, 2, 1, 1, 0, 2, 0, 1, 1, 1, 2, 0, 0, 0, 1, 0, 0, 0, 0, 0, 2, 1,\n",
       "       2, 2, 1, 2, 0, 1, 0, 1, 2, 1, 0, 1, 0, 1, 1, 2, 2, 2, 1, 0, 0, 1,\n",
       "       2, 2, 1, 1, 0, 0, 0, 2, 2, 0, 2, 0, 2, 0, 0, 2, 1, 2, 0, 2, 2, 2,\n",
       "       0, 0, 1, 2, 2, 1, 2, 0, 0, 2, 1, 2, 1, 0, 0, 0, 0, 0, 0, 1, 0, 2,\n",
       "       1, 0, 2, 1, 2, 0, 2, 2, 1, 2, 1, 2, 1, 1, 0, 0, 2, 0, 0, 0, 2, 1,\n",
       "       0, 1, 2, 1, 2, 0, 2, 0, 0, 1, 1, 0, 0, 1, 2, 1, 1, 2, 1, 2, 1, 0,\n",
       "       2, 1, 0, 0, 0, 1, 2, 2, 2, 2, 1, 0, 0, 2, 2, 2, 1, 2, 1, 0, 0, 2,\n",
       "       0, 0, 1, 1, 1, 0, 0, 1, 2, 0, 0, 1, 0, 2, 1, 1, 1, 2, 0, 0, 1, 0,\n",
       "       2, 1, 2, 1, 2, 0])"
      ]
     },
     "execution_count": 34,
     "metadata": {},
     "output_type": "execute_result"
    }
   ],
   "source": [
    "y"
   ]
  },
  {
   "cell_type": "code",
   "execution_count": 9,
   "metadata": {
    "id": "6qcgC_gui2gr",
    "outputId": "e17bc128-577a-4ebc-bcbe-c5e03567af79",
    "tags": []
   },
   "outputs": [
    {
     "data": {
      "text/html": [
       "<iframe\n",
       "    scrolling=\"no\"\n",
       "    width=\"620px\"\n",
       "    height=\"620\"\n",
       "    src=\"iframe_figures/figure_9.html\"\n",
       "    frameborder=\"0\"\n",
       "    allowfullscreen\n",
       "></iframe>\n"
      ]
     },
     "metadata": {},
     "output_type": "display_data"
    }
   ],
   "source": [
    "fig = go.Figure(data=[go.Scatter(x=X[:, 0], y=X[:, 1],\n",
    "                                   mode='markers', \n",
    "                                   marker=dict(\n",
    "                                    size=6,\n",
    "                                    color=y,                # set color to an array/list of desired values\n",
    "                                    colorscale='picnic',   # choose a colorscale\n",
    "                                    opacity=0.7)\n",
    "                                  )])\n",
    "\n",
    "fig.update_layout(\n",
    "    autosize=False,\n",
    "    width=600,\n",
    "    height=600,\n",
    "    margin=dict(l=0, r=0, b=0, t=10))\n",
    "    \n",
    "fig.show()"
   ]
  },
  {
   "cell_type": "markdown",
   "metadata": {
    "id": "AG4U1zP4i2gs"
   },
   "source": [
    "# LSH"
   ]
  },
  {
   "cell_type": "code",
   "execution_count": 10,
   "metadata": {
    "id": "e9Po6mvUi2gs",
    "tags": []
   },
   "outputs": [],
   "source": [
    "frontera = Frontera(X,y,percentil_min=5, percentil_max=20, N_points_frontera=41, method='LSH')"
   ]
  },
  {
   "cell_type": "code",
   "execution_count": 11,
   "metadata": {
    "id": "W8N3vgHai2gs",
    "tags": []
   },
   "outputs": [],
   "source": [
    "frontera.frontier()"
   ]
  },
  {
   "cell_type": "code",
   "execution_count": 12,
   "metadata": {
    "id": "0jeAHGJoi2gs",
    "outputId": "8c8c69ed-1fa6-4dbc-c0d1-c37597621d44",
    "tags": []
   },
   "outputs": [
    {
     "data": {
      "text/plain": [
       "{'Centroid Group: 0': array([-0.91185411,  1.86197894]),\n",
       " 'Centroid Group: 1': array([-0.2628178 ,  3.34947535]),\n",
       " 'Centroid Group: 3': array([1.04958733, 3.3039144 ]),\n",
       " 'Centroid Group: 4': array([0.04011225, 1.31203996]),\n",
       " 'Centroid Group: 6': array([1.69807289, 1.9275763 ]),\n",
       " 'Centroid Group: 7': array([1.94662637, 3.46222774])}"
      ]
     },
     "execution_count": 12,
     "metadata": {},
     "output_type": "execute_result"
    }
   ],
   "source": [
    "frontera.centroids"
   ]
  },
  {
   "cell_type": "code",
   "execution_count": 13,
   "metadata": {
    "id": "a-ki6Yyci2gt",
    "outputId": "1b4e79d8-7345-4f69-d4d0-e2ab23179947",
    "tags": []
   },
   "outputs": [
    {
     "data": {
      "text/html": [
       "<iframe\n",
       "    scrolling=\"no\"\n",
       "    width=\"1220px\"\n",
       "    height=\"770\"\n",
       "    src=\"iframe_figures/figure_13.html\"\n",
       "    frameborder=\"0\"\n",
       "    allowfullscreen\n",
       "></iframe>\n"
      ]
     },
     "metadata": {},
     "output_type": "display_data"
    }
   ],
   "source": [
    "frontera.plot_frontera_2D(0,1)"
   ]
  },
  {
   "cell_type": "markdown",
   "metadata": {
    "id": "hvttJHdVi2gt"
   },
   "source": [
    "# Rob"
   ]
  },
  {
   "cell_type": "code",
   "execution_count": 14,
   "metadata": {
    "id": "AvUQX6z4i2gt",
    "tags": []
   },
   "outputs": [],
   "source": [
    "frontera = Frontera(X,y,percentil_min=5, percentil_max=20, N_points_frontera=41)"
   ]
  },
  {
   "cell_type": "code",
   "execution_count": 15,
   "metadata": {
    "id": "GkJlE9W9i2gt",
    "tags": []
   },
   "outputs": [],
   "source": [
    "frontera.frontier()"
   ]
  },
  {
   "cell_type": "code",
   "execution_count": 16,
   "metadata": {
    "id": "J-J_beh5i2gt",
    "outputId": "d4151732-3f8d-4590-8548-65331c142e13",
    "tags": []
   },
   "outputs": [
    {
     "data": {
      "text/html": [
       "<iframe\n",
       "    scrolling=\"no\"\n",
       "    width=\"1220px\"\n",
       "    height=\"770\"\n",
       "    src=\"iframe_figures/figure_16.html\"\n",
       "    frameborder=\"0\"\n",
       "    allowfullscreen\n",
       "></iframe>\n"
      ]
     },
     "metadata": {},
     "output_type": "display_data"
    }
   ],
   "source": [
    "frontera.plot_frontera_2D(0,1)"
   ]
  },
  {
   "cell_type": "code",
   "execution_count": 17,
   "metadata": {
    "id": "vFBVgfiTi2gt",
    "outputId": "31583b56-4b40-4396-cf2e-a3ee0919c218",
    "tags": []
   },
   "outputs": [
    {
     "data": {
      "text/html": [
       "<iframe\n",
       "    scrolling=\"no\"\n",
       "    width=\"1220px\"\n",
       "    height=\"770\"\n",
       "    src=\"iframe_figures/figure_17.html\"\n",
       "    frameborder=\"0\"\n",
       "    allowfullscreen\n",
       "></iframe>\n"
      ]
     },
     "metadata": {},
     "output_type": "display_data"
    }
   ],
   "source": [
    "frontera.plot_Vectors(0,1)"
   ]
  },
  {
   "cell_type": "markdown",
   "metadata": {
    "id": "BOo-1qzti2gt"
   },
   "source": [
    "# Leo"
   ]
  },
  {
   "cell_type": "code",
   "execution_count": 18,
   "metadata": {
    "id": "bO04z60ii2gt",
    "tags": []
   },
   "outputs": [],
   "source": [
    "frontera = Frontera(X,y,percentil_min=5, percentil_max=10, N_points_frontera=41, method='prototypes')"
   ]
  },
  {
   "cell_type": "code",
   "execution_count": 19,
   "metadata": {
    "id": "8Hwm5IiVi2gt",
    "outputId": "16581501-a244-43f0-94fa-a7478c60d1f4",
    "tags": []
   },
   "outputs": [
    {
     "name": "stdout",
     "output_type": "stream",
     "text": [
      "Restricted license - for non-production use only - expires 2024-10-28\n"
     ]
    }
   ],
   "source": [
    "frontera.frontier()"
   ]
  },
  {
   "cell_type": "code",
   "execution_count": 20,
   "metadata": {
    "id": "RsqT0mqvi2gu",
    "outputId": "6c1054ae-7363-4035-c211-cd165ce1c19c",
    "tags": []
   },
   "outputs": [
    {
     "data": {
      "text/html": [
       "<iframe\n",
       "    scrolling=\"no\"\n",
       "    width=\"1220px\"\n",
       "    height=\"770\"\n",
       "    src=\"iframe_figures/figure_20.html\"\n",
       "    frameborder=\"0\"\n",
       "    allowfullscreen\n",
       "></iframe>\n"
      ]
     },
     "metadata": {},
     "output_type": "display_data"
    }
   ],
   "source": [
    "frontera.plot_frontera_2D(0,1)"
   ]
  },
  {
   "cell_type": "markdown",
   "metadata": {
    "id": "VA2PT9Gbi2gu"
   },
   "source": [
    "# MNIST"
   ]
  },
  {
   "cell_type": "code",
   "execution_count": 164,
   "metadata": {
    "id": "hwypu3rvi2gu",
    "tags": []
   },
   "outputs": [],
   "source": [
    "import numpy as np\n",
    "import tensorflow as tf\n",
    "\n",
    "(x_train, y_train), (x_test, y_test) = tf.keras.datasets.mnist.load_data()\n",
    "\n",
    "# # Normalize the pixel values\n",
    "# x_train = x_train / 255.0\n",
    "# x_test = x_test / 255.0\n",
    "\n",
    "# Flatten and transpose images\n",
    "x_train_flat = x_train.reshape(x_train.shape[0], -1)\n",
    "# x_test_flat = x_test.reshape(x_test.shape[0], -1).T\n",
    "\n",
    "# Add labels as an additional column vector\n",
    "y_train_col = y_train.reshape(1, y_train.shape[0]).T\n",
    "# y_test_col = y_test.reshape(1, y_test.shape[0])\n",
    "\n",
    "#train_data = np.vstack((x_train_flat, y_train_col))\n",
    "# test_data = np.vstack((x_test_flat, y_test_col))"
   ]
  },
  {
   "cell_type": "code",
   "execution_count": 179,
   "metadata": {
    "tags": []
   },
   "outputs": [],
   "source": [
    "# Fijamos una semilla para el generador de números aleatorios\n",
    "semilla = 42\n",
    "\n",
    "# Creamos un objeto generador de números aleatorios con la semilla fijada\n",
    "rng = np.random.RandomState(semilla)\n",
    "\n",
    "# Generamos una permutación aleatoria de los índices de ambos arrays\n",
    "indices_perm = rng.permutation(1000)\n",
    "\n",
    "# Obtenemos las muestras aleatorias utilizando los índices permutados\n",
    "muestra_array1 = x_train_flat[indices_perm]\n",
    "muestra_array2 = y_train_col[indices_perm]"
   ]
  },
  {
   "cell_type": "code",
   "execution_count": 180,
   "metadata": {
    "tags": []
   },
   "outputs": [
    {
     "data": {
      "image/png": "[encoded data removed]",
      "text/plain": [
       "<Figure size 1500x1500 with 10 Axes>"
      ]
     },
     "metadata": {},
     "output_type": "display_data"
    }
   ],
   "source": [
    "import matplotlib.pyplot as plt\n",
    "\n",
    "# Function to display images\n",
    "def display_images(images, labels, num_images=10):\n",
    "    fig, axes = plt.subplots(1, num_images, figsize=(15, 15))\n",
    "    axes = axes.ravel()\n",
    "\n",
    "    for i in range(num_images):\n",
    "        axes[i].imshow(images[i].reshape(28, 28), cmap='gray')\n",
    "        axes[i].set_title(f\"Label: {labels[i]}\", fontsize=12)\n",
    "        axes[i].axis('off')\n",
    "\n",
    "    plt.subplots_adjust(wspace=0.5)\n",
    "\n",
    "# Display first 10 filtered images from the training set\n",
    "display_images(muestra_array1, muestra_array2)\n",
    "plt.show()"
   ]
  },
  {
   "cell_type": "code",
   "execution_count": 190,
   "metadata": {
    "tags": []
   },
   "outputs": [
    {
     "name": "stdout",
     "output_type": "stream",
     "text": [
      "(1000, 784)\n",
      "(1000, 1)\n"
     ]
    }
   ],
   "source": [
    "#muestra_array2 = muestra_array2.reshape(1,-1)\n",
    "print(muestra_array1.shape)\n",
    "print(muestra_array2.shape)"
   ]
  },
  {
   "cell_type": "code",
   "execution_count": 185,
   "metadata": {
    "id": "vnOre4jXi2gv",
    "tags": []
   },
   "outputs": [],
   "source": [
    "%run frontera_v3.ipynb\n",
    "frontera = Frontera(muestra_array1,muestra_array2,percentil_min=5, percentil_max=25, N_points_frontera=41)"
   ]
  },
  {
   "cell_type": "code",
   "execution_count": 186,
   "metadata": {
    "id": "Uw-H5JTsi2gv",
    "outputId": "48c91d72-919d-40ce-ca0f-5d5953f10849",
    "scrolled": true,
    "tags": []
   },
   "outputs": [],
   "source": [
    "frontera.frontier()"
   ]
  },
  {
   "cell_type": "code",
   "execution_count": 202,
   "metadata": {
    "tags": []
   },
   "outputs": [
    {
     "data": {
      "text/html": [
       "<iframe\n",
       "    scrolling=\"no\"\n",
       "    width=\"620px\"\n",
       "    height=\"620\"\n",
       "    src=\"iframe_figures/figure_202.html\"\n",
       "    frameborder=\"0\"\n",
       "    allowfullscreen\n",
       "></iframe>\n"
      ]
     },
     "metadata": {},
     "output_type": "display_data"
    }
   ],
   "source": [
    "frontera.plot_muestra_2D( int(600/2),int(600/2+1) )"
   ]
  },
  {
   "cell_type": "code",
   "execution_count": 203,
   "metadata": {
    "tags": []
   },
   "outputs": [
    {
     "data": {
      "text/html": [
       "<iframe\n",
       "    scrolling=\"no\"\n",
       "    width=\"1220px\"\n",
       "    height=\"770\"\n",
       "    src=\"iframe_figures/figure_203.html\"\n",
       "    frameborder=\"0\"\n",
       "    allowfullscreen\n",
       "></iframe>\n"
      ]
     },
     "metadata": {},
     "output_type": "display_data"
    }
   ],
   "source": [
    "frontera.plot_frontera_2D( int(600/2),int(600/2+1) )"
   ]
  },
  {
   "cell_type": "code",
   "execution_count": 189,
   "metadata": {
    "tags": []
   },
   "outputs": [
    {
     "name": "stderr",
     "output_type": "stream",
     "text": [
      "OMP: Info #276: omp_set_nested routine deprecated, please use omp_set_max_active_levels instead.\n"
     ]
    },
    {
     "data": {
      "text/html": [
       "<iframe\n",
       "    scrolling=\"no\"\n",
       "    width=\"820px\"\n",
       "    height=\"620\"\n",
       "    src=\"iframe_figures/figure_189.html\"\n",
       "    frameborder=\"0\"\n",
       "    allowfullscreen\n",
       "></iframe>\n"
      ]
     },
     "metadata": {},
     "output_type": "display_data"
    }
   ],
   "source": [
    "frontera.plot_UMAP()"
   ]
  },
  {
   "cell_type": "code",
   "execution_count": null,
   "metadata": {},
   "outputs": [],
   "source": []
  },
  {
   "cell_type": "code",
   "execution_count": null,
   "metadata": {
    "id": "CDqFR8i7i2gw"
   },
   "outputs": [],
   "source": []
  },
  {
   "cell_type": "markdown",
   "metadata": {
    "id": "vt16ysgNi2gw"
   },
   "source": [
    "### prototypes"
   ]
  },
  {
   "cell_type": "code",
   "execution_count": null,
   "metadata": {
    "id": "FRtpBr24i2gw",
    "tags": []
   },
   "outputs": [],
   "source": [
    "# Get the selected prototypes and their labels\n",
    "prototypes = frontera.w_\n",
    "prototype_labels = frontera.c_w_\n",
    "\n",
    "# Plot the data points and prototypes\n",
    "plt.scatter(X[:, 0], X[:, 1], c=y, edgecolors=\"k\", cmap=plt.cm.Spectral, alpha=0.5)\n",
    "plt.scatter(prototypes[:, 0], prototypes[:, 1], c='black', marker='X', s=200, label='Prototypes')\n",
    "\n",
    "# Customize the plot\n",
    "plt.xlabel('Feature 1')\n",
    "plt.ylabel('Feature 2')\n",
    "plt.legend()\n",
    "plt.title('Dataset and Prototypes')\n",
    "\n",
    "# Show the plot\n",
    "plt.show()"
   ]
  }
 ],
 "metadata": {
  "colab": {
   "provenance": []
  },
  "kernelspec": {
   "display_name": "Python 3 (ipykernel)",
   "language": "python",
   "name": "python3"
  },
  "language_info": {
   "codemirror_mode": {
    "name": "ipython",
    "version": 3
   },
   "file_extension": ".py",
   "mimetype": "text/x-python",
   "name": "python",
   "nbconvert_exporter": "python",
   "pygments_lexer": "ipython3",
   "version": "3.10.9"
  }
 },
 "nbformat": 4,
 "nbformat_minor": 4
}
