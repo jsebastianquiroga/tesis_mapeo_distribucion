{
 "cells": [
  {
   "cell_type": "code",
   "execution_count": null,
   "metadata": {
    "id": "fuOR2tE-f3y_"
   },
   "outputs": [],
   "source": [
    "!rm -rf tesis_mapeo_distribucion"
   ]
  },
  {
   "cell_type": "code",
   "execution_count": 17,
   "metadata": {
    "colab": {
     "base_uri": "https://localhost:8080/"
    },
    "id": "ghonPYlMawf3",
    "outputId": "c9e05140-ec00-4d79-91d1-a4d34b4857b5"
   },
   "outputs": [
    {
     "name": "stdout",
     "output_type": "stream",
     "text": [
      "fatal: destination path 'tesis_mapeo_distribucion' already exists and is not an empty directory.\n"
     ]
    }
   ],
   "source": [
    "!git clone https://github.com/jsebastianquiroga/tesis_mapeo_distribucion.git"
   ]
  },
  {
   "cell_type": "code",
   "execution_count": 18,
   "metadata": {
    "id": "jWS-m81iawdS"
   },
   "outputs": [],
   "source": [
    "import sys\n",
    "sys.path.append('/content/tesis_mapeo_distribucion/Final')"
   ]
  },
  {
   "cell_type": "code",
   "execution_count": 1,
   "metadata": {
    "colab": {
     "base_uri": "https://localhost:8080/"
    },
    "id": "Qt2mDcMfcSfW",
    "outputId": "5e1332dd-3c53-4e4f-8424-841eab6b321c",
    "tags": []
   },
   "outputs": [
    {
     "name": "stdout",
     "output_type": "stream",
     "text": [
      "Requirement already satisfied: gurobipy in c:\\users\\leonardo.garcia\\anaconda3\\lib\\site-packages (10.0.1)\n",
      "Requirement already satisfied: umap in c:\\users\\leonardo.garcia\\anaconda3\\lib\\site-packages (0.1.1)\n",
      "Requirement already satisfied: scikit-learn-extra in c:\\users\\leonardo.garcia\\anaconda3\\lib\\site-packages (0.3.0)\n",
      "Requirement already satisfied: scipy>=0.19.1 in c:\\users\\leonardo.garcia\\anaconda3\\lib\\site-packages (from scikit-learn-extra) (1.9.1)\n",
      "Requirement already satisfied: numpy>=1.13.3 in c:\\users\\leonardo.garcia\\anaconda3\\lib\\site-packages (from scikit-learn-extra) (1.24.3)\n",
      "Requirement already satisfied: scikit-learn>=0.23.0 in c:\\users\\leonardo.garcia\\anaconda3\\lib\\site-packages (from scikit-learn-extra) (1.0.2)\n",
      "Requirement already satisfied: joblib>=0.11 in c:\\users\\leonardo.garcia\\anaconda3\\lib\\site-packages (from scikit-learn>=0.23.0->scikit-learn-extra) (1.1.0)\n",
      "Requirement already satisfied: threadpoolctl>=2.0.0 in c:\\users\\leonardo.garcia\\anaconda3\\lib\\site-packages (from scikit-learn>=0.23.0->scikit-learn-extra) (2.2.0)\n",
      "Requirement already satisfied: pingouin in c:\\users\\leonardo.garcia\\anaconda3\\lib\\site-packages (0.5.3)\n",
      "Requirement already satisfied: numpy>=1.19 in c:\\users\\leonardo.garcia\\anaconda3\\lib\\site-packages (from pingouin) (1.24.3)\n",
      "Requirement already satisfied: tabulate in c:\\users\\leonardo.garcia\\anaconda3\\lib\\site-packages (from pingouin) (0.8.10)\n",
      "Requirement already satisfied: pandas>=1.0 in c:\\users\\leonardo.garcia\\anaconda3\\lib\\site-packages (from pingouin) (2.0.2)\n",
      "Requirement already satisfied: matplotlib>=3.0.2 in c:\\users\\leonardo.garcia\\anaconda3\\lib\\site-packages (from pingouin) (3.5.2)\n",
      "Requirement already satisfied: seaborn>=0.11 in c:\\users\\leonardo.garcia\\anaconda3\\lib\\site-packages (from pingouin) (0.11.2)\n",
      "Requirement already satisfied: scipy>=1.7 in c:\\users\\leonardo.garcia\\anaconda3\\lib\\site-packages (from pingouin) (1.9.1)\n",
      "Requirement already satisfied: statsmodels>=0.13 in c:\\users\\leonardo.garcia\\anaconda3\\lib\\site-packages (from pingouin) (0.13.2)\n",
      "Requirement already satisfied: outdated in c:\\users\\leonardo.garcia\\anaconda3\\lib\\site-packages (from pingouin) (0.2.2)\n",
      "Requirement already satisfied: scikit-learn in c:\\users\\leonardo.garcia\\anaconda3\\lib\\site-packages (from pingouin) (1.0.2)\n",
      "Requirement already satisfied: pandas-flavor>=0.2.0 in c:\\users\\leonardo.garcia\\anaconda3\\lib\\site-packages (from pingouin) (0.5.0)\n",
      "Requirement already satisfied: python-dateutil>=2.7 in c:\\users\\leonardo.garcia\\anaconda3\\lib\\site-packages (from matplotlib>=3.0.2->pingouin) (2.8.2)\n",
      "Requirement already satisfied: fonttools>=4.22.0 in c:\\users\\leonardo.garcia\\anaconda3\\lib\\site-packages (from matplotlib>=3.0.2->pingouin) (4.25.0)\n",
      "Requirement already satisfied: kiwisolver>=1.0.1 in c:\\users\\leonardo.garcia\\anaconda3\\lib\\site-packages (from matplotlib>=3.0.2->pingouin) (1.4.2)\n",
      "Requirement already satisfied: pyparsing>=2.2.1 in c:\\users\\leonardo.garcia\\anaconda3\\lib\\site-packages (from matplotlib>=3.0.2->pingouin) (3.0.9)\n",
      "Requirement already satisfied: pillow>=6.2.0 in c:\\users\\leonardo.garcia\\anaconda3\\lib\\site-packages (from matplotlib>=3.0.2->pingouin) (9.2.0)\n",
      "Requirement already satisfied: cycler>=0.10 in c:\\users\\leonardo.garcia\\anaconda3\\lib\\site-packages (from matplotlib>=3.0.2->pingouin) (0.11.0)\n",
      "Requirement already satisfied: packaging>=20.0 in c:\\users\\leonardo.garcia\\anaconda3\\lib\\site-packages (from matplotlib>=3.0.2->pingouin) (21.3)\n",
      "Requirement already satisfied: pytz>=2020.1 in c:\\users\\leonardo.garcia\\anaconda3\\lib\\site-packages (from pandas>=1.0->pingouin) (2022.1)\n",
      "Requirement already satisfied: tzdata>=2022.1 in c:\\users\\leonardo.garcia\\anaconda3\\lib\\site-packages (from pandas>=1.0->pingouin) (2022.7)\n",
      "Requirement already satisfied: lazy-loader>=0.1 in c:\\users\\leonardo.garcia\\anaconda3\\lib\\site-packages (from pandas-flavor>=0.2.0->pingouin) (0.2)\n",
      "Requirement already satisfied: xarray in c:\\users\\leonardo.garcia\\anaconda3\\lib\\site-packages (from pandas-flavor>=0.2.0->pingouin) (0.20.1)\n",
      "Requirement already satisfied: patsy>=0.5.2 in c:\\users\\leonardo.garcia\\anaconda3\\lib\\site-packages (from statsmodels>=0.13->pingouin) (0.5.2)\n",
      "Requirement already satisfied: setuptools>=44 in c:\\users\\leonardo.garcia\\anaconda3\\lib\\site-packages (from outdated->pingouin) (67.6.1)\n",
      "Requirement already satisfied: requests in c:\\users\\leonardo.garcia\\anaconda3\\lib\\site-packages (from outdated->pingouin) (2.28.1)\n",
      "Requirement already satisfied: littleutils in c:\\users\\leonardo.garcia\\anaconda3\\lib\\site-packages (from outdated->pingouin) (0.2.2)\n",
      "Requirement already satisfied: joblib>=0.11 in c:\\users\\leonardo.garcia\\anaconda3\\lib\\site-packages (from scikit-learn->pingouin) (1.1.0)\n",
      "Requirement already satisfied: threadpoolctl>=2.0.0 in c:\\users\\leonardo.garcia\\anaconda3\\lib\\site-packages (from scikit-learn->pingouin) (2.2.0)\n",
      "Requirement already satisfied: six in c:\\users\\leonardo.garcia\\anaconda3\\lib\\site-packages (from patsy>=0.5.2->statsmodels>=0.13->pingouin) (1.16.0)\n",
      "Requirement already satisfied: certifi>=2017.4.17 in c:\\users\\leonardo.garcia\\anaconda3\\lib\\site-packages (from requests->outdated->pingouin) (2022.9.14)\n",
      "Requirement already satisfied: urllib3<1.27,>=1.21.1 in c:\\users\\leonardo.garcia\\anaconda3\\lib\\site-packages (from requests->outdated->pingouin) (1.26.11)\n",
      "Requirement already satisfied: charset-normalizer<3,>=2 in c:\\users\\leonardo.garcia\\anaconda3\\lib\\site-packages (from requests->outdated->pingouin) (2.0.4)\n",
      "Requirement already satisfied: idna<4,>=2.5 in c:\\users\\leonardo.garcia\\anaconda3\\lib\\site-packages (from requests->outdated->pingouin) (3.3)\n"
     ]
    }
   ],
   "source": [
    "!pip install gurobipy \n",
    "!pip install umap\n",
    "!pip install scikit-learn-extra\n",
    "!pip install pingouin"
   ]
  },
  {
   "cell_type": "code",
   "execution_count": 2,
   "metadata": {
    "id": "Y6goEYUhawYT",
    "tags": []
   },
   "outputs": [
    {
     "name": "stderr",
     "output_type": "stream",
     "text": [
      "2023-05-05 00:32:12.849330: I tensorflow/core/platform/cpu_feature_guard.cc:193] This TensorFlow binary is optimized with oneAPI Deep Neural Network Library (oneDNN) to use the following CPU instructions in performance-critical operations:  SSE4.1 SSE4.2 AVX AVX2 FMA\n",
      "To enable them in other operations, rebuild TensorFlow with the appropriate compiler flags.\n"
     ]
    }
   ],
   "source": [
    "from frontera_v4 import Frontera"
   ]
  },
  {
   "cell_type": "code",
   "execution_count": 1,
   "metadata": {
    "id": "nwJl_6v2i2gq",
    "tags": []
   },
   "outputs": [],
   "source": [
    "import scipy.stats as stats\n",
    "import pingouin as pg\n",
    "\n",
    "import pandas as pd\n",
    "from sklearn.datasets import make_blobs\n",
    "from sklearn.neighbors import KernelDensity\n",
    "\n",
    "import seaborn as sns\n",
    "import matplotlib.pyplot as plt\n",
    "\n",
    "import plotly.graph_objects as go\n",
    "import matplotlib.pyplot as plt # Para crear gráficos con matplotlib\n",
    "import plotly as py\n",
    "import plotly.io as pio\n",
    "pio.renderers.default = 'iframe'"
   ]
  },
  {
   "cell_type": "code",
   "execution_count": 7,
   "metadata": {
    "tags": []
   },
   "outputs": [],
   "source": [
    "# Simulación de datos\n",
    "# ==============================================================================\n",
    "X, y = make_blobs(\n",
    "        n_samples    = 800, \n",
    "        n_features   = 2, \n",
    "        centers      = 4, \n",
    "        cluster_std  = 1, \n",
    "        shuffle      = True, \n",
    "        random_state = 9\n",
    "       )"
   ]
  },
  {
   "cell_type": "code",
   "execution_count": 246,
   "metadata": {
    "tags": []
   },
   "outputs": [],
   "source": [
    "# Simulación de datos\n",
    "# ==============================================================================\n",
    "X, y = make_blobs(\n",
    "        n_samples    = 1200, \n",
    "        n_features   = 2, \n",
    "        centers      = 3, \n",
    "        cluster_std  = 2, \n",
    "        shuffle      = True, \n",
    "        random_state = 10\n",
    "       )"
   ]
  },
  {
   "cell_type": "markdown",
   "metadata": {},
   "source": [
    "# **Datos Artificiales #1**"
   ]
  },
  {
   "cell_type": "code",
   "execution_count": 65,
   "metadata": {
    "id": "7Ebxfi4ni2gr",
    "tags": []
   },
   "outputs": [],
   "source": [
    "# Simulación de datos\n",
    "# ==============================================================================\n",
    "X, y = make_blobs(\n",
    "        n_samples    = 600, \n",
    "        n_features   = 2, \n",
    "        centers      = 3, \n",
    "        cluster_std  = 1, \n",
    "        shuffle      = True, \n",
    "        random_state = 0\n",
    "       )"
   ]
  },
  {
   "cell_type": "code",
   "execution_count": 49,
   "metadata": {
    "colab": {
     "base_uri": "https://localhost:8080/"
    },
    "id": "3UMITrObaDum",
    "outputId": "2b70643f-278e-447b-e7ed-90be13a587f4",
    "tags": []
   },
   "outputs": [
    {
     "data": {
      "text/plain": [
       "(600, 2)"
      ]
     },
     "execution_count": 49,
     "metadata": {},
     "output_type": "execute_result"
    }
   ],
   "source": [
    "X.shape"
   ]
  },
  {
   "cell_type": "code",
   "execution_count": 66,
   "metadata": {
    "tags": []
   },
   "outputs": [
    {
     "data": {
      "text/plain": [
       "array([[-0.31658683,  4.5708382 ],\n",
       "       [ 1.64265316,  3.84306754],\n",
       "       [ 0.8433895 ,  4.00599645],\n",
       "       ...,\n",
       "       [ 2.40704763,  1.27689919],\n",
       "       [-2.15246105,  3.91001909],\n",
       "       [ 1.90811845,  4.64375231]])"
      ]
     },
     "execution_count": 66,
     "metadata": {},
     "output_type": "execute_result"
    }
   ],
   "source": [
    "X"
   ]
  },
  {
   "cell_type": "code",
   "execution_count": 50,
   "metadata": {
    "colab": {
     "base_uri": "https://localhost:8080/"
    },
    "id": "psA08Wk2aDun",
    "outputId": "0f264d9f-194f-438c-c2c9-09d9dfb1044c",
    "tags": []
   },
   "outputs": [
    {
     "data": {
      "text/plain": [
       "(600,)"
      ]
     },
     "execution_count": 50,
     "metadata": {},
     "output_type": "execute_result"
    }
   ],
   "source": [
    "y.shape"
   ]
  },
  {
   "cell_type": "code",
   "execution_count": 11,
   "metadata": {
    "colab": {
     "base_uri": "https://localhost:8080/",
     "height": 642
    },
    "id": "6qcgC_gui2gr",
    "outputId": "49aee1df-18fb-463a-f437-b8c55b66a54e",
    "tags": []
   },
   "outputs": [
    {
     "data": {
      "text/html": [
       "<iframe\n",
       "    scrolling=\"no\"\n",
       "    width=\"620px\"\n",
       "    height=\"620\"\n",
       "    src=\"iframe_figures/figure_11.html\"\n",
       "    frameborder=\"0\"\n",
       "    allowfullscreen\n",
       "></iframe>\n"
      ]
     },
     "metadata": {},
     "output_type": "display_data"
    }
   ],
   "source": [
    "fig = go.Figure(data=[go.Scatter(x=X[:, 0], y=X[:, 1],\n",
    "                                   mode='markers', \n",
    "                                   marker=dict(\n",
    "                                    size=6,\n",
    "                                    color=y,                # set color to an array/list of desired values\n",
    "                                    #colorscale='picnic',   # choose a colorscale\n",
    "                                    opacity=0.7)\n",
    "                                  )])\n",
    "\n",
    "fig.update_layout(\n",
    "    autosize=False,\n",
    "    width=600,\n",
    "    height=600,\n",
    "    plot_bgcolor='white',  # Fondo blanco\n",
    "    #paper_bgcolor='white',  # Fondo blanco del papel\n",
    "    margin=dict(l=0, r=0, b=0, t=10))\n",
    "    \n",
    "fig.show()"
   ]
  },
  {
   "cell_type": "markdown",
   "metadata": {
    "id": "AG4U1zP4i2gs"
   },
   "source": [
    "## LSH"
   ]
  },
  {
   "cell_type": "code",
   "execution_count": 51,
   "metadata": {
    "tags": []
   },
   "outputs": [],
   "source": [
    "%run frontera_v4.ipynb"
   ]
  },
  {
   "cell_type": "code",
   "execution_count": 52,
   "metadata": {
    "id": "e9Po6mvUi2gs",
    "tags": []
   },
   "outputs": [
    {
     "name": "stdout",
     "output_type": "stream",
     "text": [
      "Entropía de Rényi cuadrática LSH _ART_1: 1.627135504189825 +/- 0.10240724567228637\n",
      "CPU times: user 186 ms, sys: 639 ms, total: 825 ms\n",
      "Wall time: 68 ms\n"
     ]
    }
   ],
   "source": [
    "%%time\n",
    "# 3 vectores\n",
    "n = 10\n",
    "valores = [] \n",
    "for _ in range(n):\n",
    "    frontera = Frontera(X, y, percentil_min=0, percentil_max=20, num_vectors=3, method='LSH')\n",
    "    punto_frontera, labels = frontera.frontier()\n",
    "    \n",
    "    resultado = renyi_entropy(punto_frontera)\n",
    "    valores.append(resultado)\n",
    "        \n",
    "# Calcular el promedio de los valores\n",
    "promedio = sum(valores) / n\n",
    "# Calcular la desviación estándar utilizando NumPy\n",
    "desviacion_estandar = np.std(valores)\n",
    "\n",
    "print('Entropía de Rényi cuadrática LSH _ART_1:', promedio[0][0],'+/-',desviacion_estandar)"
   ]
  },
  {
   "cell_type": "code",
   "execution_count": 53,
   "metadata": {
    "id": "a-ki6Yyci2gt",
    "tags": []
   },
   "outputs": [
    {
     "data": {
      "text/html": [
       "<iframe\n",
       "    scrolling=\"no\"\n",
       "    width=\"1220px\"\n",
       "    height=\"770\"\n",
       "    src=\"iframe_figures/figure_53.html\"\n",
       "    frameborder=\"0\"\n",
       "    allowfullscreen\n",
       "></iframe>\n"
      ]
     },
     "metadata": {},
     "output_type": "display_data"
    }
   ],
   "source": [
    "frontera.plot_frontera_2D(0,1,'X1','X2')"
   ]
  },
  {
   "cell_type": "markdown",
   "metadata": {
    "id": "hvttJHdVi2gt"
   },
   "source": [
    "## R-BM"
   ]
  },
  {
   "cell_type": "code",
   "execution_count": 54,
   "metadata": {
    "tags": []
   },
   "outputs": [],
   "source": [
    "#from frontera_v4 import Frontera"
   ]
  },
  {
   "cell_type": "code",
   "execution_count": 36,
   "metadata": {
    "id": "AvUQX6z4i2gt",
    "tags": []
   },
   "outputs": [],
   "source": [
    "%run frontera_v4.ipynb"
   ]
  },
  {
   "cell_type": "code",
   "execution_count": 63,
   "metadata": {
    "tags": []
   },
   "outputs": [
    {
     "name": "stdout",
     "output_type": "stream",
     "text": [
      "Entropía de Rényi cuadrática R-BM _ART_1: 1.5668472879417286 +/- 0.0\n",
      "CPU times: user 593 ms, sys: 1.78 s, total: 2.37 s\n",
      "Wall time: 191 ms\n"
     ]
    }
   ],
   "source": [
    "%%time\n",
    "n = 10\n",
    "valores = [] \n",
    "for _ in range(n):\n",
    "    frontera = Frontera(X,y,percentil_min=5, percentil_max=25, N_points_frontera=8, Closeness_Factor=1)\n",
    "    punto_frontera, labels = frontera.frontier()\n",
    "    \n",
    "    resultado = renyi_entropy(punto_frontera)\n",
    "    valores.append(resultado)\n",
    "        \n",
    "# Calcular el promedio de los valores\n",
    "promedio = sum(valores) / n\n",
    "# Calcular la desviación estándar utilizando NumPy\n",
    "desviacion_estandar = np.std(valores)\n",
    "\n",
    "print('Entropía de Rényi cuadrática R-BM _ART_1:', promedio[0][0],'+/-',desviacion_estandar)"
   ]
  },
  {
   "cell_type": "code",
   "execution_count": 34,
   "metadata": {
    "tags": []
   },
   "outputs": [
    {
     "data": {
      "text/plain": [
       "array([[-1.00926425,  4.57316359],\n",
       "       [-0.25738088,  1.8574959 ],\n",
       "       [ 0.25356862,  2.85411382],\n",
       "       [ 0.89035246,  2.44872358],\n",
       "       [ 2.06120273,  3.25113242],\n",
       "       [ 3.41064354,  2.73333731]])"
      ]
     },
     "execution_count": 34,
     "metadata": {},
     "output_type": "execute_result"
    }
   ],
   "source": [
    "punto_frontera"
   ]
  },
  {
   "cell_type": "code",
   "execution_count": 64,
   "metadata": {
    "id": "J-J_beh5i2gt",
    "tags": []
   },
   "outputs": [
    {
     "data": {
      "text/html": [
       "<iframe\n",
       "    scrolling=\"no\"\n",
       "    width=\"1220px\"\n",
       "    height=\"770\"\n",
       "    src=\"iframe_figures/figure_64.html\"\n",
       "    frameborder=\"0\"\n",
       "    allowfullscreen\n",
       "></iframe>\n"
      ]
     },
     "metadata": {},
     "output_type": "display_data"
    }
   ],
   "source": [
    "frontera.plot_frontera_2D(0,1,'X1','X2')"
   ]
  },
  {
   "cell_type": "code",
   "execution_count": 99,
   "metadata": {
    "tags": []
   },
   "outputs": [
    {
     "data": {
      "text/html": [
       "<iframe\n",
       "    scrolling=\"no\"\n",
       "    width=\"1220px\"\n",
       "    height=\"770\"\n",
       "    src=\"iframe_figures/figure_99.html\"\n",
       "    frameborder=\"0\"\n",
       "    allowfullscreen\n",
       "></iframe>\n"
      ]
     },
     "metadata": {},
     "output_type": "display_data"
    }
   ],
   "source": [
    "# Obtén los índices aleatorios para seleccionar los puntos\n",
    "indices_aleatorios = np.random.choice(range(matriz_combinada.shape[0]), size=6, replace=False)\n",
    "# Crea la matriz seleccionada a partir de los puntos aleatorios\n",
    "matriz_seleccionada = matriz_combinada[indices_aleatorios]\n",
    "plot_frontera_2D_ran(frontera,matriz_seleccionada,0,1)"
   ]
  },
  {
   "cell_type": "code",
   "execution_count": 88,
   "metadata": {
    "tags": []
   },
   "outputs": [],
   "source": [
    "def plot_frontera_2D_ran(clase,other_dic, col_1, col_2):\n",
    "        # Set initial state for the loop\n",
    "        door = True\n",
    "        next_color = 0\n",
    "\n",
    "        # Loop through the categories in the dictionary\n",
    "        for key, value in clase.dic_categorias.items():\n",
    "            # If it's the first iteration, create a new plot with the first category's data\n",
    "            if door:\n",
    "                fig = go.Figure(data=[go.Scatter(x=value[:, col_1], y=value[:, col_2],\n",
    "                                                 mode='markers',\n",
    "                                                 name=key,\n",
    "                                                 marker=dict(\n",
    "                                                     size=6,\n",
    "                                                     # Set color to an array/list of desired values\n",
    "                                                     # color=self.color_list[next_color],\n",
    "                                                     colorscale='picnic',  # Choose a colorscale\n",
    "                                                     opacity=0.7)\n",
    "                                                 )])\n",
    "                # Change the door variable to False, indicating that the first iteration is done\n",
    "                door = False\n",
    "                # Increment the color index\n",
    "                next_color += 1\n",
    "            else:\n",
    "                # For the rest of the categories, add them to the existing plot\n",
    "                fig.add_trace(go.Scatter(x=value[:, col_1], y=value[:, col_2],\n",
    "                                         mode='markers',\n",
    "                                         name=key,\n",
    "                                         marker=dict(\n",
    "                                             size=6,\n",
    "                                             # Set color to an array/list of desired values\n",
    "                                             # color=self.color_list[next_color],\n",
    "                                             colorscale='picnic',  # Choose a colorscale\n",
    "                                             opacity=0.7)\n",
    "                                         ))\n",
    "                # Increment the color index\n",
    "                next_color += 1\n",
    "                \n",
    "\n",
    "        fig.add_trace(go.Scatter(x=other_dic[:, col_1], y=other_dic[:, col_2],\n",
    "                                 mode='markers',\n",
    "                                 name='RANDOM',\n",
    "                                 marker=dict(\n",
    "                                     symbol=300,\n",
    "                                     size=50,\n",
    "                                     color='black',  # Set color to a random integer value\n",
    "                                     # colorscale='Viridis',  # Choose a colorscale\n",
    "                                     opacity=1)\n",
    "                                ))\n",
    "\n",
    "\n",
    "        # Update the layout properties of the plot\n",
    "        fig.update_layout(\n",
    "            autosize=True,\n",
    "            width=1200,\n",
    "            height=750,\n",
    "            plot_bgcolor='white',  # Fondo blanco\n",
    "            paper_bgcolor='white',  # Fondo blanco del papel\n",
    "            #xaxis=dict(gridcolor='lightgray'),  # Líneas de referencia del eje X en gris claro\n",
    "            #yaxis=dict(gridcolor='lightgray'),  # Líneas de referencia del eje Y en gris claro\n",
    "            margin=dict(l=10, r=10, b=10, t=20))\n",
    "        \n",
    "        # Display the plot\n",
    "        fig.show()"
   ]
  },
  {
   "cell_type": "markdown",
   "metadata": {
    "id": "BOo-1qzti2gt"
   },
   "source": [
    "## Prototypes"
   ]
  },
  {
   "cell_type": "code",
   "execution_count": 672,
   "metadata": {
    "tags": []
   },
   "outputs": [],
   "source": [
    "%run frontera_v4.ipynb"
   ]
  },
  {
   "cell_type": "code",
   "execution_count": 60,
   "metadata": {
    "tags": []
   },
   "outputs": [
    {
     "name": "stdout",
     "output_type": "stream",
     "text": [
      "Entropía de Rényi cuadrática Prototypes _ART_1: 1.4404664265002511 +/- 0.0\n",
      "CPU times: user 1.67 s, sys: 1.12 s, total: 2.79 s\n",
      "Wall time: 1.49 s\n"
     ]
    }
   ],
   "source": [
    "%%time\n",
    "n = 1\n",
    "valores = [] \n",
    "for _ in range(n):\n",
    "    frontera = Frontera(X,y,percentil_min=0, percentil_max=20, Closeness_Factor=1.9, method='prototypes')\n",
    "    punto_frontera, labels = frontera.frontier()\n",
    "        \n",
    "    resultado = renyi_entropy(punto_frontera)\n",
    "    valores.append(resultado)\n",
    "        \n",
    "# Calcular el promedio de los valores\n",
    "promedio = sum(valores) / n\n",
    "# Calcular la desviación estándar utilizando NumPy\n",
    "desviacion_estandar = np.std(valores)\n",
    "\n",
    "print('Entropía de Rényi cuadrática Prototypes _ART_1:', promedio[0][0],'+/-',desviacion_estandar)"
   ]
  },
  {
   "cell_type": "code",
   "execution_count": 61,
   "metadata": {
    "tags": []
   },
   "outputs": [
    {
     "data": {
      "text/plain": [
       "array([[ 2.82667347,  1.92710249],\n",
       "       [ 0.03182382,  3.89373763],\n",
       "       [ 0.1216    ,  1.36786807],\n",
       "       [ 2.01949945,  3.27840901],\n",
       "       [ 1.81324769,  2.41592483],\n",
       "       [-0.18108518,  3.99149508]])"
      ]
     },
     "execution_count": 61,
     "metadata": {},
     "output_type": "execute_result"
    }
   ],
   "source": [
    "punto_frontera"
   ]
  },
  {
   "cell_type": "code",
   "execution_count": 62,
   "metadata": {
    "id": "RsqT0mqvi2gu",
    "tags": []
   },
   "outputs": [
    {
     "data": {
      "text/html": [
       "<iframe\n",
       "    scrolling=\"no\"\n",
       "    width=\"1220px\"\n",
       "    height=\"770\"\n",
       "    src=\"iframe_figures/figure_62.html\"\n",
       "    frameborder=\"0\"\n",
       "    allowfullscreen\n",
       "></iframe>\n"
      ]
     },
     "metadata": {},
     "output_type": "display_data"
    }
   ],
   "source": [
    "frontera.plot_frontera_2D(0,1,'X1','X2')"
   ]
  },
  {
   "cell_type": "markdown",
   "metadata": {},
   "source": [
    "## Medoids"
   ]
  },
  {
   "cell_type": "code",
   "execution_count": 21,
   "metadata": {
    "tags": []
   },
   "outputs": [],
   "source": [
    "%run frontera_v4.ipynb"
   ]
  },
  {
   "cell_type": "code",
   "execution_count": 58,
   "metadata": {
    "tags": []
   },
   "outputs": [
    {
     "name": "stdout",
     "output_type": "stream",
     "text": [
      "Entropía de Rényi cuadrática LSH _ART_1: 1.6702676023624192 +/- 0.0\n",
      "CPU times: user 55.5 ms, sys: 148 ms, total: 204 ms\n",
      "Wall time: 16.5 ms\n"
     ]
    },
    {
     "name": "stderr",
     "output_type": "stream",
     "text": [
      "/opt/conda/lib/python3.10/site-packages/sklearn_extra/cluster/_k_medoids.py:329: UserWarning:\n",
      "\n",
      "Cluster 1 is empty! self.labels_[self.medoid_indices_[1]] may not be labeled with its corresponding cluster (1).\n",
      "\n",
      "/opt/conda/lib/python3.10/site-packages/sklearn_extra/cluster/_k_medoids.py:329: UserWarning:\n",
      "\n",
      "Cluster 3 is empty! self.labels_[self.medoid_indices_[3]] may not be labeled with its corresponding cluster (3).\n",
      "\n",
      "/opt/conda/lib/python3.10/site-packages/sklearn_extra/cluster/_k_medoids.py:329: UserWarning:\n",
      "\n",
      "Cluster 4 is empty! self.labels_[self.medoid_indices_[4]] may not be labeled with its corresponding cluster (4).\n",
      "\n",
      "/opt/conda/lib/python3.10/site-packages/sklearn_extra/cluster/_k_medoids.py:329: UserWarning:\n",
      "\n",
      "Cluster 5 is empty! self.labels_[self.medoid_indices_[5]] may not be labeled with its corresponding cluster (5).\n",
      "\n"
     ]
    }
   ],
   "source": [
    "%%time\n",
    "n = 1\n",
    "valores = [] \n",
    "for _ in range(n):\n",
    "    frontera = Frontera(X,y,percentil_min=0, percentil_max=20, num_cluster=6, method='KM')\n",
    "    punto_frontera, labels = frontera.frontier()\n",
    "    \n",
    "    resultado = renyi_entropy(punto_frontera)\n",
    "    valores.append(resultado)\n",
    "        \n",
    "# Calcular el promedio de los valores\n",
    "promedio = sum(valores) / n\n",
    "# Calcular la desviación estándar utilizando NumPy\n",
    "desviacion_estandar = np.std(valores)\n",
    "\n",
    "print('Entropía de Rényi cuadrática LSH _ART_1:', promedio[0][0],'+/-',desviacion_estandar)"
   ]
  },
  {
   "cell_type": "code",
   "execution_count": 44,
   "metadata": {
    "tags": []
   },
   "outputs": [
    {
     "data": {
      "text/plain": [
       "array([[ 1.52256473,  1.98841339],\n",
       "       [-0.18433654,  1.29916272],\n",
       "       [-0.44779083,  3.81046744],\n",
       "       [ 1.74952306,  3.11990669],\n",
       "       [ 0.62283833,  2.68731314],\n",
       "       [-0.00924066,  2.83195232]])"
      ]
     },
     "execution_count": 44,
     "metadata": {},
     "output_type": "execute_result"
    }
   ],
   "source": [
    "# optimal_k = 6\n",
    "punto_frontera"
   ]
  },
  {
   "cell_type": "code",
   "execution_count": 59,
   "metadata": {
    "tags": []
   },
   "outputs": [
    {
     "data": {
      "text/html": [
       "<iframe\n",
       "    scrolling=\"no\"\n",
       "    width=\"1220px\"\n",
       "    height=\"770\"\n",
       "    src=\"iframe_figures/figure_59.html\"\n",
       "    frameborder=\"0\"\n",
       "    allowfullscreen\n",
       "></iframe>\n"
      ]
     },
     "metadata": {},
     "output_type": "display_data"
    }
   ],
   "source": [
    "frontera.plot_frontera_2D(0,1,'X1','X2')"
   ]
  },
  {
   "cell_type": "markdown",
   "metadata": {},
   "source": [
    "## TEST "
   ]
  },
  {
   "cell_type": "code",
   "execution_count": 67,
   "metadata": {
    "tags": []
   },
   "outputs": [],
   "source": [
    "# Obtén todas las matrices del diccionario\n",
    "todas_las_matrices = list(frontera.dic_min_dst.values())\n",
    "\n",
    "# Combina todas las matrices en una sola matriz utilizando np.concatenate\n",
    "matriz_combinada = np.concatenate(todas_las_matrices)\n",
    "\n",
    "# Obtener los índices de las filas únicas\n",
    "matriz_combinada, indices = np.unique(matriz_combinada, axis=0, return_index=True)"
   ]
  },
  {
   "cell_type": "code",
   "execution_count": 28,
   "metadata": {
    "tags": []
   },
   "outputs": [],
   "source": [
    "df_1 = pd.DataFrame(matriz_combinada, columns=['X1', 'X2'])\n",
    "df_1['muestra'] = 'Input'\n",
    "df_2 = pd.DataFrame(punto_frontera, columns=['X1', 'X2'])\n",
    "df_2['muestra'] = 'Output'\n",
    "\n",
    "# Combina los DataFrames por filas utilizando concat()\n",
    "df_combined = pd.concat([df_1, df_2])"
   ]
  },
  {
   "cell_type": "code",
   "execution_count": 26,
   "metadata": {
    "tags": []
   },
   "outputs": [
    {
     "name": "stdout",
     "output_type": "stream",
     "text": [
      "Categoría A:\n",
      "Estadístico de prueba: 0.984027624130249\n",
      "P-valor: 0.021219661459326744\n",
      "Categoría B:\n",
      "Estadístico de prueba: 0.9295032024383545\n",
      "P-valor: 0.5762711763381958\n"
     ]
    }
   ],
   "source": [
    "## Test de Normalidad\n",
    "# Dividir los datos por categoría\n",
    "datos_cat_A = df_combined.loc[df_combined['muestra'] == 'Input', 'X2']\n",
    "datos_cat_B = df_combined.loc[df_combined['muestra'] == 'Output', 'X2']\n",
    "\n",
    "# Realizar la prueba de bondad de ajuste para la categoría A\n",
    "resultado_A = stats.kstest(datos_cat_A, 'norm')\n",
    "resultado_A = stats.normaltest(datos_cat_A)\n",
    "resultado_A = stats.shapiro(datos_cat_A)\n",
    "p_valor_A = resultado_A.pvalue\n",
    "print(\"Categoría A:\")\n",
    "print(f\"Estadístico de prueba: {resultado_A.statistic}\")\n",
    "print(f\"P-valor: {p_valor_A}\")\n",
    "\n",
    "# Realizar la prueba de bondad de ajuste para la categoría B\n",
    "#resultado_B = stats.normaltest(datos_cat_B)\n",
    "### Realizar pruebas de normalidad con 30 < datos quita potencia a la prueba\n",
    "resultado_B = stats.shapiro(datos_cat_B)\n",
    "p_valor_B = resultado_B.pvalue\n",
    "print(\"Categoría B:\")\n",
    "print(f\"Estadístico de prueba: {resultado_B.statistic}\")\n",
    "print(f\"P-valor: {p_valor_B}\")"
   ]
  },
  {
   "cell_type": "code",
   "execution_count": 79,
   "metadata": {
    "tags": []
   },
   "outputs": [
    {
     "data": {
      "text/html": [
       "<div>\n",
       "<style scoped>\n",
       "    .dataframe tbody tr th:only-of-type {\n",
       "        vertical-align: middle;\n",
       "    }\n",
       "\n",
       "    .dataframe tbody tr th {\n",
       "        vertical-align: top;\n",
       "    }\n",
       "\n",
       "    .dataframe thead th {\n",
       "        text-align: right;\n",
       "    }\n",
       "</style>\n",
       "<table border=\"1\" class=\"dataframe\">\n",
       "  <thead>\n",
       "    <tr style=\"text-align: right;\">\n",
       "      <th></th>\n",
       "      <th>W</th>\n",
       "      <th>pval</th>\n",
       "      <th>equal_var</th>\n",
       "    </tr>\n",
       "  </thead>\n",
       "  <tbody>\n",
       "    <tr>\n",
       "      <th>levene</th>\n",
       "      <td>0.309084</td>\n",
       "      <td>0.57889</td>\n",
       "      <td>True</td>\n",
       "    </tr>\n",
       "  </tbody>\n",
       "</table>\n",
       "</div>"
      ],
      "text/plain": [
       "               W     pval  equal_var\n",
       "levene  0.309084  0.57889       True"
      ]
     },
     "execution_count": 79,
     "metadata": {},
     "output_type": "execute_result"
    }
   ],
   "source": [
    "# Test de homocedasticidad\n",
    "# ==============================================================================\n",
    "pg.homoscedasticity(data=df_combined, dv='X1', group='muestra', method='levene')"
   ]
  },
  {
   "cell_type": "code",
   "execution_count": 80,
   "metadata": {
    "tags": []
   },
   "outputs": [
    {
     "data": {
      "text/html": [
       "<div>\n",
       "<style scoped>\n",
       "    .dataframe tbody tr th:only-of-type {\n",
       "        vertical-align: middle;\n",
       "    }\n",
       "\n",
       "    .dataframe tbody tr th {\n",
       "        vertical-align: top;\n",
       "    }\n",
       "\n",
       "    .dataframe thead th {\n",
       "        text-align: right;\n",
       "    }\n",
       "</style>\n",
       "<table border=\"1\" class=\"dataframe\">\n",
       "  <thead>\n",
       "    <tr style=\"text-align: right;\">\n",
       "      <th></th>\n",
       "      <th>W</th>\n",
       "      <th>pval</th>\n",
       "      <th>equal_var</th>\n",
       "    </tr>\n",
       "  </thead>\n",
       "  <tbody>\n",
       "    <tr>\n",
       "      <th>levene</th>\n",
       "      <td>0.864646</td>\n",
       "      <td>0.353609</td>\n",
       "      <td>True</td>\n",
       "    </tr>\n",
       "  </tbody>\n",
       "</table>\n",
       "</div>"
      ],
      "text/plain": [
       "               W      pval  equal_var\n",
       "levene  0.864646  0.353609       True"
      ]
     },
     "execution_count": 80,
     "metadata": {},
     "output_type": "execute_result"
    }
   ],
   "source": [
    "pg.homoscedasticity(data=df_combined, dv='X2', group='muestra', method='levene')"
   ]
  },
  {
   "cell_type": "code",
   "execution_count": 83,
   "metadata": {
    "tags": []
   },
   "outputs": [
    {
     "data": {
      "text/html": [
       "<div>\n",
       "<style scoped>\n",
       "    .dataframe tbody tr th:only-of-type {\n",
       "        vertical-align: middle;\n",
       "    }\n",
       "\n",
       "    .dataframe tbody tr th {\n",
       "        vertical-align: top;\n",
       "    }\n",
       "\n",
       "    .dataframe thead th {\n",
       "        text-align: right;\n",
       "    }\n",
       "</style>\n",
       "<table border=\"1\" class=\"dataframe\">\n",
       "  <thead>\n",
       "    <tr style=\"text-align: right;\">\n",
       "      <th></th>\n",
       "      <th>U-val</th>\n",
       "      <th>alternative</th>\n",
       "      <th>p-val</th>\n",
       "      <th>RBC</th>\n",
       "      <th>CLES</th>\n",
       "    </tr>\n",
       "  </thead>\n",
       "  <tbody>\n",
       "    <tr>\n",
       "      <th>MWU</th>\n",
       "      <td>583.0</td>\n",
       "      <td>two-sided</td>\n",
       "      <td>0.891312</td>\n",
       "      <td>-0.033688</td>\n",
       "      <td>0.516844</td>\n",
       "    </tr>\n",
       "  </tbody>\n",
       "</table>\n",
       "</div>"
      ],
      "text/plain": [
       "     U-val alternative     p-val       RBC      CLES\n",
       "MWU  583.0   two-sided  0.891312 -0.033688  0.516844"
      ]
     },
     "execution_count": 83,
     "metadata": {},
     "output_type": "execute_result"
    }
   ],
   "source": [
    "# U-test (p-value y tamaño de efecto)\n",
    "# ==============================================================================\n",
    "pg.mwu(x=datos_cat_A, y=datos_cat_B, alternative='two-sided')"
   ]
  },
  {
   "cell_type": "code",
   "execution_count": 72,
   "metadata": {
    "tags": []
   },
   "outputs": [
    {
     "name": "stdout",
     "output_type": "stream",
     "text": [
      "Entropía de Rényi cuadrática NF: [[2.12209779]]\n",
      "Entropía de Rényi cuadrática PCF: [[1.56684729]]\n",
      "Entropía de Rényi cuadrática RANDOM _ART_1: 1.3718088454337458 +/- 0.1426991030869405\n"
     ]
    }
   ],
   "source": [
    "entropy_df1 = renyi_entropy(matriz_combinada)\n",
    "entropy_df2 = renyi_entropy(punto_frontera)\n",
    "entropy_df3 = renyi_entropy(matriz_seleccionada)\n",
    "\n",
    "print('Entropía de Rényi cuadrática NF:', entropy_df1)\n",
    "print('Entropía de Rényi cuadrática PCF:', entropy_df2)\n",
    "\n",
    "n = 10000\n",
    "valores = [] \n",
    "# Iterar n veces y guardar los valores en la lista\n",
    "for _ in range(n):\n",
    "    \n",
    "    # Obtén los índices aleatorios para seleccionar los puntos\n",
    "    indices_aleatorios = np.random.choice(range(matriz_combinada.shape[0]), size=5, replace=False)\n",
    "    # Crea la matriz seleccionada a partir de los puntos aleatorios\n",
    "    matriz_seleccionada = matriz_combinada[indices_aleatorios]\n",
    "    \n",
    "    resultado = renyi_entropy(matriz_seleccionada)\n",
    "    valores.append(resultado)\n",
    "\n",
    "# Calcular el promedio de los valores\n",
    "promedio = sum(valores) / n\n",
    "# Calcular la desviación estándar utilizando NumPy\n",
    "desviacion_estandar = np.std(valores)\n",
    "\n",
    "print('Entropía de Rényi cuadrática RANDOM _ART_1:', promedio[0][0],'+/-',desviacion_estandar)"
   ]
  },
  {
   "cell_type": "code",
   "execution_count": 212,
   "metadata": {
    "tags": []
   },
   "outputs": [
    {
     "name": "stdout",
     "output_type": "stream",
     "text": [
      "231\n",
      "6\n",
      "Entropía de Rényi cuadrática para df1: 0.7593112444363606\n",
      "Entropía de Rényi cuadrática para df2: 3.777860550013416\n"
     ]
    }
   ],
   "source": [
    "# Uso de la función\n",
    "df1 = matriz_combinada\n",
    "df2 = punto_frontera\n",
    "entropy_df1 = quadratic_renyi_entropy(df1)\n",
    "entropy_df2 = quadratic_renyi_entropy(df2)\n",
    "print('Entropía de Rényi cuadrática para df1:', entropy_df1)\n",
    "print('Entropía de Rényi cuadrática para df2:', entropy_df2)"
   ]
  },
  {
   "cell_type": "code",
   "execution_count": null,
   "metadata": {
    "tags": []
   },
   "outputs": [],
   "source": [
    "# Crear una figura y ejes para los subplots\n",
    "fig, axes = plt.subplots(nrows=1, ncols=2, figsize=(10, 5))\n",
    "\n",
    "# Gráfico de distribución para la categoría A\n",
    "sns.histplot(data=df_combined[df_combined['muestra'] == 'Input'], x='X2', kde=True, ax=axes[0])\n",
    "axes[0].set_title('Distribución - Categoría A')\n",
    "\n",
    "# Gráfico de distribución para la categoría B\n",
    "sns.histplot(data=df_combined[df_combined['muestra'] == 'Output'], x='X2', kde=True, ax=axes[1])\n",
    "axes[1].set_title('Distribución - Categoría B')\n",
    "\n",
    "# Ajustar los espacios entre subplots\n",
    "plt.tight_layout()\n",
    "\n",
    "# Mostrar los gráficos\n",
    "plt.show()"
   ]
  },
  {
   "cell_type": "code",
   "execution_count": null,
   "metadata": {},
   "outputs": [],
   "source": []
  },
  {
   "cell_type": "markdown",
   "metadata": {
    "id": "VA2PT9Gbi2gu"
   },
   "source": [
    "# **MNIST**"
   ]
  },
  {
   "cell_type": "code",
   "execution_count": 251,
   "metadata": {
    "id": "hwypu3rvi2gu",
    "tags": []
   },
   "outputs": [
    {
     "name": "stdout",
     "output_type": "stream",
     "text": [
      "Downloading data from https://storage.googleapis.com/tensorflow/tf-keras-datasets/mnist.npz\n",
      "11490434/11490434 [==============================] - 3s 0us/step\n"
     ]
    }
   ],
   "source": [
    "import tensorflow as tf\n",
    "\n",
    "(x_train, y_train), (x_test, y_test) = tf.keras.datasets.mnist.load_data()\n",
    "\n",
    "# # Normalize the pixel values\n",
    "#x_train = x_train / 255.0\n",
    "#x_test = x_test / 255.0\n",
    "\n",
    "# Flatten and transpose images\n",
    "x_train_flat = x_train.reshape(x_train.shape[0], -1)\n",
    "# x_test_flat = x_test.reshape(x_test.shape[0], -1).T\n",
    "\n",
    "# Add labels as an additional column vector\n",
    "y_train_col = y_train.reshape(1, y_train.shape[0]).T\n",
    "# y_test_col = y_test.reshape(1, y_test.shape[0])"
   ]
  },
  {
   "cell_type": "code",
   "execution_count": 300,
   "metadata": {
    "tags": []
   },
   "outputs": [
    {
     "data": {
      "text/plain": [
       "(60000, 28, 28)"
      ]
     },
     "execution_count": 300,
     "metadata": {},
     "output_type": "execute_result"
    }
   ],
   "source": [
    "x_train.shape"
   ]
  },
  {
   "cell_type": "code",
   "execution_count": 252,
   "metadata": {
    "id": "LfD-RiXiaDur",
    "tags": []
   },
   "outputs": [],
   "source": [
    "# Fijamos una semilla para el generador de números aleatorios\n",
    "semilla = 42\n",
    "\n",
    "# Creamos un objeto generador de números aleatorios con la semilla fijada\n",
    "rng = np.random.RandomState(semilla)\n",
    "\n",
    "# Generamos una permutación aleatoria de los índices de ambos arrays\n",
    "indices_perm = rng.permutation(1000)\n",
    "\n",
    "# Obtenemos las muestras aleatorias utilizando los índices permutados\n",
    "muestra_array1 = x_train_flat[indices_perm]/255.0\n",
    "muestra_array2 = y_train_col[indices_perm]"
   ]
  },
  {
   "cell_type": "code",
   "execution_count": 254,
   "metadata": {
    "id": "LXBboFT-aDus",
    "tags": []
   },
   "outputs": [
    {
     "name": "stdout",
     "output_type": "stream",
     "text": [
      "(1000, 784)\n",
      "(1000, 1)\n"
     ]
    }
   ],
   "source": [
    "#muestra_array2 = muestra_array2.reshape(1,-1)\n",
    "print(muestra_array1.shape)\n",
    "print(muestra_array2.shape)"
   ]
  },
  {
   "cell_type": "code",
   "execution_count": 253,
   "metadata": {
    "id": "4khMSTr3aDur",
    "tags": []
   },
   "outputs": [
    {
     "data": {
      "image/png": "[encoded data removed]",
      "text/plain": [
       "<Figure size 700x700 with 8 Axes>"
      ]
     },
     "metadata": {},
     "output_type": "display_data"
    }
   ],
   "source": [
    "import matplotlib.pyplot as plt\n",
    "\n",
    "# Function to display images\n",
    "def display_images(images, labels, num_images=8):\n",
    "    fig, axes = plt.subplots(1, num_images, figsize=(7, 7))\n",
    "    axes = axes.ravel()\n",
    "\n",
    "    for i in range(num_images):\n",
    "        axes[i].imshow(images[i].reshape(28, 28), cmap='gray')\n",
    "        axes[i].set_title(f\"Label: {labels[i]}\", fontsize=10)\n",
    "        axes[i].axis('off')\n",
    "\n",
    "    plt.subplots_adjust(wspace=0.5)\n",
    "\n",
    "# Display first 10 filtered images from the training set\n",
    "display_images(muestra_array1, muestra_array2)\n",
    "plt.show()"
   ]
  },
  {
   "cell_type": "code",
   "execution_count": 382,
   "metadata": {
    "id": "vnOre4jXi2gv",
    "tags": []
   },
   "outputs": [],
   "source": [
    "%run frontera_v4.ipynb"
   ]
  },
  {
   "cell_type": "code",
   "execution_count": 378,
   "metadata": {
    "tags": []
   },
   "outputs": [],
   "source": [
    "frontera = Frontera(muestra_array1,muestra_array2,percentil_min=0, percentil_max=20, Closeness_Factor=180000)"
   ]
  },
  {
   "cell_type": "code",
   "execution_count": 383,
   "metadata": {
    "tags": []
   },
   "outputs": [],
   "source": [
    "frontera = Frontera(muestra_array1,muestra_array2,percentil_min=0, percentil_max=25, method='LSH')"
   ]
  },
  {
   "cell_type": "code",
   "execution_count": 384,
   "metadata": {
    "id": "Uw-H5JTsi2gv",
    "scrolled": true,
    "tags": []
   },
   "outputs": [],
   "source": [
    "# mnist:180000\n",
    "vec, lab = frontera.frontier()"
   ]
  },
  {
   "cell_type": "code",
   "execution_count": 385,
   "metadata": {
    "tags": []
   },
   "outputs": [
    {
     "data": {
      "text/plain": [
       "[1]"
      ]
     },
     "execution_count": 385,
     "metadata": {},
     "output_type": "execute_result"
    }
   ],
   "source": [
    "lab"
   ]
  },
  {
   "cell_type": "code",
   "execution_count": 367,
   "metadata": {
    "tags": []
   },
   "outputs": [
    {
     "data": {
      "text/plain": [
       "(4320, 784)"
      ]
     },
     "execution_count": 367,
     "metadata": {},
     "output_type": "execute_result"
    }
   ],
   "source": [
    "frontera.X_1.shape"
   ]
  },
  {
   "cell_type": "code",
   "execution_count": 300,
   "metadata": {
    "tags": []
   },
   "outputs": [
    {
     "data": {
      "text/plain": [
       "(97, 784)"
      ]
     },
     "execution_count": 300,
     "metadata": {},
     "output_type": "execute_result"
    }
   ],
   "source": [
    "frontera.dic_categorias.get('X_0').shape"
   ]
  },
  {
   "cell_type": "code",
   "execution_count": 301,
   "metadata": {
    "tags": []
   },
   "outputs": [
    {
     "data": {
      "text/plain": [
       "(19, 784)"
      ]
     },
     "execution_count": 301,
     "metadata": {},
     "output_type": "execute_result"
    }
   ],
   "source": [
    "frontera.dic_min_dst.get('X_0_with_X_1').shape"
   ]
  },
  {
   "cell_type": "code",
   "execution_count": 302,
   "metadata": {
    "tags": []
   },
   "outputs": [
    {
     "data": {
      "text/plain": [
       "(171, 784)"
      ]
     },
     "execution_count": 302,
     "metadata": {},
     "output_type": "execute_result"
    }
   ],
   "source": [
    "frontera.Frontier_Point_A_X.get('FrontPoints:(0,X)').shape"
   ]
  },
  {
   "cell_type": "code",
   "execution_count": 303,
   "metadata": {
    "tags": []
   },
   "outputs": [
    {
     "ename": "AttributeError",
     "evalue": "'NoneType' object has no attribute 'shape'",
     "output_type": "error",
     "traceback": [
      "\u001b[0;31m---------------------------------------------------------------------------\u001b[0m",
      "\u001b[0;31mAttributeError\u001b[0m                            Traceback (most recent call last)",
      "Cell \u001b[0;32mIn[303], line 1\u001b[0m\n\u001b[0;32m----> 1\u001b[0m \u001b[43mfrontera\u001b[49m\u001b[38;5;241;43m.\u001b[39;49m\u001b[43mFrontier_Point\u001b[49m\u001b[38;5;241;43m.\u001b[39;49m\u001b[43mget\u001b[49m\u001b[43m(\u001b[49m\u001b[38;5;124;43m'\u001b[39;49m\u001b[38;5;124;43mFrontier:(0,X)\u001b[39;49m\u001b[38;5;124;43m'\u001b[39;49m\u001b[43m)\u001b[49m\u001b[38;5;241;43m.\u001b[39;49m\u001b[43mshape\u001b[49m\n",
      "\u001b[0;31mAttributeError\u001b[0m: 'NoneType' object has no attribute 'shape'"
     ]
    }
   ],
   "source": [
    "frontera.Frontier_Point.get('Frontier:(0,X)').shape"
   ]
  },
  {
   "cell_type": "code",
   "execution_count": 304,
   "metadata": {
    "tags": []
   },
   "outputs": [
    {
     "ename": "AttributeError",
     "evalue": "'NoneType' object has no attribute 'shape'",
     "output_type": "error",
     "traceback": [
      "\u001b[0;31m---------------------------------------------------------------------------\u001b[0m",
      "\u001b[0;31mAttributeError\u001b[0m                            Traceback (most recent call last)",
      "Cell \u001b[0;32mIn[304], line 1\u001b[0m\n\u001b[0;32m----> 1\u001b[0m \u001b[43mfrontera\u001b[49m\u001b[38;5;241;43m.\u001b[39;49m\u001b[43mFrontier_Point\u001b[49m\u001b[38;5;241;43m.\u001b[39;49m\u001b[43mget\u001b[49m\u001b[43m(\u001b[49m\u001b[38;5;124;43m'\u001b[39;49m\u001b[38;5;124;43mFrontier: ALL\u001b[39;49m\u001b[38;5;124;43m'\u001b[39;49m\u001b[43m)\u001b[49m\u001b[38;5;241;43m.\u001b[39;49m\u001b[43mshape\u001b[49m\n",
      "\u001b[0;31mAttributeError\u001b[0m: 'NoneType' object has no attribute 'shape'"
     ]
    }
   ],
   "source": [
    "frontera.Frontier_Point.get('Frontier: ALL').shape"
   ]
  },
  {
   "cell_type": "code",
   "execution_count": 276,
   "metadata": {
    "tags": []
   },
   "outputs": [
    {
     "data": {
      "text/plain": [
       "array([[0., 0., 0., ..., 0., 0., 0.],\n",
       "       [0., 0., 0., ..., 0., 0., 0.],\n",
       "       [0., 0., 0., ..., 0., 0., 0.],\n",
       "       ...,\n",
       "       [0., 0., 0., ..., 0., 0., 0.],\n",
       "       [0., 0., 0., ..., 0., 0., 0.],\n",
       "       [0., 0., 0., ..., 0., 0., 0.]])"
      ]
     },
     "execution_count": 276,
     "metadata": {},
     "output_type": "execute_result"
    }
   ],
   "source": [
    "vec"
   ]
  },
  {
   "cell_type": "code",
   "execution_count": null,
   "metadata": {
    "tags": []
   },
   "outputs": [],
   "source": []
  },
  {
   "cell_type": "code",
   "execution_count": 386,
   "metadata": {
    "tags": []
   },
   "outputs": [
    {
     "ename": "IndexError",
     "evalue": "index 1 is out of bounds for axis 0 with size 1",
     "output_type": "error",
     "traceback": [
      "\u001b[0;31m---------------------------------------------------------------------------\u001b[0m",
      "\u001b[0;31mIndexError\u001b[0m                                Traceback (most recent call last)",
      "Cell \u001b[0;32mIn[386], line 1\u001b[0m\n\u001b[0;32m----> 1\u001b[0m \u001b[43mdisplay_images\u001b[49m\u001b[43m(\u001b[49m\u001b[43mvec\u001b[49m\u001b[43m[\u001b[49m\u001b[38;5;241;43m0\u001b[39;49m\u001b[43m:\u001b[49m\u001b[43m]\u001b[49m\u001b[43m,\u001b[49m\u001b[43m \u001b[49m\u001b[43mlab\u001b[49m\u001b[43m[\u001b[49m\u001b[38;5;241;43m0\u001b[39;49m\u001b[43m:\u001b[49m\u001b[43m]\u001b[49m\u001b[43m,\u001b[49m\u001b[43mnum_images\u001b[49m\u001b[38;5;241;43m=\u001b[39;49m\u001b[38;5;241;43m4\u001b[39;49m\u001b[43m)\u001b[49m\n\u001b[1;32m      2\u001b[0m plt\u001b[38;5;241m.\u001b[39mshow()\n",
      "Cell \u001b[0;32mIn[253], line 9\u001b[0m, in \u001b[0;36mdisplay_images\u001b[0;34m(images, labels, num_images)\u001b[0m\n\u001b[1;32m      6\u001b[0m axes \u001b[38;5;241m=\u001b[39m axes\u001b[38;5;241m.\u001b[39mravel()\n\u001b[1;32m      8\u001b[0m \u001b[38;5;28;01mfor\u001b[39;00m i \u001b[38;5;129;01min\u001b[39;00m \u001b[38;5;28mrange\u001b[39m(num_images):\n\u001b[0;32m----> 9\u001b[0m     axes[i]\u001b[38;5;241m.\u001b[39mimshow(\u001b[43mimages\u001b[49m\u001b[43m[\u001b[49m\u001b[43mi\u001b[49m\u001b[43m]\u001b[49m\u001b[38;5;241m.\u001b[39mreshape(\u001b[38;5;241m28\u001b[39m, \u001b[38;5;241m28\u001b[39m), cmap\u001b[38;5;241m=\u001b[39m\u001b[38;5;124m'\u001b[39m\u001b[38;5;124mgray\u001b[39m\u001b[38;5;124m'\u001b[39m)\n\u001b[1;32m     10\u001b[0m     axes[i]\u001b[38;5;241m.\u001b[39mset_title(\u001b[38;5;124mf\u001b[39m\u001b[38;5;124m\"\u001b[39m\u001b[38;5;124mLabel: \u001b[39m\u001b[38;5;132;01m{\u001b[39;00mlabels[i]\u001b[38;5;132;01m}\u001b[39;00m\u001b[38;5;124m\"\u001b[39m, fontsize\u001b[38;5;241m=\u001b[39m\u001b[38;5;241m10\u001b[39m)\n\u001b[1;32m     11\u001b[0m     axes[i]\u001b[38;5;241m.\u001b[39maxis(\u001b[38;5;124m'\u001b[39m\u001b[38;5;124moff\u001b[39m\u001b[38;5;124m'\u001b[39m)\n",
      "\u001b[0;31mIndexError\u001b[0m: index 1 is out of bounds for axis 0 with size 1"
     ]
    },
    {
     "data": {
      "image/png": "[encoded data removed]",
      "text/plain": [
       "<Figure size 700x700 with 4 Axes>"
      ]
     },
     "metadata": {},
     "output_type": "display_data"
    }
   ],
   "source": [
    "display_images(vec[0:], lab[0:],num_images=4)\n",
    "plt.show()"
   ]
  },
  {
   "cell_type": "code",
   "execution_count": 278,
   "metadata": {
    "tags": []
   },
   "outputs": [
    {
     "data": {
      "image/png": "[encoded data removed]",
      "text/plain": [
       "<Figure size 700x700 with 4 Axes>"
      ]
     },
     "metadata": {},
     "output_type": "display_data"
    }
   ],
   "source": [
    "display_images(vec[4:], lab[4:],num_images=4)\n",
    "plt.show()"
   ]
  },
  {
   "cell_type": "code",
   "execution_count": 279,
   "metadata": {
    "tags": []
   },
   "outputs": [
    {
     "data": {
      "image/png": "[encoded data removed]",
      "text/plain": [
       "<Figure size 700x700 with 4 Axes>"
      ]
     },
     "metadata": {},
     "output_type": "display_data"
    }
   ],
   "source": [
    "display_images(vec[8:], lab[8:],num_images=4)\n",
    "plt.show()"
   ]
  },
  {
   "cell_type": "code",
   "execution_count": 280,
   "metadata": {
    "tags": []
   },
   "outputs": [
    {
     "data": {
      "image/png": "[encoded data removed]",
      "text/plain": [
       "<Figure size 700x700 with 4 Axes>"
      ]
     },
     "metadata": {},
     "output_type": "display_data"
    }
   ],
   "source": [
    "display_images(vec[12:], lab[12:],num_images=4)\n",
    "plt.show()"
   ]
  },
  {
   "cell_type": "code",
   "execution_count": 281,
   "metadata": {
    "tags": []
   },
   "outputs": [
    {
     "data": {
      "image/png": "[encoded data removed]",
      "text/plain": [
       "<Figure size 700x700 with 4 Axes>"
      ]
     },
     "metadata": {},
     "output_type": "display_data"
    }
   ],
   "source": [
    "display_images(vec[16:], lab[16:],num_images=4)\n",
    "plt.show()"
   ]
  },
  {
   "cell_type": "code",
   "execution_count": 154,
   "metadata": {
    "tags": []
   },
   "outputs": [],
   "source": [
    "# Obtener las imágenes originales\n",
    "original_images = vec.reshape((22, 28, 28))"
   ]
  },
  {
   "cell_type": "code",
   "execution_count": 169,
   "metadata": {
    "tags": []
   },
   "outputs": [
    {
     "data": {
      "image/png": "[encoded data removed]",
      "text/plain": [
       "<Figure size 640x480 with 1 Axes>"
      ]
     },
     "metadata": {},
     "output_type": "display_data"
    }
   ],
   "source": [
    "# Obtener el índice de la imagen a graficar\n",
    "index = 0  # Cambia esto según el índice que desees graficar\n",
    "\n",
    "# Obtener la imagen correspondiente al índice seleccionado\n",
    "image = original_images[index]\n",
    "\n",
    "# Graficar la imagen\n",
    "plt.imshow(image, cmap='gray')\n",
    "plt.show()"
   ]
  },
  {
   "cell_type": "code",
   "execution_count": null,
   "metadata": {},
   "outputs": [],
   "source": []
  },
  {
   "cell_type": "code",
   "execution_count": 195,
   "metadata": {
    "id": "0FJL_i8GaDut",
    "tags": []
   },
   "outputs": [
    {
     "data": {
      "text/html": [
       "<iframe\n",
       "    scrolling=\"no\"\n",
       "    width=\"620px\"\n",
       "    height=\"620\"\n",
       "    src=\"iframe_figures/figure_195.html\"\n",
       "    frameborder=\"0\"\n",
       "    allowfullscreen\n",
       "></iframe>\n"
      ]
     },
     "metadata": {},
     "output_type": "display_data"
    }
   ],
   "source": [
    "frontera.plot_muestra_2D( int(600/2),int(600/2+1) )"
   ]
  },
  {
   "cell_type": "code",
   "execution_count": null,
   "metadata": {
    "id": "diWYR6tEaDut",
    "tags": []
   },
   "outputs": [],
   "source": [
    "frontera.plot_frontera_2D( int(600/2),int(600/2+1) )"
   ]
  },
  {
   "cell_type": "code",
   "execution_count": null,
   "metadata": {
    "id": "zL9QLNWEaDut",
    "tags": []
   },
   "outputs": [],
   "source": [
    "frontera.plot_UMAP()"
   ]
  },
  {
   "cell_type": "markdown",
   "metadata": {
    "id": "-t0_KTpuaDuu"
   },
   "source": [
    "# **IRIS**"
   ]
  },
  {
   "cell_type": "code",
   "execution_count": 2,
   "metadata": {
    "id": "CDqFR8i7i2gw",
    "tags": []
   },
   "outputs": [],
   "source": [
    "from sklearn.datasets import load_iris\n",
    "from sklearn.tree import DecisionTreeClassifier\n",
    "import matplotlib.pyplot as plt"
   ]
  },
  {
   "cell_type": "code",
   "execution_count": 3,
   "metadata": {
    "tags": []
   },
   "outputs": [],
   "source": [
    "# Cargar el dataset de iris\n",
    "iris = load_iris()\n",
    "\n",
    "# Obtener las características (X) como una matriz NumPy\n",
    "X = iris.data\n",
    "\n",
    "# Obtener las etiquetas (y) como una matriz NumPy\n",
    "y = iris.target"
   ]
  },
  {
   "cell_type": "code",
   "execution_count": 4,
   "metadata": {
    "tags": []
   },
   "outputs": [
    {
     "name": "stdout",
     "output_type": "stream",
     "text": [
      "Forma de X: (150, 4)\n",
      "Forma de y: (150,)\n"
     ]
    }
   ],
   "source": [
    "# Imprimir las formas de las matrices\n",
    "print(\"Forma de X:\", X.shape)\n",
    "print(\"Forma de y:\", y.shape)"
   ]
  },
  {
   "cell_type": "code",
   "execution_count": 66,
   "metadata": {
    "tags": []
   },
   "outputs": [
    {
     "data": {
      "image/png": "[encoded data removed]",
      "text/plain": [
       "<Figure size 1200x800 with 6 Axes>"
      ]
     },
     "metadata": {},
     "output_type": "display_data"
    }
   ],
   "source": [
    "# Crear un diagrama de dispersión para cada par de características usando subplot\n",
    "fig, axes = plt.subplots(2, 3, figsize=(12, 8))\n",
    "\n",
    "# Índices de las características\n",
    "feature_indices = [(0, 1), (0, 2), (0, 3), (1, 2), (1, 3), (2, 3)]\n",
    "\n",
    "# Pintar los scatter plots en los subplots correspondientes\n",
    "for i, (x_index, y_index) in enumerate(feature_indices):\n",
    "    ax = axes[i // 3, i % 3]\n",
    "    ax.scatter(X[:, x_index], X[:, y_index], c=y, cmap='viridis')\n",
    "    ax.set_xlabel(iris.feature_names[x_index])\n",
    "    ax.set_ylabel(iris.feature_names[y_index])\n",
    "    ax.set_title(f\"{iris.feature_names[x_index]} vs {iris.feature_names[y_index]}\")\n",
    "    legend = ax.legend(iris.target_names, title=\"Especies\")\n",
    "    ax.add_artist(legend)\n",
    "\n",
    "# Ajustar los espacios entre los subplots\n",
    "plt.tight_layout()\n",
    "\n",
    "# Mostrar los scatter plots\n",
    "plt.show()"
   ]
  },
  {
   "cell_type": "code",
   "execution_count": 5,
   "metadata": {
    "tags": []
   },
   "outputs": [
    {
     "name": "stdout",
     "output_type": "stream",
     "text": [
      "sepal length (cm): 0.0\n",
      "sepal width (cm): 0.013333333333333329\n",
      "petal length (cm): 0.06405595813204505\n",
      "petal width (cm): 0.9226107085346216\n"
     ]
    }
   ],
   "source": [
    "# Entrenar un árbol de decisión\n",
    "clf = DecisionTreeClassifier()\n",
    "clf.fit(X, y)\n",
    "\n",
    "# Obtener la importancia de las características\n",
    "importance = clf.feature_importances_\n",
    "\n",
    "# Imprimir la importancia de las características\n",
    "for i, feature in enumerate(iris.feature_names):\n",
    "    print(f\"{feature}: {importance[i]}\")"
   ]
  },
  {
   "cell_type": "code",
   "execution_count": 6,
   "metadata": {
    "tags": []
   },
   "outputs": [
    {
     "data": {
      "text/plain": [
       "['sepal length (cm)',\n",
       " 'sepal width (cm)',\n",
       " 'petal length (cm)',\n",
       " 'petal width (cm)']"
      ]
     },
     "execution_count": 6,
     "metadata": {},
     "output_type": "execute_result"
    }
   ],
   "source": [
    "iris.feature_names"
   ]
  },
  {
   "cell_type": "markdown",
   "metadata": {},
   "source": [
    "## R-BM"
   ]
  },
  {
   "cell_type": "code",
   "execution_count": 36,
   "metadata": {
    "tags": []
   },
   "outputs": [],
   "source": [
    "%run frontera_v4.ipynb"
   ]
  },
  {
   "cell_type": "code",
   "execution_count": 37,
   "metadata": {
    "tags": []
   },
   "outputs": [
    {
     "name": "stdout",
     "output_type": "stream",
     "text": [
      "Entropía de Rényi cuadrática R-BM IRIS: 0.9962935046461874 +/- 0.0\n",
      "CPU times: user 5.03 ms, sys: 3.03 ms, total: 8.06 ms\n",
      "Wall time: 6.84 ms\n"
     ]
    }
   ],
   "source": [
    "%%time\n",
    "n = 1\n",
    "valores = [] \n",
    "for _ in range(n):\n",
    "    frontera = Frontera(X,y,percentil_min=0, percentil_max=20, N_points_frontera=2, Closeness_Factor=1 )\n",
    "    punto_frontera, labels = frontera.frontier()\n",
    "    \n",
    "    resultado = renyi_entropy(punto_frontera)\n",
    "    valores.append(resultado)\n",
    "        \n",
    "# Calcular el promedio de los valores\n",
    "promedio = sum(valores) / n\n",
    "# Calcular la desviación estándar utilizando NumPy\n",
    "desviacion_estandar = np.std(valores)\n",
    "\n",
    "print('Entropía de Rényi cuadrática R-BM IRIS:', promedio[0][0],'+/-',desviacion_estandar)"
   ]
  },
  {
   "cell_type": "code",
   "execution_count": 34,
   "metadata": {
    "tags": []
   },
   "outputs": [
    {
     "data": {
      "text/plain": [
       "array([[4.85, 2.9 , 2.6 , 0.6 ],\n",
       "       [5.95, 3.1 , 4.8 , 1.8 ],\n",
       "       [6.  , 3.1 , 4.85, 1.8 ],\n",
       "       [6.15, 2.75, 5.1 , 1.55]])"
      ]
     },
     "execution_count": 34,
     "metadata": {},
     "output_type": "execute_result"
    }
   ],
   "source": [
    "punto_frontera"
   ]
  },
  {
   "cell_type": "code",
   "execution_count": 38,
   "metadata": {
    "tags": []
   },
   "outputs": [
    {
     "data": {
      "text/html": [
       "<iframe\n",
       "    scrolling=\"no\"\n",
       "    width=\"1220px\"\n",
       "    height=\"770\"\n",
       "    src=\"iframe_figures/figure_38.html\"\n",
       "    frameborder=\"0\"\n",
       "    allowfullscreen\n",
       "></iframe>\n"
      ]
     },
     "metadata": {},
     "output_type": "display_data"
    }
   ],
   "source": [
    "frontera.plot_frontera_2D(2,3,'petal length (cm)','petal width (cm)')"
   ]
  },
  {
   "cell_type": "markdown",
   "metadata": {
    "tags": []
   },
   "source": [
    "## LSH"
   ]
  },
  {
   "cell_type": "code",
   "execution_count": 41,
   "metadata": {
    "tags": []
   },
   "outputs": [],
   "source": [
    "%run frontera_v4.ipynb"
   ]
  },
  {
   "cell_type": "code",
   "execution_count": 42,
   "metadata": {
    "tags": []
   },
   "outputs": [
    {
     "name": "stdout",
     "output_type": "stream",
     "text": [
      "Entropía de Rényi cuadrática LSH IRIS: 1.3853664769462508 +/- 0.0\n",
      "CPU times: user 7.89 ms, sys: 0 ns, total: 7.89 ms\n",
      "Wall time: 6.79 ms\n"
     ]
    }
   ],
   "source": [
    "%%time\n",
    "n = 1\n",
    "valores = [] \n",
    "for _ in range(n):\n",
    "    frontera = Frontera(X, y ,percentil_min=0, percentil_max=20, num_vectors=2, method='LSH')\n",
    "    punto_frontera, labels = frontera.frontier() \n",
    "    \n",
    "    resultado = renyi_entropy(punto_frontera)\n",
    "    valores.append(resultado)\n",
    "        \n",
    "# Calcular el promedio de los valores\n",
    "promedio = sum(valores) / n\n",
    "# Calcular la desviación estándar utilizando NumPy\n",
    "desviacion_estandar = np.std(valores)\n",
    "\n",
    "print('Entropía de Rényi cuadrática LSH IRIS:', promedio[0][0],'+/-',desviacion_estandar)"
   ]
  },
  {
   "cell_type": "code",
   "execution_count": 22,
   "metadata": {
    "tags": []
   },
   "outputs": [
    {
     "data": {
      "text/plain": [
       "array([[5.225     , 3.5125    , 1.675     , 0.375     ],\n",
       "       [6.34166667, 3.04166667, 4.83333333, 1.64166667],\n",
       "       [5.        , 3.        , 1.6       , 0.2       ],\n",
       "       [5.76666667, 2.57916667, 4.4625    , 1.5       ]])"
      ]
     },
     "execution_count": 22,
     "metadata": {},
     "output_type": "execute_result"
    }
   ],
   "source": [
    "punto_frontera"
   ]
  },
  {
   "cell_type": "code",
   "execution_count": 23,
   "metadata": {
    "tags": []
   },
   "outputs": [
    {
     "data": {
      "text/plain": [
       "array([5.225 , 3.5125, 1.675 , 0.375 ])"
      ]
     },
     "execution_count": 23,
     "metadata": {},
     "output_type": "execute_result"
    }
   ],
   "source": [
    "frontera.centroids.get('Centroid Group: 0')"
   ]
  },
  {
   "cell_type": "code",
   "execution_count": 43,
   "metadata": {
    "tags": []
   },
   "outputs": [
    {
     "data": {
      "text/html": [
       "<iframe\n",
       "    scrolling=\"no\"\n",
       "    width=\"1220px\"\n",
       "    height=\"770\"\n",
       "    src=\"iframe_figures/figure_43.html\"\n",
       "    frameborder=\"0\"\n",
       "    allowfullscreen\n",
       "></iframe>\n"
      ]
     },
     "metadata": {},
     "output_type": "display_data"
    }
   ],
   "source": [
    "frontera.plot_frontera_2D(2,3,'petal length (cm)','petal width (cm)')"
   ]
  },
  {
   "cell_type": "markdown",
   "metadata": {},
   "source": [
    "## Prototypes"
   ]
  },
  {
   "cell_type": "code",
   "execution_count": 704,
   "metadata": {
    "id": "bO04z60ii2gt",
    "tags": []
   },
   "outputs": [],
   "source": [
    "%run frontera_v4.ipynb"
   ]
  },
  {
   "cell_type": "code",
   "execution_count": 44,
   "metadata": {
    "tags": []
   },
   "outputs": [
    {
     "name": "stdout",
     "output_type": "stream",
     "text": [
      "Entropía de Rényi cuadrática Prototypes IRIS: 1.3862942935043179 +/- 0.0\n",
      "CPU times: user 196 ms, sys: 22.6 ms, total: 219 ms\n",
      "Wall time: 190 ms\n"
     ]
    }
   ],
   "source": [
    "%%time\n",
    "n = 1\n",
    "valores = [] \n",
    "for _ in range(n):\n",
    "    frontera = Frontera(X,y,percentil_min=0, percentil_max=20, Closeness_Factor=3, method='prototypes')\n",
    "    punto_frontera, labels = frontera.frontier()  \n",
    "    \n",
    "    resultado = renyi_entropy(punto_frontera)\n",
    "    valores.append(resultado)\n",
    "        \n",
    "# Calcular el promedio de los valores\n",
    "promedio = sum(valores) / n\n",
    "# Calcular la desviación estándar utilizando NumPy\n",
    "desviacion_estandar = np.std(valores)\n",
    "\n",
    "print('Entropía de Rényi cuadrática Prototypes IRIS:', promedio[0][0],'+/-',desviacion_estandar)"
   ]
  },
  {
   "cell_type": "code",
   "execution_count": 19,
   "metadata": {
    "tags": []
   },
   "outputs": [
    {
     "data": {
      "text/plain": [
       "array([[5.4, 3.4, 1.7, 0.2],\n",
       "       [5.5, 2.4, 3.7, 1. ],\n",
       "       [6.9, 3.1, 4.9, 1.5],\n",
       "       [5.8, 2.7, 5.1, 1.9]])"
      ]
     },
     "execution_count": 19,
     "metadata": {},
     "output_type": "execute_result"
    }
   ],
   "source": [
    "punto_frontera"
   ]
  },
  {
   "cell_type": "code",
   "execution_count": 45,
   "metadata": {
    "tags": []
   },
   "outputs": [
    {
     "data": {
      "text/html": [
       "<iframe\n",
       "    scrolling=\"no\"\n",
       "    width=\"1220px\"\n",
       "    height=\"770\"\n",
       "    src=\"iframe_figures/figure_45.html\"\n",
       "    frameborder=\"0\"\n",
       "    allowfullscreen\n",
       "></iframe>\n"
      ]
     },
     "metadata": {},
     "output_type": "display_data"
    }
   ],
   "source": [
    "frontera.plot_frontera_2D(2,3,'petal length (cm)','petal width (cm)')"
   ]
  },
  {
   "cell_type": "markdown",
   "metadata": {},
   "source": [
    "# Kmedoids"
   ]
  },
  {
   "cell_type": "code",
   "execution_count": 27,
   "metadata": {
    "tags": []
   },
   "outputs": [],
   "source": [
    "%run frontera_v4.ipynb"
   ]
  },
  {
   "cell_type": "code",
   "execution_count": 46,
   "metadata": {
    "tags": []
   },
   "outputs": [
    {
     "name": "stdout",
     "output_type": "stream",
     "text": [
      "Entropía de Rényi cuadrática Kmedoids IRIS: 1.3862581220460772 +/- 0.0\n",
      "CPU times: user 11.1 ms, sys: 29.5 ms, total: 40.6 ms\n",
      "Wall time: 9.42 ms\n"
     ]
    },
    {
     "name": "stderr",
     "output_type": "stream",
     "text": [
      "/opt/conda/lib/python3.10/site-packages/sklearn_extra/cluster/_k_medoids.py:329: UserWarning:\n",
      "\n",
      "Cluster 1 is empty! self.labels_[self.medoid_indices_[1]] may not be labeled with its corresponding cluster (1).\n",
      "\n",
      "/opt/conda/lib/python3.10/site-packages/sklearn_extra/cluster/_k_medoids.py:329: UserWarning:\n",
      "\n",
      "Cluster 3 is empty! self.labels_[self.medoid_indices_[3]] may not be labeled with its corresponding cluster (3).\n",
      "\n"
     ]
    }
   ],
   "source": [
    "%%time\n",
    "n = 1\n",
    "valores = [] \n",
    "for _ in range(n):\n",
    "    frontera = Frontera(X,y,percentil_min=0, percentil_max=20, num_cluster=4, method='KM')\n",
    "    punto_frontera, labels = frontera.frontier()\n",
    "    \n",
    "    resultado = renyi_entropy(punto_frontera)\n",
    "    valores.append(resultado)\n",
    "        \n",
    "# Calcular el promedio de los valores\n",
    "promedio = sum(valores) / n\n",
    "# Calcular la desviación estándar utilizando NumPy\n",
    "desviacion_estandar = np.std(valores)\n",
    "\n",
    "print('Entropía de Rényi cuadrática Kmedoids IRIS:', promedio[0][0],'+/-',desviacion_estandar)"
   ]
  },
  {
   "cell_type": "code",
   "execution_count": 708,
   "metadata": {
    "tags": []
   },
   "outputs": [
    {
     "data": {
      "text/plain": [
       "array([[5. , 3.4, 1.6, 0.4],\n",
       "       [5.6, 2.9, 3.6, 1.3],\n",
       "       [6.2, 2.8, 4.8, 1.8],\n",
       "       [5.5, 2.4, 3.7, 1. ]])"
      ]
     },
     "execution_count": 708,
     "metadata": {},
     "output_type": "execute_result"
    }
   ],
   "source": [
    "punto_frontera"
   ]
  },
  {
   "cell_type": "code",
   "execution_count": 47,
   "metadata": {
    "tags": []
   },
   "outputs": [
    {
     "data": {
      "text/html": [
       "<iframe\n",
       "    scrolling=\"no\"\n",
       "    width=\"1220px\"\n",
       "    height=\"770\"\n",
       "    src=\"iframe_figures/figure_47.html\"\n",
       "    frameborder=\"0\"\n",
       "    allowfullscreen\n",
       "></iframe>\n"
      ]
     },
     "metadata": {},
     "output_type": "display_data"
    }
   ],
   "source": [
    "frontera.plot_frontera_2D(2,3,'petal length (cm)','petal width (cm)')"
   ]
  },
  {
   "cell_type": "markdown",
   "metadata": {},
   "source": [
    "## TEST "
   ]
  },
  {
   "cell_type": "code",
   "execution_count": 588,
   "metadata": {
    "tags": []
   },
   "outputs": [],
   "source": [
    "# Obtén todas las matrices del diccionario\n",
    "todas_las_matrices = list(frontera.dic_min_dst.values())\n",
    "\n",
    "# Combina todas las matrices en una sola matriz utilizando np.concatenate\n",
    "matriz_combinada = np.concatenate(todas_las_matrices)\n",
    "\n",
    "# Obtener los índices de las filas únicas\n",
    "matriz_combinada, indices = np.unique(matriz_combinada, axis=0, return_index=True)\n",
    "\n",
    "df_1 = pd.DataFrame(matriz_combinada, columns=['sepal length', 'sepal width','petal length','petal width'])\n",
    "df_1['muestra'] = 'Input'\n",
    "df_2 = pd.DataFrame(punto_frontera, columns=['sepal length', 'sepal width','petal length','petal width'])\n",
    "df_2['muestra'] = 'Output'\n",
    "\n",
    "# Combina los DataFrames por filas utilizando concat()\n",
    "df_combined = pd.concat([df_1, df_2])"
   ]
  },
  {
   "cell_type": "code",
   "execution_count": 215,
   "metadata": {
    "tags": []
   },
   "outputs": [
    {
     "name": "stdout",
     "output_type": "stream",
     "text": [
      "Categoría A:\n",
      "Estadístico de prueba: 0.7993689775466919\n",
      "P-valor: 1.2657453225983772e-05\n",
      "Categoría B:\n",
      "Estadístico de prueba: 0.9216557741165161\n",
      "P-valor: 0.5462687015533447\n"
     ]
    }
   ],
   "source": [
    "## Test de Normalidad\n",
    "# Dividir los datos por categoría\n",
    "datos_cat_A = df_combined.loc[df_combined['muestra'] == 'Input', 'petal length']\n",
    "datos_cat_B = df_combined.loc[df_combined['muestra'] == 'Output', 'petal length']\n",
    "\n",
    "# Realizar la prueba de bondad de ajuste para la categoría A\n",
    "resultado_A = stats.kstest(datos_cat_A, 'norm')\n",
    "resultado_A = stats.normaltest(datos_cat_A)\n",
    "resultado_A = stats.shapiro(datos_cat_A)\n",
    "p_valor_A = resultado_A.pvalue\n",
    "print(\"Categoría A:\")\n",
    "print(f\"Estadístico de prueba: {resultado_A.statistic}\")\n",
    "print(f\"P-valor: {p_valor_A}\")\n",
    "\n",
    "# Realizar la prueba de bondad de ajuste para la categoría B\n",
    "#resultado_B = stats.normaltest(datos_cat_B)\n",
    "### Realizar pruebas de normalidad con 30 < datos quita potencia a la prueba\n",
    "resultado_B = stats.shapiro(datos_cat_B)\n",
    "p_valor_B = resultado_B.pvalue\n",
    "print(\"Categoría B:\")\n",
    "print(f\"Estadístico de prueba: {resultado_B.statistic}\")\n",
    "print(f\"P-valor: {p_valor_B}\")"
   ]
  },
  {
   "cell_type": "code",
   "execution_count": 216,
   "metadata": {
    "tags": []
   },
   "outputs": [
    {
     "data": {
      "text/html": [
       "<div>\n",
       "<style scoped>\n",
       "    .dataframe tbody tr th:only-of-type {\n",
       "        vertical-align: middle;\n",
       "    }\n",
       "\n",
       "    .dataframe tbody tr th {\n",
       "        vertical-align: top;\n",
       "    }\n",
       "\n",
       "    .dataframe thead th {\n",
       "        text-align: right;\n",
       "    }\n",
       "</style>\n",
       "<table border=\"1\" class=\"dataframe\">\n",
       "  <thead>\n",
       "    <tr style=\"text-align: right;\">\n",
       "      <th></th>\n",
       "      <th>W</th>\n",
       "      <th>pval</th>\n",
       "      <th>equal_var</th>\n",
       "    </tr>\n",
       "  </thead>\n",
       "  <tbody>\n",
       "    <tr>\n",
       "      <th>levene</th>\n",
       "      <td>0.792801</td>\n",
       "      <td>0.378715</td>\n",
       "      <td>True</td>\n",
       "    </tr>\n",
       "  </tbody>\n",
       "</table>\n",
       "</div>"
      ],
      "text/plain": [
       "               W      pval  equal_var\n",
       "levene  0.792801  0.378715       True"
      ]
     },
     "execution_count": 216,
     "metadata": {},
     "output_type": "execute_result"
    }
   ],
   "source": [
    "# Test de homocedasticidad\n",
    "# ==============================================================================\n",
    "pg.homoscedasticity(data=df_combined, dv='sepal length', group='muestra', method='levene')"
   ]
  },
  {
   "cell_type": "code",
   "execution_count": 217,
   "metadata": {
    "tags": []
   },
   "outputs": [
    {
     "data": {
      "text/html": [
       "<div>\n",
       "<style scoped>\n",
       "    .dataframe tbody tr th:only-of-type {\n",
       "        vertical-align: middle;\n",
       "    }\n",
       "\n",
       "    .dataframe tbody tr th {\n",
       "        vertical-align: top;\n",
       "    }\n",
       "\n",
       "    .dataframe thead th {\n",
       "        text-align: right;\n",
       "    }\n",
       "</style>\n",
       "<table border=\"1\" class=\"dataframe\">\n",
       "  <thead>\n",
       "    <tr style=\"text-align: right;\">\n",
       "      <th></th>\n",
       "      <th>W</th>\n",
       "      <th>pval</th>\n",
       "      <th>equal_var</th>\n",
       "    </tr>\n",
       "  </thead>\n",
       "  <tbody>\n",
       "    <tr>\n",
       "      <th>levene</th>\n",
       "      <td>0.297295</td>\n",
       "      <td>0.588688</td>\n",
       "      <td>True</td>\n",
       "    </tr>\n",
       "  </tbody>\n",
       "</table>\n",
       "</div>"
      ],
      "text/plain": [
       "               W      pval  equal_var\n",
       "levene  0.297295  0.588688       True"
      ]
     },
     "execution_count": 217,
     "metadata": {},
     "output_type": "execute_result"
    }
   ],
   "source": [
    "pg.homoscedasticity(data=df_combined, dv='sepal width', group='muestra', method='levene')"
   ]
  },
  {
   "cell_type": "code",
   "execution_count": 218,
   "metadata": {
    "tags": []
   },
   "outputs": [
    {
     "data": {
      "text/html": [
       "<div>\n",
       "<style scoped>\n",
       "    .dataframe tbody tr th:only-of-type {\n",
       "        vertical-align: middle;\n",
       "    }\n",
       "\n",
       "    .dataframe tbody tr th {\n",
       "        vertical-align: top;\n",
       "    }\n",
       "\n",
       "    .dataframe thead th {\n",
       "        text-align: right;\n",
       "    }\n",
       "</style>\n",
       "<table border=\"1\" class=\"dataframe\">\n",
       "  <thead>\n",
       "    <tr style=\"text-align: right;\">\n",
       "      <th></th>\n",
       "      <th>W</th>\n",
       "      <th>pval</th>\n",
       "      <th>equal_var</th>\n",
       "    </tr>\n",
       "  </thead>\n",
       "  <tbody>\n",
       "    <tr>\n",
       "      <th>levene</th>\n",
       "      <td>0.227648</td>\n",
       "      <td>0.635936</td>\n",
       "      <td>True</td>\n",
       "    </tr>\n",
       "  </tbody>\n",
       "</table>\n",
       "</div>"
      ],
      "text/plain": [
       "               W      pval  equal_var\n",
       "levene  0.227648  0.635936       True"
      ]
     },
     "execution_count": 218,
     "metadata": {},
     "output_type": "execute_result"
    }
   ],
   "source": [
    "pg.homoscedasticity(data=df_combined, dv='petal length', group='muestra', method='levene')"
   ]
  },
  {
   "cell_type": "code",
   "execution_count": 219,
   "metadata": {
    "tags": []
   },
   "outputs": [
    {
     "data": {
      "text/html": [
       "<div>\n",
       "<style scoped>\n",
       "    .dataframe tbody tr th:only-of-type {\n",
       "        vertical-align: middle;\n",
       "    }\n",
       "\n",
       "    .dataframe tbody tr th {\n",
       "        vertical-align: top;\n",
       "    }\n",
       "\n",
       "    .dataframe thead th {\n",
       "        text-align: right;\n",
       "    }\n",
       "</style>\n",
       "<table border=\"1\" class=\"dataframe\">\n",
       "  <thead>\n",
       "    <tr style=\"text-align: right;\">\n",
       "      <th></th>\n",
       "      <th>W</th>\n",
       "      <th>pval</th>\n",
       "      <th>equal_var</th>\n",
       "    </tr>\n",
       "  </thead>\n",
       "  <tbody>\n",
       "    <tr>\n",
       "      <th>levene</th>\n",
       "      <td>0.041804</td>\n",
       "      <td>0.839057</td>\n",
       "      <td>True</td>\n",
       "    </tr>\n",
       "  </tbody>\n",
       "</table>\n",
       "</div>"
      ],
      "text/plain": [
       "               W      pval  equal_var\n",
       "levene  0.041804  0.839057       True"
      ]
     },
     "execution_count": 219,
     "metadata": {},
     "output_type": "execute_result"
    }
   ],
   "source": [
    "pg.homoscedasticity(data=df_combined, dv='petal width', group='muestra', method='levene')"
   ]
  },
  {
   "cell_type": "code",
   "execution_count": 220,
   "metadata": {
    "tags": []
   },
   "outputs": [
    {
     "data": {
      "text/html": [
       "<div>\n",
       "<style scoped>\n",
       "    .dataframe tbody tr th:only-of-type {\n",
       "        vertical-align: middle;\n",
       "    }\n",
       "\n",
       "    .dataframe tbody tr th {\n",
       "        vertical-align: top;\n",
       "    }\n",
       "\n",
       "    .dataframe thead th {\n",
       "        text-align: right;\n",
       "    }\n",
       "</style>\n",
       "<table border=\"1\" class=\"dataframe\">\n",
       "  <thead>\n",
       "    <tr style=\"text-align: right;\">\n",
       "      <th></th>\n",
       "      <th>U-val</th>\n",
       "      <th>alternative</th>\n",
       "      <th>p-val</th>\n",
       "      <th>RBC</th>\n",
       "      <th>CLES</th>\n",
       "    </tr>\n",
       "  </thead>\n",
       "  <tbody>\n",
       "    <tr>\n",
       "      <th>MWU</th>\n",
       "      <td>93.5</td>\n",
       "      <td>two-sided</td>\n",
       "      <td>0.402179</td>\n",
       "      <td>-0.263514</td>\n",
       "      <td>0.631757</td>\n",
       "    </tr>\n",
       "  </tbody>\n",
       "</table>\n",
       "</div>"
      ],
      "text/plain": [
       "     U-val alternative     p-val       RBC      CLES\n",
       "MWU   93.5   two-sided  0.402179 -0.263514  0.631757"
      ]
     },
     "execution_count": 220,
     "metadata": {},
     "output_type": "execute_result"
    }
   ],
   "source": [
    "# U-test (p-value y tamaño de efecto)\n",
    "# ==============================================================================\n",
    "pg.mwu(x=datos_cat_A, y=datos_cat_B, alternative='two-sided')"
   ]
  },
  {
   "cell_type": "code",
   "execution_count": 46,
   "metadata": {
    "tags": []
   },
   "outputs": [
    {
     "name": "stdout",
     "output_type": "stream",
     "text": [
      "Entropía de Rényi cuadrática NF: [[2.12603553]]\n",
      "Entropía de Rényi cuadrática PCF: [[1.38625812]]\n",
      "Entropía de Rényi cuadrática RANDOM IRIS: 1.2394424750751059 +/- 0.13238611475338702\n"
     ]
    }
   ],
   "source": [
    "np.seterr(divide='ignore', invalid='ignore')\n",
    "\n",
    "entropy_df1 = renyi_entropy(matriz_combinada)\n",
    "entropy_df2 = renyi_entropy(punto_frontera)\n",
    "\n",
    "\n",
    "print('Entropía de Rényi cuadrática NF:', entropy_df1)\n",
    "print('Entropía de Rényi cuadrática PCF:', entropy_df2)\n",
    "\n",
    "n = 1000\n",
    "valores = [] \n",
    "# Iterar n veces y guardar los valores en la lista\n",
    "for _ in range(n):\n",
    "    \n",
    "    # Obtén los índices aleatorios para seleccionar los puntos\n",
    "    indices_aleatorios = np.random.choice(range(matriz_combinada.shape[0]), size=4, replace=False)\n",
    "    # Crea la matriz seleccionada a partir de los puntos aleatorios\n",
    "    matriz_seleccionada = matriz_combinada[indices_aleatorios]\n",
    "    resultado = renyi_entropy(matriz_seleccionada)\n",
    "    valores.append(resultado)\n",
    "\n",
    "# Calcular el promedio de los valores\n",
    "promedio = sum(valores) / n\n",
    "# Calcular la desviación estándar utilizando NumPy\n",
    "desviacion_estandar = np.std(valores)\n",
    "\n",
    "print('Entropía de Rényi cuadrática RANDOM IRIS:', promedio[0][0],'+/-',desviacion_estandar)"
   ]
  },
  {
   "cell_type": "code",
   "execution_count": null,
   "metadata": {},
   "outputs": [],
   "source": [
    "%%time\n",
    "n = 1000\n",
    "valores = [] \n",
    "for _ in range(n):\n",
    "    frontera = Frontera(X, y, percentil_min=0, percentil_max=20, num_vectors=3, method='LSH')\n",
    "    punto_frontera, labels = frontera.frontier()\n",
    "    \n",
    "    resultado = renyi_entropy(punto_frontera)\n",
    "    valores.append(resultado)\n",
    "        \n",
    "# Calcular el promedio de los valores\n",
    "promedio = sum(valores) / n\n",
    "# Calcular la desviación estándar utilizando NumPy\n",
    "desviacion_estandar = np.std(valores)\n",
    "\n",
    "print('Entropía de Rényi cuadrática LSH _ART_1:', promedio[0][0],'+/-',desviacion_estandar)"
   ]
  },
  {
   "cell_type": "code",
   "execution_count": 107,
   "metadata": {
    "tags": []
   },
   "outputs": [
    {
     "name": "stdout",
     "output_type": "stream",
     "text": [
      "Entropía de Rényi cuadrática para df1: 9.282265645525127\n",
      "Entropía de Rényi cuadrática para df2: 8.281908389160701\n"
     ]
    }
   ],
   "source": [
    "# Uso de la función\n",
    "df1 = matriz_combinada\n",
    "df2 = punto_frontera\n",
    "entropy_df1 = quadratic_renyi_entropy(df1)\n",
    "entropy_df2 = quadratic_renyi_entropy(df2)\n",
    "print('Entropía de Rényi cuadrática para df1:', entropy_df1)\n",
    "print('Entropía de Rényi cuadrática para df2:', entropy_df2)"
   ]
  },
  {
   "cell_type": "code",
   "execution_count": null,
   "metadata": {},
   "outputs": [],
   "source": []
  },
  {
   "cell_type": "markdown",
   "metadata": {},
   "source": [
    "## Breast Cancer"
   ]
  },
  {
   "cell_type": "code",
   "execution_count": 198,
   "metadata": {
    "tags": []
   },
   "outputs": [
    {
     "name": "stdout",
     "output_type": "stream",
     "text": [
      "Precisión del modelo: 0.91\n",
      "Importancia de las variables:\n",
      "mean radius: 0.693\n",
      "mean texture: 0.136\n",
      "mean perimeter: 0.039\n",
      "mean area: 0.023\n",
      "mean smoothness: 0.016\n",
      "mean compactness: 0.016\n",
      "mean concavity: 0.015\n",
      "mean concave points: 0.012\n",
      "mean symmetry: 0.010\n",
      "mean fractal dimension: 0.009\n",
      "radius error: 0.009\n",
      "texture error: 0.009\n",
      "perimeter error: 0.008\n",
      "area error: 0.003\n",
      "smoothness error: 0.001\n",
      "compactness error: 0.000\n",
      "concavity error: 0.000\n",
      "concave points error: 0.000\n",
      "symmetry error: 0.000\n",
      "fractal dimension error: 0.000\n",
      "worst radius: 0.000\n",
      "worst texture: 0.000\n",
      "worst perimeter: 0.000\n",
      "worst area: 0.000\n",
      "worst smoothness: 0.000\n",
      "worst compactness: 0.000\n",
      "worst concavity: 0.000\n",
      "worst concave points: 0.000\n",
      "worst symmetry: 0.000\n",
      "worst fractal dimension: 0.000\n"
     ]
    }
   ],
   "source": [
    "from sklearn.datasets import load_breast_cancer\n",
    "from sklearn.model_selection import train_test_split\n",
    "from sklearn.tree import DecisionTreeClassifier\n",
    "from sklearn.metrics import accuracy_score\n",
    "from scipy.stats import zscore\n",
    "\n",
    "\n",
    "# Cargar los datos del cáncer de mama de Wisconsin\n",
    "data = load_breast_cancer()\n",
    "X = data.data\n",
    "y = data.target\n",
    "\n",
    "# Dividir los datos en conjuntos de entrenamiento y prueba\n",
    "X_train, X_test, y_train, y_test = train_test_split(X, y, test_size=0.2, random_state=0)\n",
    "\n",
    "# Crear el modelo de clasificación utilizando el algoritmo Decision Tree\n",
    "model = DecisionTreeClassifier(random_state=0)\n",
    "\n",
    "# Entrenar el modelo\n",
    "model.fit(X_train, y_train)\n",
    "\n",
    "# Realizar predicciones en el conjunto de prueba\n",
    "y_pred = model.predict(X_test)\n",
    "\n",
    "# Calcular la precisión del modelo\n",
    "accuracy = accuracy_score(y_test, y_pred)\n",
    "print(\"Precisión del modelo: {:.2f}\".format(accuracy))\n",
    "\n",
    "\n",
    "# Obtener la importancia de cada variable\n",
    "importances = model.feature_importances_\n",
    "\n",
    "# Obtener los nombres de las características\n",
    "feature_names = data.feature_names\n",
    "\n",
    "# Ordenar las importancias en orden descendente\n",
    "indices = np.argsort(importances)[::-1]\n",
    "\n",
    "print(\"Importancia de las variables:\")\n",
    "for i in range(len(importances)):\n",
    "    print(\"{}: {:.3f}\".format(feature_names[i], importances[indices[i]]))"
   ]
  },
  {
   "cell_type": "code",
   "execution_count": 152,
   "metadata": {
    "tags": []
   },
   "outputs": [
    {
     "data": {
      "text/plain": [
       "array(['mean radius', 'mean texture', 'mean perimeter', 'mean area',\n",
       "       'mean smoothness', 'mean compactness', 'mean concavity',\n",
       "       'mean concave points', 'mean symmetry', 'mean fractal dimension',\n",
       "       'radius error', 'texture error', 'perimeter error', 'area error',\n",
       "       'smoothness error', 'compactness error', 'concavity error',\n",
       "       'concave points error', 'symmetry error',\n",
       "       'fractal dimension error', 'worst radius', 'worst texture',\n",
       "       'worst perimeter', 'worst area', 'worst smoothness',\n",
       "       'worst compactness', 'worst concavity', 'worst concave points',\n",
       "       'worst symmetry', 'worst fractal dimension'], dtype='<U23')"
      ]
     },
     "execution_count": 152,
     "metadata": {},
     "output_type": "execute_result"
    }
   ],
   "source": [
    "# Obtener los nombres de las variables\n",
    "feature_names = data.feature_names\n",
    "feature_names"
   ]
  },
  {
   "cell_type": "code",
   "execution_count": 153,
   "metadata": {
    "tags": []
   },
   "outputs": [
    {
     "data": {
      "text/plain": [
       "array([[1.799e+01, 1.038e+01, 1.228e+02, ..., 2.654e-01, 4.601e-01,\n",
       "        1.189e-01],\n",
       "       [2.057e+01, 1.777e+01, 1.329e+02, ..., 1.860e-01, 2.750e-01,\n",
       "        8.902e-02],\n",
       "       [1.969e+01, 2.125e+01, 1.300e+02, ..., 2.430e-01, 3.613e-01,\n",
       "        8.758e-02],\n",
       "       ...,\n",
       "       [1.660e+01, 2.808e+01, 1.083e+02, ..., 1.418e-01, 2.218e-01,\n",
       "        7.820e-02],\n",
       "       [2.060e+01, 2.933e+01, 1.401e+02, ..., 2.650e-01, 4.087e-01,\n",
       "        1.240e-01],\n",
       "       [7.760e+00, 2.454e+01, 4.792e+01, ..., 0.000e+00, 2.871e-01,\n",
       "        7.039e-02]])"
      ]
     },
     "execution_count": 153,
     "metadata": {},
     "output_type": "execute_result"
    }
   ],
   "source": [
    "X"
   ]
  },
  {
   "cell_type": "code",
   "execution_count": 233,
   "metadata": {
    "tags": []
   },
   "outputs": [],
   "source": [
    "# Seleccionar las 4 primeras columnas (columnas 0, 1, 2, 3)\n",
    "X_Cancer = X[:, 0:4]\n",
    "X_Cancer\n",
    "\n",
    "# Calcular el z-score por columna\n",
    "X_Cancer_zscore = zscore(X_Cancer, axis=0)"
   ]
  },
  {
   "cell_type": "markdown",
   "metadata": {},
   "source": [
    "## R-BM"
   ]
  },
  {
   "cell_type": "code",
   "execution_count": 234,
   "metadata": {
    "tags": []
   },
   "outputs": [],
   "source": [
    "%run frontera_v4.ipynb"
   ]
  },
  {
   "cell_type": "code",
   "execution_count": 244,
   "metadata": {
    "tags": []
   },
   "outputs": [
    {
     "name": "stdout",
     "output_type": "stream",
     "text": [
      "Entropía de Rényi cuadrática R-BM IRIS: 1.3904234254691723 +/- 0.0\n",
      "CPU times: user 28.7 ms, sys: 246 ms, total: 275 ms\n",
      "Wall time: 20.3 ms\n"
     ]
    }
   ],
   "source": [
    "%%time\n",
    "n = 1\n",
    "valores = [] \n",
    "for _ in range(n):\n",
    "    frontera = Frontera(X_Cancer_zscore,y,percentil_min=20, percentil_max=40, N_points_frontera=10, Closeness_Factor=1)\n",
    "    punto_frontera, labels = frontera.frontier()\n",
    "    \n",
    "    resultado = renyi_entropy(punto_frontera)\n",
    "    valores.append(resultado)\n",
    "        \n",
    "# Calcular el promedio de los valores\n",
    "promedio = sum(valores) / n\n",
    "# Calcular la desviación estándar utilizando NumPy\n",
    "desviacion_estandar = np.std(valores)\n",
    "\n",
    "print('Entropía de Rényi cuadrática R-BM IRIS:', promedio[0][0],'+/-',desviacion_estandar)"
   ]
  },
  {
   "cell_type": "code",
   "execution_count": 245,
   "metadata": {
    "tags": []
   },
   "outputs": [
    {
     "data": {
      "text/plain": [
       "array([[-0.38407005,  1.90129564, -0.36881843, -0.41805209],\n",
       "       [-0.20372104,  1.3555984 , -0.24277642, -0.26902112],\n",
       "       [-0.17247948,  0.76801395, -0.17378283, -0.26247968],\n",
       "       [ 0.3231253 , -1.29260399,  0.33388639,  0.15133725],\n",
       "       [ 0.41684998, -1.79292343,  0.43995115,  0.24789453]])"
      ]
     },
     "execution_count": 245,
     "metadata": {},
     "output_type": "execute_result"
    }
   ],
   "source": [
    "punto_frontera"
   ]
  },
  {
   "cell_type": "code",
   "execution_count": 246,
   "metadata": {
    "tags": []
   },
   "outputs": [
    {
     "data": {
      "text/html": [
       "<iframe\n",
       "    scrolling=\"no\"\n",
       "    width=\"1220px\"\n",
       "    height=\"770\"\n",
       "    src=\"iframe_figures/figure_246.html\"\n",
       "    frameborder=\"0\"\n",
       "    allowfullscreen\n",
       "></iframe>\n"
      ]
     },
     "metadata": {},
     "output_type": "display_data"
    }
   ],
   "source": [
    "frontera.plot_frontera_2D(0,1,'mean radius','mean texture')"
   ]
  },
  {
   "cell_type": "markdown",
   "metadata": {
    "tags": []
   },
   "source": [
    "## LSH"
   ]
  },
  {
   "cell_type": "code",
   "execution_count": 41,
   "metadata": {
    "tags": []
   },
   "outputs": [],
   "source": [
    "%run frontera_v4.ipynb"
   ]
  },
  {
   "cell_type": "code",
   "execution_count": 259,
   "metadata": {
    "tags": []
   },
   "outputs": [
    {
     "name": "stdout",
     "output_type": "stream",
     "text": [
      "Entropía de Rényi cuadrática LSH IRIS: 1.9456007884318345 +/- 0.0\n",
      "CPU times: user 4.43 ms, sys: 74.2 ms, total: 78.6 ms\n",
      "Wall time: 6.84 ms\n"
     ]
    }
   ],
   "source": [
    "%%time\n",
    "n = 1\n",
    "valores = [] \n",
    "for _ in range(n):\n",
    "    frontera = Frontera(X_Cancer_zscore, y ,percentil_min=0, percentil_max=20, num_vectors=3, method='LSH')\n",
    "    punto_frontera, labels = frontera.frontier() \n",
    "    \n",
    "    resultado = renyi_entropy(punto_frontera)\n",
    "    valores.append(resultado)\n",
    "        \n",
    "# Calcular el promedio de los valores\n",
    "promedio = sum(valores) / n\n",
    "# Calcular la desviación estándar utilizando NumPy\n",
    "desviacion_estandar = np.std(valores)\n",
    "\n",
    "print('Entropía de Rényi cuadrática LSH IRIS:', promedio[0][0],'+/-',desviacion_estandar)"
   ]
  },
  {
   "cell_type": "code",
   "execution_count": 260,
   "metadata": {
    "tags": []
   },
   "outputs": [
    {
     "data": {
      "text/plain": [
       "array([[-0.05432957, -0.6999    , -0.06306357, -0.16572331],\n",
       "       [-0.11283649,  0.77266808,  0.06717984, -0.21782727],\n",
       "       [-0.26602665,  0.08652264, -0.25750191, -0.33422217],\n",
       "       [-0.12277699,  0.80757409, -0.1260022 , -0.21000599],\n",
       "       [ 0.117215  , -0.90126887,  0.10617323, -0.01836087],\n",
       "       [ 0.23006331, -0.11999487,  0.22637539,  0.09843062],\n",
       "       [ 0.02017682,  1.42308334, -0.01787792, -0.09335038]])"
      ]
     },
     "execution_count": 260,
     "metadata": {},
     "output_type": "execute_result"
    }
   ],
   "source": [
    "punto_frontera"
   ]
  },
  {
   "cell_type": "code",
   "execution_count": 261,
   "metadata": {
    "tags": []
   },
   "outputs": [
    {
     "data": {
      "text/plain": [
       "array([-0.05432957, -0.6999    , -0.06306357, -0.16572331])"
      ]
     },
     "execution_count": 261,
     "metadata": {},
     "output_type": "execute_result"
    }
   ],
   "source": [
    "frontera.centroids.get('Centroid Group: 0')"
   ]
  },
  {
   "cell_type": "code",
   "execution_count": 262,
   "metadata": {
    "tags": []
   },
   "outputs": [
    {
     "data": {
      "text/html": [
       "<iframe\n",
       "    scrolling=\"no\"\n",
       "    width=\"1220px\"\n",
       "    height=\"770\"\n",
       "    src=\"iframe_figures/figure_262.html\"\n",
       "    frameborder=\"0\"\n",
       "    allowfullscreen\n",
       "></iframe>\n"
      ]
     },
     "metadata": {},
     "output_type": "display_data"
    }
   ],
   "source": [
    "frontera.plot_frontera_2D(0,1,'mean radius','mean texture')"
   ]
  },
  {
   "cell_type": "markdown",
   "metadata": {},
   "source": [
    "## Prototypes"
   ]
  },
  {
   "cell_type": "code",
   "execution_count": 704,
   "metadata": {
    "id": "bO04z60ii2gt",
    "tags": []
   },
   "outputs": [],
   "source": [
    "%run frontera_v4.ipynb"
   ]
  },
  {
   "cell_type": "code",
   "execution_count": 263,
   "metadata": {
    "tags": []
   },
   "outputs": [
    {
     "name": "stdout",
     "output_type": "stream",
     "text": [
      "Entropía de Rényi cuadrática Prototypes IRIS: 2.010211712766559 +/- 0.0\n",
      "CPU times: user 659 ms, sys: 1.08 s, total: 1.74 s\n",
      "Wall time: 436 ms\n"
     ]
    }
   ],
   "source": [
    "%%time\n",
    "n = 1\n",
    "valores = [] \n",
    "for _ in range(n):\n",
    "    frontera = Frontera(X_Cancer_zscore,y,percentil_min=5, percentil_max=25, Closeness_Factor=3, method='prototypes')\n",
    "    punto_frontera, labels = frontera.frontier()  \n",
    "    \n",
    "    resultado = renyi_entropy(punto_frontera)\n",
    "    valores.append(resultado)\n",
    "        \n",
    "# Calcular el promedio de los valores\n",
    "promedio = sum(valores) / n\n",
    "# Calcular la desviación estándar utilizando NumPy\n",
    "desviacion_estandar = np.std(valores)\n",
    "\n",
    "print('Entropía de Rényi cuadrática Prototypes IRIS:', promedio[0][0],'+/-',desviacion_estandar)"
   ]
  },
  {
   "cell_type": "code",
   "execution_count": 264,
   "metadata": {
    "tags": []
   },
   "outputs": [
    {
     "data": {
      "text/plain": [
       "array([[ 0.23934111, -0.54445191,  0.17509817,  0.08819817],\n",
       "       [ 0.27626295,  0.63537112,  0.21793597,  0.16470453],\n",
       "       [ 0.57163772, -1.03080894,  0.50791498,  0.41271028],\n",
       "       [ 0.137096  , -0.83766237,  0.02928486,  0.02847202],\n",
       "       [-0.38549012,  0.49342003, -0.40980268, -0.41947415],\n",
       "       [-0.04183295,  0.07687501, -0.03497186, -0.15753229],\n",
       "       [ 1.05730199, -1.41012088,  0.93217405,  0.95906239],\n",
       "       [-0.02195195,  1.82915656, -0.0242624 , -0.1549726 ]])"
      ]
     },
     "execution_count": 264,
     "metadata": {},
     "output_type": "execute_result"
    }
   ],
   "source": [
    "punto_frontera"
   ]
  },
  {
   "cell_type": "code",
   "execution_count": 265,
   "metadata": {
    "tags": []
   },
   "outputs": [
    {
     "data": {
      "text/html": [
       "<iframe\n",
       "    scrolling=\"no\"\n",
       "    width=\"1220px\"\n",
       "    height=\"770\"\n",
       "    src=\"iframe_figures/figure_265.html\"\n",
       "    frameborder=\"0\"\n",
       "    allowfullscreen\n",
       "></iframe>\n"
      ]
     },
     "metadata": {},
     "output_type": "display_data"
    }
   ],
   "source": [
    "frontera.plot_frontera_2D(0,1,'mean radius','mean texture')"
   ]
  },
  {
   "cell_type": "markdown",
   "metadata": {},
   "source": [
    "# Kmedoids"
   ]
  },
  {
   "cell_type": "code",
   "execution_count": 266,
   "metadata": {
    "tags": []
   },
   "outputs": [],
   "source": [
    "%run frontera_v4.ipynb"
   ]
  },
  {
   "cell_type": "code",
   "execution_count": 271,
   "metadata": {
    "tags": []
   },
   "outputs": [
    {
     "name": "stdout",
     "output_type": "stream",
     "text": [
      "Entropía de Rényi cuadrática Kmedoids IRIS: 1.8968164144773987 +/- 0.0\n",
      "CPU times: user 29.5 ms, sys: 109 ms, total: 139 ms\n",
      "Wall time: 10.7 ms\n"
     ]
    },
    {
     "name": "stderr",
     "output_type": "stream",
     "text": [
      "/opt/conda/lib/python3.10/site-packages/sklearn_extra/cluster/_k_medoids.py:329: UserWarning:\n",
      "\n",
      "Cluster 1 is empty! self.labels_[self.medoid_indices_[1]] may not be labeled with its corresponding cluster (1).\n",
      "\n",
      "/opt/conda/lib/python3.10/site-packages/sklearn_extra/cluster/_k_medoids.py:329: UserWarning:\n",
      "\n",
      "Cluster 3 is empty! self.labels_[self.medoid_indices_[3]] may not be labeled with its corresponding cluster (3).\n",
      "\n",
      "/opt/conda/lib/python3.10/site-packages/sklearn_extra/cluster/_k_medoids.py:329: UserWarning:\n",
      "\n",
      "Cluster 5 is empty! self.labels_[self.medoid_indices_[5]] may not be labeled with its corresponding cluster (5).\n",
      "\n"
     ]
    }
   ],
   "source": [
    "%%time\n",
    "n = 1\n",
    "valores = [] \n",
    "for _ in range(n):\n",
    "    frontera = Frontera(X_Cancer_zscore,y,percentil_min=0, percentil_max=20, num_cluster=7, method='KM')\n",
    "    punto_frontera, labels = frontera.frontier()\n",
    "    \n",
    "    resultado = renyi_entropy(punto_frontera)\n",
    "    valores.append(resultado)\n",
    "        \n",
    "# Calcular el promedio de los valores\n",
    "promedio = sum(valores) / n\n",
    "# Calcular la desviación estándar utilizando NumPy\n",
    "desviacion_estandar = np.std(valores)\n",
    "\n",
    "print('Entropía de Rényi cuadrática Kmedoids IRIS:', promedio[0][0],'+/-',desviacion_estandar)"
   ]
  },
  {
   "cell_type": "code",
   "execution_count": 272,
   "metadata": {
    "tags": []
   },
   "outputs": [
    {
     "data": {
      "text/plain": [
       "array([[ 0.04053117,  0.75870568,  0.07418218, -0.07135599],\n",
       "       [ 0.08029316,  0.10247275,  0.16727203, -0.01106101],\n",
       "       [ 0.27626295, -0.67476767,  0.31349724,  0.0557754 ],\n",
       "       [-0.18952033, -0.12557983, -0.18655179, -0.29518686],\n",
       "       [-0.27188444,  0.58650271, -0.269756  , -0.35093127],\n",
       "       [-0.24064288,  0.23046144, -0.19149462, -0.31196707],\n",
       "       [-0.07307451, -0.71665488, -0.14206638, -0.17402809]])"
      ]
     },
     "execution_count": 272,
     "metadata": {},
     "output_type": "execute_result"
    }
   ],
   "source": [
    "punto_frontera"
   ]
  },
  {
   "cell_type": "code",
   "execution_count": 273,
   "metadata": {
    "tags": []
   },
   "outputs": [
    {
     "data": {
      "text/html": [
       "<iframe\n",
       "    scrolling=\"no\"\n",
       "    width=\"1220px\"\n",
       "    height=\"770\"\n",
       "    src=\"iframe_figures/figure_273.html\"\n",
       "    frameborder=\"0\"\n",
       "    allowfullscreen\n",
       "></iframe>\n"
      ]
     },
     "metadata": {},
     "output_type": "display_data"
    }
   ],
   "source": [
    "frontera.plot_frontera_2D(0,1,'mean radius','mean texture')"
   ]
  },
  {
   "cell_type": "markdown",
   "metadata": {},
   "source": [
    "## TEST "
   ]
  },
  {
   "cell_type": "code",
   "execution_count": null,
   "metadata": {},
   "outputs": [],
   "source": [
    "mean radius', 'mean texture', 'mean perimeter', 'mean area'"
   ]
  },
  {
   "cell_type": "code",
   "execution_count": 274,
   "metadata": {
    "tags": []
   },
   "outputs": [],
   "source": [
    "# Obtén todas las matrices del diccionario\n",
    "todas_las_matrices = list(frontera.dic_min_dst.values())\n",
    "\n",
    "# Combina todas las matrices en una sola matriz utilizando np.concatenate\n",
    "matriz_combinada = np.concatenate(todas_las_matrices)\n",
    "\n",
    "# Obtener los índices de las filas únicas\n",
    "matriz_combinada, indices = np.unique(matriz_combinada, axis=0, return_index=True)\n",
    "\n",
    "df_1 = pd.DataFrame(matriz_combinada, columns=['mean radius', 'mean texture', 'mean perimeter', 'mean area'])\n",
    "df_1['muestra'] = 'Input'\n",
    "df_2 = pd.DataFrame(punto_frontera, columns=['mean radius', 'mean texture', 'mean perimeter', 'mean area'])\n",
    "df_2['muestra'] = 'Output'\n",
    "\n",
    "# Combina los DataFrames por filas utilizando concat()\n",
    "df_combined = pd.concat([df_1, df_2])"
   ]
  },
  {
   "cell_type": "code",
   "execution_count": 215,
   "metadata": {
    "tags": []
   },
   "outputs": [
    {
     "name": "stdout",
     "output_type": "stream",
     "text": [
      "Categoría A:\n",
      "Estadístico de prueba: 0.7993689775466919\n",
      "P-valor: 1.2657453225983772e-05\n",
      "Categoría B:\n",
      "Estadístico de prueba: 0.9216557741165161\n",
      "P-valor: 0.5462687015533447\n"
     ]
    }
   ],
   "source": [
    "## Test de Normalidad\n",
    "# Dividir los datos por categoría\n",
    "datos_cat_A = df_combined.loc[df_combined['muestra'] == 'Input', 'petal length']\n",
    "datos_cat_B = df_combined.loc[df_combined['muestra'] == 'Output', 'petal length']\n",
    "\n",
    "# Realizar la prueba de bondad de ajuste para la categoría A\n",
    "resultado_A = stats.kstest(datos_cat_A, 'norm')\n",
    "resultado_A = stats.normaltest(datos_cat_A)\n",
    "resultado_A = stats.shapiro(datos_cat_A)\n",
    "p_valor_A = resultado_A.pvalue\n",
    "print(\"Categoría A:\")\n",
    "print(f\"Estadístico de prueba: {resultado_A.statistic}\")\n",
    "print(f\"P-valor: {p_valor_A}\")\n",
    "\n",
    "# Realizar la prueba de bondad de ajuste para la categoría B\n",
    "#resultado_B = stats.normaltest(datos_cat_B)\n",
    "### Realizar pruebas de normalidad con 30 < datos quita potencia a la prueba\n",
    "resultado_B = stats.shapiro(datos_cat_B)\n",
    "p_valor_B = resultado_B.pvalue\n",
    "print(\"Categoría B:\")\n",
    "print(f\"Estadístico de prueba: {resultado_B.statistic}\")\n",
    "print(f\"P-valor: {p_valor_B}\")"
   ]
  },
  {
   "cell_type": "code",
   "execution_count": 216,
   "metadata": {
    "tags": []
   },
   "outputs": [
    {
     "data": {
      "text/html": [
       "<div>\n",
       "<style scoped>\n",
       "    .dataframe tbody tr th:only-of-type {\n",
       "        vertical-align: middle;\n",
       "    }\n",
       "\n",
       "    .dataframe tbody tr th {\n",
       "        vertical-align: top;\n",
       "    }\n",
       "\n",
       "    .dataframe thead th {\n",
       "        text-align: right;\n",
       "    }\n",
       "</style>\n",
       "<table border=\"1\" class=\"dataframe\">\n",
       "  <thead>\n",
       "    <tr style=\"text-align: right;\">\n",
       "      <th></th>\n",
       "      <th>W</th>\n",
       "      <th>pval</th>\n",
       "      <th>equal_var</th>\n",
       "    </tr>\n",
       "  </thead>\n",
       "  <tbody>\n",
       "    <tr>\n",
       "      <th>levene</th>\n",
       "      <td>0.792801</td>\n",
       "      <td>0.378715</td>\n",
       "      <td>True</td>\n",
       "    </tr>\n",
       "  </tbody>\n",
       "</table>\n",
       "</div>"
      ],
      "text/plain": [
       "               W      pval  equal_var\n",
       "levene  0.792801  0.378715       True"
      ]
     },
     "execution_count": 216,
     "metadata": {},
     "output_type": "execute_result"
    }
   ],
   "source": [
    "# Test de homocedasticidad\n",
    "# ==============================================================================\n",
    "pg.homoscedasticity(data=df_combined, dv='sepal length', group='muestra', method='levene')"
   ]
  },
  {
   "cell_type": "code",
   "execution_count": 217,
   "metadata": {
    "tags": []
   },
   "outputs": [
    {
     "data": {
      "text/html": [
       "<div>\n",
       "<style scoped>\n",
       "    .dataframe tbody tr th:only-of-type {\n",
       "        vertical-align: middle;\n",
       "    }\n",
       "\n",
       "    .dataframe tbody tr th {\n",
       "        vertical-align: top;\n",
       "    }\n",
       "\n",
       "    .dataframe thead th {\n",
       "        text-align: right;\n",
       "    }\n",
       "</style>\n",
       "<table border=\"1\" class=\"dataframe\">\n",
       "  <thead>\n",
       "    <tr style=\"text-align: right;\">\n",
       "      <th></th>\n",
       "      <th>W</th>\n",
       "      <th>pval</th>\n",
       "      <th>equal_var</th>\n",
       "    </tr>\n",
       "  </thead>\n",
       "  <tbody>\n",
       "    <tr>\n",
       "      <th>levene</th>\n",
       "      <td>0.297295</td>\n",
       "      <td>0.588688</td>\n",
       "      <td>True</td>\n",
       "    </tr>\n",
       "  </tbody>\n",
       "</table>\n",
       "</div>"
      ],
      "text/plain": [
       "               W      pval  equal_var\n",
       "levene  0.297295  0.588688       True"
      ]
     },
     "execution_count": 217,
     "metadata": {},
     "output_type": "execute_result"
    }
   ],
   "source": [
    "pg.homoscedasticity(data=df_combined, dv='sepal width', group='muestra', method='levene')"
   ]
  },
  {
   "cell_type": "code",
   "execution_count": 218,
   "metadata": {
    "tags": []
   },
   "outputs": [
    {
     "data": {
      "text/html": [
       "<div>\n",
       "<style scoped>\n",
       "    .dataframe tbody tr th:only-of-type {\n",
       "        vertical-align: middle;\n",
       "    }\n",
       "\n",
       "    .dataframe tbody tr th {\n",
       "        vertical-align: top;\n",
       "    }\n",
       "\n",
       "    .dataframe thead th {\n",
       "        text-align: right;\n",
       "    }\n",
       "</style>\n",
       "<table border=\"1\" class=\"dataframe\">\n",
       "  <thead>\n",
       "    <tr style=\"text-align: right;\">\n",
       "      <th></th>\n",
       "      <th>W</th>\n",
       "      <th>pval</th>\n",
       "      <th>equal_var</th>\n",
       "    </tr>\n",
       "  </thead>\n",
       "  <tbody>\n",
       "    <tr>\n",
       "      <th>levene</th>\n",
       "      <td>0.227648</td>\n",
       "      <td>0.635936</td>\n",
       "      <td>True</td>\n",
       "    </tr>\n",
       "  </tbody>\n",
       "</table>\n",
       "</div>"
      ],
      "text/plain": [
       "               W      pval  equal_var\n",
       "levene  0.227648  0.635936       True"
      ]
     },
     "execution_count": 218,
     "metadata": {},
     "output_type": "execute_result"
    }
   ],
   "source": [
    "pg.homoscedasticity(data=df_combined, dv='petal length', group='muestra', method='levene')"
   ]
  },
  {
   "cell_type": "code",
   "execution_count": 219,
   "metadata": {
    "tags": []
   },
   "outputs": [
    {
     "data": {
      "text/html": [
       "<div>\n",
       "<style scoped>\n",
       "    .dataframe tbody tr th:only-of-type {\n",
       "        vertical-align: middle;\n",
       "    }\n",
       "\n",
       "    .dataframe tbody tr th {\n",
       "        vertical-align: top;\n",
       "    }\n",
       "\n",
       "    .dataframe thead th {\n",
       "        text-align: right;\n",
       "    }\n",
       "</style>\n",
       "<table border=\"1\" class=\"dataframe\">\n",
       "  <thead>\n",
       "    <tr style=\"text-align: right;\">\n",
       "      <th></th>\n",
       "      <th>W</th>\n",
       "      <th>pval</th>\n",
       "      <th>equal_var</th>\n",
       "    </tr>\n",
       "  </thead>\n",
       "  <tbody>\n",
       "    <tr>\n",
       "      <th>levene</th>\n",
       "      <td>0.041804</td>\n",
       "      <td>0.839057</td>\n",
       "      <td>True</td>\n",
       "    </tr>\n",
       "  </tbody>\n",
       "</table>\n",
       "</div>"
      ],
      "text/plain": [
       "               W      pval  equal_var\n",
       "levene  0.041804  0.839057       True"
      ]
     },
     "execution_count": 219,
     "metadata": {},
     "output_type": "execute_result"
    }
   ],
   "source": [
    "pg.homoscedasticity(data=df_combined, dv='petal width', group='muestra', method='levene')"
   ]
  },
  {
   "cell_type": "code",
   "execution_count": 220,
   "metadata": {
    "tags": []
   },
   "outputs": [
    {
     "data": {
      "text/html": [
       "<div>\n",
       "<style scoped>\n",
       "    .dataframe tbody tr th:only-of-type {\n",
       "        vertical-align: middle;\n",
       "    }\n",
       "\n",
       "    .dataframe tbody tr th {\n",
       "        vertical-align: top;\n",
       "    }\n",
       "\n",
       "    .dataframe thead th {\n",
       "        text-align: right;\n",
       "    }\n",
       "</style>\n",
       "<table border=\"1\" class=\"dataframe\">\n",
       "  <thead>\n",
       "    <tr style=\"text-align: right;\">\n",
       "      <th></th>\n",
       "      <th>U-val</th>\n",
       "      <th>alternative</th>\n",
       "      <th>p-val</th>\n",
       "      <th>RBC</th>\n",
       "      <th>CLES</th>\n",
       "    </tr>\n",
       "  </thead>\n",
       "  <tbody>\n",
       "    <tr>\n",
       "      <th>MWU</th>\n",
       "      <td>93.5</td>\n",
       "      <td>two-sided</td>\n",
       "      <td>0.402179</td>\n",
       "      <td>-0.263514</td>\n",
       "      <td>0.631757</td>\n",
       "    </tr>\n",
       "  </tbody>\n",
       "</table>\n",
       "</div>"
      ],
      "text/plain": [
       "     U-val alternative     p-val       RBC      CLES\n",
       "MWU   93.5   two-sided  0.402179 -0.263514  0.631757"
      ]
     },
     "execution_count": 220,
     "metadata": {},
     "output_type": "execute_result"
    }
   ],
   "source": [
    "# U-test (p-value y tamaño de efecto)\n",
    "# ==============================================================================\n",
    "pg.mwu(x=datos_cat_A, y=datos_cat_B, alternative='two-sided')"
   ]
  },
  {
   "cell_type": "code",
   "execution_count": 46,
   "metadata": {
    "tags": []
   },
   "outputs": [
    {
     "name": "stdout",
     "output_type": "stream",
     "text": [
      "Entropía de Rényi cuadrática NF: [[2.12603553]]\n",
      "Entropía de Rényi cuadrática PCF: [[1.38625812]]\n",
      "Entropía de Rényi cuadrática RANDOM IRIS: 1.2394424750751059 +/- 0.13238611475338702\n"
     ]
    }
   ],
   "source": [
    "np.seterr(divide='ignore', invalid='ignore')\n",
    "\n",
    "entropy_df1 = renyi_entropy(matriz_combinada)\n",
    "entropy_df2 = renyi_entropy(punto_frontera)\n",
    "\n",
    "\n",
    "print('Entropía de Rényi cuadrática NF:', entropy_df1)\n",
    "print('Entropía de Rényi cuadrática PCF:', entropy_df2)\n",
    "\n",
    "n = 1000\n",
    "valores = [] \n",
    "# Iterar n veces y guardar los valores en la lista\n",
    "for _ in range(n):\n",
    "    \n",
    "    # Obtén los índices aleatorios para seleccionar los puntos\n",
    "    indices_aleatorios = np.random.choice(range(matriz_combinada.shape[0]), size=4, replace=False)\n",
    "    # Crea la matriz seleccionada a partir de los puntos aleatorios\n",
    "    matriz_seleccionada = matriz_combinada[indices_aleatorios]\n",
    "    resultado = renyi_entropy(matriz_seleccionada)\n",
    "    valores.append(resultado)\n",
    "\n",
    "# Calcular el promedio de los valores\n",
    "promedio = sum(valores) / n\n",
    "# Calcular la desviación estándar utilizando NumPy\n",
    "desviacion_estandar = np.std(valores)\n",
    "\n",
    "print('Entropía de Rényi cuadrática RANDOM IRIS:', promedio[0][0],'+/-',desviacion_estandar)"
   ]
  },
  {
   "cell_type": "code",
   "execution_count": null,
   "metadata": {},
   "outputs": [],
   "source": [
    "%%time\n",
    "n = 1000\n",
    "valores = [] \n",
    "for _ in range(n):\n",
    "    frontera = Frontera(X, y, percentil_min=0, percentil_max=20, num_vectors=3, method='LSH')\n",
    "    punto_frontera, labels = frontera.frontier()\n",
    "    \n",
    "    resultado = renyi_entropy(punto_frontera)\n",
    "    valores.append(resultado)\n",
    "        \n",
    "# Calcular el promedio de los valores\n",
    "promedio = sum(valores) / n\n",
    "# Calcular la desviación estándar utilizando NumPy\n",
    "desviacion_estandar = np.std(valores)\n",
    "\n",
    "print('Entropía de Rényi cuadrática LSH _ART_1:', promedio[0][0],'+/-',desviacion_estandar)"
   ]
  },
  {
   "cell_type": "code",
   "execution_count": null,
   "metadata": {
    "tags": []
   },
   "outputs": [
    {
     "ename": "NameError",
     "evalue": "name 'matriz_combinada' is not defined",
     "output_type": "error",
     "traceback": [
      "\u001b[0;31m---------------------------------------------------------------------------\u001b[0m",
      "\u001b[0;31mNameError\u001b[0m                                 Traceback (most recent call last)",
      "Cell \u001b[0;32mIn[109], line 2\u001b[0m\n\u001b[1;32m      1\u001b[0m \u001b[38;5;66;03m# Uso de la función\u001b[39;00m\n\u001b[0;32m----> 2\u001b[0m df1 \u001b[38;5;241m=\u001b[39m \u001b[43mmatriz_combinada\u001b[49m\n\u001b[1;32m      3\u001b[0m df2 \u001b[38;5;241m=\u001b[39m punto_frontera\n\u001b[1;32m      4\u001b[0m entropy_df1 \u001b[38;5;241m=\u001b[39m quadratic_renyi_entropy(df1)\n",
      "\u001b[0;31mNameError\u001b[0m: name 'matriz_combinada' is not defined"
     ]
    }
   ],
   "source": [
    "# Uso de la función\n",
    "df1 = matriz_combinada\n",
    "df2 = punto_frontera\n",
    "entropy_df1 = quadratic_renyi_entropy(df1)\n",
    "entropy_df2 = quadratic_renyi_entropy(df2)\n",
    "print('Entropía de Rényi cuadrática para df1:', entropy_df1)\n",
    "print('Entropía de Rényi cuadrática para df2:', entropy_df2)"
   ]
  },
  {
   "cell_type": "markdown",
   "metadata": {
    "tags": []
   },
   "source": [
    "## LSH"
   ]
  },
  {
   "cell_type": "code",
   "execution_count": 41,
   "metadata": {
    "tags": []
   },
   "outputs": [],
   "source": [
    "%run frontera_v4.ipynb"
   ]
  },
  {
   "cell_type": "code",
   "execution_count": 42,
   "metadata": {
    "tags": []
   },
   "outputs": [
    {
     "name": "stdout",
     "output_type": "stream",
     "text": [
      "Entropía de Rényi cuadrática LSH IRIS: 1.3853664769462508 +/- 0.0\n",
      "CPU times: user 7.89 ms, sys: 0 ns, total: 7.89 ms\n",
      "Wall time: 6.79 ms\n"
     ]
    }
   ],
   "source": [
    "%%time\n",
    "n = 1\n",
    "valores = [] \n",
    "for _ in range(n):\n",
    "    frontera = Frontera(X, y ,percentil_min=0, percentil_max=20, num_vectors=2, method='LSH')\n",
    "    punto_frontera, labels = frontera.frontier() \n",
    "    \n",
    "    resultado = renyi_entropy(punto_frontera)\n",
    "    valores.append(resultado)\n",
    "        \n",
    "# Calcular el promedio de los valores\n",
    "promedio = sum(valores) / n\n",
    "# Calcular la desviación estándar utilizando NumPy\n",
    "desviacion_estandar = np.std(valores)\n",
    "\n",
    "print('Entropía de Rényi cuadrática LSH IRIS:', promedio[0][0],'+/-',desviacion_estandar)"
   ]
  },
  {
   "cell_type": "code",
   "execution_count": 22,
   "metadata": {
    "tags": []
   },
   "outputs": [
    {
     "data": {
      "text/plain": [
       "array([[5.225     , 3.5125    , 1.675     , 0.375     ],\n",
       "       [6.34166667, 3.04166667, 4.83333333, 1.64166667],\n",
       "       [5.        , 3.        , 1.6       , 0.2       ],\n",
       "       [5.76666667, 2.57916667, 4.4625    , 1.5       ]])"
      ]
     },
     "execution_count": 22,
     "metadata": {},
     "output_type": "execute_result"
    }
   ],
   "source": [
    "punto_frontera"
   ]
  },
  {
   "cell_type": "code",
   "execution_count": 23,
   "metadata": {
    "tags": []
   },
   "outputs": [
    {
     "data": {
      "text/plain": [
       "array([5.225 , 3.5125, 1.675 , 0.375 ])"
      ]
     },
     "execution_count": 23,
     "metadata": {},
     "output_type": "execute_result"
    }
   ],
   "source": [
    "frontera.centroids.get('Centroid Group: 0')"
   ]
  },
  {
   "cell_type": "code",
   "execution_count": 43,
   "metadata": {
    "tags": []
   },
   "outputs": [
    {
     "data": {
      "text/html": [
       "<iframe\n",
       "    scrolling=\"no\"\n",
       "    width=\"1220px\"\n",
       "    height=\"770\"\n",
       "    src=\"iframe_figures/figure_43.html\"\n",
       "    frameborder=\"0\"\n",
       "    allowfullscreen\n",
       "></iframe>\n"
      ]
     },
     "metadata": {},
     "output_type": "display_data"
    }
   ],
   "source": [
    "frontera.plot_frontera_2D(2,3,'petal length (cm)','petal width (cm)')"
   ]
  },
  {
   "cell_type": "markdown",
   "metadata": {},
   "source": [
    "## Prototypes"
   ]
  },
  {
   "cell_type": "code",
   "execution_count": 704,
   "metadata": {
    "id": "bO04z60ii2gt",
    "tags": []
   },
   "outputs": [],
   "source": [
    "%run frontera_v4.ipynb"
   ]
  },
  {
   "cell_type": "code",
   "execution_count": 44,
   "metadata": {
    "tags": []
   },
   "outputs": [
    {
     "name": "stdout",
     "output_type": "stream",
     "text": [
      "Entropía de Rényi cuadrática Prototypes IRIS: 1.3862942935043179 +/- 0.0\n",
      "CPU times: user 196 ms, sys: 22.6 ms, total: 219 ms\n",
      "Wall time: 190 ms\n"
     ]
    }
   ],
   "source": [
    "%%time\n",
    "n = 1\n",
    "valores = [] \n",
    "for _ in range(n):\n",
    "    frontera = Frontera(X,y,percentil_min=0, percentil_max=20, Closeness_Factor=3, method='prototypes')\n",
    "    punto_frontera, labels = frontera.frontier()  \n",
    "    \n",
    "    resultado = renyi_entropy(punto_frontera)\n",
    "    valores.append(resultado)\n",
    "        \n",
    "# Calcular el promedio de los valores\n",
    "promedio = sum(valores) / n\n",
    "# Calcular la desviación estándar utilizando NumPy\n",
    "desviacion_estandar = np.std(valores)\n",
    "\n",
    "print('Entropía de Rényi cuadrática Prototypes IRIS:', promedio[0][0],'+/-',desviacion_estandar)"
   ]
  },
  {
   "cell_type": "code",
   "execution_count": 19,
   "metadata": {
    "tags": []
   },
   "outputs": [
    {
     "data": {
      "text/plain": [
       "array([[5.4, 3.4, 1.7, 0.2],\n",
       "       [5.5, 2.4, 3.7, 1. ],\n",
       "       [6.9, 3.1, 4.9, 1.5],\n",
       "       [5.8, 2.7, 5.1, 1.9]])"
      ]
     },
     "execution_count": 19,
     "metadata": {},
     "output_type": "execute_result"
    }
   ],
   "source": [
    "punto_frontera"
   ]
  },
  {
   "cell_type": "code",
   "execution_count": 45,
   "metadata": {
    "tags": []
   },
   "outputs": [
    {
     "data": {
      "text/html": [
       "<iframe\n",
       "    scrolling=\"no\"\n",
       "    width=\"1220px\"\n",
       "    height=\"770\"\n",
       "    src=\"iframe_figures/figure_45.html\"\n",
       "    frameborder=\"0\"\n",
       "    allowfullscreen\n",
       "></iframe>\n"
      ]
     },
     "metadata": {},
     "output_type": "display_data"
    }
   ],
   "source": [
    "frontera.plot_frontera_2D(2,3,'petal length (cm)','petal width (cm)')"
   ]
  },
  {
   "cell_type": "markdown",
   "metadata": {},
   "source": [
    "# Kmedoids"
   ]
  },
  {
   "cell_type": "code",
   "execution_count": 27,
   "metadata": {
    "tags": []
   },
   "outputs": [],
   "source": [
    "%run frontera_v4.ipynb"
   ]
  },
  {
   "cell_type": "code",
   "execution_count": 46,
   "metadata": {
    "tags": []
   },
   "outputs": [
    {
     "name": "stdout",
     "output_type": "stream",
     "text": [
      "Entropía de Rényi cuadrática Kmedoids IRIS: 1.3862581220460772 +/- 0.0\n",
      "CPU times: user 11.1 ms, sys: 29.5 ms, total: 40.6 ms\n",
      "Wall time: 9.42 ms\n"
     ]
    },
    {
     "name": "stderr",
     "output_type": "stream",
     "text": [
      "/opt/conda/lib/python3.10/site-packages/sklearn_extra/cluster/_k_medoids.py:329: UserWarning:\n",
      "\n",
      "Cluster 1 is empty! self.labels_[self.medoid_indices_[1]] may not be labeled with its corresponding cluster (1).\n",
      "\n",
      "/opt/conda/lib/python3.10/site-packages/sklearn_extra/cluster/_k_medoids.py:329: UserWarning:\n",
      "\n",
      "Cluster 3 is empty! self.labels_[self.medoid_indices_[3]] may not be labeled with its corresponding cluster (3).\n",
      "\n"
     ]
    }
   ],
   "source": [
    "%%time\n",
    "n = 1\n",
    "valores = [] \n",
    "for _ in range(n):\n",
    "    frontera = Frontera(X,y,percentil_min=0, percentil_max=20, num_cluster=4, method='KM')\n",
    "    punto_frontera, labels = frontera.frontier()\n",
    "    \n",
    "    resultado = renyi_entropy(punto_frontera)\n",
    "    valores.append(resultado)\n",
    "        \n",
    "# Calcular el promedio de los valores\n",
    "promedio = sum(valores) / n\n",
    "# Calcular la desviación estándar utilizando NumPy\n",
    "desviacion_estandar = np.std(valores)\n",
    "\n",
    "print('Entropía de Rényi cuadrática Kmedoids IRIS:', promedio[0][0],'+/-',desviacion_estandar)"
   ]
  },
  {
   "cell_type": "code",
   "execution_count": 708,
   "metadata": {
    "tags": []
   },
   "outputs": [
    {
     "data": {
      "text/plain": [
       "array([[5. , 3.4, 1.6, 0.4],\n",
       "       [5.6, 2.9, 3.6, 1.3],\n",
       "       [6.2, 2.8, 4.8, 1.8],\n",
       "       [5.5, 2.4, 3.7, 1. ]])"
      ]
     },
     "execution_count": 708,
     "metadata": {},
     "output_type": "execute_result"
    }
   ],
   "source": [
    "punto_frontera"
   ]
  },
  {
   "cell_type": "code",
   "execution_count": 47,
   "metadata": {
    "tags": []
   },
   "outputs": [
    {
     "data": {
      "text/html": [
       "<iframe\n",
       "    scrolling=\"no\"\n",
       "    width=\"1220px\"\n",
       "    height=\"770\"\n",
       "    src=\"iframe_figures/figure_47.html\"\n",
       "    frameborder=\"0\"\n",
       "    allowfullscreen\n",
       "></iframe>\n"
      ]
     },
     "metadata": {},
     "output_type": "display_data"
    }
   ],
   "source": [
    "frontera.plot_frontera_2D(2,3,'petal length (cm)','petal width (cm)')"
   ]
  },
  {
   "cell_type": "markdown",
   "metadata": {},
   "source": [
    "## TEST "
   ]
  },
  {
   "cell_type": "code",
   "execution_count": 588,
   "metadata": {
    "tags": []
   },
   "outputs": [],
   "source": [
    "# Obtén todas las matrices del diccionario\n",
    "todas_las_matrices = list(frontera.dic_min_dst.values())\n",
    "\n",
    "# Combina todas las matrices en una sola matriz utilizando np.concatenate\n",
    "matriz_combinada = np.concatenate(todas_las_matrices)\n",
    "\n",
    "# Obtener los índices de las filas únicas\n",
    "matriz_combinada, indices = np.unique(matriz_combinada, axis=0, return_index=True)\n",
    "\n",
    "df_1 = pd.DataFrame(matriz_combinada, columns=['sepal length', 'sepal width','petal length','petal width'])\n",
    "df_1['muestra'] = 'Input'\n",
    "df_2 = pd.DataFrame(punto_frontera, columns=['sepal length', 'sepal width','petal length','petal width'])\n",
    "df_2['muestra'] = 'Output'\n",
    "\n",
    "# Combina los DataFrames por filas utilizando concat()\n",
    "df_combined = pd.concat([df_1, df_2])"
   ]
  },
  {
   "cell_type": "code",
   "execution_count": 215,
   "metadata": {
    "tags": []
   },
   "outputs": [
    {
     "name": "stdout",
     "output_type": "stream",
     "text": [
      "Categoría A:\n",
      "Estadístico de prueba: 0.7993689775466919\n",
      "P-valor: 1.2657453225983772e-05\n",
      "Categoría B:\n",
      "Estadístico de prueba: 0.9216557741165161\n",
      "P-valor: 0.5462687015533447\n"
     ]
    }
   ],
   "source": [
    "## Test de Normalidad\n",
    "# Dividir los datos por categoría\n",
    "datos_cat_A = df_combined.loc[df_combined['muestra'] == 'Input', 'petal length']\n",
    "datos_cat_B = df_combined.loc[df_combined['muestra'] == 'Output', 'petal length']\n",
    "\n",
    "# Realizar la prueba de bondad de ajuste para la categoría A\n",
    "resultado_A = stats.kstest(datos_cat_A, 'norm')\n",
    "resultado_A = stats.normaltest(datos_cat_A)\n",
    "resultado_A = stats.shapiro(datos_cat_A)\n",
    "p_valor_A = resultado_A.pvalue\n",
    "print(\"Categoría A:\")\n",
    "print(f\"Estadístico de prueba: {resultado_A.statistic}\")\n",
    "print(f\"P-valor: {p_valor_A}\")\n",
    "\n",
    "# Realizar la prueba de bondad de ajuste para la categoría B\n",
    "#resultado_B = stats.normaltest(datos_cat_B)\n",
    "### Realizar pruebas de normalidad con 30 < datos quita potencia a la prueba\n",
    "resultado_B = stats.shapiro(datos_cat_B)\n",
    "p_valor_B = resultado_B.pvalue\n",
    "print(\"Categoría B:\")\n",
    "print(f\"Estadístico de prueba: {resultado_B.statistic}\")\n",
    "print(f\"P-valor: {p_valor_B}\")"
   ]
  },
  {
   "cell_type": "code",
   "execution_count": 216,
   "metadata": {
    "tags": []
   },
   "outputs": [
    {
     "data": {
      "text/html": [
       "<div>\n",
       "<style scoped>\n",
       "    .dataframe tbody tr th:only-of-type {\n",
       "        vertical-align: middle;\n",
       "    }\n",
       "\n",
       "    .dataframe tbody tr th {\n",
       "        vertical-align: top;\n",
       "    }\n",
       "\n",
       "    .dataframe thead th {\n",
       "        text-align: right;\n",
       "    }\n",
       "</style>\n",
       "<table border=\"1\" class=\"dataframe\">\n",
       "  <thead>\n",
       "    <tr style=\"text-align: right;\">\n",
       "      <th></th>\n",
       "      <th>W</th>\n",
       "      <th>pval</th>\n",
       "      <th>equal_var</th>\n",
       "    </tr>\n",
       "  </thead>\n",
       "  <tbody>\n",
       "    <tr>\n",
       "      <th>levene</th>\n",
       "      <td>0.792801</td>\n",
       "      <td>0.378715</td>\n",
       "      <td>True</td>\n",
       "    </tr>\n",
       "  </tbody>\n",
       "</table>\n",
       "</div>"
      ],
      "text/plain": [
       "               W      pval  equal_var\n",
       "levene  0.792801  0.378715       True"
      ]
     },
     "execution_count": 216,
     "metadata": {},
     "output_type": "execute_result"
    }
   ],
   "source": [
    "# Test de homocedasticidad\n",
    "# ==============================================================================\n",
    "pg.homoscedasticity(data=df_combined, dv='sepal length', group='muestra', method='levene')"
   ]
  },
  {
   "cell_type": "code",
   "execution_count": 217,
   "metadata": {
    "tags": []
   },
   "outputs": [
    {
     "data": {
      "text/html": [
       "<div>\n",
       "<style scoped>\n",
       "    .dataframe tbody tr th:only-of-type {\n",
       "        vertical-align: middle;\n",
       "    }\n",
       "\n",
       "    .dataframe tbody tr th {\n",
       "        vertical-align: top;\n",
       "    }\n",
       "\n",
       "    .dataframe thead th {\n",
       "        text-align: right;\n",
       "    }\n",
       "</style>\n",
       "<table border=\"1\" class=\"dataframe\">\n",
       "  <thead>\n",
       "    <tr style=\"text-align: right;\">\n",
       "      <th></th>\n",
       "      <th>W</th>\n",
       "      <th>pval</th>\n",
       "      <th>equal_var</th>\n",
       "    </tr>\n",
       "  </thead>\n",
       "  <tbody>\n",
       "    <tr>\n",
       "      <th>levene</th>\n",
       "      <td>0.297295</td>\n",
       "      <td>0.588688</td>\n",
       "      <td>True</td>\n",
       "    </tr>\n",
       "  </tbody>\n",
       "</table>\n",
       "</div>"
      ],
      "text/plain": [
       "               W      pval  equal_var\n",
       "levene  0.297295  0.588688       True"
      ]
     },
     "execution_count": 217,
     "metadata": {},
     "output_type": "execute_result"
    }
   ],
   "source": [
    "pg.homoscedasticity(data=df_combined, dv='sepal width', group='muestra', method='levene')"
   ]
  },
  {
   "cell_type": "code",
   "execution_count": 218,
   "metadata": {
    "tags": []
   },
   "outputs": [
    {
     "data": {
      "text/html": [
       "<div>\n",
       "<style scoped>\n",
       "    .dataframe tbody tr th:only-of-type {\n",
       "        vertical-align: middle;\n",
       "    }\n",
       "\n",
       "    .dataframe tbody tr th {\n",
       "        vertical-align: top;\n",
       "    }\n",
       "\n",
       "    .dataframe thead th {\n",
       "        text-align: right;\n",
       "    }\n",
       "</style>\n",
       "<table border=\"1\" class=\"dataframe\">\n",
       "  <thead>\n",
       "    <tr style=\"text-align: right;\">\n",
       "      <th></th>\n",
       "      <th>W</th>\n",
       "      <th>pval</th>\n",
       "      <th>equal_var</th>\n",
       "    </tr>\n",
       "  </thead>\n",
       "  <tbody>\n",
       "    <tr>\n",
       "      <th>levene</th>\n",
       "      <td>0.227648</td>\n",
       "      <td>0.635936</td>\n",
       "      <td>True</td>\n",
       "    </tr>\n",
       "  </tbody>\n",
       "</table>\n",
       "</div>"
      ],
      "text/plain": [
       "               W      pval  equal_var\n",
       "levene  0.227648  0.635936       True"
      ]
     },
     "execution_count": 218,
     "metadata": {},
     "output_type": "execute_result"
    }
   ],
   "source": [
    "pg.homoscedasticity(data=df_combined, dv='petal length', group='muestra', method='levene')"
   ]
  },
  {
   "cell_type": "code",
   "execution_count": 219,
   "metadata": {
    "tags": []
   },
   "outputs": [
    {
     "data": {
      "text/html": [
       "<div>\n",
       "<style scoped>\n",
       "    .dataframe tbody tr th:only-of-type {\n",
       "        vertical-align: middle;\n",
       "    }\n",
       "\n",
       "    .dataframe tbody tr th {\n",
       "        vertical-align: top;\n",
       "    }\n",
       "\n",
       "    .dataframe thead th {\n",
       "        text-align: right;\n",
       "    }\n",
       "</style>\n",
       "<table border=\"1\" class=\"dataframe\">\n",
       "  <thead>\n",
       "    <tr style=\"text-align: right;\">\n",
       "      <th></th>\n",
       "      <th>W</th>\n",
       "      <th>pval</th>\n",
       "      <th>equal_var</th>\n",
       "    </tr>\n",
       "  </thead>\n",
       "  <tbody>\n",
       "    <tr>\n",
       "      <th>levene</th>\n",
       "      <td>0.041804</td>\n",
       "      <td>0.839057</td>\n",
       "      <td>True</td>\n",
       "    </tr>\n",
       "  </tbody>\n",
       "</table>\n",
       "</div>"
      ],
      "text/plain": [
       "               W      pval  equal_var\n",
       "levene  0.041804  0.839057       True"
      ]
     },
     "execution_count": 219,
     "metadata": {},
     "output_type": "execute_result"
    }
   ],
   "source": [
    "pg.homoscedasticity(data=df_combined, dv='petal width', group='muestra', method='levene')"
   ]
  },
  {
   "cell_type": "code",
   "execution_count": 220,
   "metadata": {
    "tags": []
   },
   "outputs": [
    {
     "data": {
      "text/html": [
       "<div>\n",
       "<style scoped>\n",
       "    .dataframe tbody tr th:only-of-type {\n",
       "        vertical-align: middle;\n",
       "    }\n",
       "\n",
       "    .dataframe tbody tr th {\n",
       "        vertical-align: top;\n",
       "    }\n",
       "\n",
       "    .dataframe thead th {\n",
       "        text-align: right;\n",
       "    }\n",
       "</style>\n",
       "<table border=\"1\" class=\"dataframe\">\n",
       "  <thead>\n",
       "    <tr style=\"text-align: right;\">\n",
       "      <th></th>\n",
       "      <th>U-val</th>\n",
       "      <th>alternative</th>\n",
       "      <th>p-val</th>\n",
       "      <th>RBC</th>\n",
       "      <th>CLES</th>\n",
       "    </tr>\n",
       "  </thead>\n",
       "  <tbody>\n",
       "    <tr>\n",
       "      <th>MWU</th>\n",
       "      <td>93.5</td>\n",
       "      <td>two-sided</td>\n",
       "      <td>0.402179</td>\n",
       "      <td>-0.263514</td>\n",
       "      <td>0.631757</td>\n",
       "    </tr>\n",
       "  </tbody>\n",
       "</table>\n",
       "</div>"
      ],
      "text/plain": [
       "     U-val alternative     p-val       RBC      CLES\n",
       "MWU   93.5   two-sided  0.402179 -0.263514  0.631757"
      ]
     },
     "execution_count": 220,
     "metadata": {},
     "output_type": "execute_result"
    }
   ],
   "source": [
    "# U-test (p-value y tamaño de efecto)\n",
    "# ==============================================================================\n",
    "pg.mwu(x=datos_cat_A, y=datos_cat_B, alternative='two-sided')"
   ]
  },
  {
   "cell_type": "code",
   "execution_count": 46,
   "metadata": {
    "tags": []
   },
   "outputs": [
    {
     "name": "stdout",
     "output_type": "stream",
     "text": [
      "Entropía de Rényi cuadrática NF: [[2.12603553]]\n",
      "Entropía de Rényi cuadrática PCF: [[1.38625812]]\n",
      "Entropía de Rényi cuadrática RANDOM IRIS: 1.2394424750751059 +/- 0.13238611475338702\n"
     ]
    }
   ],
   "source": [
    "np.seterr(divide='ignore', invalid='ignore')\n",
    "\n",
    "entropy_df1 = renyi_entropy(matriz_combinada)\n",
    "entropy_df2 = renyi_entropy(punto_frontera)\n",
    "\n",
    "\n",
    "print('Entropía de Rényi cuadrática NF:', entropy_df1)\n",
    "print('Entropía de Rényi cuadrática PCF:', entropy_df2)\n",
    "\n",
    "n = 1000\n",
    "valores = [] \n",
    "# Iterar n veces y guardar los valores en la lista\n",
    "for _ in range(n):\n",
    "    \n",
    "    # Obtén los índices aleatorios para seleccionar los puntos\n",
    "    indices_aleatorios = np.random.choice(range(matriz_combinada.shape[0]), size=4, replace=False)\n",
    "    # Crea la matriz seleccionada a partir de los puntos aleatorios\n",
    "    matriz_seleccionada = matriz_combinada[indices_aleatorios]\n",
    "    resultado = renyi_entropy(matriz_seleccionada)\n",
    "    valores.append(resultado)\n",
    "\n",
    "# Calcular el promedio de los valores\n",
    "promedio = sum(valores) / n\n",
    "# Calcular la desviación estándar utilizando NumPy\n",
    "desviacion_estandar = np.std(valores)\n",
    "\n",
    "print('Entropía de Rényi cuadrática RANDOM IRIS:', promedio[0][0],'+/-',desviacion_estandar)"
   ]
  },
  {
   "cell_type": "code",
   "execution_count": null,
   "metadata": {},
   "outputs": [],
   "source": [
    "%%time\n",
    "n = 1000\n",
    "valores = [] \n",
    "for _ in range(n):\n",
    "    frontera = Frontera(X, y, percentil_min=0, percentil_max=20, num_vectors=3, method='LSH')\n",
    "    punto_frontera, labels = frontera.frontier()\n",
    "    \n",
    "    resultado = renyi_entropy(punto_frontera)\n",
    "    valores.append(resultado)\n",
    "        \n",
    "# Calcular el promedio de los valores\n",
    "promedio = sum(valores) / n\n",
    "# Calcular la desviación estándar utilizando NumPy\n",
    "desviacion_estandar = np.std(valores)\n",
    "\n",
    "print('Entropía de Rényi cuadrática LSH _ART_1:', promedio[0][0],'+/-',desviacion_estandar)"
   ]
  },
  {
   "cell_type": "code",
   "execution_count": 107,
   "metadata": {
    "tags": []
   },
   "outputs": [
    {
     "name": "stdout",
     "output_type": "stream",
     "text": [
      "Entropía de Rényi cuadrática para df1: 9.282265645525127\n",
      "Entropía de Rényi cuadrática para df2: 8.281908389160701\n"
     ]
    }
   ],
   "source": [
    "# Uso de la función\n",
    "df1 = matriz_combinada\n",
    "df2 = punto_frontera\n",
    "entropy_df1 = quadratic_renyi_entropy(df1)\n",
    "entropy_df2 = quadratic_renyi_entropy(df2)\n",
    "print('Entropía de Rényi cuadrática para df1:', entropy_df1)\n",
    "print('Entropía de Rényi cuadrática para df2:', entropy_df2)"
   ]
  },
  {
   "cell_type": "code",
   "execution_count": null,
   "metadata": {},
   "outputs": [],
   "source": []
  },
  {
   "cell_type": "code",
   "execution_count": null,
   "metadata": {},
   "outputs": [],
   "source": []
  },
  {
   "cell_type": "code",
   "execution_count": null,
   "metadata": {},
   "outputs": [],
   "source": []
  },
  {
   "cell_type": "code",
   "execution_count": null,
   "metadata": {},
   "outputs": [],
   "source": []
  },
  {
   "cell_type": "code",
   "execution_count": null,
   "metadata": {},
   "outputs": [],
   "source": []
  },
  {
   "cell_type": "code",
   "execution_count": null,
   "metadata": {},
   "outputs": [],
   "source": []
  },
  {
   "cell_type": "code",
   "execution_count": null,
   "metadata": {},
   "outputs": [],
   "source": []
  },
  {
   "cell_type": "code",
   "execution_count": null,
   "metadata": {},
   "outputs": [],
   "source": []
  },
  {
   "cell_type": "code",
   "execution_count": null,
   "metadata": {},
   "outputs": [],
   "source": []
  },
  {
   "cell_type": "markdown",
   "metadata": {
    "id": "vt16ysgNi2gw"
   },
   "source": [
    "### prototypes"
   ]
  },
  {
   "cell_type": "code",
   "execution_count": null,
   "metadata": {
    "id": "FRtpBr24i2gw",
    "tags": []
   },
   "outputs": [],
   "source": [
    "# Get the selected prototypes and their labels\n",
    "prototypes = frontera.w_\n",
    "prototype_labels = frontera.c_w_\n",
    "\n",
    "# Plot the data points and prototypes\n",
    "plt.scatter(X[:, 0], X[:, 1], c=y, edgecolors=\"k\", cmap=plt.cm.Spectral, alpha=0.5)\n",
    "plt.scatter(prototypes[:, 0], prototypes[:, 1], c='black', marker='X', s=200, label='Prototypes')\n",
    "\n",
    "# Customize the plot\n",
    "plt.xlabel('Feature 1')\n",
    "plt.ylabel('Feature 2')\n",
    "plt.legend()\n",
    "plt.title('Dataset and Prototypes')\n",
    "\n",
    "# Show the plot\n",
    "plt.show()"
   ]
  },
  {
   "cell_type": "code",
   "execution_count": null,
   "metadata": {},
   "outputs": [],
   "source": []
  },
  {
   "cell_type": "code",
   "execution_count": null,
   "metadata": {},
   "outputs": [],
   "source": []
  },
  {
   "cell_type": "code",
   "execution_count": null,
   "metadata": {},
   "outputs": [],
   "source": []
  }
 ],
 "metadata": {
  "colab": {
   "include_colab_link": true,
   "provenance": []
  },
  "kernelspec": {
   "display_name": "Python 3 (ipykernel)",
   "language": "python",
   "name": "python3"
  },
  "language_info": {
   "codemirror_mode": {
    "name": "ipython",
    "version": 3
   },
   "file_extension": ".py",
   "mimetype": "text/x-python",
   "name": "python",
   "nbconvert_exporter": "python",
   "pygments_lexer": "ipython3",
   "version": "3.10.9"
  }
 },
 "nbformat": 4,
 "nbformat_minor": 4
}
