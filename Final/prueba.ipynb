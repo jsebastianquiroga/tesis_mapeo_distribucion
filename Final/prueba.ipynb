{
  "cells": [
    {
      "cell_type": "markdown",
      "metadata": {
        "id": "view-in-github",
        "colab_type": "text"
      },
      "source": [
        "<a href=\"https://colab.research.google.com/github/jsebastianquiroga/tesis_mapeo_distribucion/blob/main/Final/prueba.ipynb\" target=\"_parent\"><img src=\"https://colab.research.google.com/assets/colab-badge.svg\" alt=\"Open In Colab\"/></a>"
      ]
    },
    {
      "cell_type": "code",
      "source": [
        "!rm -rf tesis_mapeo_distribucion"
      ],
      "metadata": {
        "id": "fuOR2tE-f3y_"
      },
      "execution_count": null,
      "outputs": []
    },
    {
      "cell_type": "code",
      "source": [
        "!git clone https://github.com/jsebastianquiroga/tesis_mapeo_distribucion.git"
      ],
      "metadata": {
        "id": "ghonPYlMawf3",
        "outputId": "c9e05140-ec00-4d79-91d1-a4d34b4857b5",
        "colab": {
          "base_uri": "https://localhost:8080/"
        }
      },
      "execution_count": 17,
      "outputs": [
        {
          "output_type": "stream",
          "name": "stdout",
          "text": [
            "fatal: destination path 'tesis_mapeo_distribucion' already exists and is not an empty directory.\n"
          ]
        }
      ]
    },
    {
      "cell_type": "code",
      "source": [
        "import sys\n",
        "sys.path.append('/content/tesis_mapeo_distribucion/Final')"
      ],
      "metadata": {
        "id": "jWS-m81iawdS"
      },
      "execution_count": 18,
      "outputs": []
    },
    {
      "cell_type": "code",
      "source": [
        "!pip install gurobipy \n",
        "!pip install umap\n",
        "!pip install scikit-learn-extra"
      ],
      "metadata": {
        "id": "Qt2mDcMfcSfW",
        "outputId": "5e1332dd-3c53-4e4f-8424-841eab6b321c",
        "colab": {
          "base_uri": "https://localhost:8080/"
        }
      },
      "execution_count": 19,
      "outputs": [
        {
          "output_type": "stream",
          "name": "stdout",
          "text": [
            "Looking in indexes: https://pypi.org/simple, https://us-python.pkg.dev/colab-wheels/public/simple/\n",
            "Requirement already satisfied: gurobipy in /usr/local/lib/python3.10/dist-packages (10.0.1)\n",
            "Looking in indexes: https://pypi.org/simple, https://us-python.pkg.dev/colab-wheels/public/simple/\n",
            "Requirement already satisfied: umap in /usr/local/lib/python3.10/dist-packages (0.1.1)\n",
            "Looking in indexes: https://pypi.org/simple, https://us-python.pkg.dev/colab-wheels/public/simple/\n",
            "Requirement already satisfied: scikit-learn-extra in /usr/local/lib/python3.10/dist-packages (0.3.0)\n",
            "Requirement already satisfied: scipy>=0.19.1 in /usr/local/lib/python3.10/dist-packages (from scikit-learn-extra) (1.10.1)\n",
            "Requirement already satisfied: scikit-learn>=0.23.0 in /usr/local/lib/python3.10/dist-packages (from scikit-learn-extra) (1.2.2)\n",
            "Requirement already satisfied: numpy>=1.13.3 in /usr/local/lib/python3.10/dist-packages (from scikit-learn-extra) (1.22.4)\n",
            "Requirement already satisfied: joblib>=1.1.1 in /usr/local/lib/python3.10/dist-packages (from scikit-learn>=0.23.0->scikit-learn-extra) (1.2.0)\n",
            "Requirement already satisfied: threadpoolctl>=2.0.0 in /usr/local/lib/python3.10/dist-packages (from scikit-learn>=0.23.0->scikit-learn-extra) (3.1.0)\n"
          ]
        }
      ]
    },
    {
      "cell_type": "code",
      "source": [
        "from frontera_v4 import Frontera"
      ],
      "metadata": {
        "id": "Y6goEYUhawYT"
      },
      "execution_count": 20,
      "outputs": []
    },
    {
      "cell_type": "code",
      "execution_count": 21,
      "metadata": {
        "id": "nwJl_6v2i2gq",
        "tags": []
      },
      "outputs": [],
      "source": [
        "\n",
        "import scipy.stats as stats\n",
        "\n",
        "import pandas as pd\n",
        "from sklearn.datasets import make_blobs\n",
        "\n",
        "import plotly.graph_objects as go\n",
        "\n",
        "import matplotlib.pyplot as plt # Para crear gráficos con matplotlib\n",
        "import plotly as py\n",
        "import plotly.io as pio\n",
        "pio.renderers.default = 'iframe'"
      ]
    },
    {
      "cell_type": "code",
      "execution_count": 22,
      "metadata": {
        "id": "7Ebxfi4ni2gr",
        "tags": []
      },
      "outputs": [],
      "source": [
        "# Simulación de datos\n",
        "# ==============================================================================\n",
        "X, y = make_blobs(\n",
        "        n_samples    = 600, \n",
        "        n_features   = 2, \n",
        "        centers      = 3, \n",
        "        cluster_std  = 1, \n",
        "        shuffle      = True, \n",
        "        random_state = 0\n",
        "       )"
      ]
    },
    {
      "cell_type": "code",
      "execution_count": 23,
      "metadata": {
        "tags": [],
        "id": "3UMITrObaDum",
        "outputId": "2b70643f-278e-447b-e7ed-90be13a587f4",
        "colab": {
          "base_uri": "https://localhost:8080/"
        }
      },
      "outputs": [
        {
          "output_type": "execute_result",
          "data": {
            "text/plain": [
              "(600, 2)"
            ]
          },
          "metadata": {},
          "execution_count": 23
        }
      ],
      "source": [
        "X.shape"
      ]
    },
    {
      "cell_type": "code",
      "execution_count": 24,
      "metadata": {
        "tags": [],
        "id": "psA08Wk2aDun",
        "outputId": "0f264d9f-194f-438c-c2c9-09d9dfb1044c",
        "colab": {
          "base_uri": "https://localhost:8080/"
        }
      },
      "outputs": [
        {
          "output_type": "execute_result",
          "data": {
            "text/plain": [
              "(600,)"
            ]
          },
          "metadata": {},
          "execution_count": 24
        }
      ],
      "source": [
        "y.shape"
      ]
    },
    {
      "cell_type": "code",
      "execution_count": 25,
      "metadata": {
        "tags": [],
        "id": "uYewO0LZaDun",
        "outputId": "a1069e9c-ce89-43b8-8e8b-8513be80eb34",
        "colab": {
          "base_uri": "https://localhost:8080/"
        }
      },
      "outputs": [
        {
          "output_type": "execute_result",
          "data": {
            "text/plain": [
              "array([[-0.31658683,  4.5708382 ],\n",
              "       [ 1.64265316,  3.84306754],\n",
              "       [ 0.8433895 ,  4.00599645],\n",
              "       ...,\n",
              "       [ 2.40704763,  1.27689919],\n",
              "       [-2.15246105,  3.91001909],\n",
              "       [ 1.90811845,  4.64375231]])"
            ]
          },
          "metadata": {},
          "execution_count": 25
        }
      ],
      "source": [
        "X"
      ]
    },
    {
      "cell_type": "code",
      "execution_count": 26,
      "metadata": {
        "tags": [],
        "id": "NVHoib9SaDun",
        "outputId": "34a704ca-3b24-4418-eaa5-bb9066148f8c",
        "colab": {
          "base_uri": "https://localhost:8080/"
        }
      },
      "outputs": [
        {
          "output_type": "execute_result",
          "data": {
            "text/plain": [
              "array([0, 0, 0, 1, 1, 0, 2, 2, 1, 2, 1, 2, 2, 2, 1, 0, 0, 0, 1, 1, 2, 1,\n",
              "       0, 0, 2, 0, 0, 1, 2, 0, 0, 2, 0, 2, 2, 0, 0, 1, 1, 1, 2, 0, 0, 0,\n",
              "       1, 0, 0, 0, 0, 0, 0, 1, 2, 1, 1, 2, 0, 0, 1, 1, 0, 0, 0, 2, 0, 0,\n",
              "       2, 0, 1, 1, 0, 2, 1, 0, 1, 2, 1, 2, 0, 1, 1, 0, 1, 1, 1, 0, 2, 0,\n",
              "       1, 1, 0, 2, 2, 0, 2, 2, 1, 0, 1, 2, 2, 0, 2, 1, 2, 0, 0, 0, 0, 2,\n",
              "       0, 0, 2, 1, 2, 0, 0, 1, 1, 0, 1, 0, 1, 2, 1, 2, 1, 2, 2, 1, 0, 0,\n",
              "       2, 1, 0, 2, 1, 2, 1, 2, 1, 2, 1, 1, 2, 0, 0, 2, 2, 1, 0, 2, 0, 0,\n",
              "       1, 0, 2, 1, 0, 2, 1, 1, 1, 2, 2, 1, 1, 0, 1, 0, 1, 0, 2, 2, 0, 0,\n",
              "       2, 0, 0, 1, 1, 0, 2, 1, 2, 1, 0, 0, 0, 2, 0, 2, 0, 0, 1, 2, 0, 2,\n",
              "       0, 1, 2, 1, 1, 1, 2, 1, 2, 1, 0, 1, 1, 0, 2, 0, 0, 2, 1, 0, 1, 2,\n",
              "       0, 1, 1, 2, 1, 1, 1, 1, 0, 0, 1, 1, 0, 2, 0, 1, 2, 0, 1, 2, 1, 1,\n",
              "       2, 0, 1, 1, 2, 1, 1, 0, 1, 0, 2, 0, 2, 1, 0, 2, 0, 2, 1, 1, 1, 2,\n",
              "       2, 1, 2, 1, 0, 1, 2, 1, 1, 1, 2, 1, 2, 1, 2, 2, 2, 2, 0, 0, 0, 1,\n",
              "       0, 2, 2, 0, 0, 1, 2, 1, 0, 2, 2, 2, 1, 2, 0, 1, 0, 2, 1, 2, 2, 2,\n",
              "       2, 2, 2, 1, 0, 2, 2, 1, 0, 2, 2, 1, 2, 0, 0, 1, 1, 0, 1, 2, 2, 1,\n",
              "       0, 0, 1, 0, 0, 2, 1, 2, 2, 2, 2, 0, 0, 1, 2, 0, 0, 1, 2, 2, 1, 1,\n",
              "       1, 2, 1, 0, 2, 2, 2, 2, 2, 1, 1, 0, 1, 0, 2, 1, 1, 2, 0, 1, 1, 2,\n",
              "       2, 1, 2, 2, 2, 0, 2, 1, 2, 2, 2, 1, 1, 1, 1, 0, 1, 1, 0, 0, 0, 1,\n",
              "       2, 0, 2, 2, 2, 2, 1, 2, 0, 1, 0, 1, 2, 0, 2, 2, 2, 1, 0, 2, 2, 1,\n",
              "       1, 2, 1, 1, 0, 2, 0, 1, 1, 1, 2, 0, 0, 0, 1, 0, 0, 0, 0, 0, 2, 1,\n",
              "       2, 2, 1, 2, 0, 1, 0, 1, 2, 1, 0, 1, 0, 1, 1, 2, 2, 2, 1, 0, 0, 1,\n",
              "       2, 2, 1, 1, 0, 0, 0, 2, 2, 0, 2, 0, 2, 0, 0, 2, 1, 2, 0, 2, 2, 2,\n",
              "       0, 0, 1, 2, 2, 1, 2, 0, 0, 2, 1, 2, 1, 0, 0, 0, 0, 0, 0, 1, 0, 2,\n",
              "       1, 0, 2, 1, 2, 0, 2, 2, 1, 2, 1, 2, 1, 1, 0, 0, 2, 0, 0, 0, 2, 1,\n",
              "       0, 1, 2, 1, 2, 0, 2, 0, 0, 1, 1, 0, 0, 1, 2, 1, 1, 2, 1, 2, 1, 0,\n",
              "       2, 1, 0, 0, 0, 1, 2, 2, 2, 2, 1, 0, 0, 2, 2, 2, 1, 2, 1, 0, 0, 2,\n",
              "       0, 0, 1, 1, 1, 0, 0, 1, 2, 0, 0, 1, 0, 2, 1, 1, 1, 2, 0, 0, 1, 0,\n",
              "       2, 1, 2, 1, 2, 0])"
            ]
          },
          "metadata": {},
          "execution_count": 26
        }
      ],
      "source": [
        "y"
      ]
    },
    {
      "cell_type": "code",
      "execution_count": 27,
      "metadata": {
        "id": "6qcgC_gui2gr",
        "outputId": "49aee1df-18fb-463a-f437-b8c55b66a54e",
        "tags": [],
        "colab": {
          "base_uri": "https://localhost:8080/",
          "height": 642
        }
      },
      "outputs": [
        {
          "output_type": "display_data",
          "data": {
            "text/html": [
              "<iframe\n",
              "    scrolling=\"no\"\n",
              "    width=\"620px\"\n",
              "    height=\"620\"\n",
              "    src=\"iframe_figures/figure_27.html\"\n",
              "    frameborder=\"0\"\n",
              "    allowfullscreen\n",
              "></iframe>\n"
            ]
          },
          "metadata": {}
        }
      ],
      "source": [
        "fig = go.Figure(data=[go.Scatter(x=X[:, 0], y=X[:, 1],\n",
        "                                   mode='markers', \n",
        "                                   marker=dict(\n",
        "                                    size=6,\n",
        "                                    color=y,                # set color to an array/list of desired values\n",
        "                                    colorscale='picnic',   # choose a colorscale\n",
        "                                    opacity=0.7)\n",
        "                                  )])\n",
        "\n",
        "fig.update_layout(\n",
        "    autosize=False,\n",
        "    width=600,\n",
        "    height=600,\n",
        "    margin=dict(l=0, r=0, b=0, t=10))\n",
        "    \n",
        "fig.show()"
      ]
    },
    {
      "cell_type": "markdown",
      "metadata": {
        "id": "AG4U1zP4i2gs"
      },
      "source": [
        "# LSH"
      ]
    },
    {
      "cell_type": "code",
      "execution_count": 28,
      "metadata": {
        "id": "e9Po6mvUi2gs",
        "tags": []
      },
      "outputs": [],
      "source": [
        "frontera = Frontera(X, y, method='LSH')#,percentil_min=5, percentil_max=20, N_points_frontera=41, method='LSH')"
      ]
    },
    {
      "cell_type": "code",
      "execution_count": 29,
      "metadata": {
        "id": "W8N3vgHai2gs",
        "tags": [],
        "outputId": "8ba3cffd-502c-48c6-e304-8ca93fd8e306",
        "colab": {
          "base_uri": "https://localhost:8080/",
          "height": 311
        }
      },
      "outputs": [
        {
          "output_type": "error",
          "ename": "IndexError",
          "evalue": "ignored",
          "traceback": [
            "\u001b[0;31m---------------------------------------------------------------------------\u001b[0m",
            "\u001b[0;31mIndexError\u001b[0m                                Traceback (most recent call last)",
            "\u001b[0;32m<ipython-input-29-be117b9ae10e>\u001b[0m in \u001b[0;36m<cell line: 1>\u001b[0;34m()\u001b[0m\n\u001b[0;32m----> 1\u001b[0;31m \u001b[0mpoints\u001b[0m\u001b[0;34m,\u001b[0m \u001b[0mlabel\u001b[0m \u001b[0;34m=\u001b[0m \u001b[0mfrontera\u001b[0m\u001b[0;34m.\u001b[0m\u001b[0mfrontier\u001b[0m\u001b[0;34m(\u001b[0m\u001b[0;34m)\u001b[0m\u001b[0;34m\u001b[0m\u001b[0;34m\u001b[0m\u001b[0m\n\u001b[0m",
            "\u001b[0;32m/content/tesis_mapeo_distribucion/Final/frontera_v4.py\u001b[0m in \u001b[0;36mfrontier\u001b[0;34m(self)\u001b[0m\n\u001b[1;32m    882\u001b[0m         \u001b[0;32melif\u001b[0m \u001b[0mself\u001b[0m\u001b[0;34m.\u001b[0m\u001b[0mmethod\u001b[0m \u001b[0;34m==\u001b[0m \u001b[0;34m'LSH'\u001b[0m\u001b[0;34m:\u001b[0m\u001b[0;34m\u001b[0m\u001b[0;34m\u001b[0m\u001b[0m\n\u001b[1;32m    883\u001b[0m             \u001b[0mself\u001b[0m\u001b[0;34m.\u001b[0m\u001b[0mget_frontier\u001b[0m\u001b[0;34m(\u001b[0m\u001b[0;34m)\u001b[0m\u001b[0;34m\u001b[0m\u001b[0;34m\u001b[0m\u001b[0m\n\u001b[0;32m--> 884\u001b[0;31m             \u001b[0mself\u001b[0m\u001b[0;34m.\u001b[0m\u001b[0mget_X1_Y1\u001b[0m\u001b[0;34m(\u001b[0m\u001b[0;34m)\u001b[0m\u001b[0;34m\u001b[0m\u001b[0;34m\u001b[0m\u001b[0m\n\u001b[0m\u001b[1;32m    885\u001b[0m             \u001b[0mself\u001b[0m\u001b[0;34m.\u001b[0m\u001b[0mcreate_groups\u001b[0m\u001b[0;34m(\u001b[0m\u001b[0;34m)\u001b[0m\u001b[0;34m\u001b[0m\u001b[0;34m\u001b[0m\u001b[0m\n\u001b[1;32m    886\u001b[0m             \u001b[0mself\u001b[0m\u001b[0;34m.\u001b[0m\u001b[0mfit_lsh\u001b[0m\u001b[0;34m(\u001b[0m\u001b[0;34m)\u001b[0m\u001b[0;34m\u001b[0m\u001b[0;34m\u001b[0m\u001b[0m\n",
            "\u001b[0;32m/content/tesis_mapeo_distribucion/Final/frontera_v4.py\u001b[0m in \u001b[0;36mget_X1_Y1\u001b[0;34m(self)\u001b[0m\n\u001b[1;32m    839\u001b[0m         \u001b[0mself\u001b[0m\u001b[0;34m.\u001b[0m\u001b[0mX_1\u001b[0m \u001b[0;34m=\u001b[0m \u001b[0mnp\u001b[0m\u001b[0;34m.\u001b[0m\u001b[0marray\u001b[0m\u001b[0;34m(\u001b[0m\u001b[0mX_1\u001b[0m\u001b[0;34m)\u001b[0m\u001b[0;34m\u001b[0m\u001b[0;34m\u001b[0m\u001b[0m\n\u001b[1;32m    840\u001b[0m         \u001b[0mself\u001b[0m\u001b[0;34m.\u001b[0m\u001b[0my_1\u001b[0m \u001b[0;34m=\u001b[0m \u001b[0mnp\u001b[0m\u001b[0;34m.\u001b[0m\u001b[0marray\u001b[0m\u001b[0;34m(\u001b[0m\u001b[0my_1\u001b[0m\u001b[0;34m)\u001b[0m\u001b[0;34m\u001b[0m\u001b[0;34m\u001b[0m\u001b[0m\n\u001b[0;32m--> 841\u001b[0;31m         \u001b[0mself\u001b[0m\u001b[0;34m.\u001b[0m\u001b[0m_epsilon\u001b[0m \u001b[0;34m=\u001b[0m \u001b[0mnp\u001b[0m\u001b[0;34m.\u001b[0m\u001b[0mpercentile\u001b[0m\u001b[0;34m(\u001b[0m\u001b[0mself\u001b[0m\u001b[0;34m.\u001b[0m\u001b[0mX_1\u001b[0m\u001b[0;34m[\u001b[0m\u001b[0;34m:\u001b[0m\u001b[0;34m,\u001b[0m \u001b[0;36m1\u001b[0m\u001b[0;34m]\u001b[0m\u001b[0;34m,\u001b[0m \u001b[0;36m5\u001b[0m\u001b[0;34m)\u001b[0m\u001b[0;34m\u001b[0m\u001b[0;34m\u001b[0m\u001b[0m\n\u001b[0m\u001b[1;32m    842\u001b[0m         \u001b[0;31m#X_1[:,1].mean() #assigne the mean of the distances to _epsilon\u001b[0m\u001b[0;34m\u001b[0m\u001b[0;34m\u001b[0m\u001b[0m\n\u001b[1;32m    843\u001b[0m \u001b[0;34m\u001b[0m\u001b[0m\n",
            "\u001b[0;31mIndexError\u001b[0m: too many indices for array: array is 1-dimensional, but 2 were indexed"
          ]
        }
      ],
      "source": [
        "points, label = frontera.frontier()"
      ]
    },
    {
      "cell_type": "code",
      "execution_count": null,
      "metadata": {
        "id": "0jeAHGJoi2gs",
        "tags": []
      },
      "outputs": [],
      "source": [
        "frontera.centroids"
      ]
    },
    {
      "cell_type": "code",
      "execution_count": null,
      "metadata": {
        "id": "a-ki6Yyci2gt",
        "tags": []
      },
      "outputs": [],
      "source": [
        "frontera.plot_frontera_2D(0,1)"
      ]
    },
    {
      "cell_type": "markdown",
      "metadata": {
        "id": "hvttJHdVi2gt"
      },
      "source": [
        "# Rob"
      ]
    },
    {
      "cell_type": "code",
      "execution_count": null,
      "metadata": {
        "id": "AvUQX6z4i2gt",
        "tags": []
      },
      "outputs": [],
      "source": [
        "frontera = Frontera(X,y,percentil_min=5, percentil_max=20, N_points_frontera=41)"
      ]
    },
    {
      "cell_type": "code",
      "execution_count": null,
      "metadata": {
        "id": "GkJlE9W9i2gt",
        "tags": []
      },
      "outputs": [],
      "source": [
        "frontera.frontier()"
      ]
    },
    {
      "cell_type": "code",
      "execution_count": null,
      "metadata": {
        "id": "J-J_beh5i2gt",
        "tags": []
      },
      "outputs": [],
      "source": [
        "frontera.plot_frontera_2D(0,1)"
      ]
    },
    {
      "cell_type": "code",
      "execution_count": null,
      "metadata": {
        "id": "vFBVgfiTi2gt",
        "tags": []
      },
      "outputs": [],
      "source": [
        "frontera.plot_Vectors(0,1)"
      ]
    },
    {
      "cell_type": "markdown",
      "metadata": {
        "id": "BOo-1qzti2gt"
      },
      "source": [
        "# Leo"
      ]
    },
    {
      "cell_type": "code",
      "execution_count": null,
      "metadata": {
        "id": "bO04z60ii2gt",
        "tags": []
      },
      "outputs": [],
      "source": [
        "frontera = Frontera(X,y,percentil_min=5, percentil_max=10, N_points_frontera=41, method='prototypes')"
      ]
    },
    {
      "cell_type": "code",
      "execution_count": null,
      "metadata": {
        "id": "8Hwm5IiVi2gt",
        "tags": []
      },
      "outputs": [],
      "source": [
        "frontera.frontier()"
      ]
    },
    {
      "cell_type": "code",
      "execution_count": null,
      "metadata": {
        "id": "RsqT0mqvi2gu",
        "tags": []
      },
      "outputs": [],
      "source": [
        "frontera.plot_frontera_2D(0,1)"
      ]
    },
    {
      "cell_type": "markdown",
      "metadata": {
        "id": "VA2PT9Gbi2gu"
      },
      "source": [
        "# MNIST"
      ]
    },
    {
      "cell_type": "code",
      "execution_count": null,
      "metadata": {
        "id": "hwypu3rvi2gu",
        "tags": []
      },
      "outputs": [],
      "source": [
        "import numpy as np\n",
        "import tensorflow as tf\n",
        "\n",
        "(x_train, y_train), (x_test, y_test) = tf.keras.datasets.mnist.load_data()\n",
        "\n",
        "# # Normalize the pixel values\n",
        "# x_train = x_train / 255.0\n",
        "# x_test = x_test / 255.0\n",
        "\n",
        "# Flatten and transpose images\n",
        "x_train_flat = x_train.reshape(x_train.shape[0], -1)\n",
        "# x_test_flat = x_test.reshape(x_test.shape[0], -1).T\n",
        "\n",
        "# Add labels as an additional column vector\n",
        "y_train_col = y_train.reshape(1, y_train.shape[0]).T\n",
        "# y_test_col = y_test.reshape(1, y_test.shape[0])\n",
        "\n",
        "#train_data = np.vstack((x_train_flat, y_train_col))\n",
        "# test_data = np.vstack((x_test_flat, y_test_col))"
      ]
    },
    {
      "cell_type": "code",
      "execution_count": null,
      "metadata": {
        "tags": [],
        "id": "LfD-RiXiaDur"
      },
      "outputs": [],
      "source": [
        "# Fijamos una semilla para el generador de números aleatorios\n",
        "semilla = 42\n",
        "\n",
        "# Creamos un objeto generador de números aleatorios con la semilla fijada\n",
        "rng = np.random.RandomState(semilla)\n",
        "\n",
        "# Generamos una permutación aleatoria de los índices de ambos arrays\n",
        "indices_perm = rng.permutation(1000)\n",
        "\n",
        "# Obtenemos las muestras aleatorias utilizando los índices permutados\n",
        "muestra_array1 = x_train_flat[indices_perm]\n",
        "muestra_array2 = y_train_col[indices_perm]"
      ]
    },
    {
      "cell_type": "code",
      "execution_count": null,
      "metadata": {
        "tags": [],
        "id": "4khMSTr3aDur"
      },
      "outputs": [],
      "source": [
        "import matplotlib.pyplot as plt\n",
        "\n",
        "# Function to display images\n",
        "def display_images(images, labels, num_images=10):\n",
        "    fig, axes = plt.subplots(1, num_images, figsize=(15, 15))\n",
        "    axes = axes.ravel()\n",
        "\n",
        "    for i in range(num_images):\n",
        "        axes[i].imshow(images[i].reshape(28, 28), cmap='gray')\n",
        "        axes[i].set_title(f\"Label: {labels[i]}\", fontsize=12)\n",
        "        axes[i].axis('off')\n",
        "\n",
        "    plt.subplots_adjust(wspace=0.5)\n",
        "\n",
        "# Display first 10 filtered images from the training set\n",
        "display_images(muestra_array1, muestra_array2)\n",
        "plt.show()"
      ]
    },
    {
      "cell_type": "code",
      "execution_count": null,
      "metadata": {
        "tags": [],
        "id": "LXBboFT-aDus"
      },
      "outputs": [],
      "source": [
        "#muestra_array2 = muestra_array2.reshape(1,-1)\n",
        "print(muestra_array1.shape)\n",
        "print(muestra_array2.shape)"
      ]
    },
    {
      "cell_type": "code",
      "execution_count": null,
      "metadata": {
        "id": "vnOre4jXi2gv",
        "tags": []
      },
      "outputs": [],
      "source": [
        "%run frontera_v3.ipynb\n",
        "frontera = Frontera(muestra_array1,muestra_array2,percentil_min=5, percentil_max=25, N_points_frontera=41)"
      ]
    },
    {
      "cell_type": "code",
      "execution_count": null,
      "metadata": {
        "id": "Uw-H5JTsi2gv",
        "scrolled": true,
        "tags": []
      },
      "outputs": [],
      "source": [
        "frontera.frontier()"
      ]
    },
    {
      "cell_type": "code",
      "execution_count": null,
      "metadata": {
        "tags": [],
        "id": "0FJL_i8GaDut"
      },
      "outputs": [],
      "source": [
        "frontera.plot_muestra_2D( int(600/2),int(600/2+1) )"
      ]
    },
    {
      "cell_type": "code",
      "execution_count": null,
      "metadata": {
        "tags": [],
        "id": "diWYR6tEaDut"
      },
      "outputs": [],
      "source": [
        "frontera.plot_frontera_2D( int(600/2),int(600/2+1) )"
      ]
    },
    {
      "cell_type": "code",
      "execution_count": null,
      "metadata": {
        "tags": [],
        "id": "zL9QLNWEaDut"
      },
      "outputs": [],
      "source": [
        "frontera.plot_UMAP()"
      ]
    },
    {
      "cell_type": "code",
      "execution_count": null,
      "metadata": {
        "id": "-t0_KTpuaDuu"
      },
      "outputs": [],
      "source": []
    },
    {
      "cell_type": "code",
      "execution_count": null,
      "metadata": {
        "id": "CDqFR8i7i2gw"
      },
      "outputs": [],
      "source": []
    },
    {
      "cell_type": "markdown",
      "metadata": {
        "id": "vt16ysgNi2gw"
      },
      "source": [
        "### prototypes"
      ]
    },
    {
      "cell_type": "code",
      "execution_count": null,
      "metadata": {
        "id": "FRtpBr24i2gw",
        "tags": []
      },
      "outputs": [],
      "source": [
        "# Get the selected prototypes and their labels\n",
        "prototypes = frontera.w_\n",
        "prototype_labels = frontera.c_w_\n",
        "\n",
        "# Plot the data points and prototypes\n",
        "plt.scatter(X[:, 0], X[:, 1], c=y, edgecolors=\"k\", cmap=plt.cm.Spectral, alpha=0.5)\n",
        "plt.scatter(prototypes[:, 0], prototypes[:, 1], c='black', marker='X', s=200, label='Prototypes')\n",
        "\n",
        "# Customize the plot\n",
        "plt.xlabel('Feature 1')\n",
        "plt.ylabel('Feature 2')\n",
        "plt.legend()\n",
        "plt.title('Dataset and Prototypes')\n",
        "\n",
        "# Show the plot\n",
        "plt.show()"
      ]
    }
  ],
  "metadata": {
    "colab": {
      "provenance": [],
      "include_colab_link": true
    },
    "kernelspec": {
      "display_name": "Python 3 (ipykernel)",
      "language": "python",
      "name": "python3"
    },
    "language_info": {
      "codemirror_mode": {
        "name": "ipython",
        "version": 3
      },
      "file_extension": ".py",
      "mimetype": "text/x-python",
      "name": "python",
      "nbconvert_exporter": "python",
      "pygments_lexer": "ipython3",
      "version": "3.10.9"
    }
  },
  "nbformat": 4,
  "nbformat_minor": 0
}