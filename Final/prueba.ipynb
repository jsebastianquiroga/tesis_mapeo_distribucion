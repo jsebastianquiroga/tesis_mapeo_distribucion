{
  "cells": [
    {
      "cell_type": "code",
      "execution_count": 1,
      "metadata": {
        "tags": [],
        "colab": {
          "base_uri": "https://localhost:8080/"
        },
        "id": "3UDLxEYBeeo9",
        "outputId": "9623c7af-cc1f-4152-d994-e5d1cb08403c"
      },
      "outputs": [
        {
          "output_type": "stream",
          "name": "stdout",
          "text": [
            "Looking in indexes: https://pypi.org/simple, https://us-python.pkg.dev/colab-wheels/public/simple/\n",
            "\u001b[31mERROR: Could not find a version that satisfies the requirement GUROBI (from versions: none)\u001b[0m\u001b[31m\n",
            "\u001b[0m\u001b[31mERROR: No matching distribution found for GUROBI\u001b[0m\u001b[31m\n",
            "\u001b[0m"
          ]
        }
      ],
      "source": [
        "!pip install GUROBI"
      ]
    },
    {
      "cell_type": "code",
      "source": [
        "!git clone https://github.com/jsebastianquiroga/tesis_mapeo_distribucion"
      ],
      "metadata": {
        "colab": {
          "base_uri": "https://localhost:8080/"
        },
        "id": "wHc82REWeh22",
        "outputId": "f901f59c-c591-4808-88a0-6cd4c4815272"
      },
      "execution_count": 2,
      "outputs": [
        {
          "output_type": "stream",
          "name": "stdout",
          "text": [
            "fatal: destination path 'tesis_mapeo_distribucion' already exists and is not an empty directory.\n"
          ]
        }
      ]
    },
    {
      "cell_type": "code",
      "source": [
        "import os\n",
        "os.chdir('tesis_mapeo_distribucion/Final')"
      ],
      "metadata": {
        "id": "T8UfbA6_ej1q"
      },
      "execution_count": 3,
      "outputs": []
    },
    {
      "cell_type": "code",
      "source": [
        "# !pip install gurobipy "
      ],
      "metadata": {
        "id": "AdUz-zPwf58s"
      },
      "execution_count": 4,
      "outputs": []
    },
    {
      "cell_type": "code",
      "source": [
        "# !pip install umap"
      ],
      "metadata": {
        "id": "O8xmUds1gAml"
      },
      "execution_count": 5,
      "outputs": []
    },
    {
      "cell_type": "code",
      "source": [
        "from frontera_v3 import Frontera"
      ],
      "metadata": {
        "id": "4YfwvSjaeru3"
      },
      "execution_count": 6,
      "outputs": []
    },
    {
      "cell_type": "markdown",
      "metadata": {
        "id": "xBb0j2kYeepM"
      },
      "source": [
        "# Rob"
      ]
    },
    {
      "cell_type": "code",
      "execution_count": 7,
      "metadata": {
        "tags": [],
        "id": "OVx8I9j4eepT"
      },
      "outputs": [],
      "source": [
        "\n",
        "import scipy.stats as stats\n",
        "\n",
        "import pandas as pd\n",
        "from sklearn.datasets import make_blobs\n",
        "\n",
        "import plotly.graph_objects as go\n",
        "\n",
        "import matplotlib.pyplot as plt # Para crear gráficos con matplotlib\n",
        "import plotly as py\n",
        "import plotly.io as pio"
      ]
    },
    {
      "cell_type": "code",
      "execution_count": 8,
      "metadata": {
        "tags": [],
        "id": "Ta-OJBYweepW"
      },
      "outputs": [],
      "source": [
        "\n",
        "import scipy.stats as stats\n",
        "\n",
        "import pandas as pd\n",
        "from sklearn.datasets import make_blobs\n",
        "\n",
        "import plotly.graph_objects as go\n",
        "\n",
        "import matplotlib.pyplot as plt # Para crear gráficos con matplotlib\n",
        "import plotly as py\n",
        "import plotly.io as pio\n",
        "pio.renderers.default = 'iframe'"
      ]
    },
    {
      "cell_type": "code",
      "execution_count": 9,
      "metadata": {
        "tags": [],
        "id": "HZ-8fwRleepa"
      },
      "outputs": [],
      "source": [
        "# Simulación de datos\n",
        "# ==============================================================================\n",
        "X, y = make_blobs(\n",
        "        n_samples    = 600, \n",
        "        n_features   = 2, \n",
        "        centers      = 3, \n",
        "        cluster_std  = 1, \n",
        "        shuffle      = True, \n",
        "        random_state = 0\n",
        "       )"
      ]
    },
    {
      "cell_type": "code",
      "execution_count": 10,
      "metadata": {
        "tags": [],
        "colab": {
          "base_uri": "https://localhost:8080/",
          "height": 641
        },
        "id": "vjwRjXwzeepc",
        "outputId": "86edc744-fc77-4dba-bd32-df5c48ac6d99"
      },
      "outputs": [
        {
          "output_type": "display_data",
          "data": {
            "text/html": [
              "<iframe\n",
              "    scrolling=\"no\"\n",
              "    width=\"620px\"\n",
              "    height=\"620\"\n",
              "    src=\"iframe_figures/figure_10.html\"\n",
              "    frameborder=\"0\"\n",
              "    allowfullscreen\n",
              "></iframe>\n"
            ]
          },
          "metadata": {}
        }
      ],
      "source": [
        "fig = go.Figure(data=[go.Scatter(x=X[:, 0], y=X[:, 1],\n",
        "                                   mode='markers', \n",
        "                                   marker=dict(\n",
        "                                    size=6,\n",
        "                                    color=y,                # set color to an array/list of desired values\n",
        "                                    colorscale='picnic',   # choose a colorscale\n",
        "                                    opacity=0.7)\n",
        "                                  )])\n",
        "\n",
        "fig.update_layout(\n",
        "    autosize=False,\n",
        "    width=600,\n",
        "    height=600,\n",
        "    margin=dict(l=0, r=0, b=0, t=10))\n",
        "    \n",
        "fig.show()"
      ]
    },
    {
      "cell_type": "code",
      "execution_count": 11,
      "metadata": {
        "tags": [],
        "id": "N1XWKdZ2eeph"
      },
      "outputs": [],
      "source": [
        "frontera = Frontera(X,y,percentil_min=5, percentil_max=20, N_points_frontera=41)"
      ]
    },
    {
      "cell_type": "code",
      "execution_count": 12,
      "metadata": {
        "tags": [],
        "id": "toM9Va9reepi"
      },
      "outputs": [],
      "source": [
        "frontera.frontier()"
      ]
    },
    {
      "cell_type": "code",
      "execution_count": 13,
      "metadata": {
        "tags": [],
        "colab": {
          "base_uri": "https://localhost:8080/",
          "height": 791
        },
        "id": "o06Wqe7Xeepk",
        "outputId": "145037e5-15ff-4320-dfaa-d35d60a7d47a"
      },
      "outputs": [
        {
          "output_type": "display_data",
          "data": {
            "text/html": [
              "<iframe\n",
              "    scrolling=\"no\"\n",
              "    width=\"1220px\"\n",
              "    height=\"770\"\n",
              "    src=\"iframe_figures/figure_13.html\"\n",
              "    frameborder=\"0\"\n",
              "    allowfullscreen\n",
              "></iframe>\n"
            ]
          },
          "metadata": {}
        }
      ],
      "source": [
        "frontera.plot_frontera_2D(0,1)"
      ]
    },
    {
      "cell_type": "code",
      "execution_count": 14,
      "metadata": {
        "tags": [],
        "colab": {
          "base_uri": "https://localhost:8080/",
          "height": 791
        },
        "id": "xRKbmX_Teepm",
        "outputId": "bf65446a-2e51-44c5-80ee-7feef28712e0"
      },
      "outputs": [
        {
          "output_type": "display_data",
          "data": {
            "text/html": [
              "<iframe\n",
              "    scrolling=\"no\"\n",
              "    width=\"1220px\"\n",
              "    height=\"770\"\n",
              "    src=\"iframe_figures/figure_14.html\"\n",
              "    frameborder=\"0\"\n",
              "    allowfullscreen\n",
              "></iframe>\n"
            ]
          },
          "metadata": {}
        }
      ],
      "source": [
        "frontera.plot_Vectors(0,1)"
      ]
    },
    {
      "cell_type": "markdown",
      "metadata": {
        "id": "I865VNiZeepp"
      },
      "source": [
        "# Leo"
      ]
    },
    {
      "cell_type": "code",
      "execution_count": 15,
      "metadata": {
        "tags": [],
        "id": "cia4HNlVeepv"
      },
      "outputs": [],
      "source": [
        "frontera = Frontera(X,y,percentil_min=5, percentil_max=10, N_points_frontera=41, method='prototypes')"
      ]
    },
    {
      "cell_type": "code",
      "execution_count": 16,
      "metadata": {
        "tags": [],
        "colab": {
          "base_uri": "https://localhost:8080/"
        },
        "id": "BiPvbG4Yeepx",
        "outputId": "44770f69-5898-43bf-e7b7-35f70c9a6785"
      },
      "outputs": [
        {
          "output_type": "stream",
          "name": "stdout",
          "text": [
            "Restricted license - for non-production use only - expires 2024-10-28\n"
          ]
        }
      ],
      "source": [
        "frontera.frontier()"
      ]
    },
    {
      "cell_type": "code",
      "execution_count": 17,
      "metadata": {
        "tags": [],
        "colab": {
          "base_uri": "https://localhost:8080/",
          "height": 791
        },
        "id": "4fQEvoUVeepy",
        "outputId": "9d0ee9c1-fb3e-4b19-f76c-afb1f021fbac"
      },
      "outputs": [
        {
          "output_type": "display_data",
          "data": {
            "text/html": [
              "<iframe\n",
              "    scrolling=\"no\"\n",
              "    width=\"1220px\"\n",
              "    height=\"770\"\n",
              "    src=\"iframe_figures/figure_17.html\"\n",
              "    frameborder=\"0\"\n",
              "    allowfullscreen\n",
              "></iframe>\n"
            ]
          },
          "metadata": {}
        }
      ],
      "source": [
        "frontera.plot_frontera_2D(0,1)"
      ]
    },
    {
      "cell_type": "markdown",
      "metadata": {
        "id": "uoX45Dcjeep0"
      },
      "source": [
        "# LSH"
      ]
    },
    {
      "cell_type": "code",
      "execution_count": 18,
      "metadata": {
        "tags": [],
        "id": "kdtvS9Skeep2"
      },
      "outputs": [],
      "source": [
        "frontera = Frontera(X,y,percentil_min=5, percentil_max=20, N_points_frontera=41, method='LSH')"
      ]
    },
    {
      "cell_type": "code",
      "execution_count": 19,
      "metadata": {
        "tags": [],
        "id": "jP7mDcvReep3"
      },
      "outputs": [],
      "source": [
        "frontera.frontier()"
      ]
    },
    {
      "cell_type": "code",
      "execution_count": 20,
      "metadata": {
        "tags": [],
        "colab": {
          "base_uri": "https://localhost:8080/"
        },
        "id": "j-7vPzeReep5",
        "outputId": "e52e1b38-9205-4585-d991-090d0d484297"
      },
      "outputs": [
        {
          "output_type": "execute_result",
          "data": {
            "text/plain": [
              "{'g0_n': array([0.53988144, 2.73726653]),\n",
              " 'g0_p': array([-1.30801854,  0.54356561]),\n",
              " 'g1_p': array([-0.12486259,  3.43710429]),\n",
              " 'g1_n': array([2.19192924, 0.49708534])}"
            ]
          },
          "metadata": {},
          "execution_count": 20
        }
      ],
      "source": [
        "frontera.centroids"
      ]
    },
    {
      "cell_type": "code",
      "execution_count": 21,
      "metadata": {
        "tags": [],
        "colab": {
          "base_uri": "https://localhost:8080/",
          "height": 791
        },
        "id": "Qtmthw3Geep7",
        "outputId": "7c79d512-71c0-4c30-eba4-6121ed8f95a0"
      },
      "outputs": [
        {
          "output_type": "display_data",
          "data": {
            "text/html": [
              "<iframe\n",
              "    scrolling=\"no\"\n",
              "    width=\"1220px\"\n",
              "    height=\"770\"\n",
              "    src=\"iframe_figures/figure_21.html\"\n",
              "    frameborder=\"0\"\n",
              "    allowfullscreen\n",
              "></iframe>\n"
            ]
          },
          "metadata": {}
        }
      ],
      "source": [
        "frontera.plot_frontera_2D(0,1)"
      ]
    },
    {
      "cell_type": "code",
      "execution_count": 22,
      "metadata": {
        "tags": [],
        "colab": {
          "base_uri": "https://localhost:8080/",
          "height": 235
        },
        "id": "LP8bUMq9eep8",
        "outputId": "1598b69e-8e97-49b6-f29e-127701513e1a"
      },
      "outputs": [
        {
          "output_type": "error",
          "ename": "NameError",
          "evalue": "ignored",
          "traceback": [
            "\u001b[0;31m---------------------------------------------------------------------------\u001b[0m",
            "\u001b[0;31mNameError\u001b[0m                                 Traceback (most recent call last)",
            "\u001b[0;32m<ipython-input-22-38fed233b335>\u001b[0m in \u001b[0;36m<cell line: 1>\u001b[0;34m()\u001b[0m\n\u001b[0;32m----> 1\u001b[0;31m \u001b[0mcentroid_arrays\u001b[0m \u001b[0;34m=\u001b[0m \u001b[0mnp\u001b[0m\u001b[0;34m.\u001b[0m\u001b[0marray\u001b[0m\u001b[0;34m(\u001b[0m\u001b[0mlist\u001b[0m\u001b[0;34m(\u001b[0m\u001b[0mfrontera\u001b[0m\u001b[0;34m.\u001b[0m\u001b[0mcentroids\u001b[0m\u001b[0;34m.\u001b[0m\u001b[0mvalues\u001b[0m\u001b[0;34m(\u001b[0m\u001b[0;34m)\u001b[0m\u001b[0;34m)\u001b[0m\u001b[0;34m)\u001b[0m\u001b[0;34m\u001b[0m\u001b[0;34m\u001b[0m\u001b[0m\n\u001b[0m\u001b[1;32m      2\u001b[0m \u001b[0;34m\u001b[0m\u001b[0m\n\u001b[1;32m      3\u001b[0m \u001b[0;31m# Plot the data points and prototypes\u001b[0m\u001b[0;34m\u001b[0m\u001b[0;34m\u001b[0m\u001b[0m\n\u001b[1;32m      4\u001b[0m \u001b[0mplt\u001b[0m\u001b[0;34m.\u001b[0m\u001b[0mscatter\u001b[0m\u001b[0;34m(\u001b[0m\u001b[0mX\u001b[0m\u001b[0;34m[\u001b[0m\u001b[0;34m:\u001b[0m\u001b[0;34m,\u001b[0m \u001b[0;36m0\u001b[0m\u001b[0;34m]\u001b[0m\u001b[0;34m,\u001b[0m \u001b[0mX\u001b[0m\u001b[0;34m[\u001b[0m\u001b[0;34m:\u001b[0m\u001b[0;34m,\u001b[0m \u001b[0;36m1\u001b[0m\u001b[0;34m]\u001b[0m\u001b[0;34m,\u001b[0m \u001b[0mc\u001b[0m\u001b[0;34m=\u001b[0m\u001b[0my\u001b[0m\u001b[0;34m,\u001b[0m \u001b[0medgecolors\u001b[0m\u001b[0;34m=\u001b[0m\u001b[0;34m\"k\"\u001b[0m\u001b[0;34m,\u001b[0m \u001b[0mcmap\u001b[0m\u001b[0;34m=\u001b[0m\u001b[0mplt\u001b[0m\u001b[0;34m.\u001b[0m\u001b[0mcm\u001b[0m\u001b[0;34m.\u001b[0m\u001b[0mSpectral\u001b[0m\u001b[0;34m,\u001b[0m \u001b[0malpha\u001b[0m\u001b[0;34m=\u001b[0m\u001b[0;36m0.5\u001b[0m\u001b[0;34m)\u001b[0m\u001b[0;34m\u001b[0m\u001b[0;34m\u001b[0m\u001b[0m\n\u001b[1;32m      5\u001b[0m \u001b[0mplt\u001b[0m\u001b[0;34m.\u001b[0m\u001b[0mscatter\u001b[0m\u001b[0;34m(\u001b[0m\u001b[0mcentroid_arrays\u001b[0m\u001b[0;34m[\u001b[0m\u001b[0;34m:\u001b[0m\u001b[0;34m,\u001b[0m \u001b[0;36m0\u001b[0m\u001b[0;34m]\u001b[0m\u001b[0;34m,\u001b[0m \u001b[0mcentroid_arrays\u001b[0m\u001b[0;34m[\u001b[0m\u001b[0;34m:\u001b[0m\u001b[0;34m,\u001b[0m \u001b[0;36m1\u001b[0m\u001b[0;34m]\u001b[0m\u001b[0;34m,\u001b[0m \u001b[0mc\u001b[0m\u001b[0;34m=\u001b[0m\u001b[0;34m'black'\u001b[0m\u001b[0;34m,\u001b[0m \u001b[0mmarker\u001b[0m\u001b[0;34m=\u001b[0m\u001b[0;34m'X'\u001b[0m\u001b[0;34m,\u001b[0m \u001b[0ms\u001b[0m\u001b[0;34m=\u001b[0m\u001b[0;36m200\u001b[0m\u001b[0;34m,\u001b[0m \u001b[0mlabel\u001b[0m\u001b[0;34m=\u001b[0m\u001b[0;34m'LSH'\u001b[0m\u001b[0;34m)\u001b[0m\u001b[0;34m\u001b[0m\u001b[0;34m\u001b[0m\u001b[0m\n",
            "\u001b[0;31mNameError\u001b[0m: name 'np' is not defined"
          ]
        }
      ],
      "source": [
        "import numpy as np\n",
        "centroid_arrays = np.array(list(frontera.centroids.values()))\n",
        "\n",
        "# Plot the data points and prototypes\n",
        "plt.scatter(X[:, 0], X[:, 1], c=y, edgecolors=\"k\", cmap=plt.cm.Spectral, alpha=0.5)\n",
        "plt.scatter(centroid_arrays[:, 0], centroid_arrays[:, 1], c='black', marker='X', s=200, label='LSH')\n",
        "\n",
        "# Customize the plot\n",
        "plt.xlabel('Feature 1')\n",
        "plt.ylabel('Feature 2')\n",
        "plt.legend()\n",
        "plt.title('Dataset and LSH')\n",
        "\n",
        "# Show the plot\n",
        "plt.show()\n"
      ]
    },
    {
      "cell_type": "markdown",
      "metadata": {
        "id": "o7BN7jafeep-"
      },
      "source": [
        "# MNIST"
      ]
    },
    {
      "cell_type": "code",
      "execution_count": null,
      "metadata": {
        "id": "QOBex1G4eep_"
      },
      "outputs": [],
      "source": [
        "import numpy as np\n",
        "import tensorflow as tf\n",
        "\n",
        "(x_train, y_train), (x_test, y_test) = tf.keras.datasets.mnist.load_data()\n",
        "\n",
        "# Flatten and transpose images\n",
        "x_train_flat = x_train.reshape(x_train.shape[0], -1).T\n",
        "# x_test_flat = x_test.reshape(x_test.shape[0], -1).T\n",
        "\n",
        "# Add labels as an additional column vector\n",
        "y_train_col = y_train.reshape(1, y_train.shape[0])\n",
        "# y_test_col = y_test.reshape(1, y_test.shape[0])\n",
        "\n",
        "train_data = np.vstack((x_train_flat, y_train_col))\n",
        "# test_data = np.vstack((x_test_flat, y_test_col))\n"
      ]
    },
    {
      "cell_type": "code",
      "execution_count": null,
      "metadata": {
        "id": "D0kI1MwfeeqB"
      },
      "outputs": [],
      "source": [
        "frontera = Frontera(x_train_flat,y_train_col,percentil_min=5, percentil_max=20, N_points_frontera=41)"
      ]
    },
    {
      "cell_type": "code",
      "execution_count": null,
      "metadata": {
        "id": "JVWmE7NCeeqC"
      },
      "outputs": [],
      "source": [
        "frontera.frontier()"
      ]
    },
    {
      "cell_type": "code",
      "execution_count": null,
      "metadata": {
        "id": "DANxyCI8eeqC"
      },
      "outputs": [],
      "source": []
    },
    {
      "cell_type": "code",
      "execution_count": null,
      "metadata": {
        "id": "0i8Z8_creeqD"
      },
      "outputs": [],
      "source": []
    },
    {
      "cell_type": "code",
      "execution_count": null,
      "metadata": {
        "id": "uIbMMxNbeeqE"
      },
      "outputs": [],
      "source": []
    },
    {
      "cell_type": "code",
      "execution_count": null,
      "metadata": {
        "id": "JDgB6hrMeeqF"
      },
      "outputs": [],
      "source": []
    },
    {
      "cell_type": "markdown",
      "metadata": {
        "id": "LaCR-L5ueeqG"
      },
      "source": [
        "### prototypes"
      ]
    },
    {
      "cell_type": "code",
      "execution_count": null,
      "metadata": {
        "tags": [],
        "id": "J_9tCbteeeqH"
      },
      "outputs": [],
      "source": [
        "# Get the selected prototypes and their labels\n",
        "prototypes = frontera.w_\n",
        "prototype_labels = frontera.c_w_\n",
        "\n",
        "# Plot the data points and prototypes\n",
        "plt.scatter(X[:, 0], X[:, 1], c=y, edgecolors=\"k\", cmap=plt.cm.Spectral, alpha=0.5)\n",
        "plt.scatter(prototypes[:, 0], prototypes[:, 1], c='black', marker='X', s=200, label='Prototypes')\n",
        "\n",
        "# Customize the plot\n",
        "plt.xlabel('Feature 1')\n",
        "plt.ylabel('Feature 2')\n",
        "plt.legend()\n",
        "plt.title('Dataset and Prototypes')\n",
        "\n",
        "# Show the plot\n",
        "plt.show()"
      ]
    }
  ],
  "metadata": {
    "kernelspec": {
      "display_name": "Python 3 (ipykernel)",
      "language": "python",
      "name": "python3"
    },
    "language_info": {
      "codemirror_mode": {
        "name": "ipython",
        "version": 3
      },
      "file_extension": ".py",
      "mimetype": "text/x-python",
      "name": "python",
      "nbconvert_exporter": "python",
      "pygments_lexer": "ipython3",
      "version": "3.10.9"
    },
    "colab": {
      "provenance": []
    }
  },
  "nbformat": 4,
  "nbformat_minor": 0
}