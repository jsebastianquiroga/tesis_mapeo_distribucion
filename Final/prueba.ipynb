{
 "cells": [
  {
   "cell_type": "code",
   "execution_count": null,
   "metadata": {
    "colab": {
     "base_uri": "https://localhost:8080/"
    },
    "id": "3UDLxEYBeeo9",
    "outputId": "9623c7af-cc1f-4152-d994-e5d1cb08403c",
    "tags": []
   },
   "outputs": [],
   "source": [
    "!pip install GUROBI"
   ]
  },
  {
   "cell_type": "code",
   "execution_count": 57,
   "metadata": {
    "colab": {
     "base_uri": "https://localhost:8080/"
    },
    "id": "wHc82REWeh22",
    "outputId": "f901f59c-c591-4808-88a0-6cd4c4815272"
   },
   "outputs": [
    {
     "name": "stderr",
     "output_type": "stream",
     "text": [
      "\"git\" no se reconoce como un comando interno o externo,\n",
      "programa o archivo por lotes ejecutable.\n"
     ]
    }
   ],
   "source": [
    "!git clone https://github.com/jsebastianquiroga/tesis_mapeo_distribucion"
   ]
  },
  {
   "cell_type": "code",
   "execution_count": 58,
   "metadata": {
    "id": "T8UfbA6_ej1q"
   },
   "outputs": [
    {
     "ename": "FileNotFoundError",
     "evalue": "[WinError 3] El sistema no puede encontrar la ruta especificada: 'tesis_mapeo_distribucion/Final'",
     "output_type": "error",
     "traceback": [
      "\u001b[1;31m---------------------------------------------------------------------------\u001b[0m",
      "\u001b[1;31mFileNotFoundError\u001b[0m                         Traceback (most recent call last)",
      "\u001b[1;32m~\\AppData\\Local\\Temp\\ipykernel_19184\\1747039315.py\u001b[0m in \u001b[0;36m<module>\u001b[1;34m\u001b[0m\n\u001b[0;32m      1\u001b[0m \u001b[1;32mimport\u001b[0m \u001b[0mos\u001b[0m\u001b[1;33m\u001b[0m\u001b[1;33m\u001b[0m\u001b[0m\n\u001b[1;32m----> 2\u001b[1;33m \u001b[0mos\u001b[0m\u001b[1;33m.\u001b[0m\u001b[0mchdir\u001b[0m\u001b[1;33m(\u001b[0m\u001b[1;34m'tesis_mapeo_distribucion/Final'\u001b[0m\u001b[1;33m)\u001b[0m\u001b[1;33m\u001b[0m\u001b[1;33m\u001b[0m\u001b[0m\n\u001b[0m",
      "\u001b[1;31mFileNotFoundError\u001b[0m: [WinError 3] El sistema no puede encontrar la ruta especificada: 'tesis_mapeo_distribucion/Final'"
     ]
    }
   ],
   "source": [
    "import os\n",
    "os.chdir('tesis_mapeo_distribucion/Final')"
   ]
  },
  {
   "cell_type": "code",
   "execution_count": 59,
   "metadata": {
    "id": "AdUz-zPwf58s"
   },
   "outputs": [],
   "source": [
    "# !pip install gurobipy "
   ]
  },
  {
   "cell_type": "code",
   "execution_count": 60,
   "metadata": {
    "id": "O8xmUds1gAml"
   },
   "outputs": [],
   "source": [
    "# !pip install umap"
   ]
  },
  {
   "cell_type": "code",
   "execution_count": 61,
   "metadata": {
    "id": "4YfwvSjaeru3"
   },
   "outputs": [],
   "source": [
    "from frontera_v3 import Frontera"
   ]
  },
  {
   "cell_type": "markdown",
   "metadata": {
    "id": "xBb0j2kYeepM"
   },
   "source": [
    "# Rob"
   ]
  },
  {
   "cell_type": "code",
   "execution_count": 62,
   "metadata": {
    "id": "OVx8I9j4eepT",
    "tags": []
   },
   "outputs": [],
   "source": [
    "\n",
    "import scipy.stats as stats\n",
    "\n",
    "import pandas as pd\n",
    "from sklearn.datasets import make_blobs\n",
    "\n",
    "import plotly.graph_objects as go\n",
    "\n",
    "import matplotlib.pyplot as plt # Para crear gráficos con matplotlib\n",
    "import plotly as py\n",
    "import plotly.io as pio"
   ]
  },
  {
   "cell_type": "code",
   "execution_count": 63,
   "metadata": {
    "id": "Ta-OJBYweepW",
    "tags": []
   },
   "outputs": [],
   "source": [
    "\n",
    "import scipy.stats as stats\n",
    "\n",
    "import pandas as pd\n",
    "from sklearn.datasets import make_blobs\n",
    "\n",
    "import plotly.graph_objects as go\n",
    "\n",
    "import matplotlib.pyplot as plt # Para crear gráficos con matplotlib\n",
    "import plotly as py\n",
    "import plotly.io as pio\n",
    "pio.renderers.default = 'iframe'"
   ]
  },
  {
   "cell_type": "code",
   "execution_count": 64,
   "metadata": {
    "id": "HZ-8fwRleepa",
    "tags": []
   },
   "outputs": [],
   "source": [
    "# Simulación de datos\n",
    "# ==============================================================================\n",
    "X, y = make_blobs(\n",
    "        n_samples    = 600, \n",
    "        n_features   = 2, \n",
    "        centers      = 3, \n",
    "        cluster_std  = 1, \n",
    "        shuffle      = True, \n",
    "        random_state = 0\n",
    "       )\n"
   ]
  },
  {
   "cell_type": "code",
   "execution_count": 65,
   "metadata": {
    "colab": {
     "base_uri": "https://localhost:8080/",
     "height": 641
    },
    "id": "vjwRjXwzeepc",
    "outputId": "86edc744-fc77-4dba-bd32-df5c48ac6d99",
    "tags": []
   },
   "outputs": [
    {
     "data": {
      "text/html": [
       "<iframe\n",
       "    scrolling=\"no\"\n",
       "    width=\"620px\"\n",
       "    height=\"620\"\n",
       "    src=\"iframe_figures/figure_65.html\"\n",
       "    frameborder=\"0\"\n",
       "    allowfullscreen\n",
       "></iframe>\n"
      ]
     },
     "metadata": {},
     "output_type": "display_data"
    }
   ],
   "source": [
    "fig = go.Figure(data=[go.Scatter(x=X[:, 0], y=X[:, 1],\n",
    "                                   mode='markers', \n",
    "                                   marker=dict(\n",
    "                                    size=6,\n",
    "                                    color=y,                # set color to an array/list of desired values\n",
    "                                    colorscale='picnic',   # choose a colorscale\n",
    "                                    opacity=0.7)\n",
    "                                  )])\n",
    "\n",
    "fig.update_layout(\n",
    "    autosize=False,\n",
    "    width=600,\n",
    "    height=600,\n",
    "    margin=dict(l=0, r=0, b=0, t=10))\n",
    "    \n",
    "fig.show()"
   ]
  },
  {
   "cell_type": "code",
   "execution_count": 66,
   "metadata": {
    "id": "N1XWKdZ2eeph",
    "tags": []
   },
   "outputs": [],
   "source": [
    "frontera = Frontera(X,y,percentil_min=5, percentil_max=20, N_points_frontera=41)"
   ]
  },
  {
   "cell_type": "code",
   "execution_count": 67,
   "metadata": {
    "id": "toM9Va9reepi",
    "tags": []
   },
   "outputs": [],
   "source": [
    "frontera.get_frontier()"
   ]
  },
  {
   "cell_type": "code",
   "execution_count": 68,
   "metadata": {},
   "outputs": [
    {
     "data": {
      "text/plain": [
       "{'FrontPoints:(0,X)': array([[ 0.62227617,  2.92883603],\n",
       "        [ 0.37761614,  3.18789034],\n",
       "        [ 0.1631238 ,  2.57750473],\n",
       "        [ 0.46546494,  3.12315514],\n",
       "        [ 1.25671178,  3.31066372],\n",
       "        [ 3.2460247 ,  2.84942165],\n",
       "        [ 0.93698726,  3.13569383],\n",
       "        [ 0.28843247,  3.08970992],\n",
       "        [ 0.21212615,  2.86599585],\n",
       "        [ 0.16290582,  2.837363  ],\n",
       "        [ 3.28018678,  3.2437715 ],\n",
       "        [ 2.34080193,  3.61433814],\n",
       "        [ 2.102906  ,  3.22385582],\n",
       "        [ 0.2506727 ,  2.92042337],\n",
       "        [ 0.62283833,  2.68731314],\n",
       "        [ 1.28933778,  3.44969159],\n",
       "        [ 1.35269561,  3.20438654],\n",
       "        [ 0.70853654,  3.175776  ],\n",
       "        [ 1.25078644,  3.41287224],\n",
       "        [-0.00924066,  2.83195232],\n",
       "        [ 1.37227679,  3.21072582],\n",
       "        [ 1.83310069,  3.65276173],\n",
       "        [ 2.85942078,  2.95602827],\n",
       "        [-0.07228289,  2.88376939],\n",
       "        [ 1.37861172,  3.61897724],\n",
       "        [ 1.84070628,  3.56162231],\n",
       "        [-0.02394527,  2.75901623],\n",
       "        [ 1.72345841,  3.11484237],\n",
       "        [ 1.74952306,  3.11990669],\n",
       "        [ 0.08848433,  2.32299086],\n",
       "        [-0.31658683,  4.5708382 ],\n",
       "        [ 0.03182382,  3.89373763],\n",
       "        [ 0.37761614,  3.18789034],\n",
       "        [ 0.1631238 ,  2.57750473],\n",
       "        [-0.65392827,  4.76656958],\n",
       "        [-0.96000973,  4.49256592],\n",
       "        [ 0.46546494,  3.12315514],\n",
       "        [-0.7796205 ,  4.75472179],\n",
       "        [-0.79226837,  4.65926912],\n",
       "        [ 0.33265168,  2.08038418],\n",
       "        [ 0.34818252,  3.82276021],\n",
       "        [ 0.10547293,  3.72493766],\n",
       "        [ 0.28843247,  3.08970992],\n",
       "        [ 0.21212615,  2.86599585],\n",
       "        [ 0.16290582,  2.837363  ],\n",
       "        [-0.56452694,  4.36704932],\n",
       "        [ 0.25666569,  3.49079434],\n",
       "        [ 0.32397648,  3.78259802],\n",
       "        [ 0.30380963,  3.94423417],\n",
       "        [ 0.17286041,  3.61423755],\n",
       "        [ 0.2506727 ,  2.92042337],\n",
       "        [ 0.23151526,  3.47734879],\n",
       "        [-0.12811326,  4.35595241],\n",
       "        [-0.17119857,  3.86596728],\n",
       "        [ 0.3238615 ,  3.91283395],\n",
       "        [-0.18108518,  3.99149508],\n",
       "        [ 0.02032508,  3.95780555],\n",
       "        [-0.72183574,  4.6910678 ],\n",
       "        [ 0.08848433,  2.32299086],\n",
       "        [-0.21258918,  3.79697097]]),\n",
       " 'FrontPoints:(1,X)': array([[ 2.87558932,  2.2576122 ],\n",
       "        [ 2.50346281,  2.59384523],\n",
       "        [ 1.35034617,  1.5776385 ],\n",
       "        [ 1.28956533,  1.45345062],\n",
       "        [ 2.38584428,  1.84691013],\n",
       "        [ 1.92421351,  2.03074354],\n",
       "        [ 2.95052779,  2.27262773],\n",
       "        [ 1.46386485,  2.02208284],\n",
       "        [ 2.25323481,  1.97959888],\n",
       "        [ 2.04040982,  1.7190696 ],\n",
       "        [ 2.23860672,  2.56860669],\n",
       "        [ 0.91546507,  1.68262118],\n",
       "        [ 0.60873282,  1.69796161],\n",
       "        [ 1.96488551,  2.2652609 ],\n",
       "        [ 0.50483818,  1.31498248],\n",
       "        [ 2.82667347,  1.92710249],\n",
       "        [ 2.99200998,  2.30999137],\n",
       "        [ 1.26659827,  1.99230203],\n",
       "        [ 1.11628595,  1.91468465],\n",
       "        [ 2.5539578 ,  1.94563582],\n",
       "        [ 1.60146348,  1.3009282 ],\n",
       "        [ 1.08416295,  1.21248086],\n",
       "        [ 2.33954719,  2.64033244],\n",
       "        [ 1.00063906,  1.7179115 ],\n",
       "        [ 2.06561684,  1.61769742],\n",
       "        [ 2.03184442,  1.97685839],\n",
       "        [ 2.66038761,  1.79321965],\n",
       "        [ 1.52256473,  1.98841339],\n",
       "        [-0.31431938,  1.76171596],\n",
       "        [ 2.09227324,  1.66556607],\n",
       "        [ 1.13615408,  1.09041751],\n",
       "        [ 1.35034617,  1.5776385 ],\n",
       "        [ 1.28956533,  1.45345062],\n",
       "        [ 1.46386485,  2.02208284],\n",
       "        [ 1.12511102,  0.71907457],\n",
       "        [ 1.45460996,  2.44990684],\n",
       "        [ 0.91546507,  1.68262118],\n",
       "        [ 1.11089903,  1.13576681],\n",
       "        [ 0.6954868 ,  0.85626285],\n",
       "        [ 1.03722565,  0.8198089 ],\n",
       "        [ 1.13726275,  1.15016029],\n",
       "        [ 0.10956444, -0.01511983],\n",
       "        [ 0.83732901,  0.59270002],\n",
       "        [ 1.26659827,  1.99230203],\n",
       "        [ 0.42284422,  0.83052951],\n",
       "        [ 1.32622286,  1.09422106],\n",
       "        [ 1.11628595,  1.91468465],\n",
       "        [ 1.48595547,  1.16756801],\n",
       "        [ 0.64930461,  0.30760601],\n",
       "        [ 1.08416295,  1.21248086],\n",
       "        [ 1.55245082,  3.31011734],\n",
       "        [ 1.81324769,  2.41592483],\n",
       "        [ 1.00063906,  1.7179115 ],\n",
       "        [ 0.10346342,  0.23777193],\n",
       "        [ 1.12247848,  2.14098304],\n",
       "        [ 1.3952112 ,  1.07348261],\n",
       "        [ 1.52256473,  1.98841339],\n",
       "        [ 0.03886089,  0.35820903],\n",
       "        [ 1.37724174,  2.19550945],\n",
       "        [ 1.15786659,  2.21013403]]),\n",
       " 'FrontPoints:(2,X)': array([[-1.2020344 ,  3.91500024],\n",
       "        [-0.12555918,  2.50750047],\n",
       "        [ 0.48715614,  2.61111649],\n",
       "        [-0.51123873,  3.6189236 ],\n",
       "        [ 0.06586674,  2.65930963],\n",
       "        [-0.59077486,  3.59626236],\n",
       "        [-0.97094133,  3.81035615],\n",
       "        [-0.37271998,  3.09038668],\n",
       "        [-1.16242276,  4.38920422],\n",
       "        [-0.20254526,  2.74568147],\n",
       "        [-0.77291255,  3.98319775],\n",
       "        [-0.5415865 ,  3.68480193],\n",
       "        [ 0.62267052,  2.82763841],\n",
       "        [ 0.29501108,  2.84223179],\n",
       "        [-1.05851878,  4.65376126],\n",
       "        [-0.69425327,  3.24494847],\n",
       "        [-1.25130334,  4.35293165],\n",
       "        [-0.60310745,  2.78531425],\n",
       "        [-0.14164247,  2.61478401],\n",
       "        [-1.16105523,  4.21570753],\n",
       "        [-0.70234679,  3.44906063],\n",
       "        [-0.55436822,  5.05175051],\n",
       "        [ 1.06752057,  2.51384997],\n",
       "        [-0.91874759,  4.03284458],\n",
       "        [-0.30551905,  2.72504043],\n",
       "        [-0.83647499,  3.71455437],\n",
       "        [-0.79655222,  4.02246073],\n",
       "        [-0.20188996,  3.12321483],\n",
       "        [-0.60549562,  3.37869674],\n",
       "        [-0.1223585 ,  3.06432303],\n",
       "        [-0.92999753,  1.93059557],\n",
       "        [-0.12555918,  2.50750047],\n",
       "        [-0.09355151,  3.33628027],\n",
       "        [-0.59649552,  2.74256586],\n",
       "        [ 0.06586674,  2.65930963],\n",
       "        [ 0.14234679,  3.21987147],\n",
       "        [-0.15591501,  2.40803902],\n",
       "        [ 0.37815963,  2.90310504],\n",
       "        [-0.20254526,  2.74568147],\n",
       "        [-0.98613043,  1.09980463],\n",
       "        [-0.82279299,  1.42220275],\n",
       "        [-0.20044237,  1.95327584],\n",
       "        [ 0.29501108,  2.84223179],\n",
       "        [-0.51506158,  2.25993122],\n",
       "        [-1.12427848,  1.14199426],\n",
       "        [-0.59050547,  2.39224167],\n",
       "        [-0.66338435,  2.11312852],\n",
       "        [-0.82752353,  1.85665997],\n",
       "        [-0.60310745,  2.78531425],\n",
       "        [-0.14164247,  2.61478401],\n",
       "        [-1.21857277,  1.53979879],\n",
       "        [-0.44552798,  2.28650627],\n",
       "        [-0.56685627,  2.50138318],\n",
       "        [-0.30551905,  2.72504043],\n",
       "        [-0.20188996,  3.12321483],\n",
       "        [-0.91979234,  1.86971185],\n",
       "        [-0.4095987 ,  2.39898206],\n",
       "        [-0.1223585 ,  3.06432303],\n",
       "        [-0.77116372,  2.37874962],\n",
       "        [ 0.10469341,  3.29564143]])}"
      ]
     },
     "execution_count": 68,
     "metadata": {},
     "output_type": "execute_result"
    }
   ],
   "source": [
    "frontera.Frontier_Point_A_X"
   ]
  },
  {
   "cell_type": "code",
   "execution_count": 69,
   "metadata": {
    "colab": {
     "base_uri": "https://localhost:8080/",
     "height": 791
    },
    "id": "o06Wqe7Xeepk",
    "outputId": "145037e5-15ff-4320-dfaa-d35d60a7d47a",
    "tags": []
   },
   "outputs": [
    {
     "ename": "AttributeError",
     "evalue": "'NoneType' object has no attribute 'items'",
     "output_type": "error",
     "traceback": [
      "\u001b[1;31m---------------------------------------------------------------------------\u001b[0m",
      "\u001b[1;31mAttributeError\u001b[0m                            Traceback (most recent call last)",
      "\u001b[1;32m~\\AppData\\Local\\Temp\\ipykernel_19184\\414396380.py\u001b[0m in \u001b[0;36m<module>\u001b[1;34m\u001b[0m\n\u001b[1;32m----> 1\u001b[1;33m \u001b[0mfrontera\u001b[0m\u001b[1;33m.\u001b[0m\u001b[0mplot_frontera_2D\u001b[0m\u001b[1;33m(\u001b[0m\u001b[1;36m0\u001b[0m\u001b[1;33m,\u001b[0m\u001b[1;36m1\u001b[0m\u001b[1;33m)\u001b[0m\u001b[1;33m\u001b[0m\u001b[1;33m\u001b[0m\u001b[0m\n\u001b[0m",
      "\u001b[1;32m~\\Documents\\GitHub\\tesis_mapeo_distribucion\\Final\\frontera_v3.py\u001b[0m in \u001b[0;36mplot_frontera_2D\u001b[1;34m(self, col_1, col_2)\u001b[0m\n\u001b[0;32m    912\u001b[0m                                     ))\n\u001b[0;32m    913\u001b[0m \u001b[1;33m\u001b[0m\u001b[0m\n\u001b[1;32m--> 914\u001b[1;33m         \u001b[1;32mfor\u001b[0m \u001b[0mkey\u001b[0m\u001b[1;33m,\u001b[0m \u001b[0mvalue\u001b[0m \u001b[1;32min\u001b[0m \u001b[0mself\u001b[0m\u001b[1;33m.\u001b[0m\u001b[0mcentroids\u001b[0m\u001b[1;33m.\u001b[0m\u001b[0mitems\u001b[0m\u001b[1;33m(\u001b[0m\u001b[1;33m)\u001b[0m\u001b[1;33m:\u001b[0m\u001b[1;33m\u001b[0m\u001b[1;33m\u001b[0m\u001b[0m\n\u001b[0m\u001b[0;32m    915\u001b[0m             fig.add_trace(go.Scatter(x=[value[0]], y=[value[1]],\n\u001b[0;32m    916\u001b[0m                                      \u001b[0mmode\u001b[0m\u001b[1;33m=\u001b[0m\u001b[1;34m'markers'\u001b[0m\u001b[1;33m,\u001b[0m\u001b[1;33m\u001b[0m\u001b[1;33m\u001b[0m\u001b[0m\n",
      "\u001b[1;31mAttributeError\u001b[0m: 'NoneType' object has no attribute 'items'"
     ]
    }
   ],
   "source": [
    "frontera.plot_frontera_2D(0,1)"
   ]
  },
  {
   "cell_type": "code",
   "execution_count": 70,
   "metadata": {
    "colab": {
     "base_uri": "https://localhost:8080/",
     "height": 791
    },
    "id": "xRKbmX_Teepm",
    "outputId": "bf65446a-2e51-44c5-80ee-7feef28712e0",
    "tags": []
   },
   "outputs": [
    {
     "data": {
      "text/html": [
       "<iframe\n",
       "    scrolling=\"no\"\n",
       "    width=\"1220px\"\n",
       "    height=\"770\"\n",
       "    src=\"iframe_figures/figure_70.html\"\n",
       "    frameborder=\"0\"\n",
       "    allowfullscreen\n",
       "></iframe>\n"
      ]
     },
     "metadata": {},
     "output_type": "display_data"
    }
   ],
   "source": [
    "frontera.plot_Vectors(0,1)"
   ]
  },
  {
   "cell_type": "markdown",
   "metadata": {
    "id": "I865VNiZeepp"
   },
   "source": [
    "# Leo"
   ]
  },
  {
   "cell_type": "code",
   "execution_count": 71,
   "metadata": {
    "id": "cia4HNlVeepv",
    "tags": []
   },
   "outputs": [],
   "source": [
    "frontera = Frontera(X,y,percentil_min=5, percentil_max=10, N_points_frontera=41, method='prototypes')"
   ]
  },
  {
   "cell_type": "code",
   "execution_count": 72,
   "metadata": {
    "colab": {
     "base_uri": "https://localhost:8080/"
    },
    "id": "BiPvbG4Yeepx",
    "outputId": "44770f69-5898-43bf-e7b7-35f70c9a6785",
    "tags": []
   },
   "outputs": [
    {
     "name": "stdout",
     "output_type": "stream",
     "text": [
      "Restricted license - for non-production use only - expires 2024-10-28\n"
     ]
    }
   ],
   "source": [
    "frontera.frontier()"
   ]
  },
  {
   "cell_type": "code",
   "execution_count": 73,
   "metadata": {
    "colab": {
     "base_uri": "https://localhost:8080/",
     "height": 791
    },
    "id": "4fQEvoUVeepy",
    "outputId": "9d0ee9c1-fb3e-4b19-f76c-afb1f021fbac",
    "tags": []
   },
   "outputs": [
    {
     "ename": "AttributeError",
     "evalue": "'NoneType' object has no attribute 'items'",
     "output_type": "error",
     "traceback": [
      "\u001b[1;31m---------------------------------------------------------------------------\u001b[0m",
      "\u001b[1;31mAttributeError\u001b[0m                            Traceback (most recent call last)",
      "\u001b[1;32m~\\AppData\\Local\\Temp\\ipykernel_19184\\414396380.py\u001b[0m in \u001b[0;36m<module>\u001b[1;34m\u001b[0m\n\u001b[1;32m----> 1\u001b[1;33m \u001b[0mfrontera\u001b[0m\u001b[1;33m.\u001b[0m\u001b[0mplot_frontera_2D\u001b[0m\u001b[1;33m(\u001b[0m\u001b[1;36m0\u001b[0m\u001b[1;33m,\u001b[0m\u001b[1;36m1\u001b[0m\u001b[1;33m)\u001b[0m\u001b[1;33m\u001b[0m\u001b[1;33m\u001b[0m\u001b[0m\n\u001b[0m",
      "\u001b[1;32m~\\Documents\\GitHub\\tesis_mapeo_distribucion\\Final\\frontera_v3.py\u001b[0m in \u001b[0;36mplot_frontera_2D\u001b[1;34m(self, col_1, col_2)\u001b[0m\n\u001b[0;32m    912\u001b[0m                                     ))\n\u001b[0;32m    913\u001b[0m \u001b[1;33m\u001b[0m\u001b[0m\n\u001b[1;32m--> 914\u001b[1;33m         \u001b[1;32mfor\u001b[0m \u001b[0mkey\u001b[0m\u001b[1;33m,\u001b[0m \u001b[0mvalue\u001b[0m \u001b[1;32min\u001b[0m \u001b[0mself\u001b[0m\u001b[1;33m.\u001b[0m\u001b[0mcentroids\u001b[0m\u001b[1;33m.\u001b[0m\u001b[0mitems\u001b[0m\u001b[1;33m(\u001b[0m\u001b[1;33m)\u001b[0m\u001b[1;33m:\u001b[0m\u001b[1;33m\u001b[0m\u001b[1;33m\u001b[0m\u001b[0m\n\u001b[0m\u001b[0;32m    915\u001b[0m             fig.add_trace(go.Scatter(x=[value[0]], y=[value[1]],\n\u001b[0;32m    916\u001b[0m                                      \u001b[0mmode\u001b[0m\u001b[1;33m=\u001b[0m\u001b[1;34m'markers'\u001b[0m\u001b[1;33m,\u001b[0m\u001b[1;33m\u001b[0m\u001b[1;33m\u001b[0m\u001b[0m\n",
      "\u001b[1;31mAttributeError\u001b[0m: 'NoneType' object has no attribute 'items'"
     ]
    }
   ],
   "source": [
    "frontera.plot_frontera_2D(0,1)"
   ]
  },
  {
   "cell_type": "markdown",
   "metadata": {
    "id": "uoX45Dcjeep0"
   },
   "source": [
    "# LSH"
   ]
  },
  {
   "cell_type": "code",
   "execution_count": 74,
   "metadata": {
    "id": "kdtvS9Skeep2",
    "tags": []
   },
   "outputs": [],
   "source": [
    "frontera = Frontera(X,y,percentil_min=5, percentil_max=20, N_points_frontera=41, method='LSH')"
   ]
  },
  {
   "cell_type": "code",
   "execution_count": 75,
   "metadata": {
    "id": "jP7mDcvReep3",
    "tags": []
   },
   "outputs": [],
   "source": [
    "frontera.frontier()"
   ]
  },
  {
   "cell_type": "code",
   "execution_count": 76,
   "metadata": {
    "colab": {
     "base_uri": "https://localhost:8080/"
    },
    "id": "j-7vPzeReep5",
    "outputId": "e52e1b38-9205-4585-d991-090d0d484297",
    "tags": []
   },
   "outputs": [
    {
     "data": {
      "text/plain": [
       "{'Centroid Group: 0': array([-0.05463385,  4.08082604]),\n",
       " 'Centroid Group: 2': array([-0.34792727,  3.38235838]),\n",
       " 'Centroid Group: 3': array([-0.10543828,  1.65830337]),\n",
       " 'Centroid Group: 4': array([1.02960497, 3.33834558]),\n",
       " 'Centroid Group: 5': array([1.861506  , 2.00807671]),\n",
       " 'Centroid Group: 7': array([1.05479598, 1.30950696])}"
      ]
     },
     "execution_count": 76,
     "metadata": {},
     "output_type": "execute_result"
    }
   ],
   "source": [
    "frontera.centroids"
   ]
  },
  {
   "cell_type": "code",
   "execution_count": 77,
   "metadata": {
    "colab": {
     "base_uri": "https://localhost:8080/",
     "height": 791
    },
    "id": "Qtmthw3Geep7",
    "outputId": "7c79d512-71c0-4c30-eba4-6121ed8f95a0",
    "tags": []
   },
   "outputs": [
    {
     "data": {
      "text/html": [
       "<iframe\n",
       "    scrolling=\"no\"\n",
       "    width=\"1220px\"\n",
       "    height=\"770\"\n",
       "    src=\"iframe_figures/figure_77.html\"\n",
       "    frameborder=\"0\"\n",
       "    allowfullscreen\n",
       "></iframe>\n"
      ]
     },
     "metadata": {},
     "output_type": "display_data"
    }
   ],
   "source": [
    "frontera.plot_frontera_2D(0,1)"
   ]
  },
  {
   "cell_type": "code",
   "execution_count": 78,
   "metadata": {
    "colab": {
     "base_uri": "https://localhost:8080/",
     "height": 235
    },
    "id": "LP8bUMq9eep8",
    "outputId": "1598b69e-8e97-49b6-f29e-127701513e1a",
    "tags": []
   },
   "outputs": [
    {
     "data": {
      "image/png": "[encoded data removed]",
      "text/plain": [
       "<Figure size 640x480 with 1 Axes>"
      ]
     },
     "metadata": {},
     "output_type": "display_data"
    }
   ],
   "source": [
    "import numpy as np\n",
    "centroid_arrays = np.array(list(frontera.centroids.values()))\n",
    "\n",
    "# Plot the data points and prototypes\n",
    "plt.scatter(X[:, 0], X[:, 1], c=y, edgecolors=\"k\", cmap=plt.cm.Spectral, alpha=0.5)\n",
    "plt.scatter(centroid_arrays[:, 0], centroid_arrays[:, 1], c='black', marker='X', s=200, label='LSH')\n",
    "\n",
    "# Customize the plot\n",
    "plt.xlabel('Feature 1')\n",
    "plt.ylabel('Feature 2')\n",
    "plt.legend()\n",
    "plt.title('Dataset and LSH')\n",
    "\n",
    "# Show the plot\n",
    "plt.show()\n"
   ]
  },
  {
   "cell_type": "markdown",
   "metadata": {
    "id": "o7BN7jafeep-"
   },
   "source": [
    "# MNIST"
   ]
  },
  {
   "cell_type": "code",
   "execution_count": 79,
   "metadata": {
    "id": "QOBex1G4eep_"
   },
   "outputs": [],
   "source": [
    "import numpy as np\n",
    "import tensorflow as tf\n",
    "\n",
    "(x_train, y_train), (x_test, y_test) = tf.keras.datasets.mnist.load_data()\n",
    "\n",
    "# Flatten and transpose images\n",
    "x_train_flat = x_train.reshape(x_train.shape[0], -1)\n",
    "# x_test_flat = x_test.reshape(x_test.shape[0], -1).T\n",
    "\n",
    "# Add labels as an additional column vector\n",
    "y_train_col = y_train.reshape(1, y_train.shape[0])[0]\n",
    "y_train_col = y_train_col.reshape(-1, 1) \n",
    "# y_test_col = y_test.reshape(1, y_test.shape[0])\n",
    "\n",
    "#train_data = np.vstack((x_train_flat, y_train_col))\n",
    "# test_data = np.vstack((x_test_flat, y_test_col))"
   ]
  },
  {
   "cell_type": "code",
   "execution_count": 98,
   "metadata": {},
   "outputs": [],
   "source": [
    "x_train_flat = x_train_flat[0:5000,:]\n",
    "y_train_col = y_train_col[0:5000,:]"
   ]
  },
  {
   "cell_type": "code",
   "execution_count": 84,
   "metadata": {
    "id": "D0kI1MwfeeqB"
   },
   "outputs": [],
   "source": [
    "frontera = Frontera(x_train_flat,y_train_col.T,percentil_min=5, percentil_max=20, N_points_frontera=41)"
   ]
  },
  {
   "cell_type": "code",
   "execution_count": null,
   "metadata": {},
   "outputs": [],
   "source": []
  },
  {
   "cell_type": "code",
   "execution_count": 100,
   "metadata": {},
   "outputs": [
    {
     "data": {
      "text/plain": [
       "(5000, 784)"
      ]
     },
     "execution_count": 100,
     "metadata": {},
     "output_type": "execute_result"
    }
   ],
   "source": [
    "x_train_flat.shape"
   ]
  },
  {
   "cell_type": "code",
   "execution_count": 86,
   "metadata": {},
   "outputs": [
    {
     "data": {
      "text/plain": [
       "(5000, 784)"
      ]
     },
     "execution_count": 86,
     "metadata": {},
     "output_type": "execute_result"
    }
   ],
   "source": [
    "x_train_flat.shape"
   ]
  },
  {
   "cell_type": "code",
   "execution_count": 87,
   "metadata": {},
   "outputs": [
    {
     "data": {
      "text/plain": [
       "(5000, 1)"
      ]
     },
     "execution_count": 87,
     "metadata": {},
     "output_type": "execute_result"
    }
   ],
   "source": [
    "y_train_col.shape"
   ]
  },
  {
   "cell_type": "code",
   "execution_count": 88,
   "metadata": {},
   "outputs": [
    {
     "data": {
      "text/plain": [
       "array([5], dtype=uint8)"
      ]
     },
     "execution_count": 88,
     "metadata": {},
     "output_type": "execute_result"
    }
   ],
   "source": [
    "y_train_col[11]"
   ]
  },
  {
   "cell_type": "code",
   "execution_count": 89,
   "metadata": {},
   "outputs": [
    {
     "data": {
      "text/plain": [
       "(434, 784)"
      ]
     },
     "execution_count": 89,
     "metadata": {},
     "output_type": "execute_result"
    }
   ],
   "source": [
    "x_train_flat[np.where(y_train_col == 5)[0]].shape"
   ]
  },
  {
   "cell_type": "code",
   "execution_count": 90,
   "metadata": {},
   "outputs": [
    {
     "data": {
      "text/plain": [
       "array([[ True],\n",
       "       [False],\n",
       "       [False],\n",
       "       ...,\n",
       "       [False],\n",
       "       [False],\n",
       "       [False]])"
      ]
     },
     "execution_count": 90,
     "metadata": {},
     "output_type": "execute_result"
    }
   ],
   "source": [
    "y_train_col == 5"
   ]
  },
  {
   "cell_type": "code",
   "execution_count": 91,
   "metadata": {},
   "outputs": [
    {
     "data": {
      "text/plain": [
       "(5000, 784)"
      ]
     },
     "execution_count": 91,
     "metadata": {},
     "output_type": "execute_result"
    }
   ],
   "source": [
    "x_train_flat.shape"
   ]
  },
  {
   "cell_type": "code",
   "execution_count": 92,
   "metadata": {
    "scrolled": true
   },
   "outputs": [
    {
     "data": {
      "text/plain": [
       "array([[0, 0, 0, ..., 0, 0, 0],\n",
       "       [0, 0, 0, ..., 0, 0, 0],\n",
       "       [0, 0, 0, ..., 0, 0, 0],\n",
       "       ...,\n",
       "       [0, 0, 0, ..., 0, 0, 0],\n",
       "       [0, 0, 0, ..., 0, 0, 0],\n",
       "       [0, 0, 0, ..., 0, 0, 0]], dtype=uint8)"
      ]
     },
     "execution_count": 92,
     "metadata": {},
     "output_type": "execute_result"
    }
   ],
   "source": [
    "x_train_flat"
   ]
  },
  {
   "cell_type": "code",
   "execution_count": 101,
   "metadata": {},
   "outputs": [
    {
     "data": {
      "text/plain": [
       "array([[5],\n",
       "       [0],\n",
       "       [4],\n",
       "       ...,\n",
       "       [2],\n",
       "       [1],\n",
       "       [2]], dtype=uint8)"
      ]
     },
     "execution_count": 101,
     "metadata": {},
     "output_type": "execute_result"
    }
   ],
   "source": [
    "y_train_col"
   ]
  },
  {
   "cell_type": "code",
   "execution_count": 96,
   "metadata": {},
   "outputs": [
    {
     "data": {
      "text/plain": [
       "(array([0], dtype=int64),)"
      ]
     },
     "execution_count": 96,
     "metadata": {},
     "output_type": "execute_result"
    }
   ],
   "source": [
    "np.where(y_train_col[0] == 5)"
   ]
  },
  {
   "cell_type": "code",
   "execution_count": 102,
   "metadata": {
    "id": "JVWmE7NCeeqC"
   },
   "outputs": [
    {
     "ename": "IndexError",
     "evalue": "boolean index did not match indexed array along dimension 0; dimension is 5000 but corresponding boolean dimension is 1",
     "output_type": "error",
     "traceback": [
      "\u001b[1;31m---------------------------------------------------------------------------\u001b[0m",
      "\u001b[1;31mIndexError\u001b[0m                                Traceback (most recent call last)",
      "\u001b[1;32m~\\AppData\\Local\\Temp\\ipykernel_19184\\2975841037.py\u001b[0m in \u001b[0;36m<module>\u001b[1;34m\u001b[0m\n\u001b[1;32m----> 1\u001b[1;33m \u001b[0mfrontera\u001b[0m\u001b[1;33m.\u001b[0m\u001b[0mfrontier\u001b[0m\u001b[1;33m(\u001b[0m\u001b[1;33m)\u001b[0m\u001b[1;33m\u001b[0m\u001b[1;33m\u001b[0m\u001b[0m\n\u001b[0m",
      "\u001b[1;32m~\\Documents\\GitHub\\tesis_mapeo_distribucion\\Final\\frontera_v3.py\u001b[0m in \u001b[0;36mfrontier\u001b[1;34m(self)\u001b[0m\n\u001b[0;32m    769\u001b[0m     \u001b[1;32mdef\u001b[0m \u001b[0mfrontier\u001b[0m\u001b[1;33m(\u001b[0m\u001b[0mself\u001b[0m\u001b[1;33m)\u001b[0m\u001b[1;33m:\u001b[0m\u001b[1;33m\u001b[0m\u001b[1;33m\u001b[0m\u001b[0m\n\u001b[0;32m    770\u001b[0m         \u001b[1;32mif\u001b[0m \u001b[0mself\u001b[0m\u001b[1;33m.\u001b[0m\u001b[0mmethod\u001b[0m \u001b[1;33m==\u001b[0m \u001b[1;34m'frontier_reduction'\u001b[0m\u001b[1;33m:\u001b[0m\u001b[1;33m\u001b[0m\u001b[1;33m\u001b[0m\u001b[0m\n\u001b[1;32m--> 771\u001b[1;33m             \u001b[0mself\u001b[0m\u001b[1;33m.\u001b[0m\u001b[0mget_frontier\u001b[0m\u001b[1;33m(\u001b[0m\u001b[1;33m)\u001b[0m\u001b[1;33m\u001b[0m\u001b[1;33m\u001b[0m\u001b[0m\n\u001b[0m\u001b[0;32m    772\u001b[0m             \u001b[0mself\u001b[0m\u001b[1;33m.\u001b[0m\u001b[0mcentroid_regions\u001b[0m\u001b[1;33m(\u001b[0m\u001b[1;33m)\u001b[0m\u001b[1;33m\u001b[0m\u001b[1;33m\u001b[0m\u001b[0m\n\u001b[0;32m    773\u001b[0m             \u001b[0mself\u001b[0m\u001b[1;33m.\u001b[0m\u001b[0mcalculate_vectors\u001b[0m\u001b[1;33m(\u001b[0m\u001b[1;33m)\u001b[0m\u001b[1;33m\u001b[0m\u001b[1;33m\u001b[0m\u001b[0m\n",
      "\u001b[1;32m~\\Documents\\GitHub\\tesis_mapeo_distribucion\\Final\\frontera_v3.py\u001b[0m in \u001b[0;36mget_frontier\u001b[1;34m(self)\u001b[0m\n\u001b[0;32m    109\u001b[0m         \u001b[1;32mfor\u001b[0m \u001b[0mi\u001b[0m \u001b[1;32min\u001b[0m \u001b[0mnp\u001b[0m\u001b[1;33m.\u001b[0m\u001b[0munique\u001b[0m\u001b[1;33m(\u001b[0m\u001b[0mself\u001b[0m\u001b[1;33m.\u001b[0m\u001b[0my\u001b[0m\u001b[1;33m)\u001b[0m\u001b[1;33m:\u001b[0m\u001b[1;33m\u001b[0m\u001b[1;33m\u001b[0m\u001b[0m\n\u001b[0;32m    110\u001b[0m             \u001b[1;31m# Create a dictionary with key format X_i and values being the corresponding X values when self.y is equal to i\u001b[0m\u001b[1;33m\u001b[0m\u001b[1;33m\u001b[0m\u001b[0m\n\u001b[1;32m--> 111\u001b[1;33m             \u001b[0mdic_categorias_aux\u001b[0m \u001b[1;33m=\u001b[0m \u001b[1;33m{\u001b[0m\u001b[1;34m'X_'\u001b[0m \u001b[1;33m+\u001b[0m \u001b[0mstr\u001b[0m\u001b[1;33m(\u001b[0m\u001b[0mi\u001b[0m\u001b[1;33m)\u001b[0m\u001b[1;33m:\u001b[0m \u001b[0mself\u001b[0m\u001b[1;33m.\u001b[0m\u001b[0mX\u001b[0m\u001b[1;33m[\u001b[0m\u001b[0mself\u001b[0m\u001b[1;33m.\u001b[0m\u001b[0my\u001b[0m \u001b[1;33m==\u001b[0m \u001b[0mi\u001b[0m\u001b[1;33m]\u001b[0m\u001b[1;33m}\u001b[0m\u001b[1;33m\u001b[0m\u001b[1;33m\u001b[0m\u001b[0m\n\u001b[0m\u001b[0;32m    112\u001b[0m             \u001b[1;31m# Update the main dictionary, self.dic_categorias\u001b[0m\u001b[1;33m\u001b[0m\u001b[1;33m\u001b[0m\u001b[0m\n\u001b[0;32m    113\u001b[0m             \u001b[0mself\u001b[0m\u001b[1;33m.\u001b[0m\u001b[0mdic_categorias\u001b[0m\u001b[1;33m.\u001b[0m\u001b[0mupdate\u001b[0m\u001b[1;33m(\u001b[0m\u001b[0mdic_categorias_aux\u001b[0m\u001b[1;33m)\u001b[0m\u001b[1;33m\u001b[0m\u001b[1;33m\u001b[0m\u001b[0m\n",
      "\u001b[1;31mIndexError\u001b[0m: boolean index did not match indexed array along dimension 0; dimension is 5000 but corresponding boolean dimension is 1"
     ]
    }
   ],
   "source": [
    "frontera.frontier()"
   ]
  },
  {
   "cell_type": "code",
   "execution_count": null,
   "metadata": {
    "id": "DANxyCI8eeqC"
   },
   "outputs": [],
   "source": [
    "!pip uninstall umap"
   ]
  },
  {
   "cell_type": "code",
   "execution_count": null,
   "metadata": {},
   "outputs": [],
   "source": [
    "pip install umap-learn"
   ]
  },
  {
   "cell_type": "code",
   "execution_count": null,
   "metadata": {},
   "outputs": [],
   "source": []
  },
  {
   "cell_type": "code",
   "execution_count": null,
   "metadata": {
    "id": "0i8Z8_creeqD"
   },
   "outputs": [],
   "source": [
    "import umap.umap_ as umap\n",
    "\n",
    "# Create UMAP instance and fit the model\n",
    "reducer = umap.UMAP(random_state=42)\n",
    "embedding = reducer.fit_transform(x_train)"
   ]
  },
  {
   "cell_type": "code",
   "execution_count": null,
   "metadata": {
    "id": "uIbMMxNbeeqE"
   },
   "outputs": [],
   "source": []
  },
  {
   "cell_type": "code",
   "execution_count": null,
   "metadata": {
    "id": "JDgB6hrMeeqF"
   },
   "outputs": [],
   "source": []
  },
  {
   "cell_type": "markdown",
   "metadata": {
    "id": "LaCR-L5ueeqG"
   },
   "source": [
    "### prototypes"
   ]
  },
  {
   "cell_type": "code",
   "execution_count": null,
   "metadata": {
    "id": "J_9tCbteeeqH",
    "tags": []
   },
   "outputs": [],
   "source": [
    "# Get the selected prototypes and their labels\n",
    "prototypes = frontera.w_\n",
    "prototype_labels = frontera.c_w_\n",
    "\n",
    "# Plot the data points and prototypes\n",
    "plt.scatter(X[:, 0], X[:, 1], c=y, edgecolors=\"k\", cmap=plt.cm.Spectral, alpha=0.5)\n",
    "plt.scatter(prototypes[:, 0], prototypes[:, 1], c='black', marker='X', s=200, label='Prototypes')\n",
    "\n",
    "# Customize the plot\n",
    "plt.xlabel('Feature 1')\n",
    "plt.ylabel('Feature 2')\n",
    "plt.legend()\n",
    "plt.title('Dataset and Prototypes')\n",
    "\n",
    "# Show the plot\n",
    "plt.show()"
   ]
  }
 ],
 "metadata": {
  "colab": {
   "provenance": []
  },
  "kernelspec": {
   "display_name": "Python 3 (ipykernel)",
   "language": "python",
   "name": "python3"
  },
  "language_info": {
   "codemirror_mode": {
    "name": "ipython",
    "version": 3
   },
   "file_extension": ".py",
   "mimetype": "text/x-python",
   "name": "python",
   "nbconvert_exporter": "python",
   "pygments_lexer": "ipython3",
   "version": "3.9.13"
  }
 },
 "nbformat": 4,
 "nbformat_minor": 1
}
