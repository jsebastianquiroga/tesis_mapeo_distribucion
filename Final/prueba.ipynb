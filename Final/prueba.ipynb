{
 "cells": [
  {
   "cell_type": "markdown",
   "metadata": {
    "colab_type": "text",
    "id": "view-in-github"
   },
   "source": [
    "<a href=\"https://colab.research.google.com/github/jsebastianquiroga/tesis_mapeo_distribucion/blob/main/Final/prueba.ipynb\" target=\"_parent\"><img src=\"https://colab.research.google.com/assets/colab-badge.svg\" alt=\"Open In Colab\"/></a>"
   ]
  },
  {
   "cell_type": "code",
   "execution_count": null,
   "metadata": {
    "id": "fuOR2tE-f3y_"
   },
   "outputs": [],
   "source": [
    "!rm -rf tesis_mapeo_distribucion"
   ]
  },
  {
   "cell_type": "code",
   "execution_count": 17,
   "metadata": {
    "colab": {
     "base_uri": "https://localhost:8080/"
    },
    "id": "ghonPYlMawf3",
    "outputId": "c9e05140-ec00-4d79-91d1-a4d34b4857b5"
   },
   "outputs": [
    {
     "name": "stdout",
     "output_type": "stream",
     "text": [
      "fatal: destination path 'tesis_mapeo_distribucion' already exists and is not an empty directory.\n"
     ]
    }
   ],
   "source": [
    "!git clone https://github.com/jsebastianquiroga/tesis_mapeo_distribucion.git"
   ]
  },
  {
   "cell_type": "code",
   "execution_count": 18,
   "metadata": {
    "id": "jWS-m81iawdS"
   },
   "outputs": [],
   "source": [
    "import sys\n",
    "sys.path.append('/content/tesis_mapeo_distribucion/Final')"
   ]
  },
  {
   "cell_type": "code",
   "execution_count": 1,
   "metadata": {
    "colab": {
     "base_uri": "https://localhost:8080/"
    },
    "id": "Qt2mDcMfcSfW",
    "outputId": "5e1332dd-3c53-4e4f-8424-841eab6b321c",
    "tags": []
   },
   "outputs": [
    {
     "name": "stdout",
     "output_type": "stream",
     "text": [
      "Collecting gurobipy\n",
      "  Downloading gurobipy-10.0.1-cp310-cp310-manylinux2014_x86_64.whl (12.7 MB)\n",
      "\u001b[2K     \u001b[90m━━━━━━━━━━━━━━━━━━━━━━━━━━━━━━━━━━━━━━━━\u001b[0m \u001b[32m12.7/12.7 MB\u001b[0m \u001b[31m5.5 MB/s\u001b[0m eta \u001b[36m0:00:00\u001b[0m00:01\u001b[0m00:01\u001b[0m\n",
      "\u001b[?25hInstalling collected packages: gurobipy\n",
      "Successfully installed gurobipy-10.0.1\n",
      "Collecting umap\n",
      "  Downloading umap-0.1.1.tar.gz (3.2 kB)\n",
      "  Preparing metadata (setup.py) ... \u001b[?25ldone\n",
      "\u001b[?25hBuilding wheels for collected packages: umap\n",
      "  Building wheel for umap (setup.py) ... \u001b[?25ldone\n",
      "\u001b[?25h  Created wheel for umap: filename=umap-0.1.1-py3-none-any.whl size=3542 sha256=308cd008b890ca16fb200e550782d78e3367e30eaa66eb54ea8f7f73b28f5285\n",
      "  Stored in directory: /home/jovyan/.cache/pip/wheels/15/f1/28/53dcf7a309118ed35d810a5f9cb995217800f3f269ab5771cb\n",
      "Successfully built umap\n",
      "Installing collected packages: umap\n",
      "Successfully installed umap-0.1.1\n",
      "Collecting scikit-learn-extra\n",
      "  Downloading scikit_learn_extra-0.3.0-cp310-cp310-manylinux_2_17_x86_64.manylinux2014_x86_64.whl (2.0 MB)\n",
      "\u001b[2K     \u001b[90m━━━━━━━━━━━━━━━━━━━━━━━━━━━━━━━━━━━━━━━━\u001b[0m \u001b[32m2.0/2.0 MB\u001b[0m \u001b[31m2.8 MB/s\u001b[0m eta \u001b[36m0:00:00\u001b[0m00:01\u001b[0m00:01\u001b[0m\n",
      "\u001b[?25hRequirement already satisfied: scipy>=0.19.1 in /opt/conda/lib/python3.10/site-packages (from scikit-learn-extra) (1.10.0)\n",
      "Requirement already satisfied: scikit-learn>=0.23.0 in /opt/conda/lib/python3.10/site-packages (from scikit-learn-extra) (1.2.1)\n",
      "Requirement already satisfied: numpy>=1.13.3 in /opt/conda/lib/python3.10/site-packages (from scikit-learn-extra) (1.23.5)\n",
      "Requirement already satisfied: joblib>=1.1.1 in /opt/conda/lib/python3.10/site-packages (from scikit-learn>=0.23.0->scikit-learn-extra) (1.2.0)\n",
      "Requirement already satisfied: threadpoolctl>=2.0.0 in /opt/conda/lib/python3.10/site-packages (from scikit-learn>=0.23.0->scikit-learn-extra) (3.1.0)\n",
      "Installing collected packages: scikit-learn-extra\n",
      "Successfully installed scikit-learn-extra-0.3.0\n"
     ]
    }
   ],
   "source": [
    "!pip install gurobipy \n",
    "!pip install umap\n",
    "!pip install scikit-learn-extra"
   ]
  },
  {
   "cell_type": "code",
   "execution_count": 2,
   "metadata": {
    "id": "Y6goEYUhawYT",
    "tags": []
   },
   "outputs": [
    {
     "name": "stderr",
     "output_type": "stream",
     "text": [
      "2023-05-05 00:32:12.849330: I tensorflow/core/platform/cpu_feature_guard.cc:193] This TensorFlow binary is optimized with oneAPI Deep Neural Network Library (oneDNN) to use the following CPU instructions in performance-critical operations:  SSE4.1 SSE4.2 AVX AVX2 FMA\n",
      "To enable them in other operations, rebuild TensorFlow with the appropriate compiler flags.\n"
     ]
    }
   ],
   "source": [
    "from frontera_v4 import Frontera"
   ]
  },
  {
   "cell_type": "code",
   "execution_count": 3,
   "metadata": {
    "id": "nwJl_6v2i2gq",
    "tags": []
   },
   "outputs": [],
   "source": [
    "import scipy.stats as stats\n",
    "\n",
    "import pandas as pd\n",
    "from sklearn.datasets import make_blobs\n",
    "\n",
    "import plotly.graph_objects as go\n",
    "\n",
    "import matplotlib.pyplot as plt # Para crear gráficos con matplotlib\n",
    "import plotly as py\n",
    "import plotly.io as pio\n",
    "pio.renderers.default = 'iframe'"
   ]
  },
  {
   "cell_type": "code",
   "execution_count": 4,
   "metadata": {
    "id": "7Ebxfi4ni2gr",
    "tags": []
   },
   "outputs": [],
   "source": [
    "# Simulación de datos\n",
    "# ==============================================================================\n",
    "X, y = make_blobs(\n",
    "        n_samples    = 600, \n",
    "        n_features   = 2, \n",
    "        centers      = 3, \n",
    "        cluster_std  = 1, \n",
    "        shuffle      = True, \n",
    "        random_state = 0\n",
    "       )"
   ]
  },
  {
   "cell_type": "code",
   "execution_count": 5,
   "metadata": {
    "colab": {
     "base_uri": "https://localhost:8080/"
    },
    "id": "3UMITrObaDum",
    "outputId": "2b70643f-278e-447b-e7ed-90be13a587f4",
    "tags": []
   },
   "outputs": [
    {
     "data": {
      "text/plain": [
       "(600, 2)"
      ]
     },
     "execution_count": 5,
     "metadata": {},
     "output_type": "execute_result"
    }
   ],
   "source": [
    "X.shape"
   ]
  },
  {
   "cell_type": "code",
   "execution_count": 4,
   "metadata": {
    "colab": {
     "base_uri": "https://localhost:8080/"
    },
    "id": "psA08Wk2aDun",
    "outputId": "0f264d9f-194f-438c-c2c9-09d9dfb1044c",
    "tags": []
   },
   "outputs": [
    {
     "data": {
      "text/plain": [
       "(600,)"
      ]
     },
     "execution_count": 4,
     "metadata": {},
     "output_type": "execute_result"
    }
   ],
   "source": [
    "y.shape"
   ]
  },
  {
   "cell_type": "code",
   "execution_count": 6,
   "metadata": {
    "colab": {
     "base_uri": "https://localhost:8080/",
     "height": 642
    },
    "id": "6qcgC_gui2gr",
    "outputId": "49aee1df-18fb-463a-f437-b8c55b66a54e",
    "tags": []
   },
   "outputs": [
    {
     "data": {
      "text/html": [
       "<iframe\n",
       "    scrolling=\"no\"\n",
       "    width=\"620px\"\n",
       "    height=\"620\"\n",
       "    src=\"iframe_figures/figure_6.html\"\n",
       "    frameborder=\"0\"\n",
       "    allowfullscreen\n",
       "></iframe>\n"
      ]
     },
     "metadata": {},
     "output_type": "display_data"
    }
   ],
   "source": [
    "fig = go.Figure(data=[go.Scatter(x=X[:, 0], y=X[:, 1],\n",
    "                                   mode='markers', \n",
    "                                   marker=dict(\n",
    "                                    size=6,\n",
    "                                    color=y,                # set color to an array/list of desired values\n",
    "                                    colorscale='picnic',   # choose a colorscale\n",
    "                                    opacity=0.7)\n",
    "                                  )])\n",
    "\n",
    "fig.update_layout(\n",
    "    autosize=False,\n",
    "    width=600,\n",
    "    height=600,\n",
    "    margin=dict(l=0, r=0, b=0, t=10))\n",
    "    \n",
    "fig.show()"
   ]
  },
  {
   "cell_type": "markdown",
   "metadata": {
    "id": "AG4U1zP4i2gs"
   },
   "source": [
    "# LSH"
   ]
  },
  {
   "cell_type": "code",
   "execution_count": 12,
   "metadata": {
    "id": "e9Po6mvUi2gs",
    "tags": []
   },
   "outputs": [],
   "source": [
    "%run frontera_v4.ipynb\n",
    "frontera = Frontera(X, y, method='LSH')#,percentil_min=5, percentil_max=20, N_points_frontera=41, method='LSH')"
   ]
  },
  {
   "cell_type": "code",
   "execution_count": 13,
   "metadata": {
    "colab": {
     "base_uri": "https://localhost:8080/",
     "height": 311
    },
    "id": "W8N3vgHai2gs",
    "outputId": "8ba3cffd-502c-48c6-e304-8ca93fd8e306",
    "tags": []
   },
   "outputs": [
    {
     "data": {
      "text/plain": [
       "(array([[-0.52063349,  2.40440128],\n",
       "        [-0.48875235,  3.21429624],\n",
       "        [ 0.09916552,  3.77112616],\n",
       "        [ 0.74018196,  1.2365874 ],\n",
       "        [ 2.03799531,  2.03400355],\n",
       "        [ 2.07458369,  3.02678273]]),\n",
       " [2, 2, 0, 1, 1, 0])"
      ]
     },
     "execution_count": 13,
     "metadata": {},
     "output_type": "execute_result"
    }
   ],
   "source": [
    "frontera.frontier()"
   ]
  },
  {
   "cell_type": "code",
   "execution_count": 14,
   "metadata": {
    "id": "a-ki6Yyci2gt",
    "tags": []
   },
   "outputs": [
    {
     "data": {
      "text/html": [
       "<iframe\n",
       "    scrolling=\"no\"\n",
       "    width=\"1220px\"\n",
       "    height=\"770\"\n",
       "    src=\"iframe_figures/figure_14.html\"\n",
       "    frameborder=\"0\"\n",
       "    allowfullscreen\n",
       "></iframe>\n"
      ]
     },
     "metadata": {},
     "output_type": "display_data"
    }
   ],
   "source": [
    "frontera.plot_frontera_2D(0,1)"
   ]
  },
  {
   "cell_type": "markdown",
   "metadata": {
    "id": "hvttJHdVi2gt"
   },
   "source": [
    "# Rob"
   ]
  },
  {
   "cell_type": "code",
   "execution_count": 54,
   "metadata": {
    "tags": []
   },
   "outputs": [],
   "source": [
    "#from frontera_v4 import Frontera"
   ]
  },
  {
   "cell_type": "code",
   "execution_count": 10,
   "metadata": {
    "id": "AvUQX6z4i2gt",
    "tags": []
   },
   "outputs": [
    {
     "data": {
      "text/plain": [
       "(array([[ 0.25356862,  2.85411382],\n",
       "        [-1.00926425,  4.57316359],\n",
       "        [-0.37708784,  3.74088645],\n",
       "        [ 3.41064354,  2.73333731],\n",
       "        [ 0.47069225,  1.88917289],\n",
       "        [ 2.2212266 ,  2.93209413],\n",
       "        [ 1.40828023,  2.61323469],\n",
       "        [ 2.06120273,  3.25113242],\n",
       "        [-0.25738088,  1.8574959 ],\n",
       "        [ 3.41064354,  2.73333731],\n",
       "        [ 0.89035246,  2.44872358],\n",
       "        [-0.54270879,  0.75010164],\n",
       "        [ 0.25356862,  2.85411382],\n",
       "        [-1.00926425,  4.57316359],\n",
       "        [ 1.11269358,  2.361992  ],\n",
       "        [-0.37708784,  3.74088645],\n",
       "        [-0.47363477,  0.72900683],\n",
       "        [ 0.23496854,  1.98456373]]),\n",
       " [0, 0, 0, 0, 0, 0, 0, 1, 1, 1, 1, 1, 2, 2, 2, 2, 2, 2])"
      ]
     },
     "execution_count": 10,
     "metadata": {},
     "output_type": "execute_result"
    }
   ],
   "source": [
    "frontera = Frontera(X,y) #,percentil_min=5, percentil_max=20, N_points_frontera=41)\n",
    "frontera.frontier()"
   ]
  },
  {
   "cell_type": "code",
   "execution_count": 11,
   "metadata": {
    "id": "J-J_beh5i2gt",
    "tags": []
   },
   "outputs": [
    {
     "data": {
      "text/html": [
       "<iframe\n",
       "    scrolling=\"no\"\n",
       "    width=\"1220px\"\n",
       "    height=\"770\"\n",
       "    src=\"iframe_figures/figure_11.html\"\n",
       "    frameborder=\"0\"\n",
       "    allowfullscreen\n",
       "></iframe>\n"
      ]
     },
     "metadata": {},
     "output_type": "display_data"
    }
   ],
   "source": [
    "frontera.plot_frontera_2D(0,1)"
   ]
  },
  {
   "cell_type": "code",
   "execution_count": 138,
   "metadata": {
    "tags": []
   },
   "outputs": [],
   "source": [
    "#frontera.plot_Vectors(0,1)"
   ]
  },
  {
   "cell_type": "markdown",
   "metadata": {
    "id": "BOo-1qzti2gt"
   },
   "source": [
    "# prototypes"
   ]
  },
  {
   "cell_type": "code",
   "execution_count": 7,
   "metadata": {
    "id": "bO04z60ii2gt",
    "tags": []
   },
   "outputs": [
    {
     "name": "stderr",
     "output_type": "stream",
     "text": [
      "2023-05-12 02:42:27.652773: I tensorflow/core/platform/cpu_feature_guard.cc:193] This TensorFlow binary is optimized with oneAPI Deep Neural Network Library (oneDNN) to use the following CPU instructions in performance-critical operations:  SSE4.1 SSE4.2 AVX AVX2 FMA\n",
      "To enable them in other operations, rebuild TensorFlow with the appropriate compiler flags.\n"
     ]
    }
   ],
   "source": [
    "%run frontera_v4.ipynb\n",
    "frontera = Frontera(X,y,percentil_min=0, percentil_max=15, N_points_frontera=41, method='prototypes')"
   ]
  },
  {
   "cell_type": "code",
   "execution_count": 8,
   "metadata": {
    "id": "8Hwm5IiVi2gt",
    "tags": []
   },
   "outputs": [
    {
     "name": "stdout",
     "output_type": "stream",
     "text": [
      "Restricted license - for non-production use only - expires 2024-10-28\n"
     ]
    },
    {
     "data": {
      "text/plain": [
       "(array([[ 3.2460247 ,  2.84942165],\n",
       "        [ 0.62283833,  2.68731314],\n",
       "        [ 1.72345841,  3.11484237],\n",
       "        [ 0.02032508,  3.95780555],\n",
       "        [ 2.87558932,  2.2576122 ],\n",
       "        [ 1.92421351,  2.03074354],\n",
       "        [ 0.91546507,  1.68262118],\n",
       "        [ 0.23101087,  1.20126756],\n",
       "        [ 0.10346342,  0.23777193],\n",
       "        [-0.60549562,  3.37869674],\n",
       "        [-0.98613043,  1.09980463],\n",
       "        [-0.51506158,  2.25993122]]),\n",
       " [0, 0, 0, 0, 1, 1, 1, 1, 1, 2, 2, 2])"
      ]
     },
     "execution_count": 8,
     "metadata": {},
     "output_type": "execute_result"
    }
   ],
   "source": [
    "frontera.frontier()"
   ]
  },
  {
   "cell_type": "code",
   "execution_count": 9,
   "metadata": {
    "id": "RsqT0mqvi2gu",
    "tags": []
   },
   "outputs": [
    {
     "data": {
      "text/html": [
       "<iframe\n",
       "    scrolling=\"no\"\n",
       "    width=\"1220px\"\n",
       "    height=\"770\"\n",
       "    src=\"iframe_figures/figure_9.html\"\n",
       "    frameborder=\"0\"\n",
       "    allowfullscreen\n",
       "></iframe>\n"
      ]
     },
     "metadata": {},
     "output_type": "display_data"
    }
   ],
   "source": [
    "frontera.plot_frontera_2D(0,1)"
   ]
  },
  {
   "cell_type": "markdown",
   "metadata": {},
   "source": [
    "# Medoids"
   ]
  },
  {
   "cell_type": "code",
   "execution_count": 15,
   "metadata": {
    "tags": []
   },
   "outputs": [],
   "source": [
    "%run frontera_v4.ipynb\n",
    "frontera = Frontera(X,y,percentil_min=0, percentil_max=20, N_points_frontera=60, method='KM')"
   ]
  },
  {
   "cell_type": "markdown",
   "metadata": {
    "tags": []
   },
   "source": [
    "frontera.frontier()"
   ]
  },
  {
   "cell_type": "markdown",
   "metadata": {
    "id": "VA2PT9Gbi2gu"
   },
   "source": [
    "# MNIST"
   ]
  },
  {
   "cell_type": "code",
   "execution_count": 75,
   "metadata": {
    "id": "hwypu3rvi2gu",
    "tags": []
   },
   "outputs": [],
   "source": [
    "import tensorflow as tf\n",
    "\n",
    "(x_train, y_train), (x_test, y_test) = tf.keras.datasets.mnist.load_data()\n",
    "\n",
    "# # Normalize the pixel values\n",
    "#x_train = x_train / 255.0\n",
    "#x_test = x_test / 255.0\n",
    "\n",
    "# Flatten and transpose images\n",
    "x_train_flat = x_train.reshape(x_train.shape[0], -1)\n",
    "# x_test_flat = x_test.reshape(x_test.shape[0], -1).T\n",
    "\n",
    "# Add labels as an additional column vector\n",
    "y_train_col = y_train.reshape(1, y_train.shape[0]).T\n",
    "# y_test_col = y_test.reshape(1, y_test.shape[0])\n",
    "\n",
    "#train_data = np.vstack((x_train_flat, y_train_col))\n",
    "# test_data = np.vstack((x_test_flat, y_test_col))"
   ]
  },
  {
   "cell_type": "code",
   "execution_count": 135,
   "metadata": {
    "tags": []
   },
   "outputs": [
    {
     "data": {
      "text/plain": [
       "(60000, 28, 28)"
      ]
     },
     "execution_count": 135,
     "metadata": {},
     "output_type": "execute_result"
    }
   ],
   "source": [
    "x_train.shape"
   ]
  },
  {
   "cell_type": "code",
   "execution_count": 107,
   "metadata": {
    "id": "LfD-RiXiaDur",
    "tags": []
   },
   "outputs": [],
   "source": [
    "# Fijamos una semilla para el generador de números aleatorios\n",
    "semilla = 42\n",
    "\n",
    "# Creamos un objeto generador de números aleatorios con la semilla fijada\n",
    "rng = np.random.RandomState(semilla)\n",
    "\n",
    "# Generamos una permutación aleatoria de los índices de ambos arrays\n",
    "indices_perm = rng.permutation(1000)\n",
    "\n",
    "# Obtenemos las muestras aleatorias utilizando los índices permutados\n",
    "muestra_array1 = x_train_flat[indices_perm]/255.0\n",
    "muestra_array2 = y_train_col[indices_perm]"
   ]
  },
  {
   "cell_type": "code",
   "execution_count": 197,
   "metadata": {
    "id": "4khMSTr3aDur",
    "tags": []
   },
   "outputs": [
    {
     "data": {
      "image/png": "[encoded data removed]",
      "text/plain": [
       "<Figure size 3000x3000 with 8 Axes>"
      ]
     },
     "metadata": {},
     "output_type": "display_data"
    }
   ],
   "source": [
    "import matplotlib.pyplot as plt\n",
    "\n",
    "# Function to display images\n",
    "def display_images(images, labels, num_images=8):\n",
    "    fig, axes = plt.subplots(1, num_images, figsize=(30, 30))\n",
    "    axes = axes.ravel()\n",
    "\n",
    "    for i in range(num_images):\n",
    "        axes[i].imshow(images[i].reshape(28, 28), cmap='gray')\n",
    "        axes[i].set_title(f\"Label: {labels[i]}\", fontsize=16)\n",
    "        axes[i].axis('off')\n",
    "\n",
    "    plt.subplots_adjust(wspace=0.5)\n",
    "\n",
    "# Display first 10 filtered images from the training set\n",
    "display_images(muestra_array1, muestra_array2)\n",
    "plt.show()"
   ]
  },
  {
   "cell_type": "code",
   "execution_count": 109,
   "metadata": {
    "id": "LXBboFT-aDus",
    "tags": []
   },
   "outputs": [
    {
     "name": "stdout",
     "output_type": "stream",
     "text": [
      "(1000, 784)\n",
      "(1000, 1)\n"
     ]
    }
   ],
   "source": [
    "#muestra_array2 = muestra_array2.reshape(1,-1)\n",
    "print(muestra_array1.shape)\n",
    "print(muestra_array2.shape)"
   ]
  },
  {
   "cell_type": "code",
   "execution_count": 146,
   "metadata": {
    "id": "vnOre4jXi2gv",
    "tags": []
   },
   "outputs": [],
   "source": [
    "%run frontera_v4.ipynb\n",
    "frontera = Frontera(muestra_array1,muestra_array2,percentil_min=0, percentil_max=20)"
   ]
  },
  {
   "cell_type": "code",
   "execution_count": 147,
   "metadata": {
    "id": "Uw-H5JTsi2gv",
    "scrolled": true,
    "tags": []
   },
   "outputs": [
    {
     "name": "stdout",
     "output_type": "stream",
     "text": [
      "med_std:  0.00038071222866744453 68.52820116014001\n"
     ]
    }
   ],
   "source": [
    "vec, lab = frontera.frontier()"
   ]
  },
  {
   "cell_type": "code",
   "execution_count": 148,
   "metadata": {
    "tags": []
   },
   "outputs": [
    {
     "data": {
      "text/plain": [
       "(97, 784)"
      ]
     },
     "execution_count": 148,
     "metadata": {},
     "output_type": "execute_result"
    }
   ],
   "source": [
    "frontera.dic_categorias.get('X_0').shape"
   ]
  },
  {
   "cell_type": "code",
   "execution_count": 149,
   "metadata": {
    "tags": []
   },
   "outputs": [
    {
     "data": {
      "text/plain": [
       "(19, 784)"
      ]
     },
     "execution_count": 149,
     "metadata": {},
     "output_type": "execute_result"
    }
   ],
   "source": [
    "frontera.dic_min_dst.get('X_0_with_X_1').shape"
   ]
  },
  {
   "cell_type": "code",
   "execution_count": 150,
   "metadata": {
    "tags": []
   },
   "outputs": [
    {
     "data": {
      "text/plain": [
       "(171, 784)"
      ]
     },
     "execution_count": 150,
     "metadata": {},
     "output_type": "execute_result"
    }
   ],
   "source": [
    "frontera.Frontier_Point_A_X.get('FrontPoints:(0,X)').shape"
   ]
  },
  {
   "cell_type": "code",
   "execution_count": 151,
   "metadata": {
    "tags": []
   },
   "outputs": [
    {
     "data": {
      "text/plain": [
       "(3, 784)"
      ]
     },
     "execution_count": 151,
     "metadata": {},
     "output_type": "execute_result"
    }
   ],
   "source": [
    "frontera.Frontier_Point.get('Frontier:(0,X)').shape"
   ]
  },
  {
   "cell_type": "code",
   "execution_count": 152,
   "metadata": {
    "tags": []
   },
   "outputs": [
    {
     "data": {
      "text/plain": [
       "(22, 784)"
      ]
     },
     "execution_count": 152,
     "metadata": {},
     "output_type": "execute_result"
    }
   ],
   "source": [
    "frontera.Frontier_Point.get('Frontier: ALL').shape"
   ]
  },
  {
   "cell_type": "code",
   "execution_count": 153,
   "metadata": {
    "tags": []
   },
   "outputs": [
    {
     "data": {
      "text/plain": [
       "array([[0., 0., 0., ..., 0., 0., 0.],\n",
       "       [0., 0., 0., ..., 0., 0., 0.],\n",
       "       [0., 0., 0., ..., 0., 0., 0.],\n",
       "       ...,\n",
       "       [0., 0., 0., ..., 0., 0., 0.],\n",
       "       [0., 0., 0., ..., 0., 0., 0.],\n",
       "       [0., 0., 0., ..., 0., 0., 0.]])"
      ]
     },
     "execution_count": 153,
     "metadata": {},
     "output_type": "execute_result"
    }
   ],
   "source": [
    "vec"
   ]
  },
  {
   "cell_type": "code",
   "execution_count": 156,
   "metadata": {
    "tags": []
   },
   "outputs": [
    {
     "data": {
      "text/plain": [
       "[0, 0, 0, 1, 2, 2, 2, 3, 3, 4, 5, 5, 6, 6, 7, 7, 8, 8, 8, 9, 9, 9]"
      ]
     },
     "execution_count": 156,
     "metadata": {},
     "output_type": "execute_result"
    }
   ],
   "source": [
    "lab"
   ]
  },
  {
   "cell_type": "code",
   "execution_count": 199,
   "metadata": {
    "tags": []
   },
   "outputs": [
    {
     "data": {
      "image/png": "[encoded data removed]",
      "text/plain": [
       "<Figure size 3000x3000 with 8 Axes>"
      ]
     },
     "metadata": {},
     "output_type": "display_data"
    }
   ],
   "source": [
    "display_images(vec[0:8], lab[0:8],num_images=8)\n",
    "plt.show()"
   ]
  },
  {
   "cell_type": "code",
   "execution_count": 200,
   "metadata": {
    "tags": []
   },
   "outputs": [
    {
     "data": {
      "image/png": "[encoded data removed]",
      "text/plain": [
       "<Figure size 3000x3000 with 8 Axes>"
      ]
     },
     "metadata": {},
     "output_type": "display_data"
    }
   ],
   "source": [
    "display_images(vec[8:16], lab[8:16],num_images=8)\n",
    "plt.show()"
   ]
  },
  {
   "cell_type": "code",
   "execution_count": 201,
   "metadata": {
    "tags": []
   },
   "outputs": [
    {
     "data": {
      "image/png": "[encoded data removed]",
      "text/plain": [
       "<Figure size 3000x3000 with 6 Axes>"
      ]
     },
     "metadata": {},
     "output_type": "display_data"
    }
   ],
   "source": [
    "display_images(vec[16:], lab[16:],num_images=6)\n",
    "plt.show()"
   ]
  },
  {
   "cell_type": "code",
   "execution_count": 154,
   "metadata": {
    "tags": []
   },
   "outputs": [],
   "source": [
    "# Obtener las imágenes originales\n",
    "original_images = vec.reshape((22, 28, 28))"
   ]
  },
  {
   "cell_type": "code",
   "execution_count": 169,
   "metadata": {
    "tags": []
   },
   "outputs": [
    {
     "data": {
      "image/png": "[encoded data removed]",
      "text/plain": [
       "<Figure size 640x480 with 1 Axes>"
      ]
     },
     "metadata": {},
     "output_type": "display_data"
    }
   ],
   "source": [
    "# Obtener el índice de la imagen a graficar\n",
    "index = 0  # Cambia esto según el índice que desees graficar\n",
    "\n",
    "# Obtener la imagen correspondiente al índice seleccionado\n",
    "image = original_images[index]\n",
    "\n",
    "# Graficar la imagen\n",
    "plt.imshow(image, cmap='gray')\n",
    "plt.show()"
   ]
  },
  {
   "cell_type": "code",
   "execution_count": null,
   "metadata": {},
   "outputs": [],
   "source": []
  },
  {
   "cell_type": "code",
   "execution_count": 195,
   "metadata": {
    "id": "0FJL_i8GaDut",
    "tags": []
   },
   "outputs": [
    {
     "data": {
      "text/html": [
       "<iframe\n",
       "    scrolling=\"no\"\n",
       "    width=\"620px\"\n",
       "    height=\"620\"\n",
       "    src=\"iframe_figures/figure_195.html\"\n",
       "    frameborder=\"0\"\n",
       "    allowfullscreen\n",
       "></iframe>\n"
      ]
     },
     "metadata": {},
     "output_type": "display_data"
    }
   ],
   "source": [
    "frontera.plot_muestra_2D( int(600/2),int(600/2+1) )"
   ]
  },
  {
   "cell_type": "code",
   "execution_count": null,
   "metadata": {
    "id": "diWYR6tEaDut",
    "tags": []
   },
   "outputs": [],
   "source": [
    "frontera.plot_frontera_2D( int(600/2),int(600/2+1) )"
   ]
  },
  {
   "cell_type": "code",
   "execution_count": null,
   "metadata": {
    "id": "zL9QLNWEaDut",
    "tags": []
   },
   "outputs": [],
   "source": [
    "frontera.plot_UMAP()"
   ]
  },
  {
   "cell_type": "code",
   "execution_count": null,
   "metadata": {
    "id": "-t0_KTpuaDuu"
   },
   "outputs": [],
   "source": []
  },
  {
   "cell_type": "code",
   "execution_count": null,
   "metadata": {
    "id": "CDqFR8i7i2gw"
   },
   "outputs": [],
   "source": []
  },
  {
   "cell_type": "markdown",
   "metadata": {
    "id": "vt16ysgNi2gw"
   },
   "source": [
    "### prototypes"
   ]
  },
  {
   "cell_type": "code",
   "execution_count": null,
   "metadata": {
    "id": "FRtpBr24i2gw",
    "tags": []
   },
   "outputs": [],
   "source": [
    "# Get the selected prototypes and their labels\n",
    "prototypes = frontera.w_\n",
    "prototype_labels = frontera.c_w_\n",
    "\n",
    "# Plot the data points and prototypes\n",
    "plt.scatter(X[:, 0], X[:, 1], c=y, edgecolors=\"k\", cmap=plt.cm.Spectral, alpha=0.5)\n",
    "plt.scatter(prototypes[:, 0], prototypes[:, 1], c='black', marker='X', s=200, label='Prototypes')\n",
    "\n",
    "# Customize the plot\n",
    "plt.xlabel('Feature 1')\n",
    "plt.ylabel('Feature 2')\n",
    "plt.legend()\n",
    "plt.title('Dataset and Prototypes')\n",
    "\n",
    "# Show the plot\n",
    "plt.show()"
   ]
  }
 ],
 "metadata": {
  "colab": {
   "include_colab_link": true,
   "provenance": []
  },
  "kernelspec": {
   "display_name": "Python 3 (ipykernel)",
   "language": "python",
   "name": "python3"
  },
  "language_info": {
   "codemirror_mode": {
    "name": "ipython",
    "version": 3
   },
   "file_extension": ".py",
   "mimetype": "text/x-python",
   "name": "python",
   "nbconvert_exporter": "python",
   "pygments_lexer": "ipython3",
   "version": "3.10.9"
  }
 },
 "nbformat": 4,
 "nbformat_minor": 4
}
